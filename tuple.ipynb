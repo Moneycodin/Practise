{
 "cells": [
  {
   "cell_type": "code",
   "execution_count": null,
   "id": "739b557b",
   "metadata": {},
   "outputs": [],
   "source": [
    "# Q1. What are the characteristics of the tuples? Is tuple immutable?\n",
    "   \n",
    "   \n",
    "   Tuple is fixed length, ordered, indexable and contains mixed type. Yes,it is immutable"
   ]
  },
  {
   "cell_type": "code",
   "execution_count": null,
   "id": "8d040413",
   "metadata": {},
   "outputs": [],
   "source": [
    "# Q2. What are the two tuple methods in python? Give an example of each method. Give a reason why tuples have only two in-built methods as compared to Lists.\n",
    "\n",
    "In Python, tuples have only two built-in methods:\n",
    "\n",
    "1) count(): This method counts the number of occurrences of a specified value in the tuple.\n",
    "    \n",
    "2) index(): This method returns the index of the first occurrence of a specified value in the tuple. It raises a ValueError if the value is not found.\n",
    "\n",
    "    \n",
    "    \n",
    "Tuples have only these two methods because they are immutable. This immutability means that once a tuple is created, it cannot be changed, which limits the types of operations you can perform. Lists, on the other hand, are mutable and thus support a wider range of methods to add, remove, or modify elements. The count() and index() methods are useful for querying the data in a tuple without altering its structure."
   ]
  },
  {
   "cell_type": "code",
   "execution_count": null,
   "id": "c5cba43f",
   "metadata": {},
   "outputs": [],
   "source": [
    "# Q3. Which collection datatypes in python do not allow duplicate items? Write a code using a set to remove duplicates from the given list.List = [1, 1, 1, 2, 1, 3, 1, 4, 2, 1, 2, 2, 2, 3, 2, 4, 3, 1, 3, 2, 3, 3, 3, 4, 4, 1, 4, 2, 4, 3, 4, 4]\n",
    "\n",
    "#In Python, the collections that do not allow duplicate items are:\n",
    "\n",
    "#Sets: A set is an unordered collection of unique elements.\n",
    "#Dictionaries (since Python 3.7): Dictionaries maintain unique keys, though values can be duplicated."
   ]
  },
  {
   "cell_type": "code",
   "execution_count": 1,
   "id": "bdde4be0",
   "metadata": {},
   "outputs": [
    {
     "name": "stdout",
     "output_type": "stream",
     "text": [
      "[1, 2, 3, 4]\n"
     ]
    }
   ],
   "source": [
    "my_list = [1, 1, 1, 2, 1, 3, 1, 4, 2, 1, 2, 2, 2, 3, 2, 4, 3, 1, 3, 2, 3, 3, 3, 4, 4, 1, 4, 2, 4, 3, 4, 4]\n",
    "\n",
    "# Remove duplicates by converting the list to a set\n",
    "unique_elements = set(my_list)\n",
    "\n",
    "# Convert the set back to a list (optional, if you need a list)\n",
    "unique_list = list(unique_elements)\n",
    "\n",
    "print(unique_list)"
   ]
  },
  {
   "cell_type": "code",
   "execution_count": 2,
   "id": "f75f4df4",
   "metadata": {},
   "outputs": [
    {
     "name": "stdout",
     "output_type": "stream",
     "text": [
      "{1, 2, 3, 4, 5, 6, 7}\n",
      "{1, 2, 3, 4, 5, 6, 7}\n"
     ]
    }
   ],
   "source": [
    "# Q4. Explain the difference between the union() and update() methods for a set. Give an example of each method.\n",
    "\n",
    "#Union() returns a new set that is the union of the original set and the specified sets. It does not modify the original set.\n",
    "\n",
    "# Original sets\n",
    "set1 = {1, 2, 3}\n",
    "set2 = {3, 4, 5}\n",
    "set3 = {5, 6, 7}\n",
    "\n",
    "# Union of set1, set2, and set3\n",
    "result = set1.union(set2, set3)\n",
    "print(result)  # Output: {1, 2, 3, 4, 5, 6, 7}\n",
    "\n",
    "\n",
    "\n",
    "#However, update() method updates the original set with the elements from the specified sets. This method modifies the original set in place.\n",
    "\n",
    "# Original sets\n",
    "set1 = {1, 2, 3}\n",
    "set2 = {3, 4, 5}\n",
    "set3 = {5, 6, 7}\n",
    "\n",
    "# Update set1 with elements from set2 and set3\n",
    "set1.update(set2, set3)\n",
    "print(set1)  # Output: {1, 2, 3, 4, 5, 6, 7}"
   ]
  },
  {
   "cell_type": "code",
   "execution_count": 3,
   "id": "aedd984f",
   "metadata": {},
   "outputs": [
    {
     "name": "stdout",
     "output_type": "stream",
     "text": [
      "Alice\n",
      "30\n",
      "{'name': 'Alice', 'age': 30, 'email': 'alice@example.com'}\n"
     ]
    }
   ],
   "source": [
    "# Q5. What is a dictionary? Give an example. Also, state whether a dictionary is ordered or unordered.\n",
    "\n",
    "#A dictionary is a built-in data type that represents a collection of key-value pairs. Each key is unique, and each key maps to a value. Dictionaries are used to store data in a way that allows for quick lookups based on the keys.\n",
    "\n",
    "# Creating a dictionary\n",
    "person = {\n",
    "    \"name\": \"Alice\",\n",
    "    \"age\": 30,\n",
    "    \"city\": \"New York\"\n",
    "}\n",
    "\n",
    "# Accessing values by key\n",
    "print(person[\"name\"])  # Output: Alice\n",
    "print(person[\"age\"])   # Output: 30\n",
    "\n",
    "# Adding a new key-value pair\n",
    "person[\"email\"] = \"alice@example.com\"\n",
    "\n",
    "# Removing a key-value pair\n",
    "del person[\"city\"]\n",
    "\n",
    "print(person)\n",
    "# Output: {'name': 'Alice', 'age': 30, 'email': 'alice@example.com'}\n",
    "\n",
    "\n",
    "# Dictionaries are ordered collections of key-value pairs"
   ]
  },
  {
   "cell_type": "code",
   "execution_count": 4,
   "id": "7d83a47b",
   "metadata": {},
   "outputs": [
    {
     "name": "stdout",
     "output_type": "stream",
     "text": [
      "John\n",
      "Finance\n",
      "{'emp1': {'name': 'John', 'age': 30, 'department': 'HR'}, 'emp2': {'name': 'Jane', 'age': 25, 'department': 'Finance'}, 'emp3': {'name': 'Mike', 'age': 35, 'department': 'Engineering'}, 'emp4': {'name': 'Emma', 'age': 28, 'department': 'Marketing'}}\n"
     ]
    }
   ],
   "source": [
    "# Q6. Can we create a nested dictionary? If so, please give an example by creating a simple one-level nested dictionary.\n",
    "\n",
    "\n",
    "#Yes, we can create a nested dictionary in Python, where a dictionary contains other dictionaries as its values. \n",
    "# Creating a nested dictionary\n",
    "employees = {\n",
    "    \"emp1\": {\n",
    "        \"name\": \"John\",\n",
    "        \"age\": 30,\n",
    "        \"department\": \"HR\"\n",
    "    },\n",
    "    \"emp2\": {\n",
    "        \"name\": \"Jane\",\n",
    "        \"age\": 25,\n",
    "        \"department\": \"Finance\"\n",
    "    },\n",
    "    \"emp3\": {\n",
    "        \"name\": \"Mike\",\n",
    "        \"age\": 35,\n",
    "        \"department\": \"Engineering\"\n",
    "    }\n",
    "}\n",
    "\n",
    "# Accessing values in the nested dictionary\n",
    "print(employees[\"emp1\"][\"name\"])       # Output: John\n",
    "print(employees[\"emp2\"][\"department\"]) # Output: Finance\n",
    "\n",
    "# Adding a new nested dictionary entry\n",
    "employees[\"emp4\"] = {\n",
    "    \"name\": \"Emma\",\n",
    "    \"age\": 28,\n",
    "    \"department\": \"Marketing\"\n",
    "}\n",
    "\n",
    "print(employees)\n",
    "# Output: {\n",
    "#   'emp1': {'name': 'John', 'age': 30, 'department': 'HR'},\n",
    "#   'emp2': {'name': 'Jane', 'age': 25, 'department': 'Finance'},\n",
    "#   'emp3': {'name': 'Mike', 'age': 35, 'department': 'Engineering'},\n",
    "#   'emp4': {'name': 'Emma', 'age': 28, 'department': 'Marketing'}\n",
    "# }\n"
   ]
  },
  {
   "cell_type": "code",
   "execution_count": 5,
   "id": "bb3d6e9a",
   "metadata": {},
   "outputs": [
    {
     "name": "stdout",
     "output_type": "stream",
     "text": [
      "{'language': 'Python', 'course': 'Data Science Masters', 'topics': ['Python', 'Machine Learning', 'Deep Learning']}\n"
     ]
    }
   ],
   "source": [
    "# Q7. Using setdefault() method, create key named topics in the given dictionary and also add the value of the key as this list ['Python', 'Machine Learning’, 'Deep Learning'] dict1 = {'language' : 'Python', 'course': 'Data Science Masters'}\n",
    "\n",
    "# Given dictionary\n",
    "dict1 = {'language': 'Python', 'course': 'Data Science Masters'}\n",
    "\n",
    "# Using setdefault() to add the key 'topics' with the specified list if it does not already exist\n",
    "dict1.setdefault('topics', ['Python', 'Machine Learning', 'Deep Learning'])\n",
    "\n",
    "print(dict1)"
   ]
  },
  {
   "cell_type": "code",
   "execution_count": 6,
   "id": "6ad8a28d",
   "metadata": {},
   "outputs": [
    {
     "name": "stdout",
     "output_type": "stream",
     "text": [
      "Keys view object: dict_keys(['Sport', 'Teams'])\n",
      "Values view object: dict_values(['Cricket', ['India', 'Australia', 'England', 'South Africa', 'Sri Lanka', 'New Zealand']])\n",
      "Items view object: dict_items([('Sport', 'Cricket'), ('Teams', ['India', 'Australia', 'England', 'South Africa', 'Sri Lanka', 'New Zealand'])])\n"
     ]
    }
   ],
   "source": [
    "# Q8. What are the three view objects in dictionaries? Use the three in-built methods in python to display these three view objects for the given dictionary. dict1 = {'Sport': 'Cricket' , 'Teams': ['India', 'Australia', 'England', 'South Africa', 'Sri Lanka', 'New Zealand']}\n",
    "\n",
    "#In Python, dictionaries provide three view objects that reflect the dictionary's keys, values, and key-value pairs. These view objects are:\n",
    "\n",
    "#dict.keys(): Returns a view object that displays a list of all the keys in the dictionary.\n",
    "#dict.values(): Returns a view object that displays a list of all the values in the dictionary.\n",
    "#dict.items(): Returns a view object that displays a list of all the key-value pairs in the dictionary as tuples.\n",
    "    \n",
    "    \n",
    "    # Given dictionary\n",
    "dict1 = {\n",
    "    'Sport': 'Cricket',\n",
    "    'Teams': ['India', 'Australia', 'England', 'South Africa', 'Sri Lanka', 'New Zealand']\n",
    "}\n",
    "\n",
    "# Displaying the view objects\n",
    "keys_view = dict1.keys()\n",
    "values_view = dict1.values()\n",
    "items_view = dict1.items()\n",
    "\n",
    "print(\"Keys view object:\", keys_view)     # Output: dict_keys(['Sport', 'Teams'])\n",
    "print(\"Values view object:\", values_view) # Output: dict_values(['Cricket', ['India', 'Australia', 'England', 'South Africa', 'Sri Lanka', 'New Zealand']])\n",
    "print(\"Items view object:\", items_view)   # Output: dict_items([('Sport', 'Cricket'), ('Teams', ['India', 'Australia', 'England', 'South Africa', 'Sri Lanka', 'New Zealand'])])"
   ]
  },
  {
   "cell_type": "code",
   "execution_count": null,
   "id": "c1c61031",
   "metadata": {},
   "outputs": [],
   "source": []
  }
 ],
 "metadata": {
  "kernelspec": {
   "display_name": "Python 3 (ipykernel)",
   "language": "python",
   "name": "python3"
  },
  "language_info": {
   "codemirror_mode": {
    "name": "ipython",
    "version": 3
   },
   "file_extension": ".py",
   "mimetype": "text/x-python",
   "name": "python",
   "nbconvert_exporter": "python",
   "pygments_lexer": "ipython3",
   "version": "3.11.5"
  }
 },
 "nbformat": 4,
 "nbformat_minor": 5
}
