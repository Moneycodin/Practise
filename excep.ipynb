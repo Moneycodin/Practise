{
 "cells": [
  {
   "cell_type": "code",
   "execution_count": null,
   "id": "0eb9b818",
   "metadata": {},
   "outputs": [],
   "source": [
    "Q1. Explain why we have to use the Exception class while creating a Custom Exception.\n"
   ]
  },
  {
   "cell_type": "code",
   "execution_count": null,
   "id": "5614b9e5",
   "metadata": {},
   "outputs": [],
   "source": [
    "Exception is the base class for all built-in exceptions. By inheriting from it, your custom exception integrates seamlessly with Python’s exception handling mechanisms and follows the standard exception hierarchy."
   ]
  },
  {
   "cell_type": "code",
   "execution_count": null,
   "id": "817924db",
   "metadata": {},
   "outputs": [],
   "source": [
    "\n",
    "Q2. Write a python program to print Python Exception Hierarchy.\n"
   ]
  },
  {
   "cell_type": "code",
   "execution_count": 1,
   "id": "042f160f",
   "metadata": {},
   "outputs": [
    {
     "name": "stdout",
     "output_type": "stream",
     "text": [
      "Exception\n",
      "BaseException\n",
      "object\n"
     ]
    }
   ],
   "source": [
    "import traceback\n",
    "\n",
    "def print_exception_hierarchy():\n",
    "    exc_class = Exception\n",
    "    while exc_class:\n",
    "        print(exc_class.__name__)\n",
    "        exc_class = exc_class.__bases__[0] if exc_class.__bases__ else None\n",
    "\n",
    "print_exception_hierarchy()"
   ]
  },
  {
   "cell_type": "code",
   "execution_count": null,
   "id": "41ac8dd1",
   "metadata": {},
   "outputs": [],
   "source": [
    "Q3. What errors are defined in the ArithmeticError class? Explain any two with an example.\n"
   ]
  },
  {
   "cell_type": "code",
   "execution_count": null,
   "id": "e56a0d3b",
   "metadata": {},
   "outputs": [],
   "source": [
    "ZeroDivisionError: Raised when dividing by zero.\n",
    "OverflowError: Raised when a calculation exceeds the limits of the numeric type."
   ]
  },
  {
   "cell_type": "code",
   "execution_count": null,
   "id": "04581968",
   "metadata": {},
   "outputs": [],
   "source": [
    "# ZeroDivisionError\n",
    "try:\n",
    "    result = 10 / 0\n",
    "except ZeroDivisionError as e:\n",
    "    print(\"ZeroDivisionError:\", e)\n",
    "\n",
    "# OverflowError\n",
    "try:\n",
    "    import math\n",
    "    result = math.exp(1000)\n",
    "except OverflowError as e:\n",
    "    print(\"OverflowError:\", e)"
   ]
  },
  {
   "cell_type": "code",
   "execution_count": null,
   "id": "d7c27461",
   "metadata": {},
   "outputs": [],
   "source": [
    "Q4. Why LookupError class is used? Explain with an example KeyError and IndexError.\n"
   ]
  },
  {
   "cell_type": "code",
   "execution_count": null,
   "id": "193d4693",
   "metadata": {},
   "outputs": [],
   "source": [
    "Base class for exceptions raised when a lookup operation fails. Includes KeyError and IndexError."
   ]
  },
  {
   "cell_type": "code",
   "execution_count": 2,
   "id": "9b2f538e",
   "metadata": {},
   "outputs": [
    {
     "name": "stdout",
     "output_type": "stream",
     "text": [
      "KeyError: 'b'\n"
     ]
    }
   ],
   "source": [
    "d = {'a': 1}\n",
    "try:\n",
    "    print(d['b'])\n",
    "except KeyError as e:\n",
    "    print(\"KeyError:\", e)"
   ]
  },
  {
   "cell_type": "code",
   "execution_count": 3,
   "id": "37b36e04",
   "metadata": {},
   "outputs": [
    {
     "name": "stdout",
     "output_type": "stream",
     "text": [
      "IndexError: list index out of range\n"
     ]
    }
   ],
   "source": [
    "lst = [1, 2, 3]\n",
    "try:\n",
    "    print(lst[5])\n",
    "except IndexError as e:\n",
    "    print(\"IndexError:\", e)"
   ]
  },
  {
   "cell_type": "code",
   "execution_count": null,
   "id": "21b998a8",
   "metadata": {},
   "outputs": [],
   "source": [
    "Q5. Explain ImportError. What is ModuleNotFoundError?\n"
   ]
  },
  {
   "cell_type": "code",
   "execution_count": null,
   "id": "0f694e29",
   "metadata": {},
   "outputs": [],
   "source": [
    "ImportError: Raised when an import statement fails to find the module or its attributes.\n",
    "ModuleNotFoundError: A subclass of ImportError introduced in Python 3.6, specifically raised when a module cannot be found."
   ]
  },
  {
   "cell_type": "code",
   "execution_count": null,
   "id": "aba97f73",
   "metadata": {},
   "outputs": [],
   "source": [
    "Q6. List down some best practices for exception handling in python."
   ]
  },
  {
   "cell_type": "code",
   "execution_count": null,
   "id": "ff7c990e",
   "metadata": {},
   "outputs": [],
   "source": [
    "Catch Specific Exceptions: Handle specific exceptions rather than using a general except clause.\n",
    "Use finally: Ensure resources are cleaned up, such as closing files or releasing connections.\n",
    "Avoid Bare except: This can catch unexpected events and make debugging difficult.\n",
    "Log Exceptions: Record exceptions for later review using logging mechanisms.\n",
    "Raise Exceptions with Context: Use raise ... from ... to provide context about the exception.\n",
    "Use Custom Exceptions: Create custom exceptions for more meaningful error handling and clarity."
   ]
  }
 ],
 "metadata": {
  "kernelspec": {
   "display_name": "Python 3 (ipykernel)",
   "language": "python",
   "name": "python3"
  },
  "language_info": {
   "codemirror_mode": {
    "name": "ipython",
    "version": 3
   },
   "file_extension": ".py",
   "mimetype": "text/x-python",
   "name": "python",
   "nbconvert_exporter": "python",
   "pygments_lexer": "ipython3",
   "version": "3.11.5"
  }
 },
 "nbformat": 4,
 "nbformat_minor": 5
}
