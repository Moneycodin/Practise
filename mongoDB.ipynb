{
 "cells": [
  {
   "cell_type": "code",
   "execution_count": null,
   "id": "4f2733e0",
   "metadata": {},
   "outputs": [],
   "source": [
    "Q1. What is MongoDB? Explain non-relational databases in short. In which scenarios it is preferred to use\n",
    "MongoDB over SQL databases?\n"
   ]
  },
  {
   "cell_type": "code",
   "execution_count": null,
   "id": "867202dd",
   "metadata": {},
   "outputs": [],
   "source": [
    "MongoDB: A NoSQL, document-oriented database storing data in JSON-like format.\n",
    "Non-Relational Databases: Flexible schema, scalable horizontally, ideal for unstructured data.\n",
    "Preferred Scenarios:\n",
    "High volume of unstructured data.\n",
    "Agile development and frequent schema changes.\n",
    "Scalability and performance needs."
   ]
  },
  {
   "cell_type": "code",
   "execution_count": null,
   "id": "d4b7a44e",
   "metadata": {},
   "outputs": [],
   "source": [
    "Q2. State and Explain the features of MongoDB.\n"
   ]
  },
  {
   "cell_type": "code",
   "execution_count": null,
   "id": "183a6c6a",
   "metadata": {},
   "outputs": [],
   "source": [
    "Schema-less: Flexible document structure.\n",
    "Scalable: Horizontal scaling with sharding.\n",
    "Indexing: Supports secondary indexes.\n",
    "Aggregation: Powerful query language with aggregation framework.\n",
    "Replication: High availability with replica sets."
   ]
  },
  {
   "cell_type": "code",
   "execution_count": null,
   "id": "e79cd931",
   "metadata": {},
   "outputs": [],
   "source": [
    "Q3. Write a code to connect MongoDB to Python. Also, create a database and a collection in MongoDB.\n"
   ]
  },
  {
   "cell_type": "code",
   "execution_count": null,
   "id": "2145004a",
   "metadata": {},
   "outputs": [],
   "source": [
    "from pymongo import MongoClient\n",
    "\n",
    "# Connect to MongoDB\n",
    "client = MongoClient('mongodb://localhost:27017/')\n",
    "\n",
    "# Create database and collection\n",
    "db = client['mydatabase']\n",
    "collection = db['mycollection']"
   ]
  },
  {
   "cell_type": "code",
   "execution_count": null,
   "id": "9613f9a0",
   "metadata": {},
   "outputs": [],
   "source": [
    "Q4. Using the database and the collection created in question number 3, write a code to insert one record,\n",
    "and insert many records. Use the find() and find_one() methods to print the inserted record.\n"
   ]
  },
  {
   "cell_type": "code",
   "execution_count": null,
   "id": "a71f3474",
   "metadata": {},
   "outputs": [],
   "source": [
    "# Insert one record\n",
    "collection.insert_one({\"name\": \"Alice\", \"age\": 30})\n",
    "\n",
    "# Insert many records\n",
    "collection.insert_many([\n",
    "    {\"name\": \"Bob\", \"age\": 25},\n",
    "    {\"name\": \"Charlie\", \"age\": 35}\n",
    "])\n",
    "\n",
    "# Find one record\n",
    "print(collection.find_one({\"name\": \"Alice\"}))\n",
    "\n",
    "# Find all records\n",
    "for record in collection.find():\n",
    "    print(record)"
   ]
  },
  {
   "cell_type": "code",
   "execution_count": null,
   "id": "3481c343",
   "metadata": {},
   "outputs": [],
   "source": [
    "Q5. Explain how you can use the find() method to query the MongoDB database. Write a simple code to\n",
    "demonstrate this.\n"
   ]
  },
  {
   "cell_type": "code",
   "execution_count": null,
   "id": "ae870147",
   "metadata": {},
   "outputs": [],
   "source": [
    "# Find all documents where age is greater than 30\n",
    "results = collection.find({\"age\": {\"$gt\": 30}})\n",
    "for doc in results:\n",
    "    print(doc)"
   ]
  },
  {
   "cell_type": "code",
   "execution_count": null,
   "id": "01057899",
   "metadata": {},
   "outputs": [],
   "source": [
    "Q6. Explain the sort() method. Give an example to demonstrate sorting in MongoDB.\n"
   ]
  },
  {
   "cell_type": "code",
   "execution_count": null,
   "id": "f22566f2",
   "metadata": {},
   "outputs": [],
   "source": [
    "# Sort by age in ascending order\n",
    "results = collection.find().sort(\"age\", 1)\n",
    "for doc in results:\n",
    "    print(doc)"
   ]
  },
  {
   "cell_type": "code",
   "execution_count": null,
   "id": "bd83c2e6",
   "metadata": {},
   "outputs": [],
   "source": [
    "Q7. Explain why delete_one(), delete_many(), and drop() is used."
   ]
  },
  {
   "cell_type": "code",
   "execution_count": null,
   "id": "664868e4",
   "metadata": {},
   "outputs": [],
   "source": [
    "#delete_one(): Deletes a single document matching the query\n",
    "collection.delete_one({\"name\": \"Alice\"})"
   ]
  },
  {
   "cell_type": "code",
   "execution_count": null,
   "id": "702ec569",
   "metadata": {},
   "outputs": [],
   "source": [
    "#collection.delete_one({\"name\": \"Alice\"})\n",
    "collection.delete_many({\"age\": {\"$lt\": 30}})"
   ]
  },
  {
   "cell_type": "code",
   "execution_count": null,
   "id": "61540f66",
   "metadata": {},
   "outputs": [],
   "source": [
    "#drop(): Deletes an entire collection.\n",
    "collection.drop()"
   ]
  }
 ],
 "metadata": {
  "kernelspec": {
   "display_name": "Python 3 (ipykernel)",
   "language": "python",
   "name": "python3"
  },
  "language_info": {
   "codemirror_mode": {
    "name": "ipython",
    "version": 3
   },
   "file_extension": ".py",
   "mimetype": "text/x-python",
   "name": "python",
   "nbconvert_exporter": "python",
   "pygments_lexer": "ipython3",
   "version": "3.11.5"
  }
 },
 "nbformat": 4,
 "nbformat_minor": 5
}
