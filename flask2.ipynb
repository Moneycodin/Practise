{
 "cells": [
  {
   "cell_type": "code",
   "execution_count": null,
   "id": "f45fdbba",
   "metadata": {},
   "outputs": [],
   "source": [
    "Q1. Explain GET and POST methods.\n"
   ]
  },
  {
   "cell_type": "code",
   "execution_count": null,
   "id": "5039540b",
   "metadata": {},
   "outputs": [],
   "source": [
    "GET: Requests data from a specified resource. Parameters are appended to the URL.\n",
    "Used for retrieving data.\n",
    "Example: Searching on Google.\n",
    "    \n",
    "POST: Submits data to be processed to a specified resource. Data is included in the request body.\n",
    "Used for sending data.\n",
    "Example: Submitting a form."
   ]
  },
  {
   "cell_type": "code",
   "execution_count": null,
   "id": "79b0d388",
   "metadata": {},
   "outputs": [],
   "source": [
    "Q2. Why is request used in Flask?\n"
   ]
  },
  {
   "cell_type": "code",
   "execution_count": null,
   "id": "10bea9e0",
   "metadata": {},
   "outputs": [],
   "source": [
    "request: An object in Flask used to handle incoming HTTP requests.\n",
    "It allows access to request data, such as form inputs, JSON payloads, query parameters, and more."
   ]
  },
  {
   "cell_type": "code",
   "execution_count": null,
   "id": "f25741f0",
   "metadata": {},
   "outputs": [],
   "source": [
    "Q3. Why is redirect() used in Flask?\n"
   ]
  },
  {
   "cell_type": "code",
   "execution_count": null,
   "id": "92f86f6f",
   "metadata": {},
   "outputs": [],
   "source": [
    "redirect(): Used to redirect the user to a different URL.\n",
    "It is useful for:\n",
    "Redirecting after form submission.\n",
    "Managing authentication flows.\n",
    "Simplifying URL structures."
   ]
  },
  {
   "cell_type": "code",
   "execution_count": null,
   "id": "eb3285c1",
   "metadata": {},
   "outputs": [],
   "source": [
    "Q4. What are templates in Flask? Why is the render_template() function used?\n"
   ]
  },
  {
   "cell_type": "code",
   "execution_count": null,
   "id": "9832673d",
   "metadata": {},
   "outputs": [],
   "source": [
    "Templates: HTML files used to separate the presentation logic from the application logic.\n",
    "render_template(): Renders an HTML template file with dynamic content passed from the Flask application.\n",
    "Promotes code reusability.\n",
    "Simplifies HTML management."
   ]
  },
  {
   "cell_type": "code",
   "execution_count": null,
   "id": "214f6809",
   "metadata": {},
   "outputs": [],
   "source": [
    "Q5. Create a simple API. Use Postman to test it. "
   ]
  },
  {
   "cell_type": "code",
   "execution_count": null,
   "id": "1ac62c11",
   "metadata": {},
   "outputs": [],
   "source": [
    "from flask import Flask, jsonify, request\n",
    "\n",
    "app = Flask(__name__)\n",
    "\n",
    "@app.route('/api/greet', methods=['GET', 'POST'])\n",
    "def greet():\n",
    "    if request.method == 'POST':\n",
    "        data = request.json\n",
    "        name = data.get('name', 'Guest')\n",
    "        return jsonify({'message': f'Hello, {name}!'})\n",
    "    return jsonify({'message': 'Hello, World!'})\n",
    "\n",
    "if __name__ == '__main__':\n",
    "    app.run(debug=True)"
   ]
  }
 ],
 "metadata": {
  "kernelspec": {
   "display_name": "Python 3 (ipykernel)",
   "language": "python",
   "name": "python3"
  },
  "language_info": {
   "codemirror_mode": {
    "name": "ipython",
    "version": 3
   },
   "file_extension": ".py",
   "mimetype": "text/x-python",
   "name": "python",
   "nbconvert_exporter": "python",
   "pygments_lexer": "ipython3",
   "version": "3.11.5"
  }
 },
 "nbformat": 4,
 "nbformat_minor": 5
}
