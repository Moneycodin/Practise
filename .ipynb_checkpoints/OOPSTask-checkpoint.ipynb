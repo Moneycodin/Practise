{
 "cells": [
  {
   "cell_type": "markdown",
   "id": "9d271556",
   "metadata": {},
   "source": [
    "# Q1, Create a vehicle class with an init method having instance variables as name_of_vehicle, max_speed\n",
    "and average_of_vehicle.\n"
   ]
  },
  {
   "cell_type": "code",
   "execution_count": 4,
   "id": "af5fda13",
   "metadata": {},
   "outputs": [
    {
     "name": "stdout",
     "output_type": "stream",
     "text": [
      "Vehicle Name: Toyota Camry, Max Speed: 180 km/h, Average: 15 km/l\n"
     ]
    }
   ],
   "source": [
    "class Vehicle:\n",
    "    def __init__(self, name_of_vehicle, max_speed, average_of_vehicle):\n",
    "        self.name_of_vehicle = name_of_vehicle\n",
    "        self.max_speed = max_speed\n",
    "        self.average_of_vehicle = average_of_vehicle\n",
    "\n",
    "    def display_info(self):\n",
    "        return f\"Vehicle Name: {self.name_of_vehicle}, Max Speed: {self.max_speed} km/h, Average: {self.average_of_vehicle} km/l\"\n",
    "\n",
    "# Example usage\n",
    "vehicle = Vehicle(\"Toyota Camry\", 180, 15)\n",
    "print(vehicle.display_info())"
   ]
  },
  {
   "cell_type": "markdown",
   "id": "1b9af7fe",
   "metadata": {},
   "source": [
    "# Q2. Create a child class car from the vehicle class created in Que 1, which will inherit the vehicle class.\n",
    "Create a method named seating_capacity which takes capacity as an argument and returns the name of\n",
    "the vehicle and its seating capacity.\n"
   ]
  },
  {
   "cell_type": "code",
   "execution_count": 5,
   "id": "175b16f3",
   "metadata": {},
   "outputs": [
    {
     "name": "stdout",
     "output_type": "stream",
     "text": [
      "Vehicle Name: Toyota Camry, Max Speed: 180 km/h, Average: 15 km/l\n",
      "Toyota Camry has a seating capacity of 5.\n"
     ]
    }
   ],
   "source": [
    "# Parent class\n",
    "class Vehicle:\n",
    "    def __init__(self, name_of_vehicle, max_speed, average_of_vehicle):\n",
    "        self.name_of_vehicle = name_of_vehicle\n",
    "        self.max_speed = max_speed\n",
    "        self.average_of_vehicle = average_of_vehicle\n",
    "\n",
    "    def display_info(self):\n",
    "        return f\"Vehicle Name: {self.name_of_vehicle}, Max Speed: {self.max_speed} km/h, Average: {self.average_of_vehicle} km/l\"\n",
    "\n",
    "# Child class\n",
    "class Car(Vehicle):\n",
    "    def seating_capacity(self, capacity):\n",
    "        return f\"{self.name_of_vehicle} has a seating capacity of {capacity}.\"\n",
    "\n",
    "# Example usage\n",
    "car = Car(\"Toyota Camry\", 180, 15)\n",
    "print(car.display_info())  # Displays vehicle information\n",
    "print(car.seating_capacity(5))  # Displays seating capacity"
   ]
  },
  {
   "cell_type": "markdown",
   "id": "cbdf8016",
   "metadata": {},
   "source": [
    "# Q3. What is multiple inheritance? Write a python code to demonstrate multiple inheritance.\n"
   ]
  },
  {
   "cell_type": "code",
   "execution_count": null,
   "id": "2b3544dc",
   "metadata": {},
   "outputs": [],
   "source": [
    "Multiple Inheritance occurs when a class inherits from more than one parent class. This allows a subclass to\n",
    "inherit attributes and methods from multiple classes."
   ]
  },
  {
   "cell_type": "code",
   "execution_count": 3,
   "id": "07504659",
   "metadata": {},
   "outputs": [
    {
     "name": "stdout",
     "output_type": "stream",
     "text": [
      "Gardening, Carpentry\n",
      "Reading, Traveling\n"
     ]
    }
   ],
   "source": [
    "class Father:\n",
    "    def skills(self):\n",
    "        return \"Gardening, Carpentry\"\n",
    "\n",
    "class Mother:\n",
    "    def skills(self):\n",
    "        return \"Cooking, Painting\"\n",
    "\n",
    "class Child(Father, Mother):\n",
    "    def hobbies(self):\n",
    "        return \"Reading, Traveling\"\n",
    "\n",
    "# Create an instance of Child\n",
    "child = Child()\n",
    "\n",
    "# Call methods from Father and Mother\n",
    "print(child.skills())  \n",
    "print(child.hobbies()) "
   ]
  },
  {
   "cell_type": "markdown",
   "id": "fc7a0c68",
   "metadata": {},
   "source": [
    "# Q4. What are getter and setter in python? Create a class and create a getter and a setter method in this\n",
    "class.\n"
   ]
  },
  {
   "cell_type": "code",
   "execution_count": null,
   "id": "f905fdbf",
   "metadata": {},
   "outputs": [],
   "source": [
    "Getter: A method to access the value of a private attribute.\n",
    "Setter: A method to modify the value of a private attribute."
   ]
  },
  {
   "cell_type": "code",
   "execution_count": 1,
   "id": "d017e7ec",
   "metadata": {},
   "outputs": [
    {
     "name": "stdout",
     "output_type": "stream",
     "text": [
      "Alice\n",
      "Bob\n"
     ]
    }
   ],
   "source": [
    "class Person:\n",
    "    def __init__(self, name):\n",
    "        self._name = name  # Private attribute\n",
    "\n",
    "    # Getter method\n",
    "    def get_name(self):\n",
    "        return self._name\n",
    "\n",
    "    # Setter method\n",
    "    def set_name(self, name):\n",
    "        self._name = name\n",
    "\n",
    "# Create an instance\n",
    "person = Person(\"Alice\")\n",
    "\n",
    "# Use getter to access the name\n",
    "print(person.get_name())  # Output: Alice\n",
    "\n",
    "# Use setter to modify the name\n",
    "person.set_name(\"Bob\")\n",
    "print(person.get_name())  # Output: Bob"
   ]
  },
  {
   "cell_type": "markdown",
   "id": "45de5812",
   "metadata": {},
   "source": [
    "# Q5.What is method overriding in python? Write a python code to demonstrate method overriding."
   ]
  },
  {
   "cell_type": "code",
   "execution_count": null,
   "id": "8e115e8d",
   "metadata": {},
   "outputs": [],
   "source": [
    "Method Overriding occurs when a subclass provides a specific implementation of a method that is already defined in\n",
    "its superclass. This allows the subclass to customize or extend the behavior of the method.\n",
    "\n"
   ]
  },
  {
   "cell_type": "code",
   "execution_count": 2,
   "id": "72302d6e",
   "metadata": {},
   "outputs": [
    {
     "name": "stdout",
     "output_type": "stream",
     "text": [
      "Some generic sound\n",
      "Bark\n",
      "Meow\n"
     ]
    }
   ],
   "source": [
    "class Animal:\n",
    "    def make_sound(self):\n",
    "        return \"Some generic sound\"\n",
    "\n",
    "class Dog(Animal):\n",
    "    def make_sound(self):\n",
    "        return \"Bark\"\n",
    "\n",
    "class Cat(Animal):\n",
    "    def make_sound(self):\n",
    "        return \"Meow\"\n",
    "\n",
    "# Create instances\n",
    "generic_animal = Animal()\n",
    "dog = Dog()\n",
    "cat = Cat()\n",
    "\n",
    "# Call the overridden methods\n",
    "print(generic_animal.make_sound())  \n",
    "print(dog.make_sound())            \n",
    "print(cat.make_sound())             "
   ]
  },
  {
   "cell_type": "code",
   "execution_count": null,
   "id": "c09700b1",
   "metadata": {},
   "outputs": [],
   "source": []
  }
 ],
 "metadata": {
  "kernelspec": {
   "display_name": "Python 3 (ipykernel)",
   "language": "python",
   "name": "python3"
  },
  "language_info": {
   "codemirror_mode": {
    "name": "ipython",
    "version": 3
   },
   "file_extension": ".py",
   "mimetype": "text/x-python",
   "name": "python",
   "nbconvert_exporter": "python",
   "pygments_lexer": "ipython3",
   "version": "3.11.5"
  }
 },
 "nbformat": 4,
 "nbformat_minor": 5
}
