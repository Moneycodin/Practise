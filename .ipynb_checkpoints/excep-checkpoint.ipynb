{
 "cells": [
  {
   "cell_type": "code",
   "execution_count": null,
   "id": "4792cf10",
   "metadata": {},
   "outputs": [],
   "source": [
    "Q1. Explain why we have to use the Exception class while creating a Custom Exception.\n"
   ]
  },
  {
   "cell_type": "code",
   "execution_count": null,
   "id": "95aba42a",
   "metadata": {},
   "outputs": [],
   "source": [
    "Exception is the base class for all built-in exceptions. By inheriting from it, your custom exception integrates seamlessly with Python’s exception handling mechanisms and follows the standard exception hierarchy."
   ]
  },
  {
   "cell_type": "code",
   "execution_count": null,
   "id": "8a04fcf1",
   "metadata": {},
   "outputs": [],
   "source": [
    "\n",
    "Q2. Write a python program to print Python Exception Hierarchy.\n"
   ]
  },
  {
   "cell_type": "code",
   "execution_count": 1,
   "id": "76001fd2",
   "metadata": {},
   "outputs": [
    {
     "name": "stdout",
     "output_type": "stream",
     "text": [
      "Exception\n",
      "BaseException\n",
      "object\n"
     ]
    }
   ],
   "source": [
    "import traceback\n",
    "\n",
    "def print_exception_hierarchy():\n",
    "    exc_class = Exception\n",
    "    while exc_class:\n",
    "        print(exc_class.__name__)\n",
    "        exc_class = exc_class.__bases__[0] if exc_class.__bases__ else None\n",
    "\n",
    "print_exception_hierarchy()"
   ]
  },
  {
   "cell_type": "code",
   "execution_count": null,
   "id": "32855ea3",
   "metadata": {},
   "outputs": [],
   "source": [
    "Q3. What errors are defined in the ArithmeticError class? Explain any two with an example.\n"
   ]
  },
  {
   "cell_type": "code",
   "execution_count": null,
   "id": "d3e3d82e",
   "metadata": {},
   "outputs": [],
   "source": [
    "ZeroDivisionError: Raised when dividing by zero.\n",
    "OverflowError: Raised when a calculation exceeds the limits of the numeric type."
   ]
  },
  {
   "cell_type": "code",
   "execution_count": null,
   "id": "7bcc3327",
   "metadata": {},
   "outputs": [],
   "source": [
    "# ZeroDivisionError\n",
    "try:\n",
    "    result = 10 / 0\n",
    "except ZeroDivisionError as e:\n",
    "    print(\"ZeroDivisionError:\", e)\n",
    "\n",
    "# OverflowError\n",
    "try:\n",
    "    import math\n",
    "    result = math.exp(1000)\n",
    "except OverflowError as e:\n",
    "    print(\"OverflowError:\", e)"
   ]
  },
  {
   "cell_type": "code",
   "execution_count": null,
   "id": "fab77552",
   "metadata": {},
   "outputs": [],
   "source": [
    "Q4. Why LookupError class is used? Explain with an example KeyError and IndexError.\n"
   ]
  },
  {
   "cell_type": "code",
   "execution_count": null,
   "id": "97e5d68c",
   "metadata": {},
   "outputs": [],
   "source": [
    "Base class for exceptions raised when a lookup operation fails. Includes KeyError and IndexError."
   ]
  },
  {
   "cell_type": "code",
   "execution_count": 2,
   "id": "301aaddb",
   "metadata": {},
   "outputs": [
    {
     "name": "stdout",
     "output_type": "stream",
     "text": [
      "KeyError: 'b'\n"
     ]
    }
   ],
   "source": [
    "d = {'a': 1}\n",
    "try:\n",
    "    print(d['b'])\n",
    "except KeyError as e:\n",
    "    print(\"KeyError:\", e)"
   ]
  },
  {
   "cell_type": "code",
   "execution_count": 3,
   "id": "0ef21ebd",
   "metadata": {},
   "outputs": [
    {
     "name": "stdout",
     "output_type": "stream",
     "text": [
      "IndexError: list index out of range\n"
     ]
    }
   ],
   "source": [
    "lst = [1, 2, 3]\n",
    "try:\n",
    "    print(lst[5])\n",
    "except IndexError as e:\n",
    "    print(\"IndexError:\", e)"
   ]
  },
  {
   "cell_type": "code",
   "execution_count": null,
   "id": "d9647cb7",
   "metadata": {},
   "outputs": [],
   "source": [
    "Q5. Explain ImportError. What is ModuleNotFoundError?\n"
   ]
  },
  {
   "cell_type": "code",
   "execution_count": null,
   "id": "9ebdef73",
   "metadata": {},
   "outputs": [],
   "source": [
    "ImportError: Raised when an import statement fails to find the module or its attributes.\n",
    "ModuleNotFoundError: A subclass of ImportError introduced in Python 3.6, specifically raised when a module cannot be found."
   ]
  },
  {
   "cell_type": "code",
   "execution_count": null,
   "id": "ef42c344",
   "metadata": {},
   "outputs": [],
   "source": [
    "Q6. List down some best practices for exception handling in python."
   ]
  },
  {
   "cell_type": "code",
   "execution_count": null,
   "id": "6603d77c",
   "metadata": {},
   "outputs": [],
   "source": [
    "Catch Specific Exceptions: Handle specific exceptions rather than using a general except clause.\n",
    "Use finally: Ensure resources are cleaned up, such as closing files or releasing connections.\n",
    "Avoid Bare except: This can catch unexpected events and make debugging difficult.\n",
    "Log Exceptions: Record exceptions for later review using logging mechanisms.\n",
    "Raise Exceptions with Context: Use raise ... from ... to provide context about the exception.\n",
    "Use Custom Exceptions: Create custom exceptions for more meaningful error handling and clarity."
   ]
  }
 ],
 "metadata": {
  "kernelspec": {
   "display_name": "Python 3 (ipykernel)",
   "language": "python",
   "name": "python3"
  },
  "language_info": {
   "codemirror_mode": {
    "name": "ipython",
    "version": 3
   },
   "file_extension": ".py",
   "mimetype": "text/x-python",
   "name": "python",
   "nbconvert_exporter": "python",
   "pygments_lexer": "ipython3",
   "version": "3.11.5"
  }
 },
 "nbformat": 4,
 "nbformat_minor": 5
}
