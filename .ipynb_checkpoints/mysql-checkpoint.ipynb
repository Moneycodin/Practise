{
 "cells": [
  {
   "cell_type": "code",
   "execution_count": null,
   "id": "69c65a94",
   "metadata": {},
   "outputs": [],
   "source": [
    "Q1. What is a database? Differentiate between SQL and NoSQL databases.\n"
   ]
  },
  {
   "cell_type": "code",
   "execution_count": null,
   "id": "28289075",
   "metadata": {},
   "outputs": [],
   "source": [
    "Database: A structured collection of data stored and accessed electronically.\n",
    "SQL: Relational databases with structured schema and support for ACID properties (e.g., MySQL, PostgreSQL).\n",
    "NoSQL: Non-relational databases with flexible schema, suitable for unstructured data and horizontal scaling \n",
    "    (e.g., MongoDB, Cassandra)."
   ]
  },
  {
   "cell_type": "code",
   "execution_count": null,
   "id": "c0273389",
   "metadata": {},
   "outputs": [],
   "source": [
    "Q2. What is DDL? Explain why CREATE, DROP, ALTER, and TRUNCATE are used with an example.\n"
   ]
  },
  {
   "cell_type": "code",
   "execution_count": null,
   "id": "10ee0a06",
   "metadata": {},
   "outputs": [],
   "source": [
    "DDL (Data Definition Language): Used to define and manage database schema"
   ]
  },
  {
   "cell_type": "code",
   "execution_count": null,
   "id": "608bf939",
   "metadata": {},
   "outputs": [],
   "source": [
    "#CREATE: Creates new tables or databases\n",
    "CREATE TABLE students (id INT, name VARCHAR(50));"
   ]
  },
  {
   "cell_type": "code",
   "execution_count": null,
   "id": "c20f7d93",
   "metadata": {},
   "outputs": [],
   "source": [
    "#DROP: Deletes tables or databases.\n",
    "DROP TABLE students;"
   ]
  },
  {
   "cell_type": "code",
   "execution_count": null,
   "id": "d64cefa1",
   "metadata": {},
   "outputs": [],
   "source": [
    "#ALTER: Modifies existing tables.\n",
    "ALTER TABLE students ADD COLUMN age INT;"
   ]
  },
  {
   "cell_type": "code",
   "execution_count": null,
   "id": "b4688822",
   "metadata": {},
   "outputs": [],
   "source": [
    "#TRUNCATE: Removes all rows from a table without deleting the table itself\n",
    "TRUNCATE TABLE students;"
   ]
  },
  {
   "cell_type": "code",
   "execution_count": null,
   "id": "9aba2711",
   "metadata": {},
   "outputs": [],
   "source": [
    "Q3. What is DML? Explain INSERT, UPDATE, and DELETE with an example.\n",
    "\n",
    "\n",
    "DML (Data Manipulation Language): Used to manage data within schema objects\n"
   ]
  },
  {
   "cell_type": "code",
   "execution_count": 2,
   "id": "558a60c5",
   "metadata": {},
   "outputs": [],
   "source": [
    "#INSERT: Adds new rows to a table\n",
    "INSERT INTO students (id, name) VALUES (1, 'John Doe');"
   ]
  },
  {
   "cell_type": "code",
   "execution_count": null,
   "id": "0715739a",
   "metadata": {},
   "outputs": [],
   "source": [
    "#UPDATE: Modifies existing rows in a table\n",
    "UPDATE students SET name = 'Jane Doe' WHERE id = 1;"
   ]
  },
  {
   "cell_type": "code",
   "execution_count": null,
   "id": "611f7dd8",
   "metadata": {},
   "outputs": [],
   "source": [
    "#DELETE: Removes rows from a table\n",
    "DELETE FROM students WHERE id = 1;"
   ]
  },
  {
   "cell_type": "code",
   "execution_count": null,
   "id": "6a0576ca",
   "metadata": {},
   "outputs": [],
   "source": [
    "Q4. What is DQL? Explain SELECT with an example.\n",
    "DQL (Data Query Language): Used to query the database and retrieve data\n",
    "    \n",
    " SELECT: Retrieves data from one or more tables \n",
    "    \n",
    "    SELECT name, age FROM students WHERE age > 18;\n",
    "    "
   ]
  },
  {
   "cell_type": "code",
   "execution_count": null,
   "id": "0d353597",
   "metadata": {},
   "outputs": [],
   "source": [
    "Q5. Explain Primary Key and Foreign Key.\n"
   ]
  },
  {
   "cell_type": "code",
   "execution_count": null,
   "id": "5ddba826",
   "metadata": {},
   "outputs": [],
   "source": [
    "Primary Key: A unique identifier for a row in a table, ensuring that no two rows have the same primary key value.\n",
    "Foreign Key: A field (or fields) in one table that uniquely identifies a row of another table, creating a relationship between the tables."
   ]
  },
  {
   "cell_type": "code",
   "execution_count": null,
   "id": "8748023e",
   "metadata": {},
   "outputs": [],
   "source": [
    "Q6. Write a python code to connect MySQL to python. Explain the cursor() and execute() method.\n"
   ]
  },
  {
   "cell_type": "code",
   "execution_count": null,
   "id": "9cbf9d27",
   "metadata": {},
   "outputs": [],
   "source": [
    "import mysql.connector\n",
    "\n",
    "# Connect to MySQL\n",
    "conn = mysql.connector.connect(\n",
    "    host='localhost',\n",
    "    user='yourusername',\n",
    "    password='yourpassword',\n",
    "    database='yourdatabase'\n",
    ")\n",
    "\n",
    "# Create a cursor object\n",
    "cursor = conn.cursor()\n",
    "\n",
    "# Execute a query\n",
    "cursor.execute(\"SELECT * FROM students\")\n",
    "\n",
    "# Fetch and print the results\n",
    "for row in cursor.fetchall():\n",
    "    print(row)\n",
    "\n",
    "# Close the cursor and connection\n",
    "cursor.close()\n",
    "conn.close()"
   ]
  },
  {
   "cell_type": "code",
   "execution_count": null,
   "id": "3645f246",
   "metadata": {},
   "outputs": [],
   "source": [
    "Q7. Give the order of execution of SQL clauses in an SQL query."
   ]
  },
  {
   "cell_type": "code",
   "execution_count": null,
   "id": "3f7feb5e",
   "metadata": {},
   "outputs": [],
   "source": [
    "FROM: Specifies the tables to retrieve data from.\n",
    "JOIN: Combines rows from two or more tables.\n",
    "WHERE: Filters rows based on specified conditions.\n",
    "GROUP BY: Groups rows that have the same values in specified columns.\n",
    "HAVING: Filters groups based on specified conditions.\n",
    "SELECT: Specifies the columns to be returned.\n",
    "DISTINCT: Removes duplicate rows from the result set.\n",
    "ORDER BY: Sorts the result set by specified columns.\n",
    "LIMIT/OFFSET: Limits the number of rows returned and specifies the offset of the first row to return."
   ]
  }
 ],
 "metadata": {
  "kernelspec": {
   "display_name": "Python 3 (ipykernel)",
   "language": "python",
   "name": "python3"
  },
  "language_info": {
   "codemirror_mode": {
    "name": "ipython",
    "version": 3
   },
   "file_extension": ".py",
   "mimetype": "text/x-python",
   "name": "python",
   "nbconvert_exporter": "python",
   "pygments_lexer": "ipython3",
   "version": "3.11.5"
  }
 },
 "nbformat": 4,
 "nbformat_minor": 5
}
