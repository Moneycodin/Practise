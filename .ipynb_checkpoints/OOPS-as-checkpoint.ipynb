{
 "cells": [
  {
   "cell_type": "code",
   "execution_count": null,
   "id": "bf807ade",
   "metadata": {},
   "outputs": [],
   "source": [
    "Q1. Which function is used to open a file? What are the different modes of opening a file? Explain each mode\n",
    "of file opening.\n"
   ]
  },
  {
   "cell_type": "code",
   "execution_count": null,
   "id": "27c482a0",
   "metadata": {},
   "outputs": [],
   "source": [
    "Function: open()\n",
    "Modes:\n",
    "'r': Read (default mode). Opens a file for reading.\n",
    "'w': Write. Opens a file for writing (creates a new file or truncates an existing file).\n",
    "'a': Append. Opens a file for writing (appends to an existing file).\n",
    "'b': Binary. Opens a file in binary mode (e.g., 'rb' or 'wb').\n",
    "'x': Exclusive creation. Creates a new file and fails if the file already exists."
   ]
  },
  {
   "cell_type": "code",
   "execution_count": null,
   "id": "cfe55639",
   "metadata": {},
   "outputs": [],
   "source": [
    "Q2. Why close() function is used? Why is it important to close a file?\n"
   ]
  },
  {
   "cell_type": "code",
   "execution_count": null,
   "id": "860c15b9",
   "metadata": {},
   "outputs": [],
   "source": [
    "close(): Closes the file and frees up system resources.\n",
    "Importance: Prevents data corruption, ensures data is saved, and releases system resources."
   ]
  },
  {
   "cell_type": "code",
   "execution_count": null,
   "id": "d97b7bb6",
   "metadata": {},
   "outputs": [],
   "source": [
    "Q3. Write a python program to create a text file. Write ‘I want to become a Data Scientist’ in that file. Then\n",
    "close the file. Open this file and read the content of the file.\n"
   ]
  },
  {
   "cell_type": "code",
   "execution_count": 1,
   "id": "34054464",
   "metadata": {},
   "outputs": [
    {
     "name": "stdout",
     "output_type": "stream",
     "text": [
      "I want to become a Data Scientist\n"
     ]
    }
   ],
   "source": [
    "# Create and write to the file\n",
    "with open('data_scientist.txt', 'w') as file:\n",
    "    file.write('I want to become a Data Scientist')\n",
    "\n",
    "# Open and read the file\n",
    "with open('data_scientist.txt', 'r') as file:\n",
    "    content = file.read()\n",
    "    print(content)  # Output: I want to become a Data Scientist"
   ]
  },
  {
   "cell_type": "code",
   "execution_count": null,
   "id": "3da24cf1",
   "metadata": {},
   "outputs": [],
   "source": [
    "Q4. Explain the following with python code: read(), readline() and readlines().\n"
   ]
  },
  {
   "cell_type": "code",
   "execution_count": null,
   "id": "7399ed03",
   "metadata": {},
   "outputs": [],
   "source": [
    "with open('example.txt', 'r') as file:\n",
    "    print(file.read())      # Reads the entire file content\n",
    "    print(file.readline())  # Reads the first line\n",
    "    print(file.readlines()) # Reads all lines into a list"
   ]
  },
  {
   "cell_type": "code",
   "execution_count": null,
   "id": "f74eda94",
   "metadata": {},
   "outputs": [],
   "source": [
    "Q5. Explain why with statement is used with open(). What is the advantage of using with statement and\n",
    "open() together?\n"
   ]
  },
  {
   "cell_type": "code",
   "execution_count": null,
   "id": "2b02d6c8",
   "metadata": {},
   "outputs": [],
   "source": [
    "with Statement: Ensures proper resource management by automatically closing the file when done.\n",
    "Advantage: Simplifies code and avoids forgetting to close the file."
   ]
  },
  {
   "cell_type": "code",
   "execution_count": null,
   "id": "11453c85",
   "metadata": {},
   "outputs": [],
   "source": [
    "Q6. Explain the write() and writelines() functions. Give a suitable example."
   ]
  },
  {
   "cell_type": "code",
   "execution_count": 3,
   "id": "819f18a2",
   "metadata": {},
   "outputs": [],
   "source": [
    "# Using write()\n",
    "with open('write_example.txt', 'w') as file:\n",
    "    file.write('Hello, World!')\n",
    "\n",
    "# Using writelines()\n",
    "lines = ['Line 1\\n', 'Line 2\\n', 'Line 3\\n']\n",
    "with open('writelines_example.txt', 'w') as file:\n",
    "    file.writelines(lines)"
   ]
  },
  {
   "cell_type": "code",
   "execution_count": null,
   "id": "ec5be22e",
   "metadata": {},
   "outputs": [],
   "source": []
  }
 ],
 "metadata": {
  "kernelspec": {
   "display_name": "Python 3 (ipykernel)",
   "language": "python",
   "name": "python3"
  },
  "language_info": {
   "codemirror_mode": {
    "name": "ipython",
    "version": 3
   },
   "file_extension": ".py",
   "mimetype": "text/x-python",
   "name": "python",
   "nbconvert_exporter": "python",
   "pygments_lexer": "ipython3",
   "version": "3.11.5"
  }
 },
 "nbformat": 4,
 "nbformat_minor": 5
}
