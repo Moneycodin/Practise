{
 "cells": [
  {
   "cell_type": "code",
   "execution_count": null,
   "id": "d3d99e17",
   "metadata": {},
   "outputs": [],
   "source": [
    "1. Python programming language was developed by Guido van Rossum\n",
    "\n",
    "2. Python supports object oriented programming and structures programming\n",
    "\n",
    "3. Yes python is case sensitive language\n",
    "\n",
    "4. The correct extension for Python source code files is “. py”.\n",
    "\n",
    "5. Python code is both compiled and interpreted. which means when we run a python code, it is first compiled and then \n",
    "interpreted line by line. The compile part gets deleted as soon as the code gets executed in Python so that the \n",
    "programmer doesn't get onto unnecessary complexity.\n",
    "\n",
    "\n",
    "6. Module, function body  and class definition are blocks of code in python programming.\n",
    "\n",
    "7.Comments in Python are identified with a hash symbol, #.\n",
    "\n",
    "8. The function sys. version can help us to find the version of python that we are currently working on.\n",
    "\n",
    "9. Python supports the creation of anonymous functions  at runtime, using a construct called lambda. \n",
    "\n",
    "10. pip stands for Preferred Installer Program\n",
    "\n",
    "11. Few built-in functions in python are help(), append(), clear(), count(), print(), etc\n",
    "\n",
    "12.  An identifier can have a maximum length of 79 characters in Python.\n",
    "\n",
    "13. 5 benefits of python are extensive support libraries, open source and community development, easy to learn, \n",
    "user friendly data structure and prodcutivity \n",
    "\n",
    "14. In Python, memory is allocated dynamically. This means that when an object is created, Python automatically \n",
    "requests the necessary memory from the operating system and releases it when the object is no longer needed.\n",
    "\n",
    "15. Download Python: From python.org.\n",
    "\n",
    "Run Installer: Check \"Add Python to PATH\" and install.\n",
    "\n",
    "Verify Installation: Open Command Prompt, type python --version.\n",
    "\n",
    "Set PATH Manually (if needed):\n",
    "\n",
    "Open System Properties (sysdm.cpl).\n",
    "Edit Path variable in Environment Variables.\n",
    "Add paths to Python and Scripts directories.\n",
    "Verify Path: Open new Command Prompt, type python --version and pip --version.\n",
    "    \n",
    "    \n",
    "16. Indentation is mandatory in python "
   ]
  }
 ],
 "metadata": {
  "kernelspec": {
   "display_name": "Python 3 (ipykernel)",
   "language": "python",
   "name": "python3"
  },
  "language_info": {
   "codemirror_mode": {
    "name": "ipython",
    "version": 3
   },
   "file_extension": ".py",
   "mimetype": "text/x-python",
   "name": "python",
   "nbconvert_exporter": "python",
   "pygments_lexer": "ipython3",
   "version": "3.11.5"
  }
 },
 "nbformat": 4,
 "nbformat_minor": 5
}
