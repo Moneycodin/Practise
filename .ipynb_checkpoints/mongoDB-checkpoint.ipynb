{
 "cells": [
  {
   "cell_type": "code",
   "execution_count": null,
   "id": "5bf34df8",
   "metadata": {},
   "outputs": [],
   "source": [
    "Q1. What is MongoDB? Explain non-relational databases in short. In which scenarios it is preferred to use\n",
    "MongoDB over SQL databases?\n"
   ]
  },
  {
   "cell_type": "code",
   "execution_count": null,
   "id": "eff6d062",
   "metadata": {},
   "outputs": [],
   "source": [
    "MongoDB: A NoSQL, document-oriented database storing data in JSON-like format.\n",
    "Non-Relational Databases: Flexible schema, scalable horizontally, ideal for unstructured data.\n",
    "Preferred Scenarios:\n",
    "High volume of unstructured data.\n",
    "Agile development and frequent schema changes.\n",
    "Scalability and performance needs."
   ]
  },
  {
   "cell_type": "code",
   "execution_count": null,
   "id": "1d5e58ec",
   "metadata": {},
   "outputs": [],
   "source": [
    "Q2. State and Explain the features of MongoDB.\n"
   ]
  },
  {
   "cell_type": "code",
   "execution_count": null,
   "id": "f90ebedc",
   "metadata": {},
   "outputs": [],
   "source": [
    "Schema-less: Flexible document structure.\n",
    "Scalable: Horizontal scaling with sharding.\n",
    "Indexing: Supports secondary indexes.\n",
    "Aggregation: Powerful query language with aggregation framework.\n",
    "Replication: High availability with replica sets."
   ]
  },
  {
   "cell_type": "code",
   "execution_count": null,
   "id": "64126cfe",
   "metadata": {},
   "outputs": [],
   "source": [
    "Q3. Write a code to connect MongoDB to Python. Also, create a database and a collection in MongoDB.\n"
   ]
  },
  {
   "cell_type": "code",
   "execution_count": null,
   "id": "7dc658f0",
   "metadata": {},
   "outputs": [],
   "source": [
    "from pymongo import MongoClient\n",
    "\n",
    "# Connect to MongoDB\n",
    "client = MongoClient('mongodb://localhost:27017/')\n",
    "\n",
    "# Create database and collection\n",
    "db = client['mydatabase']\n",
    "collection = db['mycollection']"
   ]
  },
  {
   "cell_type": "code",
   "execution_count": null,
   "id": "d846d7ff",
   "metadata": {},
   "outputs": [],
   "source": [
    "Q4. Using the database and the collection created in question number 3, write a code to insert one record,\n",
    "and insert many records. Use the find() and find_one() methods to print the inserted record.\n"
   ]
  },
  {
   "cell_type": "code",
   "execution_count": null,
   "id": "e3a705f2",
   "metadata": {},
   "outputs": [],
   "source": [
    "# Insert one record\n",
    "collection.insert_one({\"name\": \"Alice\", \"age\": 30})\n",
    "\n",
    "# Insert many records\n",
    "collection.insert_many([\n",
    "    {\"name\": \"Bob\", \"age\": 25},\n",
    "    {\"name\": \"Charlie\", \"age\": 35}\n",
    "])\n",
    "\n",
    "# Find one record\n",
    "print(collection.find_one({\"name\": \"Alice\"}))\n",
    "\n",
    "# Find all records\n",
    "for record in collection.find():\n",
    "    print(record)"
   ]
  },
  {
   "cell_type": "code",
   "execution_count": null,
   "id": "1e893c4b",
   "metadata": {},
   "outputs": [],
   "source": [
    "Q5. Explain how you can use the find() method to query the MongoDB database. Write a simple code to\n",
    "demonstrate this.\n"
   ]
  },
  {
   "cell_type": "code",
   "execution_count": null,
   "id": "e9893a11",
   "metadata": {},
   "outputs": [],
   "source": [
    "# Find all documents where age is greater than 30\n",
    "results = collection.find({\"age\": {\"$gt\": 30}})\n",
    "for doc in results:\n",
    "    print(doc)"
   ]
  },
  {
   "cell_type": "code",
   "execution_count": null,
   "id": "87ef5099",
   "metadata": {},
   "outputs": [],
   "source": [
    "Q6. Explain the sort() method. Give an example to demonstrate sorting in MongoDB.\n"
   ]
  },
  {
   "cell_type": "code",
   "execution_count": null,
   "id": "502ae0cd",
   "metadata": {},
   "outputs": [],
   "source": [
    "# Sort by age in ascending order\n",
    "results = collection.find().sort(\"age\", 1)\n",
    "for doc in results:\n",
    "    print(doc)"
   ]
  },
  {
   "cell_type": "code",
   "execution_count": null,
   "id": "960a0fda",
   "metadata": {},
   "outputs": [],
   "source": [
    "Q7. Explain why delete_one(), delete_many(), and drop() is used."
   ]
  },
  {
   "cell_type": "code",
   "execution_count": null,
   "id": "83a41b4d",
   "metadata": {},
   "outputs": [],
   "source": [
    "#delete_one(): Deletes a single document matching the query\n",
    "collection.delete_one({\"name\": \"Alice\"})"
   ]
  },
  {
   "cell_type": "code",
   "execution_count": null,
   "id": "1beb1a13",
   "metadata": {},
   "outputs": [],
   "source": [
    "#collection.delete_one({\"name\": \"Alice\"})\n",
    "collection.delete_many({\"age\": {\"$lt\": 30}})"
   ]
  },
  {
   "cell_type": "code",
   "execution_count": null,
   "id": "a3d19460",
   "metadata": {},
   "outputs": [],
   "source": [
    "#drop(): Deletes an entire collection.\n",
    "collection.drop()"
   ]
  }
 ],
 "metadata": {
  "kernelspec": {
   "display_name": "Python 3 (ipykernel)",
   "language": "python",
   "name": "python3"
  },
  "language_info": {
   "codemirror_mode": {
    "name": "ipython",
    "version": 3
   },
   "file_extension": ".py",
   "mimetype": "text/x-python",
   "name": "python",
   "nbconvert_exporter": "python",
   "pygments_lexer": "ipython3",
   "version": "3.11.5"
  }
 },
 "nbformat": 4,
 "nbformat_minor": 5
}
