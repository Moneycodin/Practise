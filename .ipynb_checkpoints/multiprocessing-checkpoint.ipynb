{
 "cells": [
  {
   "cell_type": "code",
   "execution_count": null,
   "id": "52cdb673",
   "metadata": {},
   "outputs": [],
   "source": [
    "Q1. What is multiprocessing in python? Why is it useful?\n"
   ]
  },
  {
   "cell_type": "code",
   "execution_count": null,
   "id": "33686797",
   "metadata": {},
   "outputs": [],
   "source": [
    "Multiprocessing: A technique where multiple processes run concurrently, each with its own memory space.\n",
    "Useful: Improves performance by parallelizing tasks, especially useful for CPU-bound tasks, bypassing the Global Interpreter Lock (GIL) limitation."
   ]
  },
  {
   "cell_type": "code",
   "execution_count": null,
   "id": "1bc0cb40",
   "metadata": {},
   "outputs": [],
   "source": [
    "Q2. What are the differences between multiprocessing and multithreading?\n"
   ]
  },
  {
   "cell_type": "code",
   "execution_count": null,
   "id": "e34aca88",
   "metadata": {},
   "outputs": [],
   "source": [
    "Multiprocessing:\n",
    "\n",
    "Separate memory space for each process.\n",
    "Better for CPU-bound tasks.\n",
    "No GIL interference.\n",
    "Multithreading:\n",
    "\n",
    "Shared memory space within a single process.\n",
    "Better for I/O-bound tasks.\n",
    "Affected by GIL."
   ]
  },
  {
   "cell_type": "code",
   "execution_count": null,
   "id": "a8a654c1",
   "metadata": {},
   "outputs": [],
   "source": [
    "Q3. Write a python code to create a process using the multiprocessing module.\n"
   ]
  },
  {
   "cell_type": "code",
   "execution_count": null,
   "id": "4238ea58",
   "metadata": {},
   "outputs": [],
   "source": [
    "import multiprocessing\n",
    "\n",
    "def print_hello():\n",
    "    print(\"Hello from the process\")\n",
    "\n",
    "if __name__ == \"__main__\":\n",
    "    process = multiprocessing.Process(target=print_hello)\n",
    "    process.start()\n",
    "    process.join()"
   ]
  },
  {
   "cell_type": "code",
   "execution_count": null,
   "id": "a2b93cb2",
   "metadata": {},
   "outputs": [],
   "source": [
    "Q4. What is a multiprocessing pool in python? Why is it used?\n"
   ]
  },
  {
   "cell_type": "code",
   "execution_count": null,
   "id": "56c45ad1",
   "metadata": {},
   "outputs": [],
   "source": [
    "Multiprocessing Pool: A pool of worker processes to which tasks can be submitted.\n",
    "Used: To parallelize execution of a function across multiple input values, managing multiple processes efficiently."
   ]
  },
  {
   "cell_type": "code",
   "execution_count": null,
   "id": "af459528",
   "metadata": {},
   "outputs": [],
   "source": [
    "Q5. How can we create a pool of worker processes in python using the multiprocessing module?\n"
   ]
  },
  {
   "cell_type": "code",
   "execution_count": null,
   "id": "3aa07ed2",
   "metadata": {},
   "outputs": [],
   "source": [
    "import multiprocessing\n",
    "\n",
    "def square(x):\n",
    "    return x * x\n",
    "\n",
    "if __name__ == \"__main__\":\n",
    "    with multiprocessing.Pool(4) as pool:\n",
    "        results = pool.map(square, [1, 2, 3, 4])\n",
    "        print(results)"
   ]
  },
  {
   "cell_type": "code",
   "execution_count": null,
   "id": "7357dfea",
   "metadata": {},
   "outputs": [],
   "source": [
    "Q6. Write a python program to create 4 processes, each process should print a different number using the\n",
    "multiprocessing module in python."
   ]
  },
  {
   "cell_type": "code",
   "execution_count": 1,
   "id": "9e6355a4",
   "metadata": {},
   "outputs": [],
   "source": [
    "import multiprocessing\n",
    "\n",
    "def print_number(number):\n",
    "    print(f\"Process {number}: {number}\")\n",
    "\n",
    "if __name__ == \"__main__\":\n",
    "    processes = []\n",
    "    for i in range(4):\n",
    "        process = multiprocessing.Process(target=print_number, args=(i,))\n",
    "        processes.append(process)\n",
    "        process.start()\n",
    "\n",
    "    for process in processes:\n",
    "        process.join()"
   ]
  },
  {
   "cell_type": "code",
   "execution_count": null,
   "id": "fbb47f96",
   "metadata": {},
   "outputs": [],
   "source": []
  }
 ],
 "metadata": {
  "kernelspec": {
   "display_name": "Python 3 (ipykernel)",
   "language": "python",
   "name": "python3"
  },
  "language_info": {
   "codemirror_mode": {
    "name": "ipython",
    "version": 3
   },
   "file_extension": ".py",
   "mimetype": "text/x-python",
   "name": "python",
   "nbconvert_exporter": "python",
   "pygments_lexer": "ipython3",
   "version": "3.11.5"
  }
 },
 "nbformat": 4,
 "nbformat_minor": 5
}
