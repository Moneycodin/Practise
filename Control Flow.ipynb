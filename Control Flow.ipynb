{
 "cells": [
  {
   "cell_type": "code",
   "execution_count": 3,
   "id": "5156a0f8-00b0-4cb5-9c92-867fff4b9e87",
   "metadata": {},
   "outputs": [
    {
     "name": "stdin",
     "output_type": "stream",
     "text": [
      "enter the number 4\n"
     ]
    },
    {
     "name": "stdout",
     "output_type": "stream",
     "text": [
      "The number is positive\n"
     ]
    }
   ],
   "source": [
    "#Write a Python program to check if a given number is positive or negative.\n",
    "number=int(input(\"enter the number\"))\n",
    "if number>0:\n",
    "    print(\"The number is positive\")\n",
    "else:\n",
    "    print(\"The number is negative\")\n",
    "           "
   ]
  },
  {
   "cell_type": "code",
   "execution_count": 7,
   "id": "c90a3904-5f08-4a73-9f77-fd1b2992b449",
   "metadata": {},
   "outputs": [
    {
     "name": "stdin",
     "output_type": "stream",
     "text": [
      "enter the age of person 23\n"
     ]
    },
    {
     "name": "stdout",
     "output_type": "stream",
     "text": [
      "The person is eligible to vote\n"
     ]
    }
   ],
   "source": [
    "#Create a program that determines if a person is eligible to vote based on their age.\n",
    "age=int(input(\"enter the age of person\"))\n",
    "if age>18:\n",
    "    print(\"The person is eligible to vote\")\n",
    "else:\n",
    "    print(\"The perosn is not eligible to vote\")"
   ]
  },
  {
   "cell_type": "code",
   "execution_count": 8,
   "id": "fe2ed104-9173-43dc-955b-e3ee5d3f2bd1",
   "metadata": {},
   "outputs": [
    {
     "name": "stdin",
     "output_type": "stream",
     "text": [
      "Enter the first number:  45\n",
      "Enter the second number:  56\n"
     ]
    },
    {
     "name": "stdout",
     "output_type": "stream",
     "text": [
      "The maximum number is: 56.0\n"
     ]
    }
   ],
   "source": [
    "#Develop a program to find the maximum of two numbers using if-else statements.\n",
    "num1 = float(input(\"Enter the first number: \"))\n",
    "num2 = float(input(\"Enter the second number: \"))\n",
    "\n",
    "# Use if-else statements to find the maximum\n",
    "if num1 > num2:\n",
    "    max_num = num1\n",
    "else:\n",
    "    max_num = num2\n",
    "\n",
    "# Display the maximum number\n",
    "print(\"The maximum number is:\", max_num)\n",
    "\n"
   ]
  },
  {
   "cell_type": "code",
   "execution_count": 9,
   "id": "aad1ef01-17cd-4910-97d7-93187a3b6202",
   "metadata": {},
   "outputs": [
    {
     "name": "stdin",
     "output_type": "stream",
     "text": [
      "Enter a year:  2009\n"
     ]
    },
    {
     "name": "stdout",
     "output_type": "stream",
     "text": [
      "2009 is not a leap year.\n"
     ]
    }
   ],
   "source": [
    "#Write a Python script to classify a given year as a leap year or not.\n",
    "year = int(input(\"Enter a year: \"))\n",
    "\n",
    "# Check if it's a leap year\n",
    "if (year % 4 == 0 and year % 100 != 0) or (year % 400 == 0):\n",
    "    print(year, \"is a leap year.\")\n",
    "else:\n",
    "    print(year, \"is not a leap year.\")"
   ]
  },
  {
   "cell_type": "code",
   "execution_count": 10,
   "id": "3740d3e6-65d4-44bc-8f19-b105ebc3cd0e",
   "metadata": {},
   "outputs": [
    {
     "name": "stdin",
     "output_type": "stream",
     "text": [
      "Enter a character:  r\n"
     ]
    },
    {
     "name": "stdout",
     "output_type": "stream",
     "text": [
      "r is a consonant.\n"
     ]
    }
   ],
   "source": [
    "#Create a program that checks whether a character is a vowel or a consonant.\n",
    "char = input(\"Enter a character: \").lower()\n",
    "\n",
    "# Check if it's a vowel or a consonant\n",
    "if char.isalpha() and len(char) == 1:\n",
    "    if char in \"aeiou\":\n",
    "        print(char, \"is a vowel.\")\n",
    "    else:\n",
    "        print(char, \"is a consonant.\")\n",
    "else:\n",
    "    print(\"Invalid input. Please enter a single alphabet character.\")"
   ]
  },
  {
   "cell_type": "code",
   "execution_count": 11,
   "id": "de78a599-5a8b-41d0-aefb-03fa4da798cb",
   "metadata": {},
   "outputs": [
    {
     "name": "stdin",
     "output_type": "stream",
     "text": [
      "Enter a number:  34\n"
     ]
    },
    {
     "name": "stdout",
     "output_type": "stream",
     "text": [
      "34 is even.\n"
     ]
    }
   ],
   "source": [
    "#Implement a program to determine whether a given number is even or odd.\n",
    "number = int(input(\"Enter a number: \"))\n",
    "\n",
    "# Check if the number is even or odd\n",
    "if number % 2 == 0:\n",
    "    print(number, \"is even.\")\n",
    "else:\n",
    "    print(number, \"is odd.\")"
   ]
  },
  {
   "cell_type": "code",
   "execution_count": 12,
   "id": "997f956b-adbc-4c0a-b375-1ef358b668fc",
   "metadata": {},
   "outputs": [
    {
     "name": "stdin",
     "output_type": "stream",
     "text": [
      "Enter a number:  -45\n"
     ]
    },
    {
     "name": "stdout",
     "output_type": "stream",
     "text": [
      "The absolute value of -45.0 is 45.0\n"
     ]
    }
   ],
   "source": [
    "#Write a Python function to calculate the absolute value of a number without using the `abs()` function.\n",
    "def calculate_absolute_value(number):\n",
    "    if number < 0:\n",
    "        return -number\n",
    "    else:\n",
    "        return number\n",
    "\n",
    "# Test the function\n",
    "num = float(input(\"Enter a number: \"))\n",
    "absolute_value = calculate_absolute_value(num)\n",
    "print(f\"The absolute value of {num} is {absolute_value}\")"
   ]
  },
  {
   "cell_type": "code",
   "execution_count": 13,
   "id": "b4e07477-a5fb-4ccb-be34-1fc25fd3114d",
   "metadata": {},
   "outputs": [
    {
     "name": "stdin",
     "output_type": "stream",
     "text": [
      "Enter the first number:  34\n",
      "Enter the second number:  45\n",
      "Enter the third number:  21\n"
     ]
    },
    {
     "name": "stdout",
     "output_type": "stream",
     "text": [
      "The largest number is: 45.0\n"
     ]
    }
   ],
   "source": [
    "#Develop a program that determines the largest of three given numbers using if-else statements.\n",
    "num1 = float(input(\"Enter the first number: \"))\n",
    "num2 = float(input(\"Enter the second number: \"))\n",
    "num3 = float(input(\"Enter the third number: \"))\n",
    "\n",
    "# Determine the largest number using if-else statements\n",
    "if num1 >= num2 and num1 >= num3:\n",
    "    largest = num1\n",
    "elif num2 >= num1 and num2 >= num3:\n",
    "    largest = num2\n",
    "else:\n",
    "    largest = num3\n",
    "\n",
    "# Display the largest number\n",
    "print(\"The largest number is:\", largest)"
   ]
  },
  {
   "cell_type": "code",
   "execution_count": 15,
   "id": "6c285e19-72ad-4ae7-b5bd-05cfa7e78506",
   "metadata": {},
   "outputs": [
    {
     "name": "stdin",
     "output_type": "stream",
     "text": [
      "Enter a string:  awa\n"
     ]
    },
    {
     "name": "stdout",
     "output_type": "stream",
     "text": [
      "awa is a palindrome.\n"
     ]
    }
   ],
   "source": [
    "#Create a program that checks if a given string is a palindrome.\n",
    "def is_palindrome(input_string):\n",
    "    clean_string = input_string.replace(\" \", \"\").lower()\n",
    "    return clean_string == clean_string[::-1]\n",
    "\n",
    "\n",
    "user_input = input(\"Enter a string: \")\n",
    "\n",
    "# Check if it's a palindrome\n",
    "if is_palindrome(user_input):\n",
    "    print(f\"{user_input} is a palindrome.\")\n",
    "else:\n",
    "    print(f\"{user_input} is not a palindrome.\")"
   ]
  },
  {
   "cell_type": "code",
   "execution_count": 16,
   "id": "b46ab597-e7fd-45ad-97c3-454085e8aa97",
   "metadata": {},
   "outputs": [
    {
     "name": "stdin",
     "output_type": "stream",
     "text": [
      "Enter the student's score:  45\n"
     ]
    },
    {
     "name": "stdout",
     "output_type": "stream",
     "text": [
      "The student's grade is: F\n"
     ]
    }
   ],
   "source": [
    "#Write a Python program to calculate the grade based on a student's score.\n",
    "score = float(input(\"Enter the student's score: \"))\n",
    "\n",
    "# Define the grade ranges and calculate the grade\n",
    "if 90 <= score <= 100:\n",
    "    grade = \"A\"\n",
    "elif 80 <= score < 90:\n",
    "    grade = \"B\"\n",
    "elif 70 <= score < 80:\n",
    "    grade = \"C\"\n",
    "elif 60 <= score < 70:\n",
    "    grade = \"D\"\n",
    "elif 0 <= score < 60:\n",
    "    grade = \"F\"\n",
    "else:\n",
    "    grade = \"Invalid input (score out of range)\"\n",
    "\n",
    "# Display the calculated grade\n",
    "print(f\"The student's grade is: {grade}\")"
   ]
  },
  {
   "cell_type": "code",
   "execution_count": 17,
   "id": "8d09e647-7274-4f2a-b04c-8fefdaa3556b",
   "metadata": {},
   "outputs": [
    {
     "name": "stdin",
     "output_type": "stream",
     "text": [
      "Enter the first number:  45\n",
      "Enter the second number:  67\n",
      "Enter the third number:  23\n"
     ]
    },
    {
     "name": "stdout",
     "output_type": "stream",
     "text": [
      "The largest number is: 67.0\n"
     ]
    }
   ],
   "source": [
    "#Write a program to find the largest among three numbers using nested if-else statements.\n",
    "num1 = float(input(\"Enter the first number: \"))\n",
    "num2 = float(input(\"Enter the second number: \"))\n",
    "num3 = float(input(\"Enter the third number: \"))\n",
    "\n",
    "# Determine the largest number using nested if-else statements\n",
    "if num1 >= num2:\n",
    "    if num1 >= num3:\n",
    "        largest = num1\n",
    "    else:\n",
    "        largest = num3\n",
    "else:\n",
    "    if num2 >= num3:\n",
    "        largest = num2\n",
    "    else:\n",
    "        largest = num3\n",
    "\n",
    "# Display the largest number\n",
    "print(\"The largest number is:\", largest)"
   ]
  },
  {
   "cell_type": "code",
   "execution_count": 18,
   "id": "1907179b-007d-41b4-95a1-6f5f3084fd7f",
   "metadata": {},
   "outputs": [
    {
     "name": "stdin",
     "output_type": "stream",
     "text": [
      "Enter the length of the first side:  2\n",
      "Enter the length of the second side:  4\n",
      "Enter the length of the third side:  4\n"
     ]
    },
    {
     "name": "stdout",
     "output_type": "stream",
     "text": [
      "The triangle is isosceles.\n"
     ]
    }
   ],
   "source": [
    "#Implement a program to determine if a triangle is equilateral, isosceles, or scalene.\n",
    "side1 = float(input(\"Enter the length of the first side: \"))\n",
    "side2 = float(input(\"Enter the length of the second side: \"))\n",
    "side3 = float(input(\"Enter the length of the third side: \"))\n",
    "\n",
    "# Check if it's a valid triangle\n",
    "if (side1 + side2 > side3) and (side1 + side3 > side2) and (side2 + side3 > side1):\n",
    "    # Check for equilateral triangle\n",
    "    if side1 == side2 == side3:\n",
    "        triangle_type = \"equilateral\"\n",
    "    # Check for isosceles triangle\n",
    "    elif side1 == side2 or side1 == side3 or side2 == side3:\n",
    "        triangle_type = \"isosceles\"\n",
    "    # Otherwise, it's scalene\n",
    "    else:\n",
    "        triangle_type = \"scalene\"\n",
    "else:\n",
    "    triangle_type = \"invalid (not a triangle)\"\n",
    "\n",
    "# Display the type of triangle\n",
    "print(f\"The triangle is {triangle_type}.\")"
   ]
  },
  {
   "cell_type": "code",
   "execution_count": 19,
   "id": "8bbf8bd0-6e60-46d6-9ed2-de23a23a94b4",
   "metadata": {},
   "outputs": [
    {
     "name": "stdin",
     "output_type": "stream",
     "text": [
      "Enter a year:  1998\n"
     ]
    },
    {
     "name": "stdout",
     "output_type": "stream",
     "text": [
      "1998 is neither a leap year nor a century year.\n"
     ]
    }
   ],
   "source": [
    "#Develop a program that checks if a year is a leap year and also if it is a century year.\n",
    "# Input a year from the user\n",
    "year = int(input(\"Enter a year: \"))\n",
    "\n",
    "# Check if it's a leap year\n",
    "is_leap_year = False\n",
    "if (year % 4 == 0 and year % 100 != 0) or (year % 400 == 0):\n",
    "    is_leap_year = True\n",
    "\n",
    "# Check if it's a century year\n",
    "is_century_year = year % 100 == 0\n",
    "\n",
    "# Determine and display the results\n",
    "if is_leap_year:\n",
    "    if is_century_year:\n",
    "        print(f\"{year} is a leap year and a century year.\")\n",
    "    else:\n",
    "        print(f\"{year} is a leap year but not a century year.\")\n",
    "else:\n",
    "    if is_century_year:\n",
    "        print(f\"{year} is not a leap year but is a century year.\")\n",
    "    else:\n",
    "        print(f\"{year} is neither a leap year nor a century year.\")"
   ]
  },
  {
   "cell_type": "code",
   "execution_count": 20,
   "id": "0a5e3b22-3896-447b-b068-bfbb175ba5e2",
   "metadata": {},
   "outputs": [
    {
     "name": "stdin",
     "output_type": "stream",
     "text": [
      "Enter a number:  4\n"
     ]
    },
    {
     "name": "stdout",
     "output_type": "stream",
     "text": [
      "The number is positive.\n"
     ]
    }
   ],
   "source": [
    "#Write a Python script to determine if a number is positive, negative, or zero.\n",
    "number = float(input(\"Enter a number: \"))\n",
    "\n",
    "# Determine if it's positive, negative, or zero\n",
    "if number > 0:\n",
    "    print(\"The number is positive.\")\n",
    "elif number < 0:\n",
    "    print(\"The number is negative.\")\n",
    "else:\n",
    "    print(\"The number is zero.\")"
   ]
  },
  {
   "cell_type": "code",
   "execution_count": 21,
   "id": "3c6ee167-59b1-48e6-a5a3-51e40fcd5ab9",
   "metadata": {},
   "outputs": [
    {
     "name": "stdin",
     "output_type": "stream",
     "text": [
      "Enter the person's age:  23\n"
     ]
    },
    {
     "name": "stdout",
     "output_type": "stream",
     "text": [
      "The person is not a teenager.\n"
     ]
    }
   ],
   "source": [
    "#Create a program to check if a person is a teenager (between 13 and 19 years old).\n",
    "age = int(input(\"Enter the person's age: \"))\n",
    "\n",
    "# Check if the person is a teenager\n",
    "if 13 <= age <= 19:\n",
    "    print(\"The person is a teenager.\")\n",
    "else:\n",
    "    print(\"The person is not a teenager.\")"
   ]
  },
  {
   "cell_type": "code",
   "execution_count": 22,
   "id": "bff8c063-b46a-48b1-a888-256afa7cd7b8",
   "metadata": {},
   "outputs": [
    {
     "name": "stdin",
     "output_type": "stream",
     "text": [
      "Enter the angle measure (in degrees):  34\n"
     ]
    },
    {
     "name": "stdout",
     "output_type": "stream",
     "text": [
      "The angle is acute.\n"
     ]
    }
   ],
   "source": [
    "#Develop a program that determines the type of angle based on its measure (acute, obtuse, or right).\n",
    "# Input the angle measure from the user\n",
    "angle = float(input(\"Enter the angle measure (in degrees): \"))\n",
    "\n",
    "# Determine the type of angle\n",
    "if 0 < angle < 90:\n",
    "    angle_type = \"acute\"\n",
    "elif angle == 90:\n",
    "    angle_type = \"right\"\n",
    "elif 90 < angle < 180:\n",
    "    angle_type = \"obtuse\"\n",
    "else:\n",
    "    angle_type = \"invalid (not a valid angle measure)\"\n",
    "\n",
    "# Display the type of angle\n",
    "if angle_type != \"invalid (not a valid angle measure)\":\n",
    "    print(f\"The angle is {angle_type}.\")\n",
    "else:\n",
    "    print(\"Invalid input. Please enter a valid angle measure.\")"
   ]
  },
  {
   "cell_type": "code",
   "execution_count": 23,
   "id": "47711860-e57c-4f36-9f11-c7e0d48ff4b2",
   "metadata": {},
   "outputs": [
    {
     "name": "stdin",
     "output_type": "stream",
     "text": [
      "Enter coefficient a:  2\n",
      "Enter coefficient b:  4\n",
      "Enter coefficient c:  5\n"
     ]
    },
    {
     "name": "stdout",
     "output_type": "stream",
     "text": [
      "The roots are complex: -1.0 + 1.224744871391589i and -1.0 - 1.224744871391589i\n"
     ]
    }
   ],
   "source": [
    "#Write a Python program to calculate the roots of a quadratic equation\n",
    "import math\n",
    "\n",
    "# Input coefficients a, b, and c from the user\n",
    "a = float(input(\"Enter coefficient a: \"))\n",
    "b = float(input(\"Enter coefficient b: \"))\n",
    "c = float(input(\"Enter coefficient c: \"))\n",
    "\n",
    "# Calculate the discriminant\n",
    "discriminant = b**2 - 4*a*c\n",
    "\n",
    "# Check if the discriminant is positive, negative, or zero\n",
    "if discriminant > 0:\n",
    "    # Two real and distinct roots\n",
    "    root1 = (-b + math.sqrt(discriminant)) / (2*a)\n",
    "    root2 = (-b - math.sqrt(discriminant)) / (2*a)\n",
    "    print(f\"The roots are real and distinct: {root1} and {root2}\")\n",
    "elif discriminant == 0:\n",
    "    # One real root (repeated)\n",
    "    root = -b / (2*a)\n",
    "    print(f\"The root is real and repeated: {root}\")\n",
    "else:\n",
    "    # Complex roots\n",
    "    real_part = -b / (2*a)\n",
    "    imaginary_part = math.sqrt(abs(discriminant)) / (2*a)\n",
    "    print(f\"The roots are complex: {real_part} + {imaginary_part}i and {real_part} - {imaginary_part}i\")"
   ]
  },
  {
   "cell_type": "code",
   "execution_count": 24,
   "id": "f378b621-5fcc-4c38-86b9-3909adb83f78",
   "metadata": {},
   "outputs": [
    {
     "name": "stdin",
     "output_type": "stream",
     "text": [
      "Enter a number (1 for Monday, 2 for Tuesday, etc.):  1\n"
     ]
    },
    {
     "name": "stdout",
     "output_type": "stream",
     "text": [
      "The day of the week is Monday.\n"
     ]
    }
   ],
   "source": [
    "#Implement a program to determine the day of the week based on a user-provided number (1 for Monday, 2 for Tuesday, etc.).\n",
    "# Input a number representing the day of the week\n",
    "day_number = int(input(\"Enter a number (1 for Monday, 2 for Tuesday, etc.): \"))\n",
    "\n",
    "# Define a list of days of the week\n",
    "days_of_week = [\"Monday\", \"Tuesday\", \"Wednesday\", \"Thursday\", \"Friday\", \"Saturday\", \"Sunday\"]\n",
    "\n",
    "# Check if the input is within a valid range\n",
    "if 1 <= day_number <= 7:\n",
    "    # Subtract 1 from the input to index the list\n",
    "    day_name = days_of_week[day_number - 1]\n",
    "    print(f\"The day of the week is {day_name}.\")\n",
    "else:\n",
    "    print(\"Invalid input. Please enter a number between 1 and 7.\")"
   ]
  },
  {
   "cell_type": "code",
   "execution_count": 25,
   "id": "9c6a334c-4d7a-4920-8e39-6a46dd4a7703",
   "metadata": {},
   "outputs": [
    {
     "name": "stdin",
     "output_type": "stream",
     "text": [
      "Enter a year:  2009\n"
     ]
    },
    {
     "name": "stdout",
     "output_type": "stream",
     "text": [
      "2009 is not a leap year.\n"
     ]
    }
   ],
   "source": [
    "#Create a program that determines if a year is a leap year and also if it is evenly divisible by 400.\n",
    "year = int(input(\"Enter a year: \"))\n",
    "\n",
    "# Check if it's a leap year\n",
    "is_leap_year = False\n",
    "if (year % 4 == 0 and year % 100 != 0) or (year % 400 == 0):\n",
    "    is_leap_year = True\n",
    "\n",
    "# Check if it's evenly divisible by 400\n",
    "is_divisible_by_400 = year % 400 == 0\n",
    "\n",
    "# Determine and display the results\n",
    "if is_leap_year:\n",
    "    if is_divisible_by_400:\n",
    "        print(f\"{year} is a leap year and evenly divisible by 400.\")\n",
    "    else:\n",
    "        print(f\"{year} is a leap year but not evenly divisible by 400.\")\n",
    "else:\n",
    "    print(f\"{year} is not a leap year.\")"
   ]
  },
  {
   "cell_type": "code",
   "execution_count": 26,
   "id": "81f7649e-791e-4688-b8eb-a7a9031efb69",
   "metadata": {},
   "outputs": [
    {
     "name": "stdin",
     "output_type": "stream",
     "text": [
      "Enter a number:  45\n"
     ]
    },
    {
     "name": "stdout",
     "output_type": "stream",
     "text": [
      "45 is not a prime number.\n"
     ]
    }
   ],
   "source": [
    "#Develop a program that checks if a given number is prime or not using nested if-else statements.\n",
    "# Input a number from the user\n",
    "num = int(input(\"Enter a number: \"))\n",
    "\n",
    "# Check if the number is less than 2 (not a prime number)\n",
    "if num < 2:\n",
    "    is_prime = False\n",
    "else:\n",
    "    # Assume the number is prime\n",
    "    is_prime = True\n",
    "\n",
    "    # Check for factors from 2 to the square root of the number\n",
    "    for i in range(2, int(num**0.5) + 1):\n",
    "        if num % i == 0:\n",
    "            # If any factor is found, the number is not prime\n",
    "            is_prime = False\n",
    "            break\n",
    "\n",
    "# Determine and display the result\n",
    "if is_prime:\n",
    "    print(f\"{num} is a prime number.\")\n",
    "else:\n",
    "    print(f\"{num} is not a prime number.\")\n"
   ]
  },
  {
   "cell_type": "code",
   "execution_count": 27,
   "id": "ea253cb8-9371-4e64-aeca-4b6daa351231",
   "metadata": {},
   "outputs": [
    {
     "name": "stdin",
     "output_type": "stream",
     "text": [
      "Enter the student's score:  78\n"
     ]
    },
    {
     "name": "stdout",
     "output_type": "stream",
     "text": [
      "The student's grade is: C\n"
     ]
    }
   ],
   "source": [
    "#Write a Python program to assign grades based on different ranges of scores using elif statements.\n",
    "score = float(input(\"Enter the student's score: \"))\n",
    "\n",
    "# Assign grades based on score ranges using elif statements\n",
    "if 90 <= score <= 100:\n",
    "    grade = \"A\"\n",
    "elif 80 <= score < 90:\n",
    "    grade = \"B\"\n",
    "elif 70 <= score < 80:\n",
    "    grade = \"C\"\n",
    "elif 60 <= score < 70:\n",
    "    grade = \"D\"\n",
    "elif 0 <= score < 60:\n",
    "    grade = \"F\"\n",
    "else:\n",
    "    grade = \"Invalid input (score out of range)\"\n",
    "\n",
    "# Display the assigned grade\n",
    "print(f\"The student's grade is: {grade}\")"
   ]
  },
  {
   "cell_type": "code",
   "execution_count": 28,
   "id": "abea1bb8-5506-405f-9029-f8f16585e68d",
   "metadata": {},
   "outputs": [
    {
     "name": "stdin",
     "output_type": "stream",
     "text": [
      "Enter the first angle (in degrees):  78\n",
      "Enter the second angle (in degrees):  78\n",
      "Enter the third angle (in degrees):  56\n"
     ]
    },
    {
     "name": "stdout",
     "output_type": "stream",
     "text": [
      "Invalid input. The angles do not form a valid triangle.\n"
     ]
    }
   ],
   "source": [
    "#Implement a program to determine the type of a triangle based on its angles.\n",
    "angle1 = float(input(\"Enter the first angle (in degrees): \"))\n",
    "angle2 = float(input(\"Enter the second angle (in degrees): \"))\n",
    "angle3 = float(input(\"Enter the third angle (in degrees): \"))\n",
    "\n",
    "# Check if the angles form a valid triangle (sum of angles = 180 degrees)\n",
    "if angle1 + angle2 + angle3 == 180:\n",
    "    # Check the type of triangle based on its angles\n",
    "    if angle1 < 90 and angle2 < 90 and angle3 < 90:\n",
    "        triangle_type = \"acute\"\n",
    "    elif angle1 == 90 or angle2 == 90 or angle3 == 90:\n",
    "        triangle_type = \"right\"\n",
    "    else:\n",
    "        triangle_type = \"obtuse\"\n",
    "\n",
    "    # Display the type of triangle\n",
    "    print(f\"The triangle is a {triangle_type} triangle.\")\n",
    "else:\n",
    "    print(\"Invalid input. The angles do not form a valid triangle.\")"
   ]
  },
  {
   "cell_type": "code",
   "execution_count": 29,
   "id": "8a3a17a7-65bd-45a4-a5a0-527d33dde51f",
   "metadata": {},
   "outputs": [
    {
     "name": "stdin",
     "output_type": "stream",
     "text": [
      "Enter the weight (in kg):  65\n",
      "Enter the height (in meters):  1.57\n"
     ]
    },
    {
     "name": "stdout",
     "output_type": "stream",
     "text": [
      "Your BMI is 26.37, and you are categorized as overweight.\n"
     ]
    }
   ],
   "source": [
    "#Develop a program to categorize a given person's BMI into underweight, normal, overweight, or obese usingelif statements.\n",
    "weight = float(input(\"Enter the weight (in kg): \"))\n",
    "height = float(input(\"Enter the height (in meters): \"))\n",
    "\n",
    "# Calculate BMI (BMI = weight / (height * height))\n",
    "bmi = weight / (height * height)\n",
    "\n",
    "# Determine the BMI category using `elif` statements\n",
    "if bmi < 18.5:\n",
    "    category = \"underweight\"\n",
    "elif 18.5 <= bmi < 24.9:\n",
    "    category = \"normal weight\"\n",
    "elif 25 <= bmi < 29.9:\n",
    "    category = \"overweight\"\n",
    "else:\n",
    "    category = \"obese\"\n",
    "\n",
    "# Display the BMI and category\n",
    "print(f\"Your BMI is {bmi:.2f}, and you are categorized as {category}.\")"
   ]
  },
  {
   "cell_type": "code",
   "execution_count": 30,
   "id": "53229986-b52e-473b-80e8-dd24333022b5",
   "metadata": {},
   "outputs": [
    {
     "name": "stdin",
     "output_type": "stream",
     "text": [
      "Enter a number:  34\n"
     ]
    },
    {
     "name": "stdout",
     "output_type": "stream",
     "text": [
      "The number is positive.\n"
     ]
    }
   ],
   "source": [
    "#Create a program that determines whether a given number is positive, negative, or zero using elifstatements.\n",
    "number = float(input(\"Enter a number: \"))\n",
    "\n",
    "# Determine if the number is positive, negative, or zero using `elif` statements\n",
    "if number > 0:\n",
    "    result = \"positive\"\n",
    "elif number < 0:\n",
    "    result = \"negative\"\n",
    "else:\n",
    "    result = \"zero\"\n",
    "\n",
    "# Display the result\n",
    "print(f\"The number is {result}.\")"
   ]
  },
  {
   "cell_type": "code",
   "execution_count": 31,
   "id": "c3c53072-7945-4b0e-b841-ae88035417b0",
   "metadata": {},
   "outputs": [
    {
     "name": "stdin",
     "output_type": "stream",
     "text": [
      "Enter a character:  23\n"
     ]
    },
    {
     "name": "stdout",
     "output_type": "stream",
     "text": [
      "The character '23' is of type: special\n"
     ]
    }
   ],
   "source": [
    "#Write a Python script to determine the type of a character (uppercase, lowercase, or special) using elifstatements.\n",
    "char = input(\"Enter a character: \")\n",
    "\n",
    "# Check the type of character using `elif` statements\n",
    "if char.isupper():\n",
    "    char_type = \"uppercase\"\n",
    "elif char.islower():\n",
    "    char_type = \"lowercase\"\n",
    "else:\n",
    "    char_type = \"special\"\n",
    "\n",
    "# Display the character type\n",
    "print(f\"The character '{char}' is of type: {char_type}\")"
   ]
  },
  {
   "cell_type": "code",
   "execution_count": 32,
   "id": "3e19feee-52a8-4429-a8d9-eafe3af0dd51",
   "metadata": {},
   "outputs": [
    {
     "name": "stdin",
     "output_type": "stream",
     "text": [
      "Enter the purchase amount:  450\n"
     ]
    },
    {
     "name": "stdout",
     "output_type": "stream",
     "text": [
      "The discounted price is: $360.00\n"
     ]
    }
   ],
   "source": [
    "#Implement a program to calculate the discounted price based on different purchase amounts using elifstatements.\n",
    "purchase_amount = float(input(\"Enter the purchase amount: \"))\n",
    "\n",
    "# Calculate the discounted price using `elif` statements\n",
    "if purchase_amount < 50:\n",
    "    discount = 0\n",
    "elif purchase_amount < 100:\n",
    "    discount = 0.1  # 10% discount\n",
    "elif purchase_amount < 500:\n",
    "    discount = 0.2  # 20% discount\n",
    "else:\n",
    "    discount = 0.25  # 25% discount\n",
    "\n",
    "# Calculate the discounted price\n",
    "discounted_price = purchase_amount * (1 - discount)\n",
    "\n",
    "# Display the discounted price\n",
    "print(f\"The discounted price is: ${discounted_price:.2f}\")\n"
   ]
  },
  {
   "cell_type": "code",
   "execution_count": 33,
   "id": "a5e2d075-db69-43dd-a634-e94563b6f0ac",
   "metadata": {},
   "outputs": [
    {
     "name": "stdin",
     "output_type": "stream",
     "text": [
      "Enter the electricity consumption in kWh:  346\n"
     ]
    },
    {
     "name": "stdout",
     "output_type": "stream",
     "text": [
      "The electricity bill is: $103.00\n"
     ]
    }
   ],
   "source": [
    "#Develop a program to calculate the electricity bill based on different consumption slabs using elifstatements.\n",
    "consumption = float(input(\"Enter the electricity consumption in kWh: \"))\n",
    "\n",
    "# Initialize variables for the electricity rates and the bill\n",
    "rate_slab1 = 0.2  # Rate for the first 100 kWh\n",
    "rate_slab2 = 0.3  # Rate for the next 200 kWh\n",
    "rate_slab3 = 0.5  # Rate for consumption above 300 kWh\n",
    "bill = 0.0\n",
    "\n",
    "# Calculate the electricity bill based on different consumption slabs using `elif` statements\n",
    "if consumption <= 100:\n",
    "    bill = consumption * rate_slab1\n",
    "elif consumption <= 300:\n",
    "    bill = (100 * rate_slab1) + ((consumption - 100) * rate_slab2)\n",
    "else:\n",
    "    bill = (100 * rate_slab1) + (200 * rate_slab2) + ((consumption - 300) * rate_slab3)\n",
    "\n",
    "# Display the electricity bill\n",
    "print(f\"The electricity bill is: ${bill:.2f}\")"
   ]
  },
  {
   "cell_type": "code",
   "execution_count": 34,
   "id": "1b403581-147e-4a50-a5e1-4c6c98efbcd9",
   "metadata": {},
   "outputs": [
    {
     "name": "stdin",
     "output_type": "stream",
     "text": [
      "Enter the first angle (in degrees):  75\n",
      "Enter the second angle (in degrees):  75\n",
      "Enter the third angle (in degrees):  85\n",
      "Enter the fourth angle (in degrees):  85\n",
      "Enter the length of the first side:  5\n",
      "Enter the length of the second side:  7\n",
      "Enter the length of the third side:  6\n",
      "Enter the length of the fourth side:  7\n"
     ]
    },
    {
     "name": "stdout",
     "output_type": "stream",
     "text": [
      "Invalid input. The angles do not form a valid quadrilateral.\n"
     ]
    }
   ],
   "source": [
    "#Create a program to determine the type of quadrilateral based on its angles and sides using elifstatements.\n",
    "angle1 = float(input(\"Enter the first angle (in degrees): \"))\n",
    "angle2 = float(input(\"Enter the second angle (in degrees): \"))\n",
    "angle3 = float(input(\"Enter the third angle (in degrees): \"))\n",
    "angle4 = float(input(\"Enter the fourth angle (in degrees): \"))\n",
    "side1 = float(input(\"Enter the length of the first side: \"))\n",
    "side2 = float(input(\"Enter the length of the second side: \"))\n",
    "side3 = float(input(\"Enter the length of the third side: \"))\n",
    "side4 = float(input(\"Enter the length of the fourth side: \"))\n",
    "\n",
    "# Check if the quadrilateral is valid (sum of angles = 360 degrees)\n",
    "if angle1 + angle2 + angle3 + angle4 == 360:\n",
    "    # Determine the type of quadrilateral based on angles and sides using `elif` statements\n",
    "    if angle1 == angle2 == angle3 == angle4 == 90:\n",
    "        if side1 == side2 == side3 == side4:\n",
    "            quadrilateral_type = \"square\"\n",
    "        elif side1 == side2 and side3 == side4:\n",
    "            quadrilateral_type = \"rectangle\"\n",
    "        else:\n",
    "            quadrilateral_type = \"quadrilateral\"\n",
    "    elif angle1 == angle3 and angle2 == angle4:\n",
    "        if side1 == side3 and side2 == side4:\n",
    "            quadrilateral_type = \"rhombus\"\n",
    "        else:\n",
    "            quadrilateral_type = \"parallelogram\"\n",
    "    elif side1 == side2 == side3 == side4:\n",
    "        quadrilateral_type = \"quadrilateral\"\n",
    "    else:\n",
    "        quadrilateral_type = \"unknown\"\n",
    "    # Display the type of quadrilateral\n",
    "    print(f\"The quadrilateral is a {quadrilateral_type}.\")\n",
    "else:\n",
    "    print(\"Invalid input. The angles do not form a valid quadrilateral.\")"
   ]
  },
  {
   "cell_type": "code",
   "execution_count": 35,
   "id": "2dc1e991-1f5d-4fc4-8de3-fc7e840f1a86",
   "metadata": {},
   "outputs": [
    {
     "name": "stdin",
     "output_type": "stream",
     "text": [
      "Enter a month (e.g., January, February, etc.):  january\n"
     ]
    },
    {
     "name": "stdout",
     "output_type": "stream",
     "text": [
      "The season for January is winter.\n"
     ]
    }
   ],
   "source": [
    "#Write a Python script to determine the season based on a user-provided month using elif statements.\n",
    "month = input(\"Enter a month (e.g., January, February, etc.): \")\n",
    "\n",
    "# Convert the month to lowercase for case-insensitive comparison\n",
    "month = month.lower()\n",
    "\n",
    "# Determine the season using `elif` statements\n",
    "if month in [\"december\", \"january\", \"february\"]:\n",
    "    season = \"winter\"\n",
    "elif month in [\"march\", \"april\", \"may\"]:\n",
    "    season = \"spring\"\n",
    "elif month in [\"june\", \"july\", \"august\"]:\n",
    "    season = \"summer\"\n",
    "elif month in [\"september\", \"october\", \"november\"]:\n",
    "    season = \"fall\"\n",
    "else:\n",
    "    season = \"unknown\"\n",
    "\n",
    "# Display the season\n",
    "if season != \"unknown\":\n",
    "    print(f\"The season for {month.capitalize()} is {season}.\")\n",
    "else:\n",
    "    print(\"Invalid input. Please enter a valid month name.\")"
   ]
  },
  {
   "cell_type": "code",
   "execution_count": null,
   "id": "c05be465-24aa-4052-bd64-9b4ff9cc0dd7",
   "metadata": {},
   "outputs": [],
   "source": [
    "#Implement a program to determine the type of a year (leap or common) and month (30 or 31 days) usingelif statements.\n"
   ]
  },
  {
   "cell_type": "code",
   "execution_count": null,
   "id": "3bbca8fe-a01a-471d-84ba-2f7d8f8951b6",
   "metadata": {},
   "outputs": [],
   "source": [
    "#Write a Python program that checks if a given number is positive, negative, or zero.\n"
   ]
  },
  {
   "cell_type": "code",
   "execution_count": null,
   "id": "07c2307e-e0e4-4a4e-99fd-c51a14302847",
   "metadata": {},
   "outputs": [],
   "source": [
    "#Create a program to determine if a person is eligible to vote based on their age.\n"
   ]
  },
  {
   "cell_type": "code",
   "execution_count": null,
   "id": "d17752fa-ae91-41d3-9511-652be1d05545",
   "metadata": {},
   "outputs": [],
   "source": [
    "#Write a program to find the maximum of two given numbers using conditional statements.\n"
   ]
  },
  {
   "cell_type": "code",
   "execution_count": null,
   "id": "3a101ba2-2fda-4836-9cd2-aaa8262c9046",
   "metadata": {},
   "outputs": [],
   "source": [
    "#Develop a program that calculates the grade of a student based on their exam score.\n"
   ]
  },
  {
   "cell_type": "code",
   "execution_count": null,
   "id": "72c18adf-0990-4263-9c7f-925dccd70e0d",
   "metadata": {},
   "outputs": [],
   "source": [
    "#Create a program that checks if a year is a leap year or not.\n"
   ]
  },
  {
   "cell_type": "code",
   "execution_count": null,
   "id": "44993b69-bdac-40df-8858-6c81e490c89b",
   "metadata": {},
   "outputs": [],
   "source": [
    "#Write a program to classify a triangle based on its sides' lengths.\n"
   ]
  },
  {
   "cell_type": "code",
   "execution_count": null,
   "id": "94be8ab0-6e96-4b50-b032-28e7bfbd1437",
   "metadata": {},
   "outputs": [],
   "source": [
    "#Build a program that determines the largest of three given numbers.\n"
   ]
  },
  {
   "cell_type": "code",
   "execution_count": null,
   "id": "1971d9d8-7619-4984-9427-bb414a028169",
   "metadata": {},
   "outputs": [],
   "source": [
    "#Develop a program that checks whether a character is a vowel or a consonant.\n"
   ]
  },
  {
   "cell_type": "code",
   "execution_count": null,
   "id": "5de68f1c-5fdc-42e5-a0ea-3da6bf0301ec",
   "metadata": {},
   "outputs": [],
   "source": [
    "#Create a program to calculate the total cost of a shopping cart based on discounts.\n"
   ]
  },
  {
   "cell_type": "code",
   "execution_count": null,
   "id": "0fd43ebc-f107-49aa-afc6-050cd808acaf",
   "metadata": {},
   "outputs": [],
   "source": [
    "#Write a program that checks if a given number is even or odd.\n"
   ]
  },
  {
   "cell_type": "code",
   "execution_count": null,
   "id": "d2ed7210-ba62-4c4b-97df-4c86003978d6",
   "metadata": {},
   "outputs": [],
   "source": [
    "#Write a program that calculates the roots of a quadratic equation .\n"
   ]
  },
  {
   "cell_type": "code",
   "execution_count": null,
   "id": "da4e48fe-8322-49fe-bbab-1768dc5dafb7",
   "metadata": {},
   "outputs": [],
   "source": [
    "#Create a program that determines the day of the week based on the day number (1-7).\n"
   ]
  },
  {
   "cell_type": "code",
   "execution_count": null,
   "id": "93dedece-eca0-406d-a3e1-3fa9a5b0bbe0",
   "metadata": {},
   "outputs": [],
   "source": [
    "#Develop a program that calculates the factorial of a given number using recursion.\n"
   ]
  },
  {
   "cell_type": "code",
   "execution_count": null,
   "id": "a84f0bf0-d952-42c5-a2dd-92b95b63040a",
   "metadata": {},
   "outputs": [],
   "source": [
    "#Write a program to find the largest among three numbers without using the `max()` function.\n"
   ]
  },
  {
   "cell_type": "code",
   "execution_count": null,
   "id": "5044bf78-0bac-41f9-acc7-91757e2b4245",
   "metadata": {},
   "outputs": [],
   "source": [
    "#Create a program that simulates a basic ATM transaction menu.\n"
   ]
  },
  {
   "cell_type": "code",
   "execution_count": null,
   "id": "7bcba779-ef22-446c-ad00-6aa9b3b00e02",
   "metadata": {},
   "outputs": [],
   "source": [
    "#Build a program that checks if a given string is a palindrome or not.\n"
   ]
  },
  {
   "cell_type": "code",
   "execution_count": null,
   "id": "dde9d53b-25c4-45c8-aae6-f18869a95f39",
   "metadata": {},
   "outputs": [],
   "source": [
    "#Write a program that calculates the average of a list of numbers, excluding the smallest and largest values.\n"
   ]
  },
  {
   "cell_type": "code",
   "execution_count": null,
   "id": "97d47bba-e71c-45a7-91b7-aceb3cc74ed7",
   "metadata": {},
   "outputs": [],
   "source": [
    "#Develop a program that converts a given temperature from Celsius to Fahrenheit.\n"
   ]
  },
  {
   "cell_type": "code",
   "execution_count": null,
   "id": "e4215816-1e20-404e-b513-e6b8e8f76a34",
   "metadata": {},
   "outputs": [],
   "source": [
    "#Create a program that simulates a basic calculator for addition, subtraction, multiplication, and division.\n"
   ]
  },
  {
   "cell_type": "code",
   "execution_count": null,
   "id": "ff2c433d-0652-4ae0-9244-ca911d8c3b6b",
   "metadata": {},
   "outputs": [],
   "source": [
    "#Write a program that determines the roots of a cubic equation using the Cardano formula.\n"
   ]
  },
  {
   "cell_type": "code",
   "execution_count": null,
   "id": "5499015d-d487-4011-8b7a-e5c688d64a49",
   "metadata": {},
   "outputs": [],
   "source": [
    "#Create a program that calculates the income tax based on the user's income and tax brackets.\n"
   ]
  },
  {
   "cell_type": "code",
   "execution_count": null,
   "id": "2373aabb-9063-4caa-a6f1-8fd1ce977914",
   "metadata": {},
   "outputs": [],
   "source": [
    "#Write a program that simulates a rock-paper-scissors game against the computer.\n"
   ]
  },
  {
   "cell_type": "code",
   "execution_count": null,
   "id": "8ade989e-00dd-48ab-addd-e8d95b71f48b",
   "metadata": {},
   "outputs": [],
   "source": [
    "#Develop a program that generates a random password based on user preferences (length, complexity).\n"
   ]
  },
  {
   "cell_type": "code",
   "execution_count": null,
   "id": "a8e6f98b-3318-496e-a987-77ef3ea82348",
   "metadata": {},
   "outputs": [],
   "source": [
    "#Create a program that implements a simple text-based adventure game with branching scenarios.\n"
   ]
  },
  {
   "cell_type": "code",
   "execution_count": null,
   "id": "ebb88f0d-69b8-4083-a39d-f43015589628",
   "metadata": {},
   "outputs": [],
   "source": [
    "#Build a program that solves a linear equation for x, considering different cases.\n"
   ]
  },
  {
   "cell_type": "code",
   "execution_count": null,
   "id": "4823a61b-6c60-434c-886f-9b4c99790397",
   "metadata": {},
   "outputs": [],
   "source": [
    "#Write a program that simulates a basic quiz game with multiple-choice questions and scoring.\n"
   ]
  },
  {
   "cell_type": "code",
   "execution_count": null,
   "id": "c5a63115-e420-4614-a9fb-5608fe298715",
   "metadata": {},
   "outputs": [],
   "source": [
    "#Develop a program that determines whether a given year is a prime number or not.\n"
   ]
  },
  {
   "cell_type": "code",
   "execution_count": null,
   "id": "e08dc995-d4be-4ec4-9e1e-fde971a45b44",
   "metadata": {},
   "outputs": [],
   "source": [
    "#Create a program that sorts three numbers in ascending order using conditional statements.\n"
   ]
  },
  {
   "cell_type": "code",
   "execution_count": null,
   "id": "22ea483b-e8a4-49c3-b1c9-abced8cefe2f",
   "metadata": {},
   "outputs": [],
   "source": [
    "#Build a program that determines the roots of a quartic equation using numerical methods.\n"
   ]
  },
  {
   "cell_type": "code",
   "execution_count": null,
   "id": "cba44514-1848-4ac9-ad6f-8c51e8fedc1a",
   "metadata": {},
   "outputs": [],
   "source": [
    "#Write a program that calculates the BMI (Body Mass Index) and provides health recommendations basedon the user's input.\n"
   ]
  },
  {
   "cell_type": "code",
   "execution_count": null,
   "id": "93f045b5-4048-4732-b5b2-072663664c19",
   "metadata": {},
   "outputs": [],
   "source": [
    "#Create a program that validates a password based on complexity rules (length, characters, etc.).\n"
   ]
  },
  {
   "cell_type": "code",
   "execution_count": null,
   "id": "e4a8e2a7-e761-4884-983c-4be5980b16bf",
   "metadata": {},
   "outputs": [],
   "source": [
    "#Develop a program that performs matrix addition and subtraction based on user input.\n"
   ]
  },
  {
   "cell_type": "code",
   "execution_count": null,
   "id": "881bb146-9c3e-492a-a275-cce0ff662a36",
   "metadata": {},
   "outputs": [],
   "source": [
    "#Write a program that calculates the greatest common divisor (GCD) of two numbers using the Euclideanalgorithm.\n"
   ]
  },
  {
   "cell_type": "code",
   "execution_count": null,
   "id": "67f768fd-8686-497e-a050-436195591525",
   "metadata": {},
   "outputs": [],
   "source": [
    "#Build a program that performs matrix multiplication using nested loops and conditional statements.\n"
   ]
  },
  {
   "cell_type": "code",
   "execution_count": null,
   "id": "86b555e8-f930-42c2-bccc-76079fdb1368",
   "metadata": {},
   "outputs": [],
   "source": [
    "#Create a program that simulates a basic text-based tic-tac-toe game against the computer.\n"
   ]
  },
  {
   "cell_type": "code",
   "execution_count": null,
   "id": "f54bbb61-c987-4fed-a235-63896e790726",
   "metadata": {},
   "outputs": [],
   "source": [
    "#Write a program that generates Fibonacci numbers up to a specified term using iterative methods.\n"
   ]
  },
  {
   "cell_type": "code",
   "execution_count": null,
   "id": "f808e067-1132-455e-a8b0-7b9aa9c12bbf",
   "metadata": {},
   "outputs": [],
   "source": [
    "#Develop a program that calculates the nth term of the Fibonacci sequence using memoization.\n"
   ]
  },
  {
   "cell_type": "code",
   "execution_count": null,
   "id": "191c7218-bba3-4ff1-9d4e-70fb85558f3c",
   "metadata": {},
   "outputs": [],
   "source": [
    "#Create a program that generates a calendar for a given month and year using conditional statements.\n"
   ]
  },
  {
   "cell_type": "code",
   "execution_count": null,
   "id": "ffe8a5ab-470a-4d97-be4d-4d3443e98615",
   "metadata": {},
   "outputs": [],
   "source": [
    "#Build a program that simulates a basic text-based blackjack game against the computer.\n"
   ]
  },
  {
   "cell_type": "code",
   "execution_count": null,
   "id": "41191f55-ba2a-4cb6-98f5-33ec62af6222",
   "metadata": {},
   "outputs": [],
   "source": [
    "#Write a program that generates the prime factors of a given number using trial division.\n",
    "\n"
   ]
  }
 ],
 "metadata": {
  "kernelspec": {
   "display_name": "Python 3 (ipykernel)",
   "language": "python",
   "name": "python3"
  },
  "language_info": {
   "codemirror_mode": {
    "name": "ipython",
    "version": 3
   },
   "file_extension": ".py",
   "mimetype": "text/x-python",
   "name": "python",
   "nbconvert_exporter": "python",
   "pygments_lexer": "ipython3",
   "version": "3.10.8"
  }
 },
 "nbformat": 4,
 "nbformat_minor": 5
}
