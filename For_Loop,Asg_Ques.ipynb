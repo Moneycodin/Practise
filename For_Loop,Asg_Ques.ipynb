{
 "cells": [
  {
   "cell_type": "markdown",
   "id": "47203d6a-dac9-4761-923c-4c1038698809",
   "metadata": {},
   "source": [
    "#Basic level"
   ]
  },
  {
   "cell_type": "markdown",
   "id": "4e36458b-9f46-4c6c-a926-75bf789ac559",
   "metadata": {},
   "source": [
    "#1. Write a Python program to print the numbers from 1 to 10 using a `for` loop."
   ]
  },
  {
   "cell_type": "code",
   "execution_count": 1,
   "id": "be9cfd3c-d7d8-41fd-83ba-56d355e3c7b7",
   "metadata": {},
   "outputs": [
    {
     "name": "stdout",
     "output_type": "stream",
     "text": [
      "1\n",
      "2\n",
      "3\n",
      "4\n",
      "5\n",
      "6\n",
      "7\n",
      "8\n",
      "9\n",
      "10\n"
     ]
    }
   ],
   "source": [
    "for i in range(1,11,1):\n",
    "    print(i)"
   ]
  },
  {
   "cell_type": "code",
   "execution_count": 2,
   "id": "a7f7764c-1b63-4028-955a-20385d1f08fb",
   "metadata": {},
   "outputs": [
    {
     "name": "stdout",
     "output_type": "stream",
     "text": [
      "sum of list is: 15\n"
     ]
    }
   ],
   "source": [
    "#Create a program that calculates the sum of all numbers in a list using a `for` loop.\n",
    "total=0\n",
    "list1=[1,2,3,4,5]\n",
    "for number in list1:\n",
    "    total+=number\n",
    "print(\"sum of list is:\",total)"
   ]
  },
  {
   "cell_type": "code",
   "execution_count": 3,
   "id": "aa6453d9-9cec-4311-a096-348f8f0742cf",
   "metadata": {},
   "outputs": [
    {
     "name": "stdout",
     "output_type": "stream",
     "text": [
      "teemnaM"
     ]
    }
   ],
   "source": [
    "#3. Write a program to print the characters of a string in reverse order using a `for` loop.\n",
    "string1=\"Manmeet\"\n",
    "for i in reversed(string1):\n",
    "    print(i,end=\"\")"
   ]
  },
  {
   "cell_type": "code",
   "execution_count": 7,
   "id": "5416b875-5f15-44cd-98b9-fc6f8d542fd4",
   "metadata": {},
   "outputs": [
    {
     "name": "stdin",
     "output_type": "stream",
     "text": [
      "enter a number: 6\n"
     ]
    },
    {
     "name": "stdout",
     "output_type": "stream",
     "text": [
      "Factorial of number is 720\n"
     ]
    }
   ],
   "source": [
    "#4.Develop a program that finds the factorial of a given number using a `for` loop.\n",
    "\n",
    "number=int(input(\"enter a number:\"))\n",
    "fact=1\n",
    "for i in range(1, number+1):\n",
    "    fact *=i\n",
    "print(\"Factorial of number is\", fact)\n",
    "           "
   ]
  },
  {
   "cell_type": "code",
   "execution_count": 10,
   "id": "19905898-74aa-422c-a8e4-d00bd685e721",
   "metadata": {},
   "outputs": [
    {
     "name": "stdout",
     "output_type": "stream",
     "text": [
      "multiplication of number is: 3\n",
      "multiplication of number is: 6\n",
      "multiplication of number is: 9\n",
      "multiplication of number is: 12\n",
      "multiplication of number is: 15\n",
      "multiplication of number is: 18\n",
      "multiplication of number is: 21\n",
      "multiplication of number is: 24\n",
      "multiplication of number is: 27\n"
     ]
    }
   ],
   "source": [
    "#Create a program to print the multiplication table of a given number using a `for` loop.\n",
    "number=3\n",
    "for i in range(1,10,1):\n",
    "    print(\"multiplication of number is:\", number*i)\n"
   ]
  },
  {
   "cell_type": "code",
   "execution_count": 11,
   "id": "ab691183-e196-483a-b5e0-2ffb28693ce0",
   "metadata": {},
   "outputs": [
    {
     "name": "stdout",
     "output_type": "stream",
     "text": [
      "number of even numbers in list are: 5\n",
      "number of odd number in list are: 5\n"
     ]
    }
   ],
   "source": [
    "#Write a program that counts the number of even and odd numbers in a list using a `for` loop.\n",
    "even=0\n",
    "odd=0\n",
    "list=[1,2,3,4,5,6,7,8,9,10]\n",
    "for number in list:\n",
    "    if(number%2)==0:\n",
    "        even+=1\n",
    "    else:\n",
    "        odd+=1\n",
    "print(\"number of even numbers in list are:\", even)\n",
    "print(\"number of odd number in list are:\", odd)"
   ]
  },
  {
   "cell_type": "code",
   "execution_count": 14,
   "id": "f9ab5e25-2239-4c1f-a062-c37be01bb710",
   "metadata": {},
   "outputs": [
    {
     "name": "stdout",
     "output_type": "stream",
     "text": [
      "squares of number is: 1\n",
      "squares of number is: 4\n",
      "squares of number is: 9\n",
      "squares of number is: 16\n",
      "squares of number is: 25\n"
     ]
    }
   ],
   "source": [
    "#Develop a program that prints the squares of numbers from 1 to 5 using a `for` loop\n",
    "numbers=[1,2,3,4,5]\n",
    "squares=0\n",
    "for i in numbers:\n",
    "    squares=i**2\n",
    "    print(\"squares of number is:\", squares)\n",
    "    "
   ]
  },
  {
   "cell_type": "code",
   "execution_count": 17,
   "id": "639049fa-3abb-4dfc-8fa2-78a31aa6b9d2",
   "metadata": {},
   "outputs": [
    {
     "name": "stdout",
     "output_type": "stream",
     "text": [
      "length of string is: 7\n"
     ]
    }
   ],
   "source": [
    "#Create a program to find the length of a string without using the `len()` function.\n",
    "string1=\"Manmeet\"\n",
    "count=0\n",
    "for i in string1:\n",
    "    count+=1\n",
    "print(\"length of string is:\", count)"
   ]
  },
  {
   "cell_type": "code",
   "execution_count": 19,
   "id": "ab82d130-b41a-4d77-a689-c7ddf9cd9ae0",
   "metadata": {},
   "outputs": [
    {
     "name": "stdout",
     "output_type": "stream",
     "text": [
      "average of numbers is: 3.0\n"
     ]
    }
   ],
   "source": [
    "#Write a program that calculates the average of a list of numbers using a `for` loop.\n",
    "list1=[1,2,3,3,4,5]\n",
    "sum=0\n",
    "average=0\n",
    "for i in list1:\n",
    "    sum+=i\n",
    "    average=sum/len(list1)\n",
    "print(\"average of numbers is:\", average)"
   ]
  },
  {
   "cell_type": "code",
   "execution_count": 20,
   "id": "2380fd55-392c-4719-8155-79f5940ae16a",
   "metadata": {},
   "outputs": [
    {
     "name": "stdin",
     "output_type": "stream",
     "text": [
      "eneter the number of fibonacci numbers to generate 5\n"
     ]
    },
    {
     "name": "stdout",
     "output_type": "stream",
     "text": [
      "the first fibonacci numbers are:\n",
      "0 1 1 2 3 "
     ]
    }
   ],
   "source": [
    "#Develop a program that prints the first `n` Fibonacci numbers using a `for` loop.\n",
    "number=int(input(\"eneter the number of fibonacci numbers to generate\"))\n",
    "fib=[0,1]\n",
    "for i in range(2,number):\n",
    "    next_fib=fib[-1]+fib[-2]\n",
    "    fib.append(next_fib)\n",
    "print(\"the first fibonacci numbers are:\")\n",
    "for num in fib:\n",
    "    print(num,end=\" \")\n",
    "    "
   ]
  },
  {
   "cell_type": "code",
   "execution_count": 30,
   "id": "5406b220-794b-462a-8247-b4eb9abd7273",
   "metadata": {},
   "outputs": [
    {
     "name": "stdout",
     "output_type": "stream",
     "text": [
      "This list does not contain duplicates\n"
     ]
    }
   ],
   "source": [
    "#Write a program to check if a given list contains any duplicates using a `for` loop.\n",
    "list1=[1,2,3,4,5]\n",
    "unique_set=set(list1)\n",
    "if len(unique_set)!=len(list1):\n",
    "    print(\"This list contains  duplicates\")\n",
    "else:\n",
    "    print(\"This list does not contain duplicates\")\n",
    "    "
   ]
  },
  {
   "cell_type": "code",
   "execution_count": 2,
   "id": "a74f3677-485e-441f-8617-f262dc81ae7a",
   "metadata": {},
   "outputs": [
    {
     "name": "stdin",
     "output_type": "stream",
     "text": [
      "Enter the string number:  34\n",
      "Enter the ending number: 56\n"
     ]
    },
    {
     "name": "stdout",
     "output_type": "stream",
     "text": [
      "Prime numbers in the range 34 to 56 are:\n",
      "37\n",
      "41\n",
      "43\n",
      "47\n",
      "53\n"
     ]
    }
   ],
   "source": [
    "#Create a program that prints the prime numbers in a given range using a `for` loop.\n",
    "def is_prime(number):\n",
    "    if number<=1:\n",
    "        return False\n",
    "    for i in range(2, int(number**0.5)+1):\n",
    "        if number%i==0:\n",
    "            return False\n",
    "    return True\n",
    "def print_prime_numbers(start,end):\n",
    "    for num in range(start, end+1):\n",
    "        if is_prime(num):\n",
    "            print(num)\n",
    "start=int(input(\"Enter the string number: \"))\n",
    "end=int(input(\"Enter the ending number:\"))\n",
    "\n",
    "print(\"Prime numbers in the range\", start,\"to\", end,\"are:\")\n",
    "print_prime_numbers(start,end)"
   ]
  },
  {
   "cell_type": "code",
   "execution_count": 10,
   "id": "a69d59fe-942e-4e64-b381-7160c80fa453",
   "metadata": {},
   "outputs": [
    {
     "name": "stdin",
     "output_type": "stream",
     "text": [
      "enter the string manmeet\n"
     ]
    },
    {
     "name": "stdout",
     "output_type": "stream",
     "text": [
      "the number of vowels in the string is 3\n"
     ]
    }
   ],
   "source": [
    "#Develop a program that counts the number of vowels in a string using a `for` loop.\n",
    "string1=input(\"enter the string\")\n",
    "vowel=['a','e','i','o','u','A','E','I','O','U']\n",
    "count=0\n",
    "for char in string1:\n",
    "    if char in vowel:\n",
    "        count+=1\n",
    "print(\"the number of vowels in the string is\", count)"
   ]
  },
  {
   "cell_type": "code",
   "execution_count": 13,
   "id": "2ce902b4-26a4-42be-8d37-a360b6ca1ed4",
   "metadata": {},
   "outputs": [
    {
     "name": "stdout",
     "output_type": "stream",
     "text": [
      "maximum element in 2D list is: 9\n"
     ]
    }
   ],
   "source": [
    "#Write a program to find the maximum element in a 2D list using a nested `for` loop.\n",
    "matrix=[\n",
    "    [1,2,3],\n",
    "    [4,5,6],\n",
    "    [7,8,9]\n",
    "]\n",
    "flattened_matrix=[element for row in matrix for element in row]\n",
    "max_element=max(flattened_matrix)\n",
    "print(\"maximum element in 2D list is:\", max_element)"
   ]
  },
  {
   "cell_type": "code",
   "execution_count": 15,
   "id": "f0b9e915-8231-4340-840f-efebafd730b1",
   "metadata": {},
   "outputs": [
    {
     "name": "stdout",
     "output_type": "stream",
     "text": [
      "final list is: [1, 3, 4, 5, 6, 3, 4, 5, 4, 8]\n"
     ]
    }
   ],
   "source": [
    "#Create a program that removes all occurrences of a specific element from a list using a `for` loop.\n",
    "\n",
    "list1=[1,2,3,4,5,6,2,3,4,5,2,4,8]\n",
    "element_to_remove=2\n",
    "\n",
    "filtered_list=[]\n",
    "for item in list1:\n",
    "    if item!=element_to_remove:\n",
    "        filtered_list.append(item)\n",
    "        \n",
    "list1=filtered_list\n",
    "print(\"final list is:\", filtered_list)\n"
   ]
  },
  {
   "cell_type": "code",
   "execution_count": 18,
   "id": "9ed92727-1c1c-4899-b5c5-576829018b32",
   "metadata": {},
   "outputs": [
    {
     "name": "stdout",
     "output_type": "stream",
     "text": [
      "Multiplication table for 1:\n",
      "1x1=1\n",
      "1x2=2\n",
      "1x3=3\n",
      "1x4=4\n",
      "1x5=5\n",
      "1x6=6\n",
      "1x7=7\n",
      "1x8=8\n",
      "1x9=9\n",
      "1x10=10\n",
      "Multiplication table for 2:\n",
      "2x1=2\n",
      "2x2=4\n",
      "2x3=6\n",
      "2x4=8\n",
      "2x5=10\n",
      "2x6=12\n",
      "2x7=14\n",
      "2x8=16\n",
      "2x9=18\n",
      "2x10=20\n",
      "Multiplication table for 3:\n",
      "3x1=3\n",
      "3x2=6\n",
      "3x3=9\n",
      "3x4=12\n",
      "3x5=15\n",
      "3x6=18\n",
      "3x7=21\n",
      "3x8=24\n",
      "3x9=27\n",
      "3x10=30\n",
      "Multiplication table for 4:\n",
      "4x1=4\n",
      "4x2=8\n",
      "4x3=12\n",
      "4x4=16\n",
      "4x5=20\n",
      "4x6=24\n",
      "4x7=28\n",
      "4x8=32\n",
      "4x9=36\n",
      "4x10=40\n",
      "Multiplication table for 5:\n",
      "5x1=5\n",
      "5x2=10\n",
      "5x3=15\n",
      "5x4=20\n",
      "5x5=25\n",
      "5x6=30\n",
      "5x7=35\n",
      "5x8=40\n",
      "5x9=45\n",
      "5x10=50\n"
     ]
    }
   ],
   "source": [
    "#Develop a program that generates a multiplication table for numbers from 1 to 5 using a nested `for` loop.\n",
    "start=1\n",
    "end=5\n",
    "for i in range(start,end+1):\n",
    "    print(f\"Multiplication table for {i}:\")\n",
    "    for j in range(1,11):\n",
    "        product=i*j\n",
    "        print(f\"{i}x{j}={product}\")\n",
    "       "
   ]
  },
  {
   "cell_type": "code",
   "execution_count": 21,
   "id": "447a3a82-7416-44ac-becb-136b40ae13bc",
   "metadata": {},
   "outputs": [
    {
     "name": "stdout",
     "output_type": "stream",
     "text": [
      "35oF is equal to 1.67oC\n",
      "46oF is equal to 7.78oC\n",
      "58oF is equal to 14.44oC\n",
      "300oF is equal to 148.89oC\n"
     ]
    }
   ],
   "source": [
    "#Write a program that converts a list of Fahrenheit temperatures to Celsius using a `for` loop.\n",
    "fahrenheit_temp=[35,46,58,300]\n",
    "celsius_temp=[]\n",
    "for fahrenheit in fahrenheit_temp:\n",
    "    celsius=(fahrenheit-32)*5/9\n",
    "    celsius_temp.append(celsius)\n",
    "    \n",
    "for i in range(len(fahrenheit_temp)):\n",
    "    print(f\"{fahrenheit_temp[i]}oF is equal to {celsius_temp[i]:.2f}oC\")"
   ]
  },
  {
   "cell_type": "code",
   "execution_count": 29,
   "id": "3fa693c1-c39e-4991-9323-7e26faa7727b",
   "metadata": {},
   "outputs": [
    {
     "name": "stdout",
     "output_type": "stream",
     "text": [
      "[2] are the common elements between the two lists\n",
      "[4] are the common elements between the two lists\n",
      "[5] are the common elements between the two lists\n",
      "[7] are the common elements between the two lists\n"
     ]
    }
   ],
   "source": [
    "#Create a program to print the common elements from two lists using a `for` loop.\n",
    "list1={1,2,3,4,5,6,7}\n",
    "list2={4,5,2,7,9,8}\n",
    "for i in list1:\n",
    "    for j in list2:\n",
    "        if list[i]==list[j]:\n",
    "             print(f\"{[i]} are the common elements between the two lists\")"
   ]
  },
  {
   "cell_type": "code",
   "execution_count": 31,
   "id": "da7645e0-0740-45ce-bb99-cd988fccacd9",
   "metadata": {},
   "outputs": [
    {
     "name": "stdout",
     "output_type": "stream",
     "text": [
      "* \n",
      "* * \n",
      "* * * \n",
      "* * * * \n",
      "* * * * * \n"
     ]
    }
   ],
   "source": [
    "#Develop a program that prints the pattern of right-angled triangles using a `for` loop. Use ‘*’ to draw the pattern\n",
    "length=5\n",
    "for i in range(1, length+1):\n",
    "    for j in range(i):\n",
    "        print('*',end=' ')\n",
    "    print()"
   ]
  },
  {
   "cell_type": "code",
   "execution_count": 41,
   "id": "1ed740e0-8df8-4788-9b4e-cdaa3f863b26",
   "metadata": {},
   "outputs": [
    {
     "name": "stdin",
     "output_type": "stream",
     "text": [
      "enter the first number 4\n",
      "enter the second number 8\n"
     ]
    },
    {
     "name": "stdout",
     "output_type": "stream",
     "text": [
      "the greatest of two numbers is 4\n"
     ]
    }
   ],
   "source": [
    "#Write a program to find the greatest common divisor (GCD) of two numbers using a `for` loop.\n",
    "\n",
    "num1=int(input(\"enter the first number\"))\n",
    "         \n",
    "num2=int(input(\"enter the second number\"))\n",
    "while num1!=num2:\n",
    "         if num1>num2:\n",
    "             num1=num1-num2\n",
    "         else:\n",
    "             num2=num2-num1\n",
    "gcd=num1\n",
    "         \n",
    "print(f\"the greatest of two numbers is {num1}\")"
   ]
  },
  {
   "cell_type": "code",
   "execution_count": 42,
   "id": "f0324669-1e1e-49c0-b180-da04bc4714ce",
   "metadata": {},
   "outputs": [
    {
     "name": "stdout",
     "output_type": "stream",
     "text": [
      "Number: 200, Sum of Digits: 2\n",
      "Number: 300, Sum of Digits: 3\n",
      "Number: 400, Sum of Digits: 4\n",
      "Number: 500, Sum of Digits: 5\n"
     ]
    }
   ],
   "source": [
    "#Create a program that calculates the sum of the digits of numbers in a list using a list comprehension\n",
    "numbers=[200,300,400,500]\n",
    "# Define a lambda function to calculate the sum of digits for a single number\n",
    "sum_of_digits = lambda num: sum(int(digit) for digit in str(num))\n",
    "\n",
    "# Use a list comprehension to calculate the sum of digits for each number\n",
    "sums = [sum_of_digits(num) for num in numbers]\n",
    "\n",
    "# Print the original numbers and their respective sums of digits\n",
    "for i in range(len(numbers)):\n",
    "    print(f\"Number: {numbers[i]}, Sum of Digits: {sums[i]}\")"
   ]
  },
  {
   "cell_type": "code",
   "execution_count": 46,
   "id": "0534a0ef-acd5-42ff-a2bc-6617ead4874d",
   "metadata": {},
   "outputs": [
    {
     "name": "stdin",
     "output_type": "stream",
     "text": [
      "enter the number 18\n"
     ]
    },
    {
     "name": "stdout",
     "output_type": "stream",
     "text": [
      "18 has no prime factors other than 1 and itself\n"
     ]
    }
   ],
   "source": [
    "#Write a program to find the prime factors of a given number using a `for` loop and list comprehension.\n",
    "def prime_factors(n):\n",
    "    factors=[i for i in range(2,n+1) if n%i==0]\n",
    "    prime_factors=[]\n",
    "    for factor in factors:\n",
    "        is_prime=True\n",
    "        for i in range(2, int(factor**0.5)+1):\n",
    "            if factor%i==0:\n",
    "                is_prime=False\n",
    "                break\n",
    "            if is_prime:\n",
    "                prime_factors.append(factor)\n",
    "        return prime_factors\n",
    "    \n",
    "number=int(input(\"enter the number\"))\n",
    "result=prime_factors(number)\n",
    "if result:\n",
    "    print(f\"The prime factors of {number} are: {result}\")\n",
    "else:\n",
    "    print(f\"{number} has no prime factors other than 1 and itself\")"
   ]
  },
  {
   "cell_type": "code",
   "execution_count": 48,
   "id": "cb31fb15-f436-41af-a9bb-15e73d5a243b",
   "metadata": {},
   "outputs": [
    {
     "name": "stdout",
     "output_type": "stream",
     "text": [
      "original list: [1, 2, 3, 4, 5, 2, 3, 4, 6, 7]\n",
      "unique list: [1, 2, 3, 4, 5, 6, 7]\n"
     ]
    }
   ],
   "source": [
    "#Develop a program that extracts unique elements from a list and stores them in a new list using a list comprehension\n",
    "original_list=[1,2,3,4,5,2,3,4,6,7]\n",
    "unique_list=[x for i, x in enumerate(original_list) if x not in original_list[:i]]\n",
    "print(\"original list:\", original_list)\n",
    "print(\"unique list:\", unique_list)"
   ]
  },
  {
   "cell_type": "code",
   "execution_count": 54,
   "id": "52fa0977-5ab8-4e18-9f43-7186c7438169",
   "metadata": {},
   "outputs": [
    {
     "name": "stdin",
     "output_type": "stream",
     "text": [
      "enter the upper limit:  300\n"
     ]
    },
    {
     "name": "stdout",
     "output_type": "stream",
     "text": [
      "Palindromic numbers up to the limit: [1, 2, 3, 4, 5, 6, 7, 8, 9, 11, 22, 33, 44, 55, 66, 77, 88, 99, 101, 111, 121, 131, 141, 151, 161, 171, 181, 191, 202, 212, 222, 232, 242, 252, 262, 272, 282, 292]\n"
     ]
    }
   ],
   "source": [
    "#Create a program that generates a list of all palindromic numbers up to a specified limit using a list comprehension.\n",
    "def is_palindrome(number):\n",
    "    return str(number)==str(number)[::-1]\n",
    "limit=int(input(\"enter the upper limit: \"))\n",
    "palindromic_number=[num for num in range(1, limit+1) if is_palindrome(num)]\n",
    "print(\"Palindromic numbers up to the limit:\", palindromic_number)"
   ]
  },
  {
   "cell_type": "code",
   "execution_count": 55,
   "id": "4f4ef649-516b-4557-958f-e8b34220c7be",
   "metadata": {},
   "outputs": [
    {
     "name": "stdout",
     "output_type": "stream",
     "text": [
      "original nested list: [[1, 2, 3], [4, 5], [6, 7, 8, 9]]\n",
      "flattened list: [1, 2, 3, 4, 5, 6, 7, 8, 9]\n"
     ]
    }
   ],
   "source": [
    "#Write a program to flatten a nested list using list comprehension\n",
    "def flatten_list(nested_list):\n",
    "    return [item for sublist in nested_list for item in sublist]\n",
    "nested_list=[[1,2,3],[4,5],[6,7,8,9]]\n",
    "flattened_list=flatten_list(nested_list)\n",
    "print(\"original nested list:\", nested_list)\n",
    "print(\"flattened list:\", flattened_list)"
   ]
  },
  {
   "cell_type": "code",
   "execution_count": 3,
   "id": "44e6c302-27fa-4631-91f9-a2e418b20c6a",
   "metadata": {},
   "outputs": [
    {
     "name": "stdout",
     "output_type": "stream",
     "text": [
      "list of even numbers: [2, 4, 6, 8, 10]\n",
      "sum of even numbers: 30\n",
      "list of odd numbers: [1, 3, 5, 7, 9]\n",
      "sum of odd numbers: 25\n"
     ]
    }
   ],
   "source": [
    "#Develop a program that computes the sum of even and odd numbers in a list separately using list comprehension\n",
    "numbers=[1,2,3,4,5,6,7,8,9,10]\n",
    "even_numbers=[x for x in numbers if x%2==0]\n",
    "odd_numbers=[x for x in numbers if x%2!=0]\n",
    "sum_even=sum(even_numbers)\n",
    "sum_odd=sum(odd_numbers)\n",
    "print(\"list of even numbers:\", even_numbers)\n",
    "print(\"sum of even numbers:\", sum_even)\n",
    "print(\"list of odd numbers:\", odd_numbers)\n",
    "print(\"sum of odd numbers:\", sum_odd)"
   ]
  },
  {
   "cell_type": "code",
   "execution_count": 4,
   "id": "4a1b26e8-68be-4980-81fa-3ef131dfd641",
   "metadata": {},
   "outputs": [
    {
     "name": "stdout",
     "output_type": "stream",
     "text": [
      "list of squares of odd numbers between 1 and 10: [1, 9, 25, 49, 81]\n"
     ]
    }
   ],
   "source": [
    "#Create a program that generates a list of squares of odd numbers between 1 and 10 using list comprehension.\n",
    "odd_squares=[x**2 for x in range(1,11) if x%2!=0]\n",
    "print(\"list of squares of odd numbers between 1 and 10:\", odd_squares)"
   ]
  },
  {
   "cell_type": "code",
   "execution_count": 5,
   "id": "73c46554-59ea-484c-afde-2cbe6f0cd523",
   "metadata": {},
   "outputs": [
    {
     "name": "stdout",
     "output_type": "stream",
     "text": [
      "{'name': 'Manmeet', 'age': 25, 'city': 'Canada'}\n"
     ]
    }
   ],
   "source": [
    "#Write a program that combines two lists into a dictionary using list comprehension.\n",
    "keys=[\"name\",\"age\",\"city\"]\n",
    "values=[\"Manmeet\",25,\"Canada\"]\n",
    "result_dict={keys[i]:values[i] for i in range(len(keys))}\n",
    "print(result_dict)"
   ]
  },
  {
   "cell_type": "code",
   "execution_count": 6,
   "id": "7914bd39-df98-469e-af60-1d0110667c12",
   "metadata": {},
   "outputs": [
    {
     "name": "stdout",
     "output_type": "stream",
     "text": [
      "Vowels in the string: ['e', 'o', 'o']\n"
     ]
    }
   ],
   "source": [
    "#Develop a program that extracts the vowels from a string and stores them in a list using list comprehension\n",
    "input_string=\"Hello, World!\"\n",
    "vowels=[char for char in input_string if char.lower() in 'aeiou']\n",
    "print(\"Vowels in the string:\", vowels)\n"
   ]
  },
  {
   "cell_type": "code",
   "execution_count": 7,
   "id": "1df4bc8a-8091-4b3a-96a5-6b2bb0b54ad0",
   "metadata": {},
   "outputs": [
    {
     "name": "stdout",
     "output_type": "stream",
     "text": [
      "List of numeric strings: ['123', '456', '789', '123']\n"
     ]
    }
   ],
   "source": [
    "#Create a program that removes all non-numeric characters from a list of strings using list comprehension\n",
    "string_list = [\"abc123\", \"456xyz\", \"789\", \"hello123world\"]\n",
    "\n",
    "# Using list comprehension to remove non-numeric characters\n",
    "numeric_strings = [''.join(char for char in string if char.isnumeric()) for string in string_list]\n",
    "\n",
    "# Displaying the list of numeric strings\n",
    "print(\"List of numeric strings:\", numeric_strings)"
   ]
  },
  {
   "cell_type": "code",
   "execution_count": 8,
   "id": "c687aefb-4ac7-40bf-9485-54f78b3b42fe",
   "metadata": {},
   "outputs": [
    {
     "name": "stdout",
     "output_type": "stream",
     "text": [
      "Prime numbers upto 50 are: [2, 3, 5, 7, 11, 13, 17, 19, 23, 29, 31, 37, 41, 43, 47]\n"
     ]
    }
   ],
   "source": [
    "#Write a program to generate a list of prime numbers using the Sieve of Eratosthenes algorithm and list comprehension.\n",
    "##The Sieve of Eratosthenes is a classical algorithm for finding all prime numbers up to a given limit. You can create a Python program to generate a list of prime numbers using the Sieve of Eratosthenes algorithm and list comprehension.\n",
    "def is_prime(n):\n",
    "    if n<=1:\n",
    "        return False\n",
    "    if n==2:\n",
    "        return True\n",
    "    if n%2==0:\n",
    "        return False\n",
    "    for i in range(3, int(n**0.5)+1,2):\n",
    "        if n%i==0:\n",
    "            return False\n",
    "    return True\n",
    "\n",
    "limit=50\n",
    "prime_list=[num for num in range(2, limit+1) if is_prime(num)]\n",
    "\n",
    "print(\"Prime numbers upto\", limit,\"are:\", prime_list)\n"
   ]
  },
  {
   "cell_type": "code",
   "execution_count": 9,
   "id": "880bd40b-c239-48c0-bb1c-2899661a0d87",
   "metadata": {},
   "outputs": [
    {
     "name": "stdout",
     "output_type": "stream",
     "text": [
      "Pythagorean triplets up to 50 are: [(3, 4, 5), (5, 12, 13), (6, 8, 10), (7, 24, 25), (8, 15, 17), (9, 12, 15), (9, 40, 41), (10, 24, 26), (12, 16, 20), (12, 35, 37), (14, 48, 50), (15, 20, 25), (15, 36, 39), (16, 30, 34), (18, 24, 30), (20, 21, 29), (21, 28, 35), (24, 32, 40), (27, 36, 45), (30, 40, 50)]\n"
     ]
    }
   ],
   "source": [
    "#Create a program that generates a list of all Pythagorean triplets up to a specified limit using list comprehension.\n",
    "limit=50\n",
    "triplets=[(a,b,c) for a in range(1, limit+1)\n",
    "                  for b in range(a, limit+1)\n",
    "                  for c in range(b, limit+1)\n",
    "                  if a**2+b**2==c**2]\n",
    "print(\"Pythagorean triplets up to\", limit, \"are:\", triplets)\n"
   ]
  },
  {
   "cell_type": "code",
   "execution_count": 10,
   "id": "9dadf898-3d67-4dca-81ab-b7c7e9e4ba0c",
   "metadata": {},
   "outputs": [
    {
     "name": "stdout",
     "output_type": "stream",
     "text": [
      "All possible combinations of lists:\n",
      "(1, 'A')\n",
      "(1, 'B')\n",
      "(1, 'C')\n",
      "(2, 'A')\n",
      "(2, 'B')\n",
      "(2, 'C')\n",
      "(3, 'A')\n",
      "(3, 'B')\n",
      "(3, 'C')\n"
     ]
    }
   ],
   "source": [
    "#Develop a program that generated a list of all possible combinattions of two lists using list comprehension\n",
    "list1=[1,2,3]\n",
    "list2=['A', 'B', 'C']\n",
    "combinations=[(x,y) for x in list1 for y in list2]\n",
    "print(\"All possible combinations of lists:\")\n",
    "for combination in combinations:\n",
    "    print(combination)"
   ]
  },
  {
   "cell_type": "code",
   "execution_count": 1,
   "id": "55ea1708-291c-4fb3-847a-2e47e52f6b3c",
   "metadata": {},
   "outputs": [
    {
     "name": "stdout",
     "output_type": "stream",
     "text": [
      "Mean:3.875\n",
      "Median:3.0\n",
      "Mode:[3]\n"
     ]
    }
   ],
   "source": [
    "#Write a program that calculates the mean, median, and mode of a list of numbers using list comprehension\n",
    "numbers=[1,2,3,4,5,6,7,8,9,1,2,3,1,3,4,3]\n",
    "mean=sum(numbers)/len(numbers)\n",
    "sorted_numbers=sorted(numbers)\n",
    "n=len(sorted_numbers)\n",
    "median=(sorted_numbers[n//2]+sorted_numbers[(n-1)//2])/2 if n%2 ==0 else sorted_numbers[n//2]\n",
    "\n",
    "count_dict={num:numbers.count(num) for num in set(numbers)}\n",
    "mode=[key for key, value in count_dict.items() if value==max(count_dict.values())]\n",
    "print(f\"Mean:{mean}\")\n",
    "print(f\"Median:{median}\")\n",
    "print(f\"Mode:{mode}\")"
   ]
  },
  {
   "cell_type": "code",
   "execution_count": 3,
   "id": "88b64fdc-08e2-4c01-b676-12ef5c1a2fb2",
   "metadata": {},
   "outputs": [
    {
     "name": "stdin",
     "output_type": "stream",
     "text": [
      "Enter the number of rows for Pascal's triangle: 6\n"
     ]
    },
    {
     "name": "stdout",
     "output_type": "stream",
     "text": [
      "1\n",
      "1 1\n",
      "1 2 1\n",
      "1 3 3 1\n",
      "1 4 6 4 1\n",
      "1 5 10 10 5 1\n"
     ]
    }
   ],
   "source": [
    "#create a program that generates Pascal's triangle up to a specified number of rows using list comprehension\n",
    "def generate_pascals_triangle(num_rows):\n",
    "    if num_rows<=0:\n",
    "        return[]\n",
    "    \n",
    "    triangle=[[1]]\n",
    "    \n",
    "    while len(triangle)<num_rows:\n",
    "        previous_row=triangle[-1]\n",
    "        new_row=[1]+[previous_row[i]+previous_row[i+1] for i in range(len(previous_row)-1)] +[1]\n",
    "        triangle.append(new_row)\n",
    "        \n",
    "    return triangle\n",
    "def print_pascals_triangle(triangle):\n",
    "    for row in triangle:\n",
    "        print(\" \".join(map(str, row)))\n",
    "        \n",
    "num_rows=int(input(\"Enter the number of rows for Pascal's triangle:\"))\n",
    "\n",
    "pascals_triangle = generate_pascals_triangle(num_rows)\n",
    "print_pascals_triangle(pascals_triangle)\n",
    "        "
   ]
  },
  {
   "cell_type": "code",
   "execution_count": 5,
   "id": "3febe5af-34e9-4605-97e8-b7033eb42dd8",
   "metadata": {},
   "outputs": [
    {
     "name": "stdout",
     "output_type": "stream",
     "text": [
      "Sum of digits of 1!=1\n",
      "Sum of digits of 2!=2\n",
      "Sum of digits of 3!=6\n",
      "Sum of digits of 4!=6\n",
      "Sum of digits of 5!=3\n"
     ]
    }
   ],
   "source": [
    "#develop a program that calculates the sum of the digits of a factorial of numbers from 1 to 5 using list comprehension\n",
    "def factorial(n):\n",
    "    if n==0:\n",
    "        return 1\n",
    "    return n*factorial(n-1)\n",
    "results=[sum(int(digit) for digit in str(factorial(i))) for i in range(1,6)]\n",
    "for i, result in enumerate(results, start=1):\n",
    "    print(f\"Sum of digits of {i}!={result}\")"
   ]
  },
  {
   "cell_type": "code",
   "execution_count": 8,
   "id": "f910e6a9-708c-402e-abe9-92f50b0d971b",
   "metadata": {},
   "outputs": [
    {
     "name": "stdin",
     "output_type": "stream",
     "text": [
      "enter a sentence: this is a beautiful place'\n"
     ]
    },
    {
     "name": "stdout",
     "output_type": "stream",
     "text": [
      "The longest word in the sentence is:beautiful\n"
     ]
    }
   ],
   "source": [
    "#write a program that finds the longest word in a sentence using list comprehension\n",
    "sentence=input(\"enter a sentence:\")\n",
    "words=sentence.split()\n",
    "longest_words=max(words, key=lambda word: len(word))\n",
    "print(f\"The longest word in the sentence is:{longest_words}\")"
   ]
  },
  {
   "cell_type": "code",
   "execution_count": 13,
   "id": "be25a755-fd1c-4a56-bcfc-c8ddb05928b3",
   "metadata": {},
   "outputs": [
    {
     "name": "stdout",
     "output_type": "stream",
     "text": [
      "\n"
     ]
    }
   ],
   "source": [
    "#create a program that filters a list of strings to include only those with more than three vowels using list comprehension\n",
    "# Function to count vowels in a string\n",
    "def count_vowels(string):\n",
    "    vowels = \"aeiouAEIOU\"\n",
    "    return sum(1 for char in string if char in vowels)\n",
    "\n",
    "# List of strings\n",
    "strings = [\"apple\", \"banana\", \"cherry\", \"dog\", \"elephant\", \"fruits\", \"programming\"]\n",
    "\n",
    "# Filter strings with more than three vowels using filter and a lambda function\n",
    "filtered_strings = list(filter(lambda string: count_vowels(string) > 3, strings))\n",
    "\n",
    "# Print the filtered strings using a single line of code\n",
    "print(\"\\n\".join(filtered_strings))"
   ]
  },
  {
   "cell_type": "code",
   "execution_count": 14,
   "id": "f25fd952-0484-49db-bcf3-517d1d5d9f5e",
   "metadata": {},
   "outputs": [
    {
     "name": "stdout",
     "output_type": "stream",
     "text": [
      "The sum of digits from 1 to 1000 is: 13501\n"
     ]
    }
   ],
   "source": [
    "#develop a program that calculates the sum of the digits of numbers from 1 to 1000 using list comprehension\n",
    "def sum_of_digits(number):\n",
    "    return sum(int(digit) for digit in str(number))\n",
    "\n",
    "# Calculate the sum of digits for numbers from 1 to 1000 using list comprehension\n",
    "sum_of_digits_list = [sum_of_digits(number) for number in range(1, 1001)]\n",
    "\n",
    "# Calculate the total sum of all the digit sums\n",
    "total_sum = sum(sum_of_digits_list)\n",
    "\n",
    "print(f\"The sum of digits from 1 to 1000 is: {total_sum}\")"
   ]
  },
  {
   "cell_type": "code",
   "execution_count": 16,
   "id": "189f428c-0db4-4cbf-adc0-8ad0a5dc7190",
   "metadata": {},
   "outputs": [
    {
     "name": "stdout",
     "output_type": "stream",
     "text": [
      "Prime Palindromic Numbers:\n",
      "[11, 101, 131, 151, 181, 191, 313, 353, 373, 383, 727, 757, 787, 797, 919, 929]\n"
     ]
    }
   ],
   "source": [
    "#write a program that generates a list of prime palindromic numbers using list comprehension\n",
    "# Function to check if a number is prime\n",
    "def is_prime(n):\n",
    "    if n <= 1:\n",
    "        return False\n",
    "    if n <= 3:\n",
    "        return True\n",
    "    if n % 2 == 0 or n % 3 == 0:\n",
    "        return False\n",
    "    i = 5\n",
    "    while i * i <= n:\n",
    "        if n % i == 0 or n % (i + 2) == 0:\n",
    "            return False\n",
    "        i += 6\n",
    "    return True\n",
    "\n",
    "# Generate a list of prime palindromic numbers using list comprehension\n",
    "prime_palindromes = [num for num in range(10, 1001) if is_prime(num) and str(num) == str(num)[::-1]]\n",
    "\n",
    "# Print the list of prime palindromic numbers\n",
    "print(\"Prime Palindromic Numbers:\")\n",
    "print(prime_palindromes)\n"
   ]
  },
  {
   "cell_type": "code",
   "execution_count": null,
   "id": "1e65aad5-6455-4e8b-909f-43c71e90c47f",
   "metadata": {},
   "outputs": [],
   "source": []
  }
 ],
 "metadata": {
  "kernelspec": {
   "display_name": "Python 3 (ipykernel)",
   "language": "python",
   "name": "python3"
  },
  "language_info": {
   "codemirror_mode": {
    "name": "ipython",
    "version": 3
   },
   "file_extension": ".py",
   "mimetype": "text/x-python",
   "name": "python",
   "nbconvert_exporter": "python",
   "pygments_lexer": "ipython3",
   "version": "3.10.8"
  }
 },
 "nbformat": 4,
 "nbformat_minor": 5
}
