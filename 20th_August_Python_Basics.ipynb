{
 "cells": [
  {
   "cell_type": "code",
   "execution_count": null,
   "id": "de9b5d31-cc75-4e4c-9808-cd3646bc5376",
   "metadata": {},
   "outputs": [],
   "source": [
    "#STRING BASED ASSIGNMENT PROBLEMS"
   ]
  },
  {
   "cell_type": "code",
   "execution_count": 1,
   "id": "c36e3460-d0fe-4858-8ce2-361741ed5256",
   "metadata": {},
   "outputs": [
    {
     "name": "stdin",
     "output_type": "stream",
     "text": [
      "enter the string manmeet\n"
     ]
    },
    {
     "name": "stdout",
     "output_type": "stream",
     "text": [
      "the reversed string is teemnam\n"
     ]
    }
   ],
   "source": [
    "#Program to reverse a string\n",
    "string=input(\"enter the string\")\n",
    "rev_strg=string[::-1]\n",
    "print(\"the reversed string is\",rev_strg)"
   ]
  },
  {
   "cell_type": "code",
   "execution_count": 4,
   "id": "fb66d0a0-b769-4dbe-b226-797b96e40701",
   "metadata": {},
   "outputs": [
    {
     "name": "stdin",
     "output_type": "stream",
     "text": [
      "enter the string naman\n"
     ]
    },
    {
     "name": "stdout",
     "output_type": "stream",
     "text": [
      "it is palidrome\n"
     ]
    }
   ],
   "source": [
    "#program to check if string is palindrome or not\n",
    "string=input(\"enter the string\")\n",
    "rev_strg=string[::-1]\n",
    "if(string==rev_strg):\n",
    "    print(\"it is palidrome\")\n",
    "else:\n",
    "    print(\"it is not a palindrome\")\n",
    "    "
   ]
  },
  {
   "cell_type": "code",
   "execution_count": 3,
   "id": "5d2f467c-95e6-4b84-98cf-ae730ea48efe",
   "metadata": {},
   "outputs": [
    {
     "name": "stdin",
     "output_type": "stream",
     "text": [
      "enter the string manmeet\n"
     ]
    },
    {
     "name": "stdout",
     "output_type": "stream",
     "text": [
      "string in lower case is: manmeet\n",
      "the string in uppercase is: MANMEET\n"
     ]
    }
   ],
   "source": [
    "#Convert a string to uppercase.\n",
    "string=input(\"enter the stringin lowercase\")\n",
    "print(\"string in lower case is:\",string)\n",
    "print(\"the string in uppercase is:\",string.upper())"
   ]
  },
  {
   "cell_type": "code",
   "execution_count": 4,
   "id": "f9cbc166-d3f7-4a98-b534-e6d1b0325979",
   "metadata": {},
   "outputs": [
    {
     "name": "stdin",
     "output_type": "stream",
     "text": [
      "enter the string in uppercase MANMEET\n"
     ]
    },
    {
     "name": "stdout",
     "output_type": "stream",
     "text": [
      "string in upper case is: MANMEET\n",
      "the string in uppercase is: manmeet\n"
     ]
    }
   ],
   "source": [
    "#Convert a string to lowercase\n",
    "string=input(\"enter the string in uppercase\")\n",
    "print(\"string in upper case is:\",string)\n",
    "print(\"the string in uppercase is:\",string.lower())"
   ]
  },
  {
   "cell_type": "code",
   "execution_count": 6,
   "id": "eef7b37c-c181-4d36-bb78-473e64ef42fd",
   "metadata": {},
   "outputs": [
    {
     "name": "stdin",
     "output_type": "stream",
     "text": [
      "enter the string my name is manmeet\n"
     ]
    },
    {
     "name": "stdout",
     "output_type": "stream",
     "text": [
      "number of vowels in the sentence are 6\n"
     ]
    }
   ],
   "source": [
    "#Count the number of vowels in a string\n",
    "string=input(\"enter the string\")\n",
    "count=0\n",
    "#creating the list  of vowels\n",
    "vowels=[\"a\",\"e\",\"i\",\"o\",\"u\"]\n",
    "for i in range(len(string)):\n",
    "    if string[i] in vowels:\n",
    "        count+=1\n",
    "        \n",
    "print(\"number of vowels in the sentence are\",count)\n"
   ]
  },
  {
   "cell_type": "code",
   "execution_count": 8,
   "id": "1d2cf0c7-da54-4370-b92b-f93c9465705d",
   "metadata": {},
   "outputs": [
    {
     "name": "stdin",
     "output_type": "stream",
     "text": [
      "enter the string manmeet\n"
     ]
    },
    {
     "name": "stdout",
     "output_type": "stream",
     "text": [
      "number of consonants in the sentence are 4\n"
     ]
    }
   ],
   "source": [
    "#Count the number of consonants in a string\n",
    "string=input(\"enter the string\")\n",
    "count=0\n",
    "vowels=[\"a\",\"e\",\"i\",\"o\",\"u\"]\n",
    "for i in range(len(string)):\n",
    "    if string[i] not in vowels:\n",
    "        count+=1\n",
    "print(\"number of consonants in the sentence are\",count)\n"
   ]
  },
  {
   "cell_type": "code",
   "execution_count": 10,
   "id": "1906a0d6-99dd-41bd-99d6-7473a0f3a63e",
   "metadata": {},
   "outputs": [
    {
     "name": "stdin",
     "output_type": "stream",
     "text": [
      "enter the string the end\n"
     ]
    },
    {
     "name": "stdout",
     "output_type": "stream",
     "text": [
      "the string is: the end\n",
      "the new string is: theend\n"
     ]
    }
   ],
   "source": [
    "#Remove all whitespaces from a string\n",
    "string=input(\"enter the string\")\n",
    "print(\"the string is:\",string)\n",
    "new_string=string.replace(\" \",\"\")\n",
    "print(\"the new string is:\",new_string)"
   ]
  },
  {
   "cell_type": "code",
   "execution_count": 11,
   "id": "d72e5a72-4360-4e3d-950c-e7ead2add83b",
   "metadata": {},
   "outputs": [
    {
     "name": "stdin",
     "output_type": "stream",
     "text": [
      "enter the string manmeet\n"
     ]
    },
    {
     "name": "stdout",
     "output_type": "stream",
     "text": [
      "the string is: manmeet\n",
      "the length of string is: 7\n"
     ]
    }
   ],
   "source": [
    "#Find the length of a string without using the `len()` function\n",
    "string=input(\"enter the string\")\n",
    "print(\"the string is:\",string)\n",
    "count=0\n",
    "for i in string:\n",
    "    count +=1\n",
    "print(\"the length of string is:\",count)"
   ]
  },
  {
   "cell_type": "code",
   "execution_count": 2,
   "id": "0a958d32-4c71-4345-b1a1-54dc01a117f2",
   "metadata": {},
   "outputs": [
    {
     "name": "stdin",
     "output_type": "stream",
     "text": [
      "enter the string tatasky\n"
     ]
    },
    {
     "name": "stdout",
     "output_type": "stream",
     "text": [
      "the string is: tatasky\n"
     ]
    },
    {
     "name": "stdin",
     "output_type": "stream",
     "text": [
      "enter the word to be found in the string man\n"
     ]
    },
    {
     "name": "stdout",
     "output_type": "stream",
     "text": [
      "the word is: man\n",
      "word not found in the string\n"
     ]
    }
   ],
   "source": [
    "#Check if a string contains a specific word\n",
    "string=input(\"enter the string\")\n",
    "print(\"the string is:\",string)\n",
    "word=input(\"enter the word to be found in the string\")\n",
    "print(\"the word is:\",word)\n",
    "if word in string:\n",
    "    print(\"string contains word\")\n",
    "else:\n",
    "    print(\"word not found in the string\")"
   ]
  },
  {
   "cell_type": "code",
   "execution_count": 5,
   "id": "7586b7d7-3956-40f6-9bcd-5da9e23f375b",
   "metadata": {},
   "outputs": [
    {
     "name": "stdout",
     "output_type": "stream",
     "text": [
      "my name is gagan\n"
     ]
    }
   ],
   "source": [
    "#Replace a word in a string with another word\n",
    "string= \"my name is manmeet\"\n",
    "new_string=string.replace(\"manmeet\",\"gagan\")\n",
    "print(new_string)"
   ]
  },
  {
   "cell_type": "code",
   "execution_count": 1,
   "id": "6014aeb4-53e9-42b2-a4ab-a40bc1eb9c92",
   "metadata": {},
   "outputs": [
    {
     "name": "stdin",
     "output_type": "stream",
     "text": [
      "enter the string manmeet is girl. manmeet is smart.\n"
     ]
    },
    {
     "name": "stdout",
     "output_type": "stream",
     "text": [
      "the string is: manmeet is girl. manmeet is smart.\n"
     ]
    },
    {
     "name": "stdin",
     "output_type": "stream",
     "text": [
      "enter the word to be counted in the string: is\n"
     ]
    },
    {
     "name": "stdout",
     "output_type": "stream",
     "text": [
      "the number of times word appears in string is: 2\n"
     ]
    }
   ],
   "source": [
    "#Count the occurrences of a word in a string\n",
    "string=input(\"enter the string\")\n",
    "print(\"the string is:\",string)\n",
    "word=input(\"enter the word to be counted in the string:\")\n",
    "number=string.count(word)\n",
    "print(\"the number of times word appears in string is:\", number)\n",
    "    "
   ]
  },
  {
   "cell_type": "code",
   "execution_count": 1,
   "id": "898eec3b-3d28-4816-bfdc-0732fb22451a",
   "metadata": {},
   "outputs": [
    {
     "data": {
      "text/plain": [
       "16"
      ]
     },
     "execution_count": 1,
     "metadata": {},
     "output_type": "execute_result"
    }
   ],
   "source": [
    "#Find the first occurrence of a word in a string\n",
    "a=\"manmeet is good girl\"\n",
    "a.find('girl')"
   ]
  },
  {
   "cell_type": "code",
   "execution_count": 3,
   "id": "35d7fb2b-bb71-4079-981e-f58279f6abc2",
   "metadata": {},
   "outputs": [
    {
     "name": "stdout",
     "output_type": "stream",
     "text": [
      "index of last occurance is 9\n"
     ]
    }
   ],
   "source": [
    "#Find the last occurrence of a word in a string\n",
    "string=\"earth is round\"\n",
    "word='round'\n",
    "occurance=string.rfind(word)\n",
    "print(\"index of last occurance is\",occurance)"
   ]
  },
  {
   "cell_type": "code",
   "execution_count": 4,
   "id": "44e54751-9eff-4e58-9d83-6b444a8847f3",
   "metadata": {},
   "outputs": [
    {
     "name": "stdout",
     "output_type": "stream",
     "text": [
      "['manmeet', 'is', 'cool', 'girl']\n"
     ]
    }
   ],
   "source": [
    "#Split a string into a list of words\n",
    "lst = \"manmeet is cool girl\"\n",
    "print(lst.split())"
   ]
  },
  {
   "cell_type": "code",
   "execution_count": 5,
   "id": "41b2d362-a944-4a2c-a81a-923b5652d395",
   "metadata": {},
   "outputs": [
    {
     "name": "stdout",
     "output_type": "stream",
     "text": [
      "Canada is beautiful country\n"
     ]
    }
   ],
   "source": [
    "#Join a list of words into a string\n",
    "words=['Canada', 'is', 'beautiful', 'country']\n",
    "print(' '.join(words))"
   ]
  },
  {
   "cell_type": "code",
   "execution_count": 7,
   "id": "8b51b0f4-d561-4ce2-ba7e-28248e8e2a9e",
   "metadata": {},
   "outputs": [
    {
     "name": "stdout",
     "output_type": "stream",
     "text": [
      "We_are_evolving\n"
     ]
    }
   ],
   "source": [
    "#Convert a string where words are separated by spaces to one where words are separated by underscores\n",
    "string=\"We are evolving\"\n",
    "new_string=string.replace(\" \",\"_\")\n",
    "print(new_string)"
   ]
  },
  {
   "cell_type": "code",
   "execution_count": 9,
   "id": "66eeda19-7a85-4bf8-8116-ecb134ca3978",
   "metadata": {},
   "outputs": [
    {
     "name": "stdin",
     "output_type": "stream",
     "text": [
      "enter the string manmeet is good girl\n"
     ]
    },
    {
     "name": "stdout",
     "output_type": "stream",
     "text": [
      "the string is: manmeet is good girl\n"
     ]
    },
    {
     "name": "stdin",
     "output_type": "stream",
     "text": [
      "enter the word to be checked gagan\n"
     ]
    },
    {
     "name": "stdout",
     "output_type": "stream",
     "text": [
      "the word is: gagan\n",
      "string does not start with gagan\n"
     ]
    }
   ],
   "source": [
    "#Check if a string starts with a specific word or phrase\n",
    "string=input(\"enter the string\")\n",
    "print(\"the string is:\", string)\n",
    "word=input(\"enter the word to be checked\")\n",
    "print(\"the word is:\", word)\n",
    "if string.startswith(word):\n",
    "    print(\"string starts with the\",word)\n",
    "else:\n",
    "    print(\"string does not start with\",word)\n",
    "\n"
   ]
  },
  {
   "cell_type": "code",
   "execution_count": 11,
   "id": "fb61347a-8e71-4004-8baf-2223810e02c6",
   "metadata": {},
   "outputs": [
    {
     "name": "stdin",
     "output_type": "stream",
     "text": [
      "enter the string manmeet is amazing\n"
     ]
    },
    {
     "name": "stdout",
     "output_type": "stream",
     "text": [
      "the string is: manmeet is amazing\n"
     ]
    },
    {
     "name": "stdin",
     "output_type": "stream",
     "text": [
      "enter the word to be checked good\n"
     ]
    },
    {
     "name": "stdout",
     "output_type": "stream",
     "text": [
      "the word is: good\n",
      "string ends not start with good\n"
     ]
    }
   ],
   "source": [
    "#Check if a string ends with a specific word or phrase\n",
    "string=input(\"enter the string\")\n",
    "print(\"the string is:\", string)\n",
    "word=input(\"enter the word to be checked\")\n",
    "print(\"the word is:\", word)\n",
    "if string.endswith(word):\n",
    "    print(\"string ends with the\",word)\n",
    "else:\n",
    "    print(\"string ends not start with\",word)\n",
    "\n"
   ]
  },
  {
   "cell_type": "code",
   "execution_count": 12,
   "id": "05f19951-4958-4484-98ec-49507f851dd5",
   "metadata": {},
   "outputs": [
    {
     "name": "stdout",
     "output_type": "stream",
     "text": [
      "Hello World\n"
     ]
    }
   ],
   "source": [
    "#Convert a string to title case (e.g., \"hello world\" to \"Hello World\")\n",
    "input_string=\"hello world\"\n",
    "title_string=input_string.title()\n",
    "print(title_string)"
   ]
  },
  {
   "cell_type": "code",
   "execution_count": 13,
   "id": "720d9e3f-8e1a-4080-9dd1-5d272b6cb4ec",
   "metadata": {},
   "outputs": [
    {
     "name": "stdout",
     "output_type": "stream",
     "text": [
      "the longest word in the string is: longest\n"
     ]
    }
   ],
   "source": [
    "#Find the longest word in a string\n",
    "string=\"We need to find the longest word\"\n",
    "words=string.split()\n",
    "longest_word=\" \"\n",
    "max_length=0\n",
    "for word in words:\n",
    "    if len(word)>max_length:\n",
    "        max_length=len(word)\n",
    "        longest_word=word\n",
    "        \n",
    "print(\"the longest word in the string is:\", longest_word)"
   ]
  },
  {
   "cell_type": "code",
   "execution_count": 16,
   "id": "5086358a-cd11-452e-8cbf-f1213c8fec9d",
   "metadata": {},
   "outputs": [
    {
     "name": "stdout",
     "output_type": "stream",
     "text": [
      "the shortest word in the string is: We\n"
     ]
    }
   ],
   "source": [
    "#Find the shorted word in a string\n",
    "string=\"We need to find the shortest word\"\n",
    "words=string.split()\n",
    "shortest_word=None\n",
    "min_length=float('inf')\n",
    "for word in words:\n",
    "    if len(word)<min_length:\n",
    "        min_length=len(word)\n",
    "        shortest_word=word\n",
    "        \n",
    "print(\"the shortest word in the string is:\", shortest_word)"
   ]
  },
  {
   "cell_type": "code",
   "execution_count": 1,
   "id": "36cf6fd5-9f21-458b-ac70-832eae48b213",
   "metadata": {},
   "outputs": [
    {
     "name": "stdout",
     "output_type": "stream",
     "text": [
      "string is This\n"
     ]
    }
   ],
   "source": [
    "#Reverse the order of words in a string\n",
    "string=\"This is string\"\n",
    "reversed_string=\" \".join(string.split()[::-1])\n",
    "print(reversed_string)"
   ]
  },
  {
   "cell_type": "code",
   "execution_count": 6,
   "id": "4936b96d-b585-454f-a13d-0f37dd2d4377",
   "metadata": {},
   "outputs": [
    {
     "name": "stdout",
     "output_type": "stream",
     "text": [
      "The string is alphanumeric.\n"
     ]
    }
   ],
   "source": [
    "#Check if a string is alphanumeric\n",
    "string=\"160canada\"\n",
    "if string.isalnum():\n",
    "    print(\"The string is alphanumeric.\")\n",
    "else:\n",
    "    print(\"the string is not alphanumeric.\")"
   ]
  },
  {
   "cell_type": "code",
   "execution_count": 11,
   "id": "170f1ad6-82ad-44e0-9742-02dd948e6fe8",
   "metadata": {},
   "outputs": [
    {
     "name": "stdout",
     "output_type": "stream",
     "text": [
      "No of digits in string is: 123\n"
     ]
    }
   ],
   "source": [
    "#Extract all digits from a string\n",
    "string=\"123 planets in our solar system\"\n",
    "count=''.join(filter(str.isdigit, string))     \n",
    "print(\"digits in string is:\", count)"
   ]
  },
  {
   "cell_type": "code",
   "execution_count": 14,
   "id": "417fde88-978f-4e58-b164-824c54b91581",
   "metadata": {},
   "outputs": [
    {
     "name": "stdout",
     "output_type": "stream",
     "text": [
      "No of digits in string is: planetsinoursolarsystem\n"
     ]
    }
   ],
   "source": [
    "#Extract all alphabets from a string\n",
    "string=\"123 planets in our solar system\"\n",
    "count=''.join(filter(str.isalpha, string))     \n",
    "print(\"Alphabets in string are:\", count)"
   ]
  },
  {
   "cell_type": "code",
   "execution_count": 23,
   "id": "9a5361dc-ab9a-47f8-a72d-7c352bfc394c",
   "metadata": {},
   "outputs": [
    {
     "name": "stdout",
     "output_type": "stream",
     "text": [
      "Number of uppercase letters: 2\n"
     ]
    }
   ],
   "source": [
    "# Print the count of uppercase letters\n",
    "\n",
    "string = \"This is my India\"\n",
    "uppercase_count = 0\n",
    "for char in string:\n",
    "    if char.isupper():\n",
    "        uppercase_count += 1\n",
    "\n",
    "\n",
    "print(\"Number of uppercase letters:\", uppercase_count)"
   ]
  },
  {
   "cell_type": "code",
   "execution_count": 25,
   "id": "74bbc012-82ad-4636-b83f-52707d7dbfb1",
   "metadata": {},
   "outputs": [
    {
     "name": "stdout",
     "output_type": "stream",
     "text": [
      "Numberof lowercase letters in string: 20\n"
     ]
    }
   ],
   "source": [
    "#Count the number of lowercase letters in a string.\n",
    "\n",
    "string=\"India is on the moon\"\n",
    "count=0\n",
    "for i in string:\n",
    "    if char.islower():\n",
    "        count+=1\n",
    "print(\"Numberof lowercase letters in string:\", count)"
   ]
  },
  {
   "cell_type": "code",
   "execution_count": null,
   "id": "c21ceeb5-d08f-4ac3-9021-9e3c6fe749b7",
   "metadata": {},
   "outputs": [],
   "source": []
  }
 ],
 "metadata": {
  "kernelspec": {
   "display_name": "Python 3 (ipykernel)",
   "language": "python",
   "name": "python3"
  },
  "language_info": {
   "codemirror_mode": {
    "name": "ipython",
    "version": 3
   },
   "file_extension": ".py",
   "mimetype": "text/x-python",
   "name": "python",
   "nbconvert_exporter": "python",
   "pygments_lexer": "ipython3",
   "version": "3.10.8"
  }
 },
 "nbformat": 4,
 "nbformat_minor": 5
}
