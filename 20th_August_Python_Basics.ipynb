{
 "cells": [
  {
   "cell_type": "code",
   "execution_count": null,
   "id": "de9b5d31-cc75-4e4c-9808-cd3646bc5376",
   "metadata": {},
   "outputs": [],
   "source": [
    "#STRING BASED ASSIGNMENT PROBLEMS"
   ]
  },
  {
   "cell_type": "code",
   "execution_count": 1,
   "id": "c36e3460-d0fe-4858-8ce2-361741ed5256",
   "metadata": {},
   "outputs": [
    {
     "name": "stdin",
     "output_type": "stream",
     "text": [
      "enter the string manmeet\n"
     ]
    },
    {
     "name": "stdout",
     "output_type": "stream",
     "text": [
      "the reversed string is teemnam\n"
     ]
    }
   ],
   "source": [
    "#Program to reverse a string\n",
    "string=input(\"enter the string\")\n",
    "rev_strg=string[::-1]\n",
    "print(\"the reversed string is\",rev_strg)"
   ]
  },
  {
   "cell_type": "code",
   "execution_count": 4,
   "id": "fb66d0a0-b769-4dbe-b226-797b96e40701",
   "metadata": {},
   "outputs": [
    {
     "name": "stdin",
     "output_type": "stream",
     "text": [
      "enter the string naman\n"
     ]
    },
    {
     "name": "stdout",
     "output_type": "stream",
     "text": [
      "it is palidrome\n"
     ]
    }
   ],
   "source": [
    "#program to check if string is palindrome or not\n",
    "string=input(\"enter the string\")\n",
    "rev_strg=string[::-1]\n",
    "if(string==rev_strg):\n",
    "    print(\"it is palidrome\")\n",
    "else:\n",
    "    print(\"it is not a palindrome\")\n",
    "    "
   ]
  },
  {
   "cell_type": "code",
   "execution_count": 3,
   "id": "5d2f467c-95e6-4b84-98cf-ae730ea48efe",
   "metadata": {},
   "outputs": [
    {
     "name": "stdin",
     "output_type": "stream",
     "text": [
      "enter the string manmeet\n"
     ]
    },
    {
     "name": "stdout",
     "output_type": "stream",
     "text": [
      "string in lower case is: manmeet\n",
      "the string in uppercase is: MANMEET\n"
     ]
    }
   ],
   "source": [
    "#Convert a string to uppercase.\n",
    "string=input(\"enter the stringin lowercase\")\n",
    "print(\"string in lower case is:\",string)\n",
    "print(\"the string in uppercase is:\",string.upper())"
   ]
  },
  {
   "cell_type": "code",
   "execution_count": 4,
   "id": "f9cbc166-d3f7-4a98-b534-e6d1b0325979",
   "metadata": {},
   "outputs": [
    {
     "name": "stdin",
     "output_type": "stream",
     "text": [
      "enter the string in uppercase MANMEET\n"
     ]
    },
    {
     "name": "stdout",
     "output_type": "stream",
     "text": [
      "string in upper case is: MANMEET\n",
      "the string in uppercase is: manmeet\n"
     ]
    }
   ],
   "source": [
    "#Convert a string to lowercase\n",
    "string=input(\"enter the string in uppercase\")\n",
    "print(\"string in upper case is:\",string)\n",
    "print(\"the string in uppercase is:\",string.lower())"
   ]
  },
  {
   "cell_type": "code",
   "execution_count": 6,
   "id": "eef7b37c-c181-4d36-bb78-473e64ef42fd",
   "metadata": {},
   "outputs": [
    {
     "name": "stdin",
     "output_type": "stream",
     "text": [
      "enter the string my name is manmeet\n"
     ]
    },
    {
     "name": "stdout",
     "output_type": "stream",
     "text": [
      "number of vowels in the sentence are 6\n"
     ]
    }
   ],
   "source": [
    "#Count the number of vowels in a string\n",
    "string=input(\"enter the string\")\n",
    "count=0\n",
    "#creating the list  of vowels\n",
    "vowels=[\"a\",\"e\",\"i\",\"o\",\"u\"]\n",
    "for i in range(len(string)):\n",
    "    if string[i] in vowels:\n",
    "        count+=1\n",
    "        \n",
    "print(\"number of vowels in the sentence are\",count)\n"
   ]
  },
  {
   "cell_type": "code",
   "execution_count": 8,
   "id": "1d2cf0c7-da54-4370-b92b-f93c9465705d",
   "metadata": {},
   "outputs": [
    {
     "name": "stdin",
     "output_type": "stream",
     "text": [
      "enter the string manmeet\n"
     ]
    },
    {
     "name": "stdout",
     "output_type": "stream",
     "text": [
      "number of consonants in the sentence are 4\n"
     ]
    }
   ],
   "source": [
    "#Count the number of consonants in a string\n",
    "string=input(\"enter the string\")\n",
    "count=0\n",
    "vowels=[\"a\",\"e\",\"i\",\"o\",\"u\"]\n",
    "for i in range(len(string)):\n",
    "    if string[i] not in vowels:\n",
    "        count+=1\n",
    "print(\"number of consonants in the sentence are\",count)\n"
   ]
  },
  {
   "cell_type": "code",
   "execution_count": 10,
   "id": "1906a0d6-99dd-41bd-99d6-7473a0f3a63e",
   "metadata": {},
   "outputs": [
    {
     "name": "stdin",
     "output_type": "stream",
     "text": [
      "enter the string the end\n"
     ]
    },
    {
     "name": "stdout",
     "output_type": "stream",
     "text": [
      "the string is: the end\n",
      "the new string is: theend\n"
     ]
    }
   ],
   "source": [
    "#Remove all whitespaces from a string\n",
    "string=input(\"enter the string\")\n",
    "print(\"the string is:\",string)\n",
    "new_string=string.replace(\" \",\"\")\n",
    "print(\"the new string is:\",new_string)"
   ]
  },
  {
   "cell_type": "code",
   "execution_count": 11,
   "id": "d72e5a72-4360-4e3d-950c-e7ead2add83b",
   "metadata": {},
   "outputs": [
    {
     "name": "stdin",
     "output_type": "stream",
     "text": [
      "enter the string manmeet\n"
     ]
    },
    {
     "name": "stdout",
     "output_type": "stream",
     "text": [
      "the string is: manmeet\n",
      "the length of string is: 7\n"
     ]
    }
   ],
   "source": [
    "#Find the length of a string without using the `len()` function\n",
    "string=input(\"enter the string\")\n",
    "print(\"the string is:\",string)\n",
    "count=0\n",
    "for i in string:\n",
    "    count +=1\n",
    "print(\"the length of string is:\",count)"
   ]
  },
  {
   "cell_type": "code",
   "execution_count": 2,
   "id": "0a958d32-4c71-4345-b1a1-54dc01a117f2",
   "metadata": {},
   "outputs": [
    {
     "name": "stdin",
     "output_type": "stream",
     "text": [
      "enter the string tatasky\n"
     ]
    },
    {
     "name": "stdout",
     "output_type": "stream",
     "text": [
      "the string is: tatasky\n"
     ]
    },
    {
     "name": "stdin",
     "output_type": "stream",
     "text": [
      "enter the word to be found in the string man\n"
     ]
    },
    {
     "name": "stdout",
     "output_type": "stream",
     "text": [
      "the word is: man\n",
      "word not found in the string\n"
     ]
    }
   ],
   "source": [
    "#Check if a string contains a specific word\n",
    "string=input(\"enter the string\")\n",
    "print(\"the string is:\",string)\n",
    "word=input(\"enter the word to be found in the string\")\n",
    "print(\"the word is:\",word)\n",
    "if word in string:\n",
    "    print(\"string contains word\")\n",
    "else:\n",
    "    print(\"word not found in the string\")"
   ]
  },
  {
   "cell_type": "code",
   "execution_count": 5,
   "id": "7586b7d7-3956-40f6-9bcd-5da9e23f375b",
   "metadata": {},
   "outputs": [
    {
     "name": "stdout",
     "output_type": "stream",
     "text": [
      "my name is gagan\n"
     ]
    }
   ],
   "source": [
    "#Replace a word in a string with another word\n",
    "string= \"my name is manmeet\"\n",
    "new_string=string.replace(\"manmeet\",\"gagan\")\n",
    "print(new_string)"
   ]
  },
  {
   "cell_type": "code",
   "execution_count": 1,
   "id": "6014aeb4-53e9-42b2-a4ab-a40bc1eb9c92",
   "metadata": {},
   "outputs": [
    {
     "name": "stdin",
     "output_type": "stream",
     "text": [
      "enter the string manmeet is girl. manmeet is smart.\n"
     ]
    },
    {
     "name": "stdout",
     "output_type": "stream",
     "text": [
      "the string is: manmeet is girl. manmeet is smart.\n"
     ]
    },
    {
     "name": "stdin",
     "output_type": "stream",
     "text": [
      "enter the word to be counted in the string: is\n"
     ]
    },
    {
     "name": "stdout",
     "output_type": "stream",
     "text": [
      "the number of times word appears in string is: 2\n"
     ]
    }
   ],
   "source": [
    "#Count the occurrences of a word in a string\n",
    "string=input(\"enter the string\")\n",
    "print(\"the string is:\",string)\n",
    "word=input(\"enter the word to be counted in the string:\")\n",
    "number=string.count(word)\n",
    "print(\"the number of times word appears in string is:\", number)\n",
    "    "
   ]
  },
  {
   "cell_type": "code",
   "execution_count": 1,
   "id": "898eec3b-3d28-4816-bfdc-0732fb22451a",
   "metadata": {},
   "outputs": [
    {
     "data": {
      "text/plain": [
       "16"
      ]
     },
     "execution_count": 1,
     "metadata": {},
     "output_type": "execute_result"
    }
   ],
   "source": [
    "#Find the first occurrence of a word in a string\n",
    "a=\"manmeet is good girl\"\n",
    "a.find('girl')"
   ]
  },
  {
   "cell_type": "code",
   "execution_count": 3,
   "id": "35d7fb2b-bb71-4079-981e-f58279f6abc2",
   "metadata": {},
   "outputs": [
    {
     "name": "stdout",
     "output_type": "stream",
     "text": [
      "index of last occurance is 9\n"
     ]
    }
   ],
   "source": [
    "#Find the last occurrence of a word in a string\n",
    "string=\"earth is round\"\n",
    "word='round'\n",
    "occurance=string.rfind(word)\n",
    "print(\"index of last occurance is\",occurance)"
   ]
  },
  {
   "cell_type": "code",
   "execution_count": 4,
   "id": "44e54751-9eff-4e58-9d83-6b444a8847f3",
   "metadata": {},
   "outputs": [
    {
     "name": "stdout",
     "output_type": "stream",
     "text": [
      "['manmeet', 'is', 'cool', 'girl']\n"
     ]
    }
   ],
   "source": [
    "#Split a string into a list of words\n",
    "lst = \"manmeet is cool girl\"\n",
    "print(lst.split())"
   ]
  },
  {
   "cell_type": "code",
   "execution_count": 5,
   "id": "41b2d362-a944-4a2c-a81a-923b5652d395",
   "metadata": {},
   "outputs": [
    {
     "name": "stdout",
     "output_type": "stream",
     "text": [
      "Canada is beautiful country\n"
     ]
    }
   ],
   "source": [
    "#Join a list of words into a string\n",
    "words=['Canada', 'is', 'beautiful', 'country']\n",
    "print(' '.join(words))"
   ]
  },
  {
   "cell_type": "code",
   "execution_count": 7,
   "id": "8b51b0f4-d561-4ce2-ba7e-28248e8e2a9e",
   "metadata": {},
   "outputs": [
    {
     "name": "stdout",
     "output_type": "stream",
     "text": [
      "We_are_evolving\n"
     ]
    }
   ],
   "source": [
    "#Convert a string where words are separated by spaces to one where words are separated by underscores\n",
    "string=\"We are evolving\"\n",
    "new_string=string.replace(\" \",\"_\")\n",
    "print(new_string)"
   ]
  },
  {
   "cell_type": "code",
   "execution_count": 9,
   "id": "66eeda19-7a85-4bf8-8116-ecb134ca3978",
   "metadata": {},
   "outputs": [
    {
     "name": "stdin",
     "output_type": "stream",
     "text": [
      "enter the string manmeet is good girl\n"
     ]
    },
    {
     "name": "stdout",
     "output_type": "stream",
     "text": [
      "the string is: manmeet is good girl\n"
     ]
    },
    {
     "name": "stdin",
     "output_type": "stream",
     "text": [
      "enter the word to be checked gagan\n"
     ]
    },
    {
     "name": "stdout",
     "output_type": "stream",
     "text": [
      "the word is: gagan\n",
      "string does not start with gagan\n"
     ]
    }
   ],
   "source": [
    "#Check if a string starts with a specific word or phrase\n",
    "string=input(\"enter the string\")\n",
    "print(\"the string is:\", string)\n",
    "word=input(\"enter the word to be checked\")\n",
    "print(\"the word is:\", word)\n",
    "if string.startswith(word):\n",
    "    print(\"string starts with the\",word)\n",
    "else:\n",
    "    print(\"string does not start with\",word)\n",
    "\n"
   ]
  },
  {
   "cell_type": "code",
   "execution_count": 11,
   "id": "fb61347a-8e71-4004-8baf-2223810e02c6",
   "metadata": {},
   "outputs": [
    {
     "name": "stdin",
     "output_type": "stream",
     "text": [
      "enter the string manmeet is amazing\n"
     ]
    },
    {
     "name": "stdout",
     "output_type": "stream",
     "text": [
      "the string is: manmeet is amazing\n"
     ]
    },
    {
     "name": "stdin",
     "output_type": "stream",
     "text": [
      "enter the word to be checked good\n"
     ]
    },
    {
     "name": "stdout",
     "output_type": "stream",
     "text": [
      "the word is: good\n",
      "string ends not start with good\n"
     ]
    }
   ],
   "source": [
    "#Check if a string ends with a specific word or phrase\n",
    "string=input(\"enter the string\")\n",
    "print(\"the string is:\", string)\n",
    "word=input(\"enter the word to be checked\")\n",
    "print(\"the word is:\", word)\n",
    "if string.endswith(word):\n",
    "    print(\"string ends with the\",word)\n",
    "else:\n",
    "    print(\"string ends not start with\",word)\n",
    "\n"
   ]
  },
  {
   "cell_type": "code",
   "execution_count": 12,
   "id": "05f19951-4958-4484-98ec-49507f851dd5",
   "metadata": {},
   "outputs": [
    {
     "name": "stdout",
     "output_type": "stream",
     "text": [
      "Hello World\n"
     ]
    }
   ],
   "source": [
    "#Convert a string to title case (e.g., \"hello world\" to \"Hello World\")\n",
    "input_string=\"hello world\"\n",
    "title_string=input_string.title()\n",
    "print(title_string)"
   ]
  },
  {
   "cell_type": "code",
   "execution_count": 13,
   "id": "720d9e3f-8e1a-4080-9dd1-5d272b6cb4ec",
   "metadata": {},
   "outputs": [
    {
     "name": "stdout",
     "output_type": "stream",
     "text": [
      "the longest word in the string is: longest\n"
     ]
    }
   ],
   "source": [
    "#Find the longest word in a string\n",
    "string=\"We need to find the longest word\"\n",
    "words=string.split()\n",
    "longest_word=\" \"\n",
    "max_length=0\n",
    "for word in words:\n",
    "    if len(word)>max_length:\n",
    "        max_length=len(word)\n",
    "        longest_word=word\n",
    "        \n",
    "print(\"the longest word in the string is:\", longest_word)"
   ]
  },
  {
   "cell_type": "code",
   "execution_count": 16,
   "id": "5086358a-cd11-452e-8cbf-f1213c8fec9d",
   "metadata": {},
   "outputs": [
    {
     "name": "stdout",
     "output_type": "stream",
     "text": [
      "the shortest word in the string is: We\n"
     ]
    }
   ],
   "source": [
    "#Find the shorted word in a string\n",
    "string=\"We need to find the shortest word\"\n",
    "words=string.split()\n",
    "shortest_word=None\n",
    "min_length=float('inf')\n",
    "for word in words:\n",
    "    if len(word)<min_length:\n",
    "        min_length=len(word)\n",
    "        shortest_word=word\n",
    "        \n",
    "print(\"the shortest word in the string is:\", shortest_word)"
   ]
  },
  {
   "cell_type": "code",
   "execution_count": 1,
   "id": "36cf6fd5-9f21-458b-ac70-832eae48b213",
   "metadata": {},
   "outputs": [
    {
     "name": "stdout",
     "output_type": "stream",
     "text": [
      "string is This\n"
     ]
    }
   ],
   "source": [
    "#Reverse the order of words in a string\n",
    "string=\"This is string\"\n",
    "reversed_string=\" \".join(string.split()[::-1])\n",
    "print(reversed_string)"
   ]
  },
  {
   "cell_type": "code",
   "execution_count": 6,
   "id": "4936b96d-b585-454f-a13d-0f37dd2d4377",
   "metadata": {},
   "outputs": [
    {
     "name": "stdout",
     "output_type": "stream",
     "text": [
      "The string is alphanumeric.\n"
     ]
    }
   ],
   "source": [
    "#Check if a string is alphanumeric\n",
    "string=\"160canada\"\n",
    "if string.isalnum():\n",
    "    print(\"The string is alphanumeric.\")\n",
    "else:\n",
    "    print(\"the string is not alphanumeric.\")"
   ]
  },
  {
   "cell_type": "code",
   "execution_count": 11,
   "id": "170f1ad6-82ad-44e0-9742-02dd948e6fe8",
   "metadata": {},
   "outputs": [
    {
     "name": "stdout",
     "output_type": "stream",
     "text": [
      "No of digits in string is: 123\n"
     ]
    }
   ],
   "source": [
    "#Extract all digits from a string\n",
    "string=\"123 planets in our solar system\"\n",
    "count=''.join(filter(str.isdigit, string))     \n",
    "print(\"digits in string is:\", count)"
   ]
  },
  {
   "cell_type": "code",
   "execution_count": 14,
   "id": "417fde88-978f-4e58-b164-824c54b91581",
   "metadata": {},
   "outputs": [
    {
     "name": "stdout",
     "output_type": "stream",
     "text": [
      "No of digits in string is: planetsinoursolarsystem\n"
     ]
    }
   ],
   "source": [
    "#Extract all alphabets from a string\n",
    "string=\"123 planets in our solar system\"\n",
    "count=''.join(filter(str.isalpha, string))     \n",
    "print(\"Alphabets in string are:\", count)"
   ]
  },
  {
   "cell_type": "code",
   "execution_count": 23,
   "id": "9a5361dc-ab9a-47f8-a72d-7c352bfc394c",
   "metadata": {},
   "outputs": [
    {
     "name": "stdout",
     "output_type": "stream",
     "text": [
      "Number of uppercase letters: 2\n"
     ]
    }
   ],
   "source": [
    "# Print the count of uppercase letters\n",
    "\n",
    "string = \"This is my India\"\n",
    "uppercase_count = 0\n",
    "for char in string:\n",
    "    if char.isupper():\n",
    "        uppercase_count += 1\n",
    "\n",
    "\n",
    "print(\"Number of uppercase letters:\", uppercase_count)"
   ]
  },
  {
   "cell_type": "code",
   "execution_count": 25,
   "id": "74bbc012-82ad-4636-b83f-52707d7dbfb1",
   "metadata": {},
   "outputs": [
    {
     "name": "stdout",
     "output_type": "stream",
     "text": [
      "Numberof lowercase letters in string: 20\n"
     ]
    }
   ],
   "source": [
    "#Count the number of lowercase letters in a string.\n",
    "\n",
    "string=\"India is on the moon\"\n",
    "count=0\n",
    "for i in string:\n",
    "    if char.islower():\n",
    "        count+=1\n",
    "print(\"Numberof lowercase letters in string:\", count)"
   ]
  },
  {
   "cell_type": "code",
   "execution_count": 6,
   "id": "c21ceeb5-d08f-4ac3-9021-9e3c6fe749b7",
   "metadata": {},
   "outputs": [
    {
     "name": "stdout",
     "output_type": "stream",
     "text": [
      "Case-swappeed string: iNDIA IS ON THE MOON\n"
     ]
    }
   ],
   "source": [
    "#Swap the case of each character in a string\n",
    "string=\"India is on the moon\"\n",
    "result=''.join([char.lower() if char.isupper() else char.upper() if char.islower() else char for char in string])\n",
    "print(\"Case-swappeed string:\",result)"
   ]
  },
  {
   "cell_type": "code",
   "execution_count": null,
   "id": "eac88124-8495-4524-95d7-56ab19b20257",
   "metadata": {},
   "outputs": [],
   "source": []
  },
  {
   "cell_type": "code",
   "execution_count": 9,
   "id": "e25c75e9-40af-46ae-af18-0a4887e0a965",
   "metadata": {},
   "outputs": [
    {
     "name": "stdin",
     "output_type": "stream",
     "text": [
      "enter the string: manmeet\n",
      "enter the word to be removed: an\n"
     ]
    },
    {
     "name": "stdout",
     "output_type": "stream",
     "text": [
      "string after removing the word is: mmeet\n"
     ]
    }
   ],
   "source": [
    "#Remove a specific word from a string\n",
    "string=input(\"enter the string:\")\n",
    "word=input(\"enter the word to be removed:\")\n",
    "new_string=string.replace(word,\"\")\n",
    "print(\"string after removing the word is:\", new_string)"
   ]
  },
  {
   "cell_type": "code",
   "execution_count": 4,
   "id": "28e8a9e0-0ec5-474f-b6ac-144525a0f82c",
   "metadata": {},
   "outputs": [
    {
     "name": "stdin",
     "output_type": "stream",
     "text": [
      "enter an email address:  sdsdfdsf\n"
     ]
    },
    {
     "name": "stdout",
     "output_type": "stream",
     "text": [
      "Invalid email address\n"
     ]
    }
   ],
   "source": [
    "#Check if a string is a valid email address\n",
    "from validate_email_address import validate_email\n",
    "\n",
    "email_address = input(\"enter an email address: \")\n",
    "if validate_email(email_address,verify=True):\n",
    "    print(\"Valid email address\")\n",
    "else:\n",
    "    print(\"Invalid email address\")\n",
    "    "
   ]
  },
  {
   "cell_type": "code",
   "execution_count": 11,
   "id": "044cbb67-af76-45e8-942b-bf0d966582a2",
   "metadata": {},
   "outputs": [
    {
     "name": "stdout",
     "output_type": "stream",
     "text": [
      "Collecting validate_email_address\n",
      "  Downloading validate-email-address-1.tar.gz (4.9 kB)\n",
      "  Preparing metadata (setup.py) ... \u001b[?25ldone\n",
      "\u001b[?25hBuilding wheels for collected packages: validate_email_address\n",
      "  Building wheel for validate_email_address (setup.py) ... \u001b[?25ldone\n",
      "\u001b[?25h  Created wheel for validate_email_address: filename=validate_email_address-1-py3-none-any.whl size=5743 sha256=c69228f85fe7afadc996ed10c7309b5eb5225d98eb8512b5b6e7293c7cf4eb1e\n",
      "  Stored in directory: /home/jovyan/.cache/pip/wheels/55/9c/7c/63b7b2e62664066aa4b8849522cf830df4cff1414aabde6095\n",
      "Successfully built validate_email_address\n",
      "Installing collected packages: validate_email_address\n",
      "Successfully installed validate_email_address-1\n",
      "Note: you may need to restart the kernel to use updated packages.\n"
     ]
    }
   ],
   "source": [
    "pip install validate_email_address\n"
   ]
  },
  {
   "cell_type": "code",
   "execution_count": 17,
   "id": "a5de9cf9-3efa-4683-a998-9355e30afbb6",
   "metadata": {},
   "outputs": [
    {
     "name": "stdout",
     "output_type": "stream",
     "text": [
      "Collecting dnspython\n",
      "  Downloading dnspython-2.4.2-py3-none-any.whl (300 kB)\n",
      "\u001b[2K     \u001b[90m━━━━━━━━━━━━━━━━━━━━━━━━━━━━━━━━━━━━━━━\u001b[0m \u001b[32m300.4/300.4 kB\u001b[0m \u001b[31m9.2 MB/s\u001b[0m eta \u001b[36m0:00:00\u001b[0m\n",
      "\u001b[?25hInstalling collected packages: dnspython\n",
      "Successfully installed dnspython-2.4.2\n",
      "Note: you may need to restart the kernel to use updated packages.\n"
     ]
    }
   ],
   "source": [
    "pip install dnspython\n"
   ]
  },
  {
   "cell_type": "code",
   "execution_count": 6,
   "id": "625f5488-3b00-402d-a725-a6e0df0268df",
   "metadata": {},
   "outputs": [
    {
     "name": "stdin",
     "output_type": "stream",
     "text": [
      "enter an email address:  mango@gmail,cim\n"
     ]
    },
    {
     "name": "stdout",
     "output_type": "stream",
     "text": [
      "username: mango\n"
     ]
    }
   ],
   "source": [
    "#Extract the username from an email address string\n",
    "email_address=input(\"enter an email address: \")\n",
    "parts=email_address.split(\"@\")\n",
    "if len(parts)>1:\n",
    "    username=parts[0]\n",
    "    print(\"username:\",username)\n",
    "else:\n",
    "    print(\"invalid email address\")"
   ]
  },
  {
   "cell_type": "code",
   "execution_count": 7,
   "id": "fa4ba9a8-8fa1-4ae3-b81a-519642924d87",
   "metadata": {},
   "outputs": [
    {
     "name": "stdin",
     "output_type": "stream",
     "text": [
      "enter an email address:  manmeet@gmail.com\n"
     ]
    },
    {
     "name": "stdout",
     "output_type": "stream",
     "text": [
      "username: gmail.com\n"
     ]
    }
   ],
   "source": [
    "#Extract the domain name from an email address string\n",
    "email_address=input(\"enter an email address: \")\n",
    "parts=email_address.split(\"@\")\n",
    "if len(parts)>1:\n",
    "    username=parts[1]\n",
    "    print(\"username:\",username)\n",
    "else:\n",
    "    print(\"invalid email address\")"
   ]
  },
  {
   "cell_type": "code",
   "execution_count": 10,
   "id": "5e550969-fa60-4b84-9601-2c423c1d824c",
   "metadata": {},
   "outputs": [
    {
     "name": "stdin",
     "output_type": "stream",
     "text": [
      "Enter the string with multiple spaces jlhsjkcns    djsckjs   cndcjdw             jdjnsm\n"
     ]
    },
    {
     "name": "stdout",
     "output_type": "stream",
     "text": [
      "jlhsjkcns djsckjs cndcjdw jdjnsm\n"
     ]
    }
   ],
   "source": [
    "#Replace multiple spaces in a string with a single space\n",
    "string=input(\"Enter the string with multiple spaces\")\n",
    "new_string=' '.join(string.split())\n",
    "print(new_string)"
   ]
  },
  {
   "cell_type": "code",
   "execution_count": 13,
   "id": "286a1c09-42d3-4b9e-aaa5-816243bcc1ca",
   "metadata": {},
   "outputs": [
    {
     "name": "stdin",
     "output_type": "stream",
     "text": [
      "enter the url: djksbhjwbkjc wjdc\n"
     ]
    },
    {
     "name": "stdout",
     "output_type": "stream",
     "text": [
      "url is not valid\n"
     ]
    }
   ],
   "source": [
    "#Check if a string is a valid URL\n",
    "url=input(\"enter the url:\")\n",
    "if url.startswith(\"http://\") or url.startswith(\"https://\"):\n",
    "    print(\"url is valid\")\n",
    "else:\n",
    "    print(\"url is not valid\")"
   ]
  },
  {
   "cell_type": "code",
   "execution_count": 15,
   "id": "69e4204b-16a7-41ee-a868-37dede432be6",
   "metadata": {},
   "outputs": [
    {
     "name": "stdin",
     "output_type": "stream",
     "text": [
      "enter the url: https://www.google.com\n"
     ]
    },
    {
     "name": "stdout",
     "output_type": "stream",
     "text": [
      "['https', 'www.google.com']\n"
     ]
    }
   ],
   "source": [
    "#Extract the protocol (http or https) from a URL string\n",
    "url=input(\"enter the url:\")\n",
    "extract=url.split(\"://\")\n",
    "if len(extract)>=2:\n",
    "    print(extract[0])\n",
    "else:\n",
    "    print(\"not valid\")\n",
    "    "
   ]
  },
  {
   "cell_type": "code",
   "execution_count": 1,
   "id": "ddefbe41-5f78-428c-9c35-0f41b9878b48",
   "metadata": {},
   "outputs": [
    {
     "name": "stdout",
     "output_type": "stream",
     "text": [
      " 'm' : 4\n",
      " 'y' : 1\n",
      " ' ' : 3\n",
      " 'n' : 2\n",
      " 'a' : 2\n",
      " 'e' : 3\n",
      " 'i' : 1\n",
      " 's' : 1\n",
      " 't' : 1\n"
     ]
    }
   ],
   "source": [
    "#Find the frequency of each character in a string\n",
    "string=\"my name is manmeet\"\n",
    "char_freq={}\n",
    "\n",
    "for char in string:\n",
    "    char_freq[char] = char_freq.get(char, 0) + 1\n",
    "    \n",
    "for char, freq in char_freq.items():\n",
    "    print(f\" '{char}' : {freq}\")"
   ]
  },
  {
   "cell_type": "code",
   "execution_count": 4,
   "id": "5d9b8abd-7683-4b81-8788-1e5b3836b81f",
   "metadata": {},
   "outputs": [
    {
     "name": "stdin",
     "output_type": "stream",
     "text": [
      "enter the string njksdhfudsh3432954093950;;'',;,dshsh\n"
     ]
    },
    {
     "name": "stdout",
     "output_type": "stream",
     "text": [
      "new string without punctuation is  ttttttttttttttttttttttttttttt\n"
     ]
    }
   ],
   "source": [
    "#Remove all punctuation from a string\n",
    "string=input(\"enter the string\")\n",
    "punctuation = \"'!()-[]{}:;'/.,<>?@#$%^&*\"\n",
    "new_string=\" \"\n",
    "for i in string:\n",
    "    if i not in punctuation:\n",
    "        new_string +=char\n",
    "print(\"new string without punctuation is\", new_string)\n",
    "        "
   ]
  },
  {
   "cell_type": "code",
   "execution_count": 5,
   "id": "674c520c-1bbf-4719-ae78-9df84ae2118f",
   "metadata": {},
   "outputs": [
    {
     "name": "stdout",
     "output_type": "stream",
     "text": [
      "string conatains both\n"
     ]
    }
   ],
   "source": [
    "#Check if a string contains only digits.\n",
    "string1=\"123hjcbhad\"\n",
    "string2=\"12345\"\n",
    "if all(char.isdigit() for char in string1):\n",
    "    print(\"strings contain only digit\")\n",
    "else:\n",
    "    print(\"string conatains both\")\n"
   ]
  },
  {
   "cell_type": "code",
   "execution_count": 7,
   "id": "1b26a398-0bb1-484d-9cd6-baa663448921",
   "metadata": {},
   "outputs": [
    {
     "name": "stdout",
     "output_type": "stream",
     "text": [
      "strings contain only characters\n"
     ]
    }
   ],
   "source": [
    "#Check if a string contains only alphabets.\n",
    "string1=\"123hjcbhad\"\n",
    "string2=\"avcgvsvc\"\n",
    "if all(char.isalpha() for char in string2):\n",
    "    print(\"strings contain only characters\")\n",
    "else:\n",
    "    print(\"string conatains both\")"
   ]
  },
  {
   "cell_type": "raw",
   "id": "0419a7e8-d468-489a-b172-eae035339d64",
   "metadata": {},
   "source": []
  },
  {
   "cell_type": "code",
   "execution_count": 9,
   "id": "41941a9a-9f9a-404e-87c5-c560ba6a4bdb",
   "metadata": {},
   "outputs": [
    {
     "name": "stdout",
     "output_type": "stream",
     "text": [
      "['m', 'a', 'n', 'm', 'e', 'e', 't', ' ', 'i', 's', ' ', 'g', 'r', 'e', 'a', 't']\n"
     ]
    }
   ],
   "source": [
    "#Convert a string to a list of characters\n",
    "string=\"manmeet is great\"\n",
    "char_list = [char for char in string]\n",
    "print(char_list)"
   ]
  },
  {
   "cell_type": "code",
   "execution_count": 10,
   "id": "272d3753-3fd8-488c-8e9f-16ab55b9ba44",
   "metadata": {},
   "outputs": [
    {
     "name": "stdout",
     "output_type": "stream",
     "text": [
      "string are anagrams\n"
     ]
    }
   ],
   "source": [
    "#Check if two strings are anagrams\n",
    "string1=\"listen\"\n",
    "string2=\"silent\"\n",
    "string1 = string1.replace(\" \", \"\").lower()\n",
    "string2=string2.replace(\" \",\"\").lower()\n",
    "\n",
    "if sorted(string1) == sorted(string2):\n",
    "    print(\"string are anagrams\")\n",
    "else:\n",
    "    print(\"string are not anagram\")"
   ]
  },
  {
   "cell_type": "code",
   "execution_count": 1,
   "id": "e1432b59-e892-43a9-84d4-7f6f8fe16268",
   "metadata": {},
   "outputs": [
    {
     "name": "stdout",
     "output_type": "stream",
     "text": [
      "Khoor, Zruog!\n"
     ]
    }
   ],
   "source": [
    "#Encode a string using a Caesar cipher\n",
    "text = \"Hello, World!\"\n",
    "shift = 3\n",
    "action = 'encode'  # Change to 'decode' for decoding\n",
    "\n",
    "result = \"\"\n",
    "shift = shift % 26\n",
    "\n",
    "for char in text:\n",
    "    if char.isalpha():\n",
    "        is_upper = char.isupper()\n",
    "        ascii_code = ord(char)\n",
    "        \n",
    "        if action == 'encode':\n",
    "            shifted_code = ascii_code + shift\n",
    "        elif action == 'decode':\n",
    "            shifted_code = ascii_code - shift\n",
    "        \n",
    "        if is_upper:\n",
    "            if shifted_code > ord('Z'):\n",
    "                shifted_code -= 26\n",
    "            elif shifted_code < ord('A'):\n",
    "                shifted_code += 26\n",
    "        else:\n",
    "            if shifted_code > ord('z'):\n",
    "                shifted_code -= 26\n",
    "            elif shifted_code < ord('a'):\n",
    "                shifted_code += 26\n",
    "        \n",
    "        shifted_char = chr(shifted_code)\n",
    "        result += shifted_char\n",
    "    else:\n",
    "        result += char\n",
    "\n",
    "print(result)\n",
    "\n",
    "\n",
    "\n",
    "\n",
    "\n",
    "\n",
    "\n"
   ]
  },
  {
   "cell_type": "code",
   "execution_count": 2,
   "id": "40da6dd1-f8bc-4add-8830-c1d23efc3c3a",
   "metadata": {},
   "outputs": [
    {
     "name": "stdout",
     "output_type": "stream",
     "text": [
      "Decoded: Hello, World!\n"
     ]
    }
   ],
   "source": [
    "#Decode a Caesar cipher encoded string\n",
    "encoded_text = \"Khoor, Zruog!\"\n",
    "shift_amount = 3\n",
    "decoded_text = \"\"\n",
    "\n",
    "for char in encoded_text:\n",
    "    if char.isalpha():\n",
    "        is_upper = char.isupper()\n",
    "        ascii_code = ord(char)\n",
    "        \n",
    "        shifted_code = ascii_code - shift_amount  # Decoding step\n",
    "        \n",
    "        if is_upper:\n",
    "            if shifted_code < ord('A'):\n",
    "                shifted_code += 26\n",
    "        else:\n",
    "            if shifted_code < ord('a'):\n",
    "                shifted_code += 26\n",
    "        \n",
    "        shifted_char = chr(shifted_code)\n",
    "        decoded_text += shifted_char\n",
    "    else:\n",
    "        decoded_text += char\n",
    "\n",
    "print(\"Decoded:\", decoded_text)"
   ]
  },
  {
   "cell_type": "code",
   "execution_count": 11,
   "id": "6af861dc-e074-48ed-b4aa-da3fbb7f743a",
   "metadata": {},
   "outputs": [
    {
     "name": "stdout",
     "output_type": "stream",
     "text": [
      "Most frequent word: is\n",
      "Frequency: 2\n"
     ]
    }
   ],
   "source": [
    "#Find the most frequent word in a string\n",
    "text= \"This is cat. Cat is fat. I love cat.\"\n",
    "# Convert the text to lowercase to make the word count case-insensitive\n",
    "text = text.lower()\n",
    "\n",
    "# Split the text into words\n",
    "words = text.split()\n",
    "\n",
    "# Create a dictionary to store word frequencies\n",
    "word_count = {}\n",
    "\n",
    "# Count the frequency of each word\n",
    "for word in words:\n",
    "    if word in word_count:\n",
    "        word_count[word] += 1\n",
    "    else:\n",
    "        word_count[word] = 1\n",
    "\n",
    "# Find the word with the highest frequency\n",
    "most_frequent_word = max(word_count, key=word_count.get)\n",
    "\n",
    "print(\"Most frequent word:\", most_frequent_word)\n",
    "print(\"Frequency:\", word_count[most_frequent_word])"
   ]
  },
  {
   "cell_type": "code",
   "execution_count": 12,
   "id": "fef43d43-05f3-4eae-87ac-e19e755509ba",
   "metadata": {},
   "outputs": [
    {
     "name": "stdout",
     "output_type": "stream",
     "text": [
      "Unique words: ['is', 'fat.', 'love', 'this', 'cat.', 'cat', 'i']\n"
     ]
    }
   ],
   "source": [
    "#Find all unique words in a string\n",
    "text= \"This is cat. Cat is fat. I love cat.\"\n",
    "text=text.lower()\n",
    "words=text.split()\n",
    "unique_words=set()\n",
    "for word in words:\n",
    "    unique_words.add(word)\n",
    "    \n",
    "unique_words_list = list(unique_words)\n",
    "\n",
    "print(\"Unique words:\", unique_words_list)"
   ]
  },
  {
   "cell_type": "code",
   "execution_count": 1,
   "id": "f7e61e00-760c-4b30-9ea6-7066166c37ee",
   "metadata": {},
   "outputs": [
    {
     "name": "stdout",
     "output_type": "stream",
     "text": [
      "'hello' has 2 syllables.\n",
      "'banana' has 3 syllables.\n",
      "'syllable' has 2 syllables.\n"
     ]
    }
   ],
   "source": [
    "#Count the number of syllables in a string.\n",
    "import re\n",
    "def count_syllables(word):\n",
    "    vowel_groups=re.findall(r'[aeiou]+', word, re.IGNORECASE)\n",
    "    return len(vowel_groups)\n",
    "\n",
    "word1=\"hello\"\n",
    "word2=\"banana\"\n",
    "word3=\"syllable\"\n",
    "\n",
    "syllables1=count_syllables(word1)\n",
    "syllables2=count_syllables(word2)\n",
    "syllables3=count_syllables(word3)\n",
    "\n",
    "print(f\"'{word1}' has {syllables1} syllables.\")\n",
    "print(f\"'{word2}' has {syllables2} syllables.\")\n",
    "print(f\"'{word3}' has {syllables3} syllables.\")"
   ]
  },
  {
   "cell_type": "code",
   "execution_count": 3,
   "id": "c8adc86b-78cc-4f15-9857-62939861c530",
   "metadata": {},
   "outputs": [
    {
     "name": "stdout",
     "output_type": "stream",
     "text": [
      "'hello, world!' contains special characters: True\n",
      "'this is world.' contains special characters: True\n"
     ]
    }
   ],
   "source": [
    "#Check if a string contains any special characters\n",
    "import re\n",
    "def contain_sc(string_input):\n",
    "    pattern=re.compile(r'[!@#$%^&*()_+{}\\[\\]:;<>,.?~\\\\/]')\n",
    "    match=pattern.search(string_input)\n",
    "    return bool(match)\n",
    "\n",
    "string1=\"hello, world!\"\n",
    "string2=\"this is world.\"\n",
    "\n",
    "result1=contain_sc(string1)\n",
    "result2=contain_sc(string2)\n",
    "\n",
    "\n",
    "print(f\"'{string1}' contains special characters:\", result1)\n",
    "print(f\"'{string2}' contains special characters:\", result2)"
   ]
  },
  {
   "cell_type": "code",
   "execution_count": 22,
   "id": "4f79e990-aec8-432a-9a5e-ecdff128dcca",
   "metadata": {},
   "outputs": [
    {
     "name": "stdout",
     "output_type": "stream",
     "text": [
      "this Manmeet\n"
     ]
    }
   ],
   "source": [
    "#Remove the nth word from a string\n",
    "string=\"this is Manmeet\"\n",
    "n=2\n",
    "words = string.split()\n",
    "if n<=0 or n>len(words):\n",
    "    string=\"invalid string\"\n",
    "else:\n",
    "    words.pop(n-1)\n",
    "    \n",
    "new_string=\" \".join(words)\n",
    "\n",
    "print(new_string)"
   ]
  },
  {
   "cell_type": "code",
   "execution_count": 24,
   "id": "e92c25b7-eb37-4012-a001-515899969d0e",
   "metadata": {},
   "outputs": [
    {
     "name": "stdout",
     "output_type": "stream",
     "text": [
      "this is rockstar Manmeet\n"
     ]
    }
   ],
   "source": [
    "#Insert a word at the nth position in a string\n",
    "string=\"this is Manmeet\"\n",
    "wordtoinsert=\"rockstar\"\n",
    "n=3\n",
    "words = string.split()\n",
    "if n<=0 or n>len(words):\n",
    "    string=\"invalid string\"\n",
    "else:\n",
    "    words.insert(n-1, wordtoinsert)\n",
    "    \n",
    "new_string=\" \".join(words)\n",
    "\n",
    "print(new_string)"
   ]
  },
  {
   "cell_type": "code",
   "execution_count": 25,
   "id": "e4b0445a-e4b7-45f6-843f-24fc10ece149",
   "metadata": {},
   "outputs": [
    {
     "name": "stdout",
     "output_type": "stream",
     "text": [
      "['1', 'John', 'Doe']\n",
      "['2', 'Jane', 'Smith']\n",
      "['3', 'Bob', 'Johnson']\n"
     ]
    }
   ],
   "source": [
    "# CSV string\n",
    "csv_string = \"\"\"1,John,Doe\n",
    "2,Jane,Smith\n",
    "3,Bob,Johnson\"\"\"\n",
    "\n",
    "# Initialize a list to store the converted data\n",
    "csv_data = []\n",
    "\n",
    "# Split the CSV string into lines\n",
    "lines = csv_string.split('\\n')\n",
    "\n",
    "# Iterate through the lines and split each line into a list of values\n",
    "for line in lines:\n",
    "    if line.strip():  # Skip empty lines\n",
    "        row = line.split(',')\n",
    "        csv_data.append(row)\n",
    "\n",
    "# Print the list of lists\n",
    "for row in csv_data:\n",
    "    print(row)"
   ]
  },
  {
   "cell_type": "code",
   "execution_count": null,
   "id": "99f396a2-5721-42f3-ae44-e4fc16ddc3da",
   "metadata": {},
   "outputs": [],
   "source": [
    "#LIST BASED PRACTISE PROBLEM"
   ]
  },
  {
   "cell_type": "code",
   "execution_count": 26,
   "id": "5ac75660-514c-494f-b68f-f4d63d5a88be",
   "metadata": {},
   "outputs": [
    {
     "name": "stdout",
     "output_type": "stream",
     "text": [
      "[1, 2, 3, 4, 5, 6, 7, 8, 9, 10]\n"
     ]
    }
   ],
   "source": [
    "#Create a list with integers from 1 to 10\n",
    "list=[x for x in range(1,11)]\n",
    "print(list)"
   ]
  },
  {
   "cell_type": "code",
   "execution_count": 27,
   "id": "0f95ede5-4a2d-45ca-8b73-1b0083a605c0",
   "metadata": {},
   "outputs": [
    {
     "name": "stdout",
     "output_type": "stream",
     "text": [
      "the length of list is: 5\n"
     ]
    }
   ],
   "source": [
    "#Find the length of a list without using the `len()` function\n",
    "list=[1,2,3,4,5]\n",
    "count=0\n",
    "for i in list:\n",
    "    count+=1\n",
    "print(\"the length of list is:\", count)"
   ]
  },
  {
   "cell_type": "code",
   "execution_count": 29,
   "id": "ab3d1246-1e6d-4cbf-81fe-85b449aebebe",
   "metadata": {},
   "outputs": [
    {
     "name": "stdout",
     "output_type": "stream",
     "text": [
      "[1, 2, 3, 4, 5, 6]\n"
     ]
    }
   ],
   "source": [
    "#Append an element to the end of a list.\n",
    "list=[1,2,3,4,5]\n",
    "list.append(6)\n",
    "print(list)"
   ]
  },
  {
   "cell_type": "code",
   "execution_count": 30,
   "id": "0e67ca70-8c51-43b1-91bb-608a8325aaec",
   "metadata": {},
   "outputs": [
    {
     "name": "stdout",
     "output_type": "stream",
     "text": [
      "[1, 2, 6, 3, 4, 5]\n"
     ]
    }
   ],
   "source": [
    "#Insert an element at a specific index in a list.\n",
    "list=[1,2,3,4,5]\n",
    "list.insert(2,6)\n",
    "print(list)"
   ]
  },
  {
   "cell_type": "code",
   "execution_count": 32,
   "id": "091e076b-c485-4ec9-9d9d-b7d8dfefa8a7",
   "metadata": {},
   "outputs": [
    {
     "name": "stdout",
     "output_type": "stream",
     "text": [
      "[1, 3, 4, 5]\n"
     ]
    }
   ],
   "source": [
    "#remove an element from a list by its value\n",
    "list=[1,2,3,4,5]\n",
    "list.remove(2)\n",
    "print(list)"
   ]
  },
  {
   "cell_type": "code",
   "execution_count": 33,
   "id": "68041660-0cab-451a-a1f7-59b3417c4a2c",
   "metadata": {},
   "outputs": [
    {
     "name": "stdout",
     "output_type": "stream",
     "text": [
      "[1, 2, 3, 5]\n",
      "removed element: 4\n"
     ]
    }
   ],
   "source": [
    "#Remove an element from a list by its index\n",
    "list=[1,2,3,4,5]\n",
    "index_to_remove=3\n",
    "removed_element = list.pop(index_to_remove)\n",
    "print(list)\n",
    "print(\"removed element:\", removed_element)"
   ]
  },
  {
   "cell_type": "code",
   "execution_count": 34,
   "id": "bd5937ea-b298-468b-b236-cf5218c500de",
   "metadata": {},
   "outputs": [
    {
     "name": "stdout",
     "output_type": "stream",
     "text": [
      "element is in the list\n"
     ]
    }
   ],
   "source": [
    "#Check if an element exists in a list\n",
    "list=[1,2,3,4,5]\n",
    "element = 2\n",
    "if element in list:\n",
    "    print(\"element is in the list\")\n",
    "else:\n",
    "    print(\"element is not in the list\")"
   ]
  },
  {
   "cell_type": "code",
   "execution_count": 1,
   "id": "62128836-03ee-451a-8860-ac2731f9cbbc",
   "metadata": {},
   "outputs": [
    {
     "name": "stdout",
     "output_type": "stream",
     "text": [
      "index of element 2\n"
     ]
    }
   ],
   "source": [
    "#Find the index of the first occurrence of an element in a list\n",
    "list=[1,2,3,4,5,6]\n",
    "element=3\n",
    "index=list.index(element)\n",
    "print(\"index of element\",index)"
   ]
  },
  {
   "cell_type": "code",
   "execution_count": 4,
   "id": "b21e8ff4-d7fe-40f6-b82c-c0577e600322",
   "metadata": {},
   "outputs": [
    {
     "name": "stdout",
     "output_type": "stream",
     "text": [
      "count of element in list is 2\n"
     ]
    }
   ],
   "source": [
    "#Count the occurrences of an element in a list.\n",
    "list=[1,2,3,4,5,2,1,4,2,3]\n",
    "element_to_count=1\n",
    "count=list.count(element_to_count)\n",
    "print(\"count of element in list is\",count)"
   ]
  },
  {
   "cell_type": "code",
   "execution_count": 6,
   "id": "9194643b-d064-4c53-9f58-9d1fae130ce2",
   "metadata": {},
   "outputs": [
    {
     "name": "stdout",
     "output_type": "stream",
     "text": [
      "[5, 4, 3, 2, 1]\n"
     ]
    }
   ],
   "source": [
    "#Reverse the order of elements in a list.\n",
    "list=[1,2,3,4,5]\n",
    "reversed_list=list[::-1]\n",
    "print(reversed_list)"
   ]
  },
  {
   "cell_type": "code",
   "execution_count": 10,
   "id": "72b7585c-8d9b-490a-9bc6-90959358bb18",
   "metadata": {},
   "outputs": [
    {
     "name": "stdout",
     "output_type": "stream",
     "text": [
      "[1, 2, 3, 4, 5, 6]\n"
     ]
    }
   ],
   "source": [
    "#Sort a list in ascending order.\n",
    "list=[3,1,4,2,5,6]\n",
    "list.sort()\n",
    "print(list)"
   ]
  },
  {
   "cell_type": "code",
   "execution_count": 12,
   "id": "a9f05d96-c88d-45e5-ab86-58c18170257e",
   "metadata": {},
   "outputs": [
    {
     "name": "stdout",
     "output_type": "stream",
     "text": [
      "[6, 5, 4, 3, 2, 1]\n"
     ]
    }
   ],
   "source": [
    "#Sort a list in descending order.\n",
    "list=[3,1,4,2,5,6]\n",
    "sorted_list=sorted(list,reverse=True)\n",
    "print(sorted_list)"
   ]
  },
  {
   "cell_type": "code",
   "execution_count": 14,
   "id": "e0d4ee15-a508-4e8e-a4f1-5a66e5f3a443",
   "metadata": {},
   "outputs": [
    {
     "name": "stdout",
     "output_type": "stream",
     "text": [
      "[2, 4, 6, 8, 10, 12, 14, 16, 18, 20]\n"
     ]
    }
   ],
   "source": [
    "#Create a list of even numbers from 1 to 20.\n",
    "even_numbers=[x for x in range(2,21,2)]\n",
    "print(even_numbers)"
   ]
  },
  {
   "cell_type": "code",
   "execution_count": 16,
   "id": "a5b6b880-c8a3-4f0d-947a-c17380e21af8",
   "metadata": {},
   "outputs": [
    {
     "name": "stdout",
     "output_type": "stream",
     "text": [
      "[1, 3, 5, 7, 9, 11, 13, 15, 17, 19]\n"
     ]
    }
   ],
   "source": [
    "#Create a list of odd numbers from 1 to 20.\n",
    "odd_numbers=[x for x in range(1,20,2)]\n",
    "print(odd_numbers)"
   ]
  },
  {
   "cell_type": "code",
   "execution_count": 20,
   "id": "a48e9b20-5183-4392-b625-0ca2e1a9b3d0",
   "metadata": {},
   "outputs": [
    {
     "name": "stdout",
     "output_type": "stream",
     "text": [
      "21\n"
     ]
    }
   ],
   "source": [
    "#Find the sum of all elements in a list.\n",
    "list=[1,2,3,4,5,6]\n",
    "sum=0\n",
    "for i in list:\n",
    "    sum+=i\n",
    "print(sum)"
   ]
  },
  {
   "cell_type": "code",
   "execution_count": 21,
   "id": "2d44fb7e-0b0c-41d3-8dab-5fcf9d469d02",
   "metadata": {},
   "outputs": [
    {
     "name": "stdout",
     "output_type": "stream",
     "text": [
      "maximum value in the list is: 731\n"
     ]
    }
   ],
   "source": [
    "#Find the maximum value in a list.\n",
    "list=[10,34,731,47,3]\n",
    "max_value=max(list)\n",
    "print(\"maximum value in the list is:\",max_value)"
   ]
  },
  {
   "cell_type": "code",
   "execution_count": 22,
   "id": "15d291ff-5e70-4e95-8590-beeff3dfd3cb",
   "metadata": {},
   "outputs": [
    {
     "name": "stdout",
     "output_type": "stream",
     "text": [
      "minimum value in the list is: 3\n"
     ]
    }
   ],
   "source": [
    "#Find the minimum value in a list.\n",
    "list=[10,34,731,47,3]\n",
    "min_value=min(list)\n",
    "print(\"minimum value in the list is:\",min_value)"
   ]
  },
  {
   "cell_type": "code",
   "execution_count": 3,
   "id": "f9e4dc00-3c1a-47ec-82d1-05cc89bb7c8f",
   "metadata": {},
   "outputs": [
    {
     "name": "stdout",
     "output_type": "stream",
     "text": [
      "[1, 2, 3, 4, 5, 6, 7, 8, 9, 10]\n",
      "[1, 4, 9, 16, 25, 36, 49, 64, 81, 100]\n"
     ]
    }
   ],
   "source": [
    "#Create a list of squares of numbers from 1 to 10.\n",
    "list=[x for x in range(1,11)]\n",
    "print(list)\n",
    "squares=[]\n",
    "for i in range(1,11):\n",
    "    square=i**2\n",
    "    squares.append(square)\n",
    "    \n",
    "print(squares)\n",
    "\n"
   ]
  },
  {
   "cell_type": "code",
   "execution_count": 7,
   "id": "d429940b-a4a8-4694-b2e1-c6f7933388ba",
   "metadata": {},
   "outputs": [
    {
     "name": "stdout",
     "output_type": "stream",
     "text": [
      "[0.932704109194547, 0.6123376103709838, 0.1673303853058038, 0.909614523427703, 0.19814904566916236, 0.9085933794247983, 0.12803218216099188, 0.9933516085950441, 0.07202560665112667, 0.3289168939646028]\n"
     ]
    }
   ],
   "source": [
    "#Create a list of random numbers.\n",
    "import random\n",
    "random_numbers=[random.random() for i in range(10)]\n",
    "    \n",
    "print(random_numbers)"
   ]
  },
  {
   "cell_type": "code",
   "execution_count": 13,
   "id": "47b00e73-142c-449b-ab5a-6b766a96b21e",
   "metadata": {},
   "outputs": [
    {
     "name": "stdout",
     "output_type": "stream",
     "text": [
      "[1, 3, 2, 4]\n"
     ]
    }
   ],
   "source": [
    "#Remove duplicates from a list.\n",
    "original_list = [1,3,2,1,4,2,1,3,2]\n",
    "unique_list = []\n",
    "for item in original_list:\n",
    "    if item not in unique_list:\n",
    "        unique_list.append(item)\n",
    "print(unique_list)"
   ]
  },
  {
   "cell_type": "code",
   "execution_count": 14,
   "id": "f15fbdcc-df7b-4346-8c5e-8eae09c7a3b0",
   "metadata": {},
   "outputs": [
    {
     "name": "stdout",
     "output_type": "stream",
     "text": [
      "[6]\n"
     ]
    }
   ],
   "source": [
    "#Find the common elements between two lists.\n",
    "list1=[1,2,3,4,5,6]\n",
    "list2=[6,7,8,9,10,11]\n",
    "common_elements=[]\n",
    "for element in list1:\n",
    "    if element in list2:\n",
    "        common_elements.append(element)\n",
    "        \n",
    "print(common_elements)"
   ]
  },
  {
   "cell_type": "code",
   "execution_count": 16,
   "id": "c2104991-69e7-4b64-bcc1-813050e589bc",
   "metadata": {},
   "outputs": [
    {
     "name": "stdout",
     "output_type": "stream",
     "text": [
      "[1, 2]\n"
     ]
    }
   ],
   "source": [
    "#Find the difference between two lists.\n",
    "list1=[1,2,3,4,5]\n",
    "list2=[3,4,5,6,7]\n",
    "difference = [element for element in list1 if element not in list2]\n",
    "print(difference)"
   ]
  },
  {
   "cell_type": "code",
   "execution_count": 17,
   "id": "8a41ecbb-4619-4a01-bfa3-8ab4eed1d4a8",
   "metadata": {},
   "outputs": [
    {
     "name": "stdout",
     "output_type": "stream",
     "text": [
      "[1, 2, 3, 4, 5, 3, 4, 5, 6, 7]\n"
     ]
    }
   ],
   "source": [
    "#Merge two lists.\n",
    "list1=[1,2,3,4,5]\n",
    "list2=[3,4,5,6,7]\n",
    "merged_list=list1+list2\n",
    "print(merged_list)"
   ]
  },
  {
   "cell_type": "code",
   "execution_count": 19,
   "id": "a409d2d6-1eb6-4dd0-8835-b89eb3f57afb",
   "metadata": {},
   "outputs": [
    {
     "name": "stdout",
     "output_type": "stream",
     "text": [
      "[2, 4, 6, 8, 10]\n"
     ]
    }
   ],
   "source": [
    "#Multiply all elements in a list by 2\n",
    "list=[1,2,3,4,5]\n",
    "doubled_list=[]\n",
    "for element in list:\n",
    "    doubled_element=element*2\n",
    "    doubled_list.append(doubled_element)\n",
    "    \n",
    "print(doubled_list)"
   ]
  },
  {
   "cell_type": "code",
   "execution_count": 25,
   "id": "3015b6f3-6e67-4ed0-b802-69b2a28248d4",
   "metadata": {},
   "outputs": [
    {
     "name": "stdout",
     "output_type": "stream",
     "text": [
      "[2, 4, 6, 8]\n"
     ]
    }
   ],
   "source": [
    "#Filter out all even numbers from a list\n",
    "list=[1,2,3,4,5,6,7,8]\n",
    "new_list=[x for x in list if x%2 == 0]\n",
    "print(new_list)"
   ]
  },
  {
   "cell_type": "code",
   "execution_count": 26,
   "id": "56654a99-773a-45cc-a959-23def4ec4864",
   "metadata": {},
   "outputs": [
    {
     "name": "stdout",
     "output_type": "stream",
     "text": [
      "[1, 2, 3, 4, 5]\n"
     ]
    }
   ],
   "source": [
    "#Convert a list of strings to a list of integers\n",
    "string_list=[\"1\",\"2\",\"3\",\"4\",\"5\"]\n",
    "int_list =[int(x) for x in string_list]\n",
    "print(int_list)"
   ]
  },
  {
   "cell_type": "code",
   "execution_count": 27,
   "id": "6a19daa1-0391-46dc-9d42-d3d0506ebf91",
   "metadata": {},
   "outputs": [
    {
     "name": "stdout",
     "output_type": "stream",
     "text": [
      "['1', '2', '3', '4', '5']\n"
     ]
    }
   ],
   "source": [
    "#Convert a list of integers to a list of strings\n",
    "int_list=[1,2,3,4,5]\n",
    "str_list =[str(x) for x in int_list]\n",
    "print(str_list)"
   ]
  },
  {
   "cell_type": "code",
   "execution_count": 35,
   "id": "07c55c78-b6ac-4d71-8e67-9f0e8e1298ef",
   "metadata": {},
   "outputs": [
    {
     "name": "stdout",
     "output_type": "stream",
     "text": [
      "List [[11, 22, 33, 44], [55, 66, 77], [88, 99, 100]]\n",
      "Flat List [11, 22, 33, 44, 55, 66, 77, 88, 99, 100]\n"
     ]
    }
   ],
   "source": [
    "#flatten a nested list\n",
    "lis = [[11, 22, 33, 44], [55, 66, 77], [88, 99, 100]]\n",
    " \n",
    "# iterate through the sublist using List comprehension\n",
    "flatList = [element for innerList in lis for element in innerList]\n",
    " \n",
    "# printing original list\n",
    "print('List', lis)\n",
    "# printing flat list\n",
    "print('Flat List', flatList)"
   ]
  },
  {
   "cell_type": "code",
   "execution_count": 36,
   "id": "781272be-b05a-4e43-96ed-7e7d941fa537",
   "metadata": {},
   "outputs": [
    {
     "name": "stdout",
     "output_type": "stream",
     "text": [
      "1 2 3 5 8 13 21 34 55 89 "
     ]
    }
   ],
   "source": [
    "#Create a list of the first 10 Fibonacci numbers\n",
    "n=10\n",
    "num1 =0\n",
    "num2 =1\n",
    "next_number =num2\n",
    "count =1\n",
    "while count<=n:\n",
    "    print(next_number, end=\" \")\n",
    "    count+=1\n",
    "    num1,num2=num2, next_number\n",
    "    next_number=num1+num2\n"
   ]
  },
  {
   "cell_type": "code",
   "execution_count": 38,
   "id": "c715c8cb-1082-433e-ac01-f26f093e136d",
   "metadata": {},
   "outputs": [
    {
     "name": "stdout",
     "output_type": "stream",
     "text": [
      "Given list: [11, 31, 10, 32, 43, 21]\n",
      "No, List is not sorted\n"
     ]
    }
   ],
   "source": [
    "#Check if a list is sorted.\n",
    "listA=[11,31,10,32,43,21]\n",
    "print(\"Given list:\", listA)\n",
    "listA_copy=listA[:]\n",
    "listA_copy.sort()\n",
    "if (listA == listA_copy):\n",
    "    print(\"Yes, List is sorted\")\n",
    "else:\n",
    "    print(\"No, List is not sorted\")"
   ]
  },
  {
   "cell_type": "code",
   "execution_count": 41,
   "id": "c6510e70-f04d-47d2-9fe4-f5df2ae47c24",
   "metadata": {},
   "outputs": [
    {
     "name": "stdout",
     "output_type": "stream",
     "text": [
      "original list is: [1, 2, 3, 4, 5]\n",
      "left rotated list is: [4, 5, 1, 2, 3]\n"
     ]
    }
   ],
   "source": [
    "#Rotate a list to the left by `n` positions.\n",
    "list=[1,2,3,4,5]\n",
    "print(\"original list is:\",str(list))\n",
    "#left rotate by 3\n",
    "list=list[3:]+list[:3]\n",
    "print(\"left rotated list is:\",str(list))"
   ]
  },
  {
   "cell_type": "code",
   "execution_count": 43,
   "id": "281ddc1b-9d24-4f07-93c1-3e3a4925f5d6",
   "metadata": {},
   "outputs": [
    {
     "name": "stdout",
     "output_type": "stream",
     "text": [
      "original list is: [1, 2, 3, 4, 5]\n",
      "right rotated list is: [3, 4, 5, 1, 2]\n"
     ]
    }
   ],
   "source": [
    "#Rotate a list to the right by `n` positions.\n",
    "list=[1,2,3,4,5]\n",
    "print(\"original list is:\",str(list))\n",
    "#right rotate by 3\n",
    "list=list[-3:]+list[:-3]\n",
    "print(\"right rotated list is:\",str(list))"
   ]
  },
  {
   "cell_type": "code",
   "execution_count": 45,
   "id": "c383bb13-53c6-4a65-94a9-8f6bdb2b9349",
   "metadata": {},
   "outputs": [
    {
     "name": "stdout",
     "output_type": "stream",
     "text": [
      "2\n",
      "3\n",
      "5\n",
      "7\n",
      "11\n",
      "13\n",
      "17\n",
      "19\n",
      "23\n",
      "29\n",
      "31\n",
      "37\n",
      "41\n",
      "43\n",
      "47\n"
     ]
    }
   ],
   "source": [
    "#Create a list of prime numbers up to 50.\n",
    "for num in range(2,51):\n",
    "    if all(num%i!=0 for i in range(2,num)):\n",
    "        print(num)\n",
    "    \n"
   ]
  },
  {
   "cell_type": "code",
   "execution_count": 46,
   "id": "729884ff-3a8b-4fbe-a741-18d399406172",
   "metadata": {},
   "outputs": [
    {
     "name": "stdout",
     "output_type": "stream",
     "text": [
      "[1, 2, 3]\n",
      "[4, 5, 6]\n",
      "[7, 8, 9]\n"
     ]
    }
   ],
   "source": [
    "#Split a list into chunks of size `n`.\n",
    "list=[1,2,3,4,5,6,7,8,9]\n",
    "start=0\n",
    "end=len(list)\n",
    "step=3\n",
    "for i in range(start,end,step):\n",
    "    x=i\n",
    "    print(list[x:x+step])"
   ]
  },
  {
   "cell_type": "code",
   "execution_count": 51,
   "id": "a69a1b47-2b62-45a9-a7c8-91afb43235ce",
   "metadata": {},
   "outputs": [
    {
     "name": "stdout",
     "output_type": "stream",
     "text": [
      "second largest element is: 30\n"
     ]
    }
   ],
   "source": [
    "#Find the second largest number in a list\n",
    "list1=[10,20,30,20,50,20,10,30]\n",
    "list1.sort()\n",
    "print(\"second largest element is:\", sorted(list1)[-2])"
   ]
  },
  {
   "cell_type": "code",
   "execution_count": 52,
   "id": "36619f1b-98bb-4f93-bee1-8a5546617671",
   "metadata": {},
   "outputs": [
    {
     "name": "stdout",
     "output_type": "stream",
     "text": [
      "[1, 4, 9, 16, 25]\n"
     ]
    }
   ],
   "source": [
    "#Replace every element in a list with its square\n",
    "list=[1,2,3,4,5]\n",
    "for i in range(len(list)):\n",
    "    list[i]=list[i]**2\n",
    "print(list)"
   ]
  },
  {
   "cell_type": "code",
   "execution_count": 53,
   "id": "8ab65f5a-ab90-46c1-b825-f9aab3dac1a1",
   "metadata": {},
   "outputs": [
    {
     "name": "stdout",
     "output_type": "stream",
     "text": [
      "{'apple': 0, 'banana': 1, 'strawberry': 2, 'date': 3}\n"
     ]
    }
   ],
   "source": [
    "#Convert a list to a dictionary where list elements become keys and their indices become values.\n",
    "list=['apple','banana','strawberry','date']\n",
    "my_dict={element:index for index, element in enumerate(list)}\n",
    "print(my_dict)"
   ]
  },
  {
   "cell_type": "code",
   "execution_count": 54,
   "id": "150146e8-454f-44d2-bb1f-c3da7c55d59c",
   "metadata": {},
   "outputs": [
    {
     "name": "stdout",
     "output_type": "stream",
     "text": [
      "[4, 3, 5, 2, 1]\n"
     ]
    }
   ],
   "source": [
    "#Shuffle the elements of a list randomly\n",
    "import random\n",
    "list=[1,2,3,4,5]\n",
    "random.shuffle(list)\n",
    "print(list)"
   ]
  },
  {
   "cell_type": "code",
   "execution_count": 55,
   "id": "8aea5e17-a759-4616-a172-4a55e4a3bfcf",
   "metadata": {},
   "outputs": [
    {
     "name": "stdout",
     "output_type": "stream",
     "text": [
      "[1, 2, 6, 24, 120, 720, 5040, 40320, 362880, 3628800]\n"
     ]
    }
   ],
   "source": [
    "#Create a list of the first 10 factorial numbers.\n",
    "factorial_list=[]\n",
    "result=1\n",
    "for i in range(10):\n",
    "    result*=(i+1)\n",
    "    factorial_list.append(result)\n",
    "    \n",
    "print(factorial_list)\n",
    "    "
   ]
  },
  {
   "cell_type": "code",
   "execution_count": 56,
   "id": "0d65b49d-f649-44ac-b866-c9ad3521c630",
   "metadata": {},
   "outputs": [
    {
     "name": "stdout",
     "output_type": "stream",
     "text": [
      "lists have a at least one element in common\n"
     ]
    }
   ],
   "source": [
    "#Check if two lists have at least one element in common\n",
    "list1=[1,2,3,4,5]\n",
    "list2=[4,5,6,7,8]\n",
    "common_elements = set(list1) & set(list2)\n",
    "if common_elements:\n",
    "    print(\"lists have a at least one element in common\")\n",
    "else:\n",
    "    print(\"list have no common element\")"
   ]
  },
  {
   "cell_type": "code",
   "execution_count": 57,
   "id": "303a895f-5374-4dc5-b20b-c1231da6f81a",
   "metadata": {},
   "outputs": [
    {
     "name": "stdout",
     "output_type": "stream",
     "text": [
      "[]\n"
     ]
    }
   ],
   "source": [
    "#Remove all elements from a list.\n",
    "list=[1,2,3,4,5]\n",
    "list.clear()\n",
    "print(list)"
   ]
  },
  {
   "cell_type": "code",
   "execution_count": 1,
   "id": "c5750b8f-8a23-46db-85b3-ca5d4ed67496",
   "metadata": {},
   "outputs": [
    {
     "name": "stdout",
     "output_type": "stream",
     "text": [
      "[1, 0, 3, 0, 5]\n"
     ]
    }
   ],
   "source": [
    "#Replace negative numbers in a list with 0\n",
    "list=[1,-2,3,-4,5]\n",
    "new_list=[x if x>=0 else 0 for x in list]\n",
    "print(new_list)"
   ]
  },
  {
   "cell_type": "code",
   "execution_count": 2,
   "id": "e3a262bc-0818-4449-98db-bf02860a1bf4",
   "metadata": {},
   "outputs": [
    {
     "name": "stdout",
     "output_type": "stream",
     "text": [
      "['my', 'name', 'is', 'manmeet']\n"
     ]
    }
   ],
   "source": [
    "#Convert a string into a list of words.\n",
    "string=\"my name is manmeet\"\n",
    "word_list=string.split()\n",
    "print(word_list)"
   ]
  },
  {
   "cell_type": "code",
   "execution_count": 5,
   "id": "cdf46510-a0f7-4ecd-ada4-5984309264fc",
   "metadata": {},
   "outputs": [
    {
     "name": "stdout",
     "output_type": "stream",
     "text": [
      "my name is manmeet\n"
     ]
    }
   ],
   "source": [
    "#Convert a list of words into a string.\n",
    "list=['my', 'name', 'is', 'manmeet']\n",
    "string=' '.join(list)\n",
    "print(string)"
   ]
  },
  {
   "cell_type": "code",
   "execution_count": 6,
   "id": "38a7e030-9585-4418-9aa4-9005e6bd7b4a",
   "metadata": {},
   "outputs": [
    {
     "name": "stdout",
     "output_type": "stream",
     "text": [
      "[1, 2, 4, 8, 16]\n"
     ]
    }
   ],
   "source": [
    "#Create a list of the first `n` powers of 2\n",
    "n=5\n",
    "powers_of_2=[2**i for i in range(n)]\n",
    "print(powers_of_2)"
   ]
  },
  {
   "cell_type": "code",
   "execution_count": 6,
   "id": "79d6be50-9c7a-4961-aba2-7c3d71a25c08",
   "metadata": {},
   "outputs": [
    {
     "name": "stdout",
     "output_type": "stream",
     "text": [
      "The longest string in the list is: manmeet\n"
     ]
    }
   ],
   "source": [
    "#Find the longest string in a list of strings\n",
    "list_of_strings=[\"manmeet\",\"is\",\"amazing\"]\n",
    "longest_string=max(list_of_strings, key=len)\n",
    "print(\"The longest string in the list is:\",longest_string)\n"
   ]
  },
  {
   "cell_type": "code",
   "execution_count": 8,
   "id": "be44eb93-7a77-4c6f-a49c-aa6af8c2e5de",
   "metadata": {},
   "outputs": [
    {
     "name": "stdout",
     "output_type": "stream",
     "text": [
      "The shortest string in the list is: is\n"
     ]
    }
   ],
   "source": [
    "#Find the shortest string in a list of strings\n",
    "list_of_strings=[\"manmeet\",\"is\",\"amazing\"]\n",
    "shortest_string=min(list_of_strings, key=len)\n",
    "print(\"The shortest string in the list is:\",shortest_string)"
   ]
  },
  {
   "cell_type": "code",
   "execution_count": 12,
   "id": "f19b90d9-b3d7-40f9-88c0-fe311b6c56c2",
   "metadata": {},
   "outputs": [
    {
     "name": "stdin",
     "output_type": "stream",
     "text": [
      "enter the number of triangular numbers  in the list 4\n"
     ]
    },
    {
     "name": "stdout",
     "output_type": "stream",
     "text": [
      "first 4 triangular numbers are: [1, 3, 6, 10]\n"
     ]
    }
   ],
   "source": [
    "#Create a list of the first `n` triangular numbers.\n",
    "number=int(input(\"enter the number of triangular numbers  in the list\"))\n",
    "tns=[]\n",
    "for i in range(1,number+1):\n",
    "           tn=i*(i+1)//2\n",
    "           tns.append(tn)\n",
    "           \n",
    "print(\"first\",number,\"triangular numbers are:\",tns)\n",
    "           "
   ]
  },
  {
   "cell_type": "code",
   "execution_count": 2,
   "id": "f44318ab-d0a0-418f-bb5b-8b51f586a1f4",
   "metadata": {},
   "outputs": [
    {
     "name": "stdout",
     "output_type": "stream",
     "text": [
      "subsequence found\n"
     ]
    }
   ],
   "source": [
    "#Check if a list contains another list as a subsequence\n",
    "sequence=[1,2,3,4,5,6]\n",
    "subsequence=[2,3,4]\n",
    "seq_len=len(sequence)\n",
    "sub_len=len(subsequence)\n",
    "seq_index=0\n",
    "sub_index=0\n",
    "while seq_index<seq_len and sub_index<sub_len:\n",
    "    if sequence[seq_index]==sequence[sub_index]:\n",
    "        sub_index+=1\n",
    "    seq_index+=1\n",
    "    \n",
    "if sub_index==sub_len:\n",
    "    print(\"subsequence found\")\n",
    "else:\n",
    "    print(\"sequence not found\")"
   ]
  },
  {
   "cell_type": "code",
   "execution_count": 1,
   "id": "44ab02d6-22f2-4927-a832-6618574de22f",
   "metadata": {},
   "outputs": [
    {
     "name": "stdout",
     "output_type": "stream",
     "text": [
      "[1, 5, 3, 4, 2]\n"
     ]
    }
   ],
   "source": [
    "#Swap two elements in a list by their indices\n",
    "list=[1,2,3,4,5]\n",
    "index1=1\n",
    "index2=4\n",
    "list[index1],list[index2]=list[index2], list[index1]\n",
    "print(list)"
   ]
  },
  {
   "cell_type": "code",
   "execution_count": 3,
   "id": "e1cf0eb4-9737-4c96-8bbc-4719bb53ced8",
   "metadata": {},
   "outputs": [],
   "source": [
    "#Tuple based problems"
   ]
  },
  {
   "cell_type": "code",
   "execution_count": 4,
   "id": "1232b3c4-6b0e-4076-8768-030905dc2512",
   "metadata": {},
   "outputs": [
    {
     "name": "stdout",
     "output_type": "stream",
     "text": [
      "(1, 2, 3, 4, 5)\n"
     ]
    }
   ],
   "source": [
    "#Create a tuple with integers from 1 to 5.\n",
    "tuple=(1,2,3,4,5)\n",
    "print(tuple)"
   ]
  },
  {
   "cell_type": "code",
   "execution_count": 5,
   "id": "d2b07fd3-1e4f-451c-a1e5-bd4c12b67040",
   "metadata": {},
   "outputs": [
    {
     "name": "stdout",
     "output_type": "stream",
     "text": [
      "3\n"
     ]
    }
   ],
   "source": [
    "#Access the third element of a tuple.\n",
    "tuple=(1,2,3,4,5)\n",
    "print(tuple[2])"
   ]
  },
  {
   "cell_type": "code",
   "execution_count": 9,
   "id": "a1c259b3-975d-41c9-9eea-5b18f2f10f33",
   "metadata": {},
   "outputs": [
    {
     "name": "stdout",
     "output_type": "stream",
     "text": [
      "length of tuple is: 5\n"
     ]
    }
   ],
   "source": [
    "#Find the length of a tuple without using the `len()` function\n",
    "tuple=(1,2,3,4,5)\n",
    "length=0\n",
    "for i in tuple:\n",
    "    length +=1\n",
    "print(\"length of tuple is:\", length)"
   ]
  },
  {
   "cell_type": "code",
   "execution_count": 11,
   "id": "547153b5-bd0e-4e80-b966-98264a85784f",
   "metadata": {},
   "outputs": [
    {
     "name": "stdout",
     "output_type": "stream",
     "text": [
      "element 3 appears 2 times in tuple\n"
     ]
    }
   ],
   "source": [
    "#Count the occurrences of an element in a tuple.\n",
    "tuple=(1,2,3,4,51,2,3)\n",
    "element_to_find=3\n",
    "count=0\n",
    "for item in tuple:\n",
    "    if item==element_to_find:\n",
    "        count +=1\n",
    "print(\"element 3 appears\",count,\"times in tuple\")"
   ]
  },
  {
   "cell_type": "code",
   "execution_count": 3,
   "id": "7a52d7ec-171b-4ffa-9b36-6d97830a36d9",
   "metadata": {},
   "outputs": [
    {
     "name": "stdout",
     "output_type": "stream",
     "text": [
      "The first occurance of element is: 2\n"
     ]
    }
   ],
   "source": [
    "#Find the index of the first occurrence of an element in a tuple.\n",
    "tuple=(1,2,3,4,5)\n",
    "element_to_find=2\n",
    "if element_to_find in tuple:\n",
    "    index=tuple.index(element_to_find)\n",
    "    print(\"The first occurance of element is:\", element_to_find)\n",
    "else:\n",
    "    print(\"element is not present in tuple\")"
   ]
  },
  {
   "cell_type": "code",
   "execution_count": 6,
   "id": "1d3269cd-0fa2-4d5a-9d74-5e3b2accdadf",
   "metadata": {},
   "outputs": [
    {
     "name": "stdout",
     "output_type": "stream",
     "text": [
      "element exists in a tuple\n"
     ]
    }
   ],
   "source": [
    "#Check if an element exists in a tuple.\n",
    "tuple=(1,2,3,4,5)\n",
    "element_to_find=2\n",
    "if element_to_find in tuple:\n",
    "    print(\"element exists in a tuple\")\n",
    "else:\n",
    "    print(\"element does not exist in the tuple\")"
   ]
  },
  {
   "cell_type": "code",
   "execution_count": 7,
   "id": "ac26327e-7432-4fa0-b23a-6c3de682a194",
   "metadata": {},
   "outputs": [
    {
     "name": "stdout",
     "output_type": "stream",
     "text": [
      "[10, 20, 30, 40, 50]\n"
     ]
    }
   ],
   "source": [
    "#Convert a tuple to a list.\n",
    "tuple=(10,20,30,40,50)\n",
    "list=list(tuple)\n",
    "print(list)"
   ]
  },
  {
   "cell_type": "code",
   "execution_count": 1,
   "id": "86d0f1db-3f87-4e98-a396-add3d70dafc9",
   "metadata": {},
   "outputs": [
    {
     "name": "stdout",
     "output_type": "stream",
     "text": [
      "(10, 20, 30, 40, 50)\n"
     ]
    }
   ],
   "source": [
    "#Convert a list to a tuple.\n",
    "my_list = [10,20,30,40,50]\n",
    "my_tuple = tuple(my_list)\n",
    "print(my_tuple)"
   ]
  },
  {
   "cell_type": "code",
   "execution_count": 2,
   "id": "e42c4248-b0cb-4312-9248-106264e4810f",
   "metadata": {},
   "outputs": [
    {
     "name": "stdout",
     "output_type": "stream",
     "text": [
      "variable 1: 1\n",
      "variable 2: 2\n",
      "variable 3: 3\n"
     ]
    }
   ],
   "source": [
    "#Unpack the elements of a tuple into variables\n",
    "tuple=(1,2,3)\n",
    "var1, var2, var3=tuple\n",
    "print(\"variable 1:\", var1)\n",
    "print(\"variable 2:\", var2)\n",
    "print(\"variable 3:\", var3)"
   ]
  },
  {
   "cell_type": "code",
   "execution_count": 1,
   "id": "b9ae7234-6697-45a4-84ea-f8a5a15cc427",
   "metadata": {},
   "outputs": [
    {
     "name": "stdout",
     "output_type": "stream",
     "text": [
      "(2, 4, 6, 8, 10)\n"
     ]
    }
   ],
   "source": [
    "#Create a tuple of even numbers from 1 to 10.\n",
    "even_numbers_tuple=[x for x in range(1,11) if x%2 ==0]\n",
    "ent = tuple(even_numbers_tuple)\n",
    "print(ent)"
   ]
  },
  {
   "cell_type": "code",
   "execution_count": 5,
   "id": "8cec7c17-73e8-4a42-b921-af8b9cb2e2fa",
   "metadata": {},
   "outputs": [
    {
     "name": "stdout",
     "output_type": "stream",
     "text": [
      "(1, 3, 5, 7, 9)\n"
     ]
    }
   ],
   "source": [
    "#Create a tuple of odd numbers from 1 to 10.\n",
    "odd_number_tuple=[x for x in range(1,11) if x%2 !=0]\n",
    "ont=tuple(odd_number_tuple)\n",
    "print(ont)"
   ]
  },
  {
   "cell_type": "code",
   "execution_count": 6,
   "id": "70a78f0c-049b-47cd-8eb5-7759e563e2eb",
   "metadata": {},
   "outputs": [
    {
     "name": "stdout",
     "output_type": "stream",
     "text": [
      "(1, 2, 3, 4, 5, 6)\n"
     ]
    }
   ],
   "source": [
    "#Concatenate two tuples.\n",
    "tuple1=(1,2,3)\n",
    "tuple2=(4,5,6)\n",
    "concatenated_tuple=tuple1+tuple2\n",
    "print(concatenated_tuple)"
   ]
  },
  {
   "cell_type": "code",
   "execution_count": 7,
   "id": "50f66a76-d8c0-4f47-a969-0f0dcb66b7e9",
   "metadata": {},
   "outputs": [
    {
     "name": "stdout",
     "output_type": "stream",
     "text": [
      "(1, 2, 3, 1, 2, 3, 1, 2, 3)\n"
     ]
    }
   ],
   "source": [
    "#Repeat a tuple three times.\n",
    "tuple1=(1,2,3)\n",
    "newtuple=3*tuple1\n",
    "print(newtuple)"
   ]
  },
  {
   "cell_type": "code",
   "execution_count": 8,
   "id": "0262cbfe-79bb-4798-a29b-cfab228a9a58",
   "metadata": {},
   "outputs": [
    {
     "name": "stdout",
     "output_type": "stream",
     "text": [
      "tuple is empty\n"
     ]
    }
   ],
   "source": [
    "#Check if a tuple is empty.\n",
    "mytuple=()\n",
    "if len(mytuple) ==0:\n",
    "    print(\"tuple is empty\")\n",
    "else:\n",
    "    print(\"tuple is not empty\")"
   ]
  },
  {
   "cell_type": "code",
   "execution_count": 12,
   "id": "d5dd5ef6-93bd-4cf2-ae75-d68f2c914359",
   "metadata": {},
   "outputs": [
    {
     "name": "stdout",
     "output_type": "stream",
     "text": [
      "first_element (1, 2)\n",
      "second_element (3, 4)\n",
      "third_element (5, 6)\n"
     ]
    }
   ],
   "source": [
    "#Create a nested tuple.\n",
    "nestedtuple=((1,2),(3,4),(5,6))\n",
    "first_element=nestedtuple[0]\n",
    "second_element=nestedtuple[1]\n",
    "third_element=nestedtuple[2]\n",
    "element1_1=nestedtuple[0][0]\n",
    "element1_2=nestedtuple[0][1]\n",
    "element1_3=nestedtuple[1][0]\n",
    "element1_4=nestedtuple[1][1]\n",
    "element1_5=nestedtuple[2][0]\n",
    "element1_6=nestedtuple[2][1]\n",
    "print(\"first_element\", first_element)\n",
    "print(\"second_element\", second_element)\n",
    "print(\"third_element\",third_element)\n"
   ]
  },
  {
   "cell_type": "code",
   "execution_count": 13,
   "id": "30e3bcdf-8095-4f08-b8d7-fc06f59e9add",
   "metadata": {},
   "outputs": [
    {
     "name": "stdout",
     "output_type": "stream",
     "text": [
      "first_element (1, 2)\n"
     ]
    }
   ],
   "source": [
    "#Access the first element of a nested tuple.\n",
    "nestedtuple=((1,2),(3,4),(5,6))\n",
    "first_element=nestedtuple[0]\n",
    "print(\"first_element\", first_element)"
   ]
  },
  {
   "cell_type": "code",
   "execution_count": 14,
   "id": "1b84b2d6-22ae-42b9-9593-050c3e65a3e4",
   "metadata": {},
   "outputs": [
    {
     "name": "stdout",
     "output_type": "stream",
     "text": [
      "single element tuple: (1,)\n"
     ]
    }
   ],
   "source": [
    "#Create a tuple with a single element\n",
    "single_element=(1,)\n",
    "print(\"single element tuple:\",single_element)"
   ]
  },
  {
   "cell_type": "code",
   "execution_count": 15,
   "id": "c88d16fe-61ea-4d23-876f-f18d6eb3753c",
   "metadata": {},
   "outputs": [
    {
     "name": "stdout",
     "output_type": "stream",
     "text": [
      "tuple1==tuple2: False\n",
      "tuple1!=tuple2: True\n",
      "tuple1<tuple2: True\n",
      "tuple1<=tuple2: True\n",
      "tuple1>tuple2: False\n",
      "tuple1>=tuple2: False\n"
     ]
    }
   ],
   "source": [
    "#Compare two tuples.\n",
    "tuple1=(1,2,3)\n",
    "tuple2=(3,4,5)\n",
    "print(\"tuple1==tuple2:\", tuple1==tuple2)\n",
    "print(\"tuple1!=tuple2:\", tuple1!=tuple2)\n",
    "print(\"tuple1<tuple2:\", tuple1<tuple2)\n",
    "print(\"tuple1<=tuple2:\", tuple1<=tuple2)\n",
    "print(\"tuple1>tuple2:\", tuple1>tuple2)\n",
    "print(\"tuple1>=tuple2:\", tuple1>=tuple2)"
   ]
  },
  {
   "cell_type": "code",
   "execution_count": 11,
   "id": "ba067f7d-6e14-4452-812c-f7058f813285",
   "metadata": {},
   "outputs": [
    {
     "name": "stdout",
     "output_type": "stream",
     "text": [
      "(1, 2, 3)\n"
     ]
    },
    {
     "ename": "NameError",
     "evalue": "name 'mytuple' is not defined",
     "output_type": "error",
     "traceback": [
      "\u001b[0;31m---------------------------------------------------------------------------\u001b[0m",
      "\u001b[0;31mNameError\u001b[0m                                 Traceback (most recent call last)",
      "Cell \u001b[0;32mIn[11], line 5\u001b[0m\n\u001b[1;32m      3\u001b[0m \u001b[38;5;28mprint\u001b[39m(mytuple)\n\u001b[1;32m      4\u001b[0m \u001b[38;5;28;01mdel\u001b[39;00m mytuple\n\u001b[0;32m----> 5\u001b[0m \u001b[38;5;28mprint\u001b[39m(\u001b[43mmytuple\u001b[49m)\n",
      "\u001b[0;31mNameError\u001b[0m: name 'mytuple' is not defined"
     ]
    }
   ],
   "source": [
    "#Delete a tuple.\n",
    "mytuple = (1,2,3)\n",
    "print(mytuple)\n",
    "del mytuple\n",
    "print(mytuple)"
   ]
  },
  {
   "cell_type": "code",
   "execution_count": 7,
   "id": "6cd4c5e6-cd10-4f1e-928b-b60102f6e1f8",
   "metadata": {},
   "outputs": [
    {
     "name": "stdout",
     "output_type": "stream",
     "text": [
      "sliced_tuple: (3, 4, 5, 6)\n"
     ]
    }
   ],
   "source": [
    "#Slice a tuple\n",
    "tuple1=(1,2,3,4,5,6,7,8,9,10)\n",
    "sliced_tuple=tuple1[2:6]\n",
    "print(\"sliced_tuple:\",sliced_tuple)"
   ]
  },
  {
   "cell_type": "code",
   "execution_count": 8,
   "id": "964f347b-c509-47f8-b66a-3d07a9b6a0bd",
   "metadata": {},
   "outputs": [
    {
     "name": "stdout",
     "output_type": "stream",
     "text": [
      "maximum_value 10\n"
     ]
    }
   ],
   "source": [
    "#Find the maximum value in a tuple.\n",
    "tuple1=(1,2,3,4,5,6,7,8,9,10)\n",
    "max_value=max(tuple1)\n",
    "print(\"maximum_value\", max_value)"
   ]
  },
  {
   "cell_type": "code",
   "execution_count": 9,
   "id": "c3a9df5a-0252-40f8-b978-422e7185c74f",
   "metadata": {},
   "outputs": [
    {
     "name": "stdout",
     "output_type": "stream",
     "text": [
      "minimum_value 1\n"
     ]
    }
   ],
   "source": [
    "#Find the minimum value in a tuple.\n",
    "tuple1=(1,2,3,4,5,6,7,8,9,10)\n",
    "min_value=min(tuple1)\n",
    "print(\"minimum_value\", min_value)"
   ]
  },
  {
   "cell_type": "code",
   "execution_count": 4,
   "id": "467c037b-270e-43b2-b39d-24dc7fbb4531",
   "metadata": {},
   "outputs": [
    {
     "name": "stdout",
     "output_type": "stream",
     "text": [
      "tuple of characters is: ('i', 't', 's', '_', 'M', 'a', 'n', 'm', 'e', 'e', 't')\n"
     ]
    }
   ],
   "source": [
    "#Convert a string to a tuple of characters.\n",
    "mystring=\"its_Manmeet\"\n",
    "tuple_of_chars=tuple(mystring)\n",
    "print(\"tuple of characters is:\", tuple_of_chars)"
   ]
  },
  {
   "cell_type": "code",
   "execution_count": 19,
   "id": "8c340a04-fcf0-4460-b7c6-08b4a6729092",
   "metadata": {},
   "outputs": [
    {
     "name": "stdout",
     "output_type": "stream",
     "text": [
      "string of tuple is: ('h', 'e', 'l', 'l', 'o')\n"
     ]
    }
   ],
   "source": [
    "#Convert a tuple of characters to a string.\n",
    "tuple_of_chars = ('h','e','l','l','o')\n",
    "string_joined =' '.join(tuple_of_chars)\n",
    "print(\"string of tuple is:\",tuple_of_chars)"
   ]
  },
  {
   "cell_type": "code",
   "execution_count": 20,
   "id": "52a11f63-7eb1-4243-9b38-38528f33101c",
   "metadata": {},
   "outputs": [
    {
     "name": "stdout",
     "output_type": "stream",
     "text": [
      "(1, 'Manmeet', 2.2, True)\n"
     ]
    }
   ],
   "source": [
    "#Create a tuple from multiple data types.\n",
    "mixed_tuple=(1,\"Manmeet\", 2.2, True)\n",
    "print(mixed_tuple)"
   ]
  },
  {
   "cell_type": "code",
   "execution_count": 21,
   "id": "bf681f8f-b783-4977-96e1-956e022a5553",
   "metadata": {},
   "outputs": [
    {
     "name": "stdout",
     "output_type": "stream",
     "text": [
      "tuple 1 and tuple 2 are identical True\n"
     ]
    }
   ],
   "source": [
    "#Check if two tuples are identical.\n",
    "tuple1=(1,2,3)\n",
    "tuple2=(1,2,3)\n",
    "are_identical=tuple1==tuple2\n",
    "print(\"tuple 1 and tuple 2 are identical\", are_identical)"
   ]
  },
  {
   "cell_type": "code",
   "execution_count": 1,
   "id": "3307243f-059b-412c-9710-d237b07eceb9",
   "metadata": {},
   "outputs": [
    {
     "name": "stdout",
     "output_type": "stream",
     "text": [
      "sorted tuple are: (1, 2, 3, 5, 10)\n"
     ]
    }
   ],
   "source": [
    "#Sort the elements of a tuple.\n",
    "tuple1=(3,2,5,1,10)\n",
    "sorted_tuple=tuple(sorted(tuple1))\n",
    "print(\"sorted tuple are:\",sorted_tuple)\n"
   ]
  },
  {
   "cell_type": "code",
   "execution_count": 2,
   "id": "4b50e434-61b1-42e6-868e-35aaac91d243",
   "metadata": {},
   "outputs": [
    {
     "name": "stdout",
     "output_type": "stream",
     "text": [
      "Tuple of strings: ('1', '2', '3', '4', '5')\n"
     ]
    }
   ],
   "source": [
    "#Convert a tuple of integers to a tuple of strings.\n",
    "tuple_of_integers=(1,2,3,4,5)\n",
    "tuple_of_strings = tuple(str(item) for item in tuple_of_integers)\n",
    "print(\"Tuple of strings:\", tuple_of_strings)"
   ]
  },
  {
   "cell_type": "code",
   "execution_count": 3,
   "id": "47755b32-6b22-4e92-b245-c69c5b1bff1b",
   "metadata": {},
   "outputs": [
    {
     "name": "stdout",
     "output_type": "stream",
     "text": [
      "tuple of integers: (1, 2, 3, 4)\n"
     ]
    }
   ],
   "source": [
    "#Convert a tuple of strings to a tuple of integers.\n",
    "tuple_of_string=('1', '2','3','4')\n",
    "tuple_of_integers=tuple(int(item) for item in tuple_of_string)\n",
    "print(\"tuple of integers:\", tuple_of_integers)"
   ]
  },
  {
   "cell_type": "code",
   "execution_count": 27,
   "id": "22b2d78b-c354-47c0-8bc8-ace86f2caad1",
   "metadata": {},
   "outputs": [
    {
     "name": "stdout",
     "output_type": "stream",
     "text": [
      "merged tuple is: (1, 2, 3, 4, 5, 6)\n"
     ]
    }
   ],
   "source": [
    "#Merge two tuples.\n",
    "tuple1=(1,2,3)\n",
    "tuple2=(4,5,6)\n",
    "merged_tuple=tuple1+tuple2\n",
    "print(\"merged tuple is:\", merged_tuple)"
   ]
  },
  {
   "cell_type": "code",
   "execution_count": 5,
   "id": "83e31460-d304-46e8-bb6c-57709e48f94d",
   "metadata": {},
   "outputs": [
    {
     "name": "stdout",
     "output_type": "stream",
     "text": [
      "(1, 2, 3, 4, (5, 6))\n"
     ]
    }
   ],
   "source": [
    "#Flatten a nested tuple.\n",
    "nested_tuple=(1,(2,3),(4,(5,6)))\n",
    "flatten_tuple=tuple(item for sublist in nested_tuple for item in (sublist if isinstance(sublist, tuple) else (sublist,)))\n",
    "print(flatten_tuple)"
   ]
  },
  {
   "cell_type": "code",
   "execution_count": 7,
   "id": "db761320-2e1d-4a6b-82ee-bf447c181bbf",
   "metadata": {},
   "outputs": [
    {
     "name": "stdout",
     "output_type": "stream",
     "text": [
      "(2, 3, 5, 7, 11)\n"
     ]
    }
   ],
   "source": [
    "#Create a tuple of the first 5 prime numbers.\n",
    "primes=[]\n",
    "num=2\n",
    "while len(primes)<5:\n",
    "    is_prime=True\n",
    "    \n",
    "    for i in range(2, int(num**0.5)+1):\n",
    "        if num%i==0:\n",
    "            is_prime=False\n",
    "            break\n",
    "            \n",
    "    if is_prime:\n",
    "        primes.append(num)\n",
    "        \n",
    "    num+=1\n",
    "    \n",
    "prime_tuple=tuple(primes)\n",
    "print(prime_tuple)"
   ]
  },
  {
   "cell_type": "code",
   "execution_count": 10,
   "id": "133a6b66-b707-48f2-91d1-4ebfbb5a2eb1",
   "metadata": {},
   "outputs": [
    {
     "name": "stdout",
     "output_type": "stream",
     "text": [
      "it is tuple\n"
     ]
    }
   ],
   "source": [
    "#Check if a tuple is a palindrome.\n",
    "input_tuple=(1,2,3,2,1)\n",
    "if input_tuple==input_tuple[::-1]:\n",
    "    print(\"it is tuple\")\n",
    "else:\n",
    "    print(\"it is not a tuple\")"
   ]
  },
  {
   "cell_type": "code",
   "execution_count": 14,
   "id": "9d068087-0c38-4a85-8f78-5a82ad36b60d",
   "metadata": {},
   "outputs": [
    {
     "name": "stdout",
     "output_type": "stream",
     "text": [
      "squares of number is: (1, 4, 9, 16, 25)\n"
     ]
    }
   ],
   "source": [
    "#Create a tuple of squares of numbers from 1 to 5.\n",
    "squares=tuple(x**2 for x in range(1,6))\n",
    "print(\"squares of number is:\", squares)"
   ]
  },
  {
   "cell_type": "code",
   "execution_count": 16,
   "id": "53b466ef-ba16-4d33-82a6-db89d900a675",
   "metadata": {},
   "outputs": [
    {
     "name": "stdout",
     "output_type": "stream",
     "text": [
      "(1, 3, 5)\n"
     ]
    }
   ],
   "source": [
    "#Filter out all even numbers from a tuple.\n",
    "tupleall=(1,2,3,4,5)\n",
    "tupleeven=tuple(num for num in tupleall if num%2!=0)\n",
    "print(tupleeven)"
   ]
  },
  {
   "cell_type": "code",
   "execution_count": 17,
   "id": "4a6d304d-f69f-44d6-8349-5c36d1cbe265",
   "metadata": {},
   "outputs": [
    {
     "name": "stdout",
     "output_type": "stream",
     "text": [
      "multiple of 2: (2, 4, 6, 8, 10)\n"
     ]
    }
   ],
   "source": [
    "#Multiply all elements in a tuple by 2.\n",
    "tupleall=(1,2,3,4,5)\n",
    "multiple2=tuple(num*2 for num in tupleall)\n",
    "print(\"multiple of 2:\", multiple2)"
   ]
  },
  {
   "cell_type": "code",
   "execution_count": 18,
   "id": "538fb3e9-6105-4e5a-be26-9ee9ac33cfbd",
   "metadata": {},
   "outputs": [
    {
     "name": "stdout",
     "output_type": "stream",
     "text": [
      "random tuple: (12, 9, 45, 85, 43, 66, 41, 62, 42, 86)\n"
     ]
    }
   ],
   "source": [
    "#Create a tuple of random numbers.\n",
    "import random\n",
    "random_tuple=tuple(random.randint(1,100) for _ in range(10))\n",
    "print(\"random tuple:\", random_tuple)"
   ]
  },
  {
   "cell_type": "code",
   "execution_count": 21,
   "id": "43989c85-1647-46c6-91b8-0e5f98f8e7c2",
   "metadata": {},
   "outputs": [
    {
     "name": "stdout",
     "output_type": "stream",
     "text": [
      "the tuple is sorted.\n"
     ]
    }
   ],
   "source": [
    "#Check if a tuple is sorted.\n",
    "sorted_tuple=(1,2,3,4,5)\n",
    "is_sorted=all(sorted_tuple[i]<=sorted_tuple[i+1] for i in range(len(input_tuple)-1))\n",
    "\n",
    "if is_sorted:\n",
    "    print(\"the tuple is sorted.\")\n",
    "else:\n",
    "    print(\"the tuple is not sorted.\")\n"
   ]
  },
  {
   "cell_type": "code",
   "execution_count": 1,
   "id": "ed2df87c-32e2-4ae5-bbaf-e9ad3be8215c",
   "metadata": {},
   "outputs": [
    {
     "name": "stdout",
     "output_type": "stream",
     "text": [
      "(3, 4, 5, 1, 2)\n"
     ]
    }
   ],
   "source": [
    "#Rotate a tuple to the left by `n` positions.\n",
    "input_tuple=(1,2,3,4,5)\n",
    "n=2\n",
    "rotated_tuple=input_tuple[n:]+input_tuple[:n]\n",
    "print(rotated_tuple)"
   ]
  },
  {
   "cell_type": "code",
   "execution_count": 3,
   "id": "4d00d6e8-4848-4896-8f85-8be12b4ef2ff",
   "metadata": {},
   "outputs": [
    {
     "name": "stdout",
     "output_type": "stream",
     "text": [
      "(4, 5, 1, 2, 3)\n"
     ]
    }
   ],
   "source": [
    "#Rotate a tuple to the right by `n` positions.\n",
    "input_tuple=(1,2,3,4,5)\n",
    "n=2\n",
    "effective_rotation = len(input_tuple) - n\n",
    "rotated_tuple = input_tuple[effective_rotation:] + input_tuple[:effective_rotation]\n",
    "print(rotated_tuple)"
   ]
  },
  {
   "cell_type": "code",
   "execution_count": 4,
   "id": "f93a98e1-132c-4bb7-b5a9-aba56882f7fd",
   "metadata": {},
   "outputs": [
    {
     "name": "stdout",
     "output_type": "stream",
     "text": [
      "(0, 1, 1, 2, 3)\n"
     ]
    }
   ],
   "source": [
    "#Create a tuple of the first 5 Fibonacci numbers.\n",
    "fibonacci_tuple=(0,1)\n",
    "while len(fibonacci_tuple)<5:\n",
    "    next_fib=fibonacci_tuple[-1] +fibonacci_tuple[-2]\n",
    "    fibonacci_tuple+=(next_fib,)\n",
    "\n",
    "print(fibonacci_tuple)"
   ]
  },
  {
   "cell_type": "code",
   "execution_count": 6,
   "id": "d0adb6be-ffd1-4496-a7ef-1a5d357976b3",
   "metadata": {},
   "outputs": [
    {
     "name": "stdin",
     "output_type": "stream",
     "text": [
      "enter elements seperated by commas: m,a,n,e,y\n"
     ]
    },
    {
     "name": "stdout",
     "output_type": "stream",
     "text": [
      "user input tuple: ('m', 'a', 'n', 'e', 'y')\n"
     ]
    }
   ],
   "source": [
    "#Create a tuple from user input.\n",
    "input_str=input(\"enter elements seperated by commas:\")\n",
    "input_list=input_str.split(',')\n",
    "user_tuple=tuple(input_list)\n",
    "print(\"user input tuple:\",user_tuple)"
   ]
  },
  {
   "cell_type": "code",
   "execution_count": 7,
   "id": "2481152a-7ead-494c-8ef6-f1b55165ec2c",
   "metadata": {},
   "outputs": [
    {
     "name": "stdout",
     "output_type": "stream",
     "text": [
      "swapped tuple: (1, 5, 3, 4, 2)\n"
     ]
    }
   ],
   "source": [
    "#Swap two elements in a tuple.\n",
    "tuple1=(1,2,3,4,5)\n",
    "index1=1\n",
    "index2=4\n",
    "swapped_tuple=tuple(\n",
    "    tuple1[i] if i not in (index1, index2) else\n",
    "    tuple1[index2] if i == index1 else\n",
    "    tuple1[index1]\n",
    "    for i in range(len(tuple1))\n",
    ")\n",
    "print(\"swapped tuple:\", swapped_tuple)\n",
    "    "
   ]
  },
  {
   "cell_type": "code",
   "execution_count": 9,
   "id": "6705e7a9-9cc8-4872-b5e7-9d772767d71e",
   "metadata": {},
   "outputs": [
    {
     "name": "stdout",
     "output_type": "stream",
     "text": [
      "reversed tuple: (5, 4, 3, 2, 1)\n"
     ]
    }
   ],
   "source": [
    "#Reverse the elements of a tuple.\n",
    "tuple1=(1,2,3,4,5)\n",
    "reverse_tuple=tuple1[::-1]\n",
    "print(\"reversed tuple:\",reverse_tuple)"
   ]
  },
  {
   "cell_type": "code",
   "execution_count": 5,
   "id": "cfd8750d-8b7f-41af-a351-4c6c20d6c9ff",
   "metadata": {},
   "outputs": [
    {
     "name": "stdout",
     "output_type": "stream",
     "text": [
      "tuple of first 5 powers of 2 (1, 2, 4, 8, 16)\n"
     ]
    }
   ],
   "source": [
    "#Create a tuple of the first `n` powers of 2.\n",
    "n=5\n",
    "powers_of_tuple=tuple(2**i for i in range(n))\n",
    "print(\"tuple of first\",n,\"powers of 2\",powers_of_tuple)"
   ]
  },
  {
   "cell_type": "code",
   "execution_count": 11,
   "id": "e3f9a204-cf90-49cb-afa1-34d055529340",
   "metadata": {},
   "outputs": [
    {
     "name": "stdout",
     "output_type": "stream",
     "text": [
      "longest string: cabbage\n"
     ]
    }
   ],
   "source": [
    "# Find the longest string in a tuple of strings.\n",
    "string_tuple=(\"potato\",\"peas\",\"cabbage\")\n",
    "longest_string=max(string_tuple, key=len)\n",
    "print(\"longest string:\",longest_string)"
   ]
  },
  {
   "cell_type": "code",
   "execution_count": 12,
   "id": "28199150-792a-41cf-9266-692e756b26aa",
   "metadata": {},
   "outputs": [
    {
     "name": "stdout",
     "output_type": "stream",
     "text": [
      "shortest string: peas\n"
     ]
    }
   ],
   "source": [
    "# Find the shortest string in a tuple of strings.\n",
    "string_tuple=(\"potato\",\"peas\",\"cabbage\")\n",
    "shortest_string=min(string_tuple, key=len)\n",
    "print(\"shortest string:\",shortest_string)"
   ]
  },
  {
   "cell_type": "code",
   "execution_count": 6,
   "id": "73c2250f-63f3-41c8-b8eb-5a686915d92c",
   "metadata": {},
   "outputs": [
    {
     "name": "stdout",
     "output_type": "stream",
     "text": [
      "tuple of the first 5 tringular numbers: (1, 3, 6, 10, 15)\n"
     ]
    }
   ],
   "source": [
    "#Create a tuple of the first `n` triangular numbers.\n",
    "n=5\n",
    "triangular_tuple = tuple((i*(i+1))//2 for i in range(1,n+1))\n",
    "print(\"tuple of the first\",n,\"tringular numbers:\", triangular_tuple)"
   ]
  },
  {
   "cell_type": "code",
   "execution_count": 11,
   "id": "afbbc846-38a0-4bcc-b833-78a772984a44",
   "metadata": {},
   "outputs": [
    {
     "name": "stdout",
     "output_type": "stream",
     "text": [
      "Subsequence found\n"
     ]
    }
   ],
   "source": [
    "#Check if a tuple contains another tuple as a subsequence.\n",
    "main_tuple = (1, 2, 3, 4, 5, 6)\n",
    "subsequence_tuple = (2, 4, 6)\n",
    "main_index = 0\n",
    "subsequence_index = 0\n",
    "while main_index < len(main_tuple) and subsequence_index < len(subsequence_tuple):\n",
    "    if main_tuple[main_index] == subsequence_tuple[subsequence_index]:\n",
    "         subsequence_index += 1\n",
    "       \n",
    "\n",
    "    main_index += 1\n",
    "    \n",
    "if subsequence_index == len(subsequence_tuple):\n",
    "    print(\"Subsequence found\")\n",
    "else:\n",
    "    print(\"Subsequence not found\")\n",
    "    "
   ]
  },
  {
   "cell_type": "code",
   "execution_count": 12,
   "id": "eb91e310-a35e-4ef7-859b-b26beac82cab",
   "metadata": {},
   "outputs": [
    {
     "name": "stdout",
     "output_type": "stream",
     "text": [
      "tuple of alternating 1s and 0s: (0, 1, 0, 1, 0, 1, 0, 1, 0, 1)\n"
     ]
    }
   ],
   "source": [
    "#Create a tuple of alternating 1s and 0s of length `n`.\n",
    "n=10\n",
    "alternating_tuple=tuple(i%2 for i in range(n))\n",
    "print(\"tuple of alternating 1s and 0s:\", alternating_tuple)"
   ]
  },
  {
   "cell_type": "code",
   "execution_count": 18,
   "id": "dcbd5a3f-a4b5-4d7c-a636-8ad498690ecc",
   "metadata": {},
   "outputs": [],
   "source": [
    "#set based problem\n"
   ]
  },
  {
   "cell_type": "code",
   "execution_count": 17,
   "id": "f447c472-ec5a-4dc6-9a38-d6a2a43c194e",
   "metadata": {},
   "outputs": [
    {
     "name": "stdout",
     "output_type": "stream",
     "text": [
      "{1, 2, 3, 4, 5}\n"
     ]
    }
   ],
   "source": [
    "#Create a set with integers from 1 to 5\n",
    "my_set={x for x in range(1,6)}\n",
    "print(my_set)"
   ]
  },
  {
   "cell_type": "code",
   "execution_count": 37,
   "id": "03288a2e-a1c5-4f11-a5a6-ae26bcdc93e5",
   "metadata": {},
   "outputs": [
    {
     "name": "stdout",
     "output_type": "stream",
     "text": [
      "{1, 2, 3, 4, 5}\n"
     ]
    }
   ],
   "source": [
    "#Add an element to a set.\n",
    "my_set={1,2,3,4,5}\n",
    "element_to_add=4\n",
    "my_set.add(element_to_add)\n",
    "print(my_set)"
   ]
  },
  {
   "cell_type": "code",
   "execution_count": 29,
   "id": "e4af60ff-12e4-4962-bbbe-83574dd64261",
   "metadata": {},
   "outputs": [
    {
     "name": "stdout",
     "output_type": "stream",
     "text": [
      "{1, 2, 3, 5}\n"
     ]
    }
   ],
   "source": [
    "#remove an element to a set.\n",
    "my_set={1,2,3,4,5}\n",
    "element_to_remove=4\n",
    "my_set.remove(element_to_add)\n",
    "print(my_set)"
   ]
  },
  {
   "cell_type": "code",
   "execution_count": 30,
   "id": "732b0dc4-52de-4c12-90dd-be4c723e6d78",
   "metadata": {},
   "outputs": [
    {
     "name": "stdout",
     "output_type": "stream",
     "text": [
      "element is not present\n"
     ]
    }
   ],
   "source": [
    "#Check if an element exists in a set.\n",
    "set1={1,2,3,5,6}\n",
    "element_to_check=4\n",
    "if element_to_check in set1:\n",
    "    print(\"element is present\")\n",
    "else:\n",
    "    print(\"element is not present\")"
   ]
  },
  {
   "cell_type": "code",
   "execution_count": 31,
   "id": "6ec476f7-3689-4f85-acea-a3eab53b344c",
   "metadata": {},
   "outputs": [
    {
     "name": "stdout",
     "output_type": "stream",
     "text": [
      "length of set is: 5\n"
     ]
    }
   ],
   "source": [
    "#Find the length of a set without using the `len()` function.\n",
    "set1={1,2,3,4,5}\n",
    "count=0\n",
    "for _ in set1:\n",
    "    count+=1\n",
    "print(\"length of set is:\", count)"
   ]
  },
  {
   "cell_type": "code",
   "execution_count": 32,
   "id": "a864da1e-4661-425f-9ebc-6a84f6607f4b",
   "metadata": {},
   "outputs": [
    {
     "name": "stdout",
     "output_type": "stream",
     "text": [
      "original set {1, 2, 3, 4, 5}\n",
      "set after clearing set()\n"
     ]
    }
   ],
   "source": [
    "#Clear all elements from a set.\n",
    "my_set={1,2,3,4,5}\n",
    "print(\"original set\", my_set)\n",
    "my_set.clear()\n",
    "print(\"set after clearing\", my_set)"
   ]
  },
  {
   "cell_type": "code",
   "execution_count": 33,
   "id": "1ee2ebf1-0b62-41e0-9373-ee2b821e9f1f",
   "metadata": {},
   "outputs": [
    {
     "name": "stdout",
     "output_type": "stream",
     "text": [
      "{2, 4, 6, 8, 10}\n"
     ]
    }
   ],
   "source": [
    "#Create a set of even numbers from 1 to 10.\n",
    "even_numbers_set=set()\n",
    "for num in range(1,11):\n",
    "    if num%2==0:\n",
    "        even_numbers_set.add(num)\n",
    "print(even_numbers_set)"
   ]
  },
  {
   "cell_type": "code",
   "execution_count": 38,
   "id": "d575dd91-c026-4422-a815-64173d5de863",
   "metadata": {},
   "outputs": [
    {
     "name": "stdout",
     "output_type": "stream",
     "text": [
      "{1, 3, 5, 7, 9}\n"
     ]
    }
   ],
   "source": [
    "#Create a set of odd numbers from 1 to 10.\n",
    "odd_number_set=set()\n",
    "for num in range(1,11):\n",
    "    if num%2!=0:\n",
    "        odd_number_set.add(num)\n",
    "print(odd_number_set)"
   ]
  },
  {
   "cell_type": "code",
   "execution_count": 40,
   "id": "cb765296-57ff-459b-b7d8-cb0315106047",
   "metadata": {},
   "outputs": [
    {
     "name": "stdout",
     "output_type": "stream",
     "text": [
      "union of set1 and set2: {1, 2, 3, 4, 5}\n"
     ]
    }
   ],
   "source": [
    "#Find the union of two sets.\n",
    "set1={1,2,3}\n",
    "set2={5,4,2}\n",
    "union_result=set1.union(set2)\n",
    "print(\"union of set1 and set2:\", union_result)\n"
   ]
  },
  {
   "cell_type": "code",
   "execution_count": 41,
   "id": "797790eb-015f-429a-b3ab-16729b904ca3",
   "metadata": {},
   "outputs": [
    {
     "name": "stdout",
     "output_type": "stream",
     "text": [
      "union of set1 and set2: {2}\n"
     ]
    }
   ],
   "source": [
    "#Find the intersection of two sets.\n",
    "set1={1,2,3}\n",
    "set2={5,4,2}\n",
    "intersection_result=set1.intersection(set2)\n",
    "print(\"union of set1 and set2:\", intersection_result)\n"
   ]
  },
  {
   "cell_type": "code",
   "execution_count": 43,
   "id": "6a416f23-fdad-452f-9be3-96559d6942c4",
   "metadata": {},
   "outputs": [
    {
     "name": "stdout",
     "output_type": "stream",
     "text": [
      "union of set1 and set2: {1, 3}\n"
     ]
    }
   ],
   "source": [
    "#Find the difference between two sets.\n",
    "set1={1,2,3}\n",
    "set2={5,4,2}\n",
    "difference_result=set1.difference(set2)\n",
    "print(\"union of set1 and set2:\", difference_result)\n",
    "\n"
   ]
  },
  {
   "cell_type": "code",
   "execution_count": 46,
   "id": "fe67dab9-e85e-43a1-89a4-1b98351814ca",
   "metadata": {},
   "outputs": [
    {
     "name": "stdout",
     "output_type": "stream",
     "text": [
      "is set1 a subset of set 2: True\n"
     ]
    }
   ],
   "source": [
    "#Check if a set is a subset of another set.\n",
    "set1={1,2,3}\n",
    "set2={1,2,3,4,5}\n",
    "is_subset=set1.issubset(set2)\n",
    "print(\"is set1 a subset of set 2:\", is_subset)"
   ]
  },
  {
   "cell_type": "code",
   "execution_count": 47,
   "id": "7a1441ea-276e-46f2-b4b7-d2f395665b5f",
   "metadata": {},
   "outputs": [
    {
     "name": "stdout",
     "output_type": "stream",
     "text": [
      "set1 is a superset of set2\n"
     ]
    }
   ],
   "source": [
    "#Check if a set is a superset of another set.\n",
    "set1 = {1, 2, 3, 4, 5, 6}\n",
    "set2 = {3, 4}\n",
    "is_superset = set1.issuperset(set2)\n",
    "if is_superset:\n",
    "    print(\"set1 is a superset of set2\")\n",
    "else:\n",
    "    print(\"set1 is not a superset of set2\")"
   ]
  },
  {
   "cell_type": "code",
   "execution_count": 48,
   "id": "dfafe121-643f-4454-96e3-f066644d2828",
   "metadata": {},
   "outputs": [
    {
     "name": "stdout",
     "output_type": "stream",
     "text": [
      "Original List: [2, 4, 1, 4, 3, 2, 5]\n",
      "Set from List: {1, 2, 3, 4, 5}\n"
     ]
    }
   ],
   "source": [
    "#Create a set from a list.\n",
    "my_list = [2, 4, 1, 4, 3, 2, 5]\n",
    "my_set = set(my_list)\n",
    "print(\"Original List:\", my_list)\n",
    "print(\"Set from List:\", my_set)"
   ]
  },
  {
   "cell_type": "code",
   "execution_count": 50,
   "id": "a34baf44-fbe1-443f-8db7-54efbc92ecdd",
   "metadata": {},
   "outputs": [
    {
     "name": "stdout",
     "output_type": "stream",
     "text": [
      "original set: {1, 2, 3, 4}\n",
      "converted list: [1, 2, 3, 4]\n"
     ]
    }
   ],
   "source": [
    "#Convert a set to a list.\n",
    "set1={1,2,3,4,1,3,4}\n",
    "list1=list(set1)\n",
    "print(\"original set:\",set1)\n",
    "print(\"converted list:\",list1)"
   ]
  },
  {
   "cell_type": "code",
   "execution_count": 51,
   "id": "b5867f53-060b-45cc-aa48-cab345250448",
   "metadata": {},
   "outputs": [
    {
     "name": "stdout",
     "output_type": "stream",
     "text": [
      "original set: {1, 2, 3, 4, 5}\n",
      "updated set after removing 4 in {1, 2, 3, 5}\n"
     ]
    }
   ],
   "source": [
    "#Remove a random element from a set.\n",
    "import random\n",
    "my_set={1,2,3,4,5}\n",
    "print(\"original set:\", my_set)\n",
    "random_element=random.choice(list(my_set))\n",
    "my_set.remove(random_element)\n",
    "print(\"updated set after removing\", random_element,\"in\", my_set)"
   ]
  },
  {
   "cell_type": "code",
   "execution_count": 52,
   "id": "cd2a7cd1-028e-4493-9542-6b7bb8c4c4d8",
   "metadata": {},
   "outputs": [
    {
     "name": "stdout",
     "output_type": "stream",
     "text": [
      "Set after popping: {2, 3, 4, 5}\n"
     ]
    }
   ],
   "source": [
    "#Pop an element from a set.\n",
    "my_set = {1, 2, 3, 4, 5}\n",
    "popped_element = my_set.pop()\n",
    "print(\"Set after popping:\", my_set)"
   ]
  },
  {
   "cell_type": "code",
   "execution_count": 53,
   "id": "6ff16ee0-602e-4755-8a80-1a4cbe5bcea1",
   "metadata": {},
   "outputs": [
    {
     "name": "stdout",
     "output_type": "stream",
     "text": [
      "The two sets have common elements: {2, 3}\n"
     ]
    }
   ],
   "source": [
    "#Check if two sets have no elements in common.\n",
    "set1={1,2,3,4}\n",
    "set2={2,3,5,6}\n",
    "common_elements = set1.intersection(set2)\n",
    "if not common_elements:\n",
    "    print(\"The two sets have no elements in common.\")\n",
    "else:\n",
    "    print(\"The two sets have common elements:\", common_elements)"
   ]
  },
  {
   "cell_type": "code",
   "execution_count": 54,
   "id": "b9d62574-ffbe-446c-a969-a405396e0546",
   "metadata": {},
   "outputs": [
    {
     "name": "stdout",
     "output_type": "stream",
     "text": [
      "Symmetric Difference: {1, 2, 6, 7, 8}\n"
     ]
    }
   ],
   "source": [
    "#Find the symmetric difference between two sets.\n",
    "set1={1,2,3,4,5}\n",
    "set2={3,4,5,6,7,8}\n",
    "symmetric_difference = set1 ^ set2\n",
    "print(\"Symmetric Difference:\", symmetric_difference)"
   ]
  },
  {
   "cell_type": "code",
   "execution_count": 55,
   "id": "8b4578d8-6a0e-4166-af69-f25202ddf619",
   "metadata": {},
   "outputs": [
    {
     "name": "stdout",
     "output_type": "stream",
     "text": [
      "Updated Set 1: {1, 2, 3, 4, 5}\n"
     ]
    }
   ],
   "source": [
    "#Update a set with elements from another set.\n",
    "set1 = {1, 2, 3}\n",
    "set2 = {3, 4, 5}\n",
    "set1.update(set2)\n",
    "print(\"Updated Set 1:\", set1)"
   ]
  },
  {
   "cell_type": "code",
   "execution_count": 56,
   "id": "e34fdc41-91a9-4d1a-a6de-6b9f77166308",
   "metadata": {},
   "outputs": [
    {
     "name": "stdout",
     "output_type": "stream",
     "text": [
      "{2, 3, 5, 7, 11}\n"
     ]
    }
   ],
   "source": [
    "#Create a set of the first 5 prime numbers.\n",
    "prime_set=set()\n",
    "num=2\n",
    "while len(prime_set)<5:\n",
    "    is_prime=True\n",
    "    \n",
    "    for i in range(2, int(num**0.5)+1):\n",
    "        if num%i==0:\n",
    "            is_prime=False\n",
    "            break\n",
    "            \n",
    "    if is_prime:\n",
    "        prime_set.add(num)\n",
    "        \n",
    "        \n",
    "    num+=1\n",
    "    \n",
    "print(prime_set)\n"
   ]
  },
  {
   "cell_type": "code",
   "execution_count": 57,
   "id": "03a19180-9b40-4443-b68d-e9bba095e7f0",
   "metadata": {},
   "outputs": [
    {
     "name": "stdout",
     "output_type": "stream",
     "text": [
      "The sets are identical.\n"
     ]
    }
   ],
   "source": [
    "#Check if two sets are identical.\n",
    "set1 = {1, 2, 3, 4, 5}\n",
    "set2 = {3, 1, 5, 2, 4}\n",
    "if set1 == set2:\n",
    "    print(\"The sets are identical.\")\n",
    "else:\n",
    "    print(\"The sets are not identical.\")"
   ]
  },
  {
   "cell_type": "code",
   "execution_count": 58,
   "id": "c370e66c-9b82-44ea-a55e-c325be5a847d",
   "metadata": {},
   "outputs": [
    {
     "name": "stdout",
     "output_type": "stream",
     "text": [
      "Frozen Set: frozenset({1, 2, 3, 4, 5})\n"
     ]
    }
   ],
   "source": [
    "#Create a frozen set.\n",
    "elements = [1, 2, 3, 4, 5]\n",
    "my_frozen_set = frozenset(elements)\n",
    "print(\"Frozen Set:\", my_frozen_set)"
   ]
  },
  {
   "cell_type": "code",
   "execution_count": null,
   "id": "67717cdb-0e38-4dea-b958-303899434209",
   "metadata": {},
   "outputs": [],
   "source": [
    "#Check if a set is disjoint with another set.\n",
    "set1={1,2,3,4}\n",
    "set2={5,6,7,8}\n",
    "disjoint_status = set1.isdisjoint(set2)\n",
    "print(\"Are the sets disjoint?\", disjoint_status)"
   ]
  },
  {
   "cell_type": "code",
   "execution_count": null,
   "id": "f1871ab4-eb6a-4f1c-bb1e-ecbd8cf2b18c",
   "metadata": {},
   "outputs": [],
   "source": [
    "#Create a set of squares of numbers from 1 to 5.\n",
    "squares_set = set()\n",
    "for num in range(1,6):\n",
    "    square=num**2\n",
    "    squares_set.add(square)\n",
    "print(squares_set)"
   ]
  },
  {
   "cell_type": "code",
   "execution_count": null,
   "id": "1243eb6a-d8be-4c6c-877d-e3dc91c4e05f",
   "metadata": {},
   "outputs": [],
   "source": [
    "#Filter out all even numbers from a set.\n",
    "set1={1,2,3,45,6,7,8,9}\n",
    "even_nu_set=set()\n",
    "for num in set1:\n",
    "    if num%2==0:\n",
    "        even_nu_set.add(num)\n",
    "print(\"original set:\",set1)\n",
    "print(\"even number set:\",even_nu_set)"
   ]
  },
  {
   "cell_type": "code",
   "execution_count": null,
   "id": "08f25b48-7c23-4deb-bcaa-56996b83082c",
   "metadata": {},
   "outputs": [],
   "source": [
    "#Multiply all elements in a set by 2.\n",
    "set1={1,2,3,4,5,6}\n",
    "mulitplies_set=set()\n",
    "for num in set1:\n",
    "    muliplies_num=num*2\n",
    "    mulitplies_set.add(multiplies_num)\n",
    "print(\"original set:\", set1)\n",
    "print(\"multiplied set:\",mulitplies_set)"
   ]
  },
  {
   "cell_type": "code",
   "execution_count": null,
   "id": "f17347cd-1c9a-4fea-b1ca-e95db16696d3",
   "metadata": {},
   "outputs": [],
   "source": [
    "#Create a set of random numbers\n",
    "import random\n",
    "no_random=10\n",
    "rand_set=set()\n",
    "for _ in range(no_random):\n",
    "    random_num=random.randint(1,100)\n",
    "    rand_set.add(random_num)\n",
    "print(\"generated set of random numbers:\", rand_set)\n"
   ]
  },
  {
   "cell_type": "code",
   "execution_count": null,
   "id": "19557627-c0ae-4cd8-a35f-0d5396409c40",
   "metadata": {},
   "outputs": [],
   "source": [
    "#Check if a set is empty.\n",
    "set1=set()\n",
    "if not set1:\n",
    "    print(\"the set is empty\")\n",
    "else:\n",
    "    print(\"the set is not empty\")"
   ]
  },
  {
   "cell_type": "code",
   "execution_count": null,
   "id": "fbade066-2481-43eb-9719-c9e792017ee4",
   "metadata": {},
   "outputs": [],
   "source": [
    "#Create a nested set\n",
    "set1={1,2,3,4}\n",
    "set2={5,6,7,8}\n",
    "frozen_set1=frozenset(set1)\n",
    "frozen_set2=frozen(set2)\n",
    "nested_set={frozen_set1,frozen_set2}\n",
    "print(\"nested set:\",nested_set)"
   ]
  },
  {
   "cell_type": "code",
   "execution_count": null,
   "id": "b2493231-b922-4fce-afaf-dcc9c4b3d1cd",
   "metadata": {},
   "outputs": [],
   "source": [
    "#Remove an element from a set using the discard method.\n",
    "set1={1,2,3,4,5}\n",
    "element_to_discard=2\n",
    "set1.discard(element_to_discard)\n",
    "print(\"set after discarding is\",set1)"
   ]
  },
  {
   "cell_type": "code",
   "execution_count": 13,
   "id": "02f5d675-345a-4c47-b195-401ab8c18cb9",
   "metadata": {},
   "outputs": [
    {
     "name": "stdout",
     "output_type": "stream",
     "text": [
      "Set 1: {1, 2, 3, 4, 5}\n",
      "Set 2: {4, 5, 6, 7, 8}\n",
      "Is set1 a subset of set2? False\n",
      "Is set2 a subset of set1? False\n",
      "Intersection: {4, 5}\n",
      "Union: {1, 2, 3, 4, 5, 6, 7, 8}\n",
      "Elements in set1 but not in set2: {1, 2, 3}\n",
      "Elements in set2 but not in set1: {8, 6, 7}\n"
     ]
    }
   ],
   "source": [
    "#Compare two sets.\n",
    "set1 = {1, 2, 3, 4, 5}\n",
    "set2 = {4, 5, 6, 7, 8}\n",
    "\n",
    "# Step 2: Use set operations to compare the sets\n",
    "# Check if set1 is a subset of set2\n",
    "is_subset = set1.issubset(set2)\n",
    "\n",
    "# Check if set2 is a subset of set1\n",
    "is_superset = set1.issuperset(set2)\n",
    "\n",
    "# Find the intersection of the sets\n",
    "intersection = set1.intersection(set2)\n",
    "\n",
    "# Find the union of the sets\n",
    "union = set1.union(set2)\n",
    "\n",
    "# Find the elements that are in set1 but not in set2\n",
    "difference1 = set1.difference(set2)\n",
    "\n",
    "# Find the elements that are in set2 but not in set1\n",
    "difference2 = set2.difference(set1)\n",
    "\n",
    "# Step 3: Print the results\n",
    "print(\"Set 1:\", set1)\n",
    "print(\"Set 2:\", set2)\n",
    "print(\"Is set1 a subset of set2?\", is_subset)\n",
    "print(\"Is set2 a subset of set1?\", is_superset)\n",
    "print(\"Intersection:\", intersection)\n",
    "print(\"Union:\", union)\n",
    "print(\"Elements in set1 but not in set2:\", difference1)\n",
    "print(\"Elements in set2 but not in set1:\", difference2)"
   ]
  },
  {
   "cell_type": "code",
   "execution_count": 14,
   "id": "a5dd3cc2-2944-49df-ae40-6a4440555769",
   "metadata": {},
   "outputs": [
    {
     "name": "stdout",
     "output_type": "stream",
     "text": [
      "{'l', 'o', 'h', 'e'}\n"
     ]
    }
   ],
   "source": [
    "#Create a set from a string\n",
    "input_string = \"hello\"\n",
    "char_set = set(input_string)\n",
    "print(char_set)"
   ]
  },
  {
   "cell_type": "code",
   "execution_count": 15,
   "id": "879f05f6-dc96-4755-8cbe-313e985509e6",
   "metadata": {},
   "outputs": [
    {
     "name": "stdout",
     "output_type": "stream",
     "text": [
      "Original String Set: {'456', '123', '789'}\n",
      "Converted Integer Set: {456, 123, 789}\n"
     ]
    }
   ],
   "source": [
    "#Convert a set of strings to a set of integers.\n",
    "string_set = {\"123\", \"456\", \"789\"}\n",
    "integer_set = set()\n",
    "for string in string_set:\n",
    "    integer_value = int(string)\n",
    "    integer_set.add(integer_value)\n",
    "print(\"Original String Set:\", string_set)\n",
    "print(\"Converted Integer Set:\", integer_set)"
   ]
  },
  {
   "cell_type": "code",
   "execution_count": 16,
   "id": "a137fcab-1ac7-4703-b0d1-8a96f1d997f6",
   "metadata": {},
   "outputs": [
    {
     "name": "stdout",
     "output_type": "stream",
     "text": [
      "Original integers_set: {1, 2, 3, 4, 5}\n",
      "Converted strings_set: {'2', '3', '1', '5', '4'}\n"
     ]
    }
   ],
   "source": [
    "#Convert a set of integers to a set of strings.\n",
    "integers_set = {1, 2, 3, 4, 5}\n",
    "\n",
    "# Step 2: Initialize an empty set to store the strings\n",
    "strings_set = set()\n",
    "\n",
    "# Step 3: Iterate through each integer in the integers_set\n",
    "for num in integers_set:\n",
    "    # Step 4: Convert the integer to a string using the str() function\n",
    "    num_str = str(num)\n",
    "\n",
    "    # Step 5: Add the string representation to the strings_set\n",
    "    strings_set.add(num_str)\n",
    "\n",
    "# Step 6: Print the original integers_set and the converted strings_set\n",
    "print(\"Original integers_set:\", integers_set)\n",
    "print(\"Converted strings_set:\", strings_set)"
   ]
  },
  {
   "cell_type": "code",
   "execution_count": 17,
   "id": "40d56338-057c-4c98-826b-51818230c50e",
   "metadata": {},
   "outputs": [
    {
     "name": "stdout",
     "output_type": "stream",
     "text": [
      "{1, 2, 3, 4, 5}\n"
     ]
    }
   ],
   "source": [
    "#Create a set from a tuple\n",
    "input_tuple = (1, 2, 3, 2, 4, 5, 1)\n",
    "output_set = set(input_tuple)\n",
    "print(output_set)"
   ]
  },
  {
   "cell_type": "code",
   "execution_count": 18,
   "id": "69661ba0-e79c-4608-abb0-ac3d671ac6bd",
   "metadata": {},
   "outputs": [
    {
     "name": "stdout",
     "output_type": "stream",
     "text": [
      "Original set: {1, 2, 3, 4, 5}\n",
      "Converted tuple: (1, 2, 3, 4, 5)\n"
     ]
    }
   ],
   "source": [
    "#Convert a set to a tuple.\n",
    "input_set = {1, 2, 3, 4, 5}\n",
    "output_tuple = tuple(input_set)\n",
    "print(\"Original set:\", input_set)\n",
    "print(\"Converted tuple:\", output_tuple)"
   ]
  },
  {
   "cell_type": "code",
   "execution_count": 19,
   "id": "8e02d23b-54a4-44b8-9975-1cc9ae69b51f",
   "metadata": {},
   "outputs": [
    {
     "name": "stdout",
     "output_type": "stream",
     "text": [
      "Maximum value: 5\n"
     ]
    }
   ],
   "source": [
    "#Find the maximum value in a set.\n",
    "my_set={1,2,3,4,5}\n",
    "max_value=None\n",
    "for num in my_set:\n",
    "    if max_value is None or num>max_value:\n",
    "        max_value=num\n",
    "print(\"Maximum value:\", max_value)"
   ]
  },
  {
   "cell_type": "code",
   "execution_count": 62,
   "id": "2e4168ec-4826-4e80-9b45-2adf7432baf1",
   "metadata": {},
   "outputs": [
    {
     "name": "stdout",
     "output_type": "stream",
     "text": [
      "The minimum value in the set is: 4\n"
     ]
    }
   ],
   "source": [
    "#Find the minimum value in a set.\n",
    "number_set = {15, 8, 23, 4, 42, 11}\n",
    "min_value = None\n",
    "for num in number_set:\n",
    "    if min_value is None or num < min_value:\n",
    "        min_value = num\n",
    "print(\"The minimum value in the set is:\", min_value)"
   ]
  },
  {
   "cell_type": "code",
   "execution_count": 20,
   "id": "42d469e6-6865-4e0a-a001-daaec78c78e6",
   "metadata": {},
   "outputs": [
    {
     "name": "stdout",
     "output_type": "stream",
     "text": [
      "Enter elements for the set (type 'done' to finish):\n"
     ]
    },
    {
     "name": "stdin",
     "output_type": "stream",
     "text": [
      ">  mynME, IS , MANMEET\n",
      ">  DONE\n"
     ]
    },
    {
     "name": "stdout",
     "output_type": "stream",
     "text": [
      "Final set: {'mynME, IS , MANMEET'}\n"
     ]
    }
   ],
   "source": [
    "#Create a set from user input.\n",
    "user_set = set()\n",
    "\n",
    "# Step 2: Get input from the user\n",
    "print(\"Enter elements for the set (type 'done' to finish):\")\n",
    "while True:\n",
    "    user_input = input(\"> \")  # Get input from the user\n",
    "\n",
    "    if user_input.lower() == 'done':\n",
    "        break  # Exit the loop if the user enters 'done'\n",
    "\n",
    "    # Step 3: Add the user input to the set\n",
    "    user_set.add(user_input)\n",
    "\n",
    "# Step 4: Display the final set created from user input\n",
    "print(\"Final set:\", user_set)"
   ]
  },
  {
   "cell_type": "code",
   "execution_count": 61,
   "id": "961bf0d2-015f-4eec-bb1d-4f09baf72ba7",
   "metadata": {},
   "outputs": [
    {
     "name": "stdout",
     "output_type": "stream",
     "text": [
      "The intersection of the two sets is not empty.\n"
     ]
    }
   ],
   "source": [
    "#Check if the intersection of two sets is empty\n",
    "set1 = {1, 2, 3, 4, 5}\n",
    "set2 = {4, 5, 6, 7, 8}\n",
    "intersection_result = set1.intersection(set2)\n",
    "if not intersection_result:\n",
    "    print(\"The intersection of the two sets is empty.\")\n",
    "else:\n",
    "    print(\"The intersection of the two sets is not empty.\")"
   ]
  },
  {
   "cell_type": "code",
   "execution_count": 21,
   "id": "4ee15398-30d8-48f8-b5ee-4d75b8e3bf9e",
   "metadata": {},
   "outputs": [
    {
     "ename": "NameError",
     "evalue": "name 'fibonacci_set' is not defined",
     "output_type": "error",
     "traceback": [
      "\u001b[0;31m---------------------------------------------------------------------------\u001b[0m",
      "\u001b[0;31mNameError\u001b[0m                                 Traceback (most recent call last)",
      "Cell \u001b[0;32mIn[21], line 5\u001b[0m\n\u001b[1;32m      3\u001b[0m a,b\u001b[38;5;241m=\u001b[39m\u001b[38;5;241m0\u001b[39m,\u001b[38;5;241m1\u001b[39m\n\u001b[1;32m      4\u001b[0m \u001b[38;5;28;01mfor\u001b[39;00m _ \u001b[38;5;129;01min\u001b[39;00m \u001b[38;5;28mrange\u001b[39m(\u001b[38;5;241m6\u001b[39m):\n\u001b[0;32m----> 5\u001b[0m     \u001b[43mfibonacci_set\u001b[49m\u001b[38;5;241m.\u001b[39madd(a)\n\u001b[1;32m      6\u001b[0m     a, b \u001b[38;5;241m=\u001b[39m b, a \u001b[38;5;241m+\u001b[39m b\n\u001b[1;32m      8\u001b[0m \u001b[38;5;66;03m# Print the set of Fibonacci numbers\u001b[39;00m\n",
      "\u001b[0;31mNameError\u001b[0m: name 'fibonacci_set' is not defined"
     ]
    }
   ],
   "source": [
    "#Create a set of the first 5 Fibonacci numbers\n",
    "set_fib = set()\n",
    "a,b=0,1\n",
    "for _ in range(6):\n",
    "    fibonacci_set.add(a)\n",
    "    a, b = b, a + b\n",
    "\n",
    "# Print the set of Fibonacci numbers\n",
    "print(\"Set of the first 5 Fibonacci numbers:\", fibonacci_set)\n"
   ]
  },
  {
   "cell_type": "code",
   "execution_count": 22,
   "id": "2a13fea2-2578-4d10-9df3-457872332325",
   "metadata": {},
   "outputs": [
    {
     "name": "stdout",
     "output_type": "stream",
     "text": [
      "original list: [1, 2, 3, 4, 2, 1, 3, 4, 5, 3]\n",
      "list after removing duplicates: [1, 2, 3, 4, 5]\n"
     ]
    }
   ],
   "source": [
    "#Remove duplicates from a list using sets.\n",
    "original_list=[1,2,3,4,2,1,3,4,5,3]\n",
    "unique_set=set(original_list)\n",
    "unique_list = list(unique_set)\n",
    "print(\"original list:\",original_list)\n",
    "print(\"list after removing duplicates:\",unique_list)"
   ]
  },
  {
   "cell_type": "code",
   "execution_count": 23,
   "id": "d29f6c82-c34f-4728-b08e-4c1a106484d1",
   "metadata": {},
   "outputs": [
    {
     "name": "stdout",
     "output_type": "stream",
     "text": [
      "The sets have the same elements.\n"
     ]
    }
   ],
   "source": [
    "#Check if two sets have the same elements, regardless of their count.\n",
    "def have_same_elements(set1, set2):\n",
    "    # Convert the sets to lists and sort them\n",
    "    sorted_list1 = sorted(list(set1))\n",
    "    sorted_list2 = sorted(list(set2))\n",
    "\n",
    "    # Compare the sorted lists to check if they are equal\n",
    "    return sorted_list1 == sorted_list2\n",
    "\n",
    "# Example sets\n",
    "set1 = {1, 2, 3, 2, 1}\n",
    "set2 = {3, 1, 2}\n",
    "\n",
    "# Check if the sets have the same elements\n",
    "result = have_same_elements(set1, set2)\n",
    "\n",
    "# Print the result\n",
    "if result:\n",
    "    print(\"The sets have the same elements.\")\n",
    "else:\n",
    "    print(\"The sets do not have the same elements.\")"
   ]
  },
  {
   "cell_type": "code",
   "execution_count": 24,
   "id": "f587599f-158b-4893-88dd-0b1f0d773f15",
   "metadata": {},
   "outputs": [
    {
     "name": "stdout",
     "output_type": "stream",
     "text": [
      "{1, 2, 4, 8, 16}\n"
     ]
    }
   ],
   "source": [
    "#Create a set of the first `n` powers of 2.\n",
    "def generate_powers_of_2(n):\n",
    "    # Initialize an empty set to store the powers of 2\n",
    "    powers_of_2 = set()\n",
    "\n",
    "    # Loop from 0 to n-1\n",
    "    for i in range(n):\n",
    "        # Calculate the current power of 2 using the exponentiation operator **\n",
    "        power = 2 ** i\n",
    "\n",
    "        # Add the current power of 2 to the set\n",
    "        powers_of_2.add(power)\n",
    "\n",
    "    # Return the set of powers of 2\n",
    "    return powers_of_2\n",
    "\n",
    "# Define the value of n\n",
    "n = 5\n",
    "\n",
    "# Call the function to generate the set of powers of 2\n",
    "powers_set = generate_powers_of_2(n)\n",
    "\n",
    "# Print the resulting set\n",
    "print(powers_set)"
   ]
  },
  {
   "cell_type": "code",
   "execution_count": 25,
   "id": "46c41956-b1f0-4b03-9507-ed4c500b7800",
   "metadata": {},
   "outputs": [
    {
     "name": "stdout",
     "output_type": "stream",
     "text": [
      "Common elements: [1, 9, 12]\n"
     ]
    }
   ],
   "source": [
    "#Find the common elements between a set and a list.\n",
    "my_set = {1, 2, 3, 7, 9, 12, 15}\n",
    "my_list = [1,27, 12, 5, 9]\n",
    "list_to_set = set(my_list)\n",
    "common_elements = []\n",
    "for element in my_set:\n",
    "    if element in list_to_set:\n",
    "        common_elements.append(element)\n",
    "print(\"Common elements:\", common_elements)      "
   ]
  },
  {
   "cell_type": "code",
   "execution_count": 26,
   "id": "b45cb7c9-cac2-4e2f-9e34-2ca0396883d3",
   "metadata": {},
   "outputs": [
    {
     "name": "stdin",
     "output_type": "stream",
     "text": [
      "Enter the value of n:  4\n"
     ]
    },
    {
     "name": "stdout",
     "output_type": "stream",
     "text": [
      "The set of the first 4 triangular numbers is: {1, 10, 3, 6}\n"
     ]
    }
   ],
   "source": [
    "#Create a set of the first `n` triangular numbers.\n",
    "def generate_triangular_numbers(n):\n",
    "    triangular_numbers = set()  # Create an empty set to store the triangular numbers\n",
    "    for i in range(1, n + 1):\n",
    "        triangular_number = i * (i + 1) // 2  # Calculate the ith triangular number using the formula\n",
    "        triangular_numbers.add(triangular_number)  # Add the calculated triangular number to the set\n",
    "    return triangular_numbers\n",
    "\n",
    "# Input the value of 'n'\n",
    "n = int(input(\"Enter the value of n: \"))\n",
    "\n",
    "# Call the function to generate the set of first 'n' triangular numbers\n",
    "triangular_set = generate_triangular_numbers(n)\n",
    "\n",
    "# Display the set of triangular numbers\n",
    "print(f\"The set of the first {n} triangular numbers is:\", triangular_set)"
   ]
  },
  {
   "cell_type": "code",
   "execution_count": 60,
   "id": "3d92d1b5-be0b-4f01-9a3c-5008b315001a",
   "metadata": {},
   "outputs": [
    {
     "name": "stdout",
     "output_type": "stream",
     "text": [
      "set2 is a subset of set1\n"
     ]
    }
   ],
   "source": [
    "#Check if a set contains another set as a subset.\n",
    "set1 = {1, 2, 3, 4, 5}\n",
    "set2 = {3, 4}\n",
    "is_subset = set2.issubset(set1)\n",
    "if is_subset:\n",
    "    print(\"set2 is a subset of set1\")\n",
    "else:\n",
    "    print(\"set2 is not a subset of set1\")"
   ]
  },
  {
   "cell_type": "code",
   "execution_count": 27,
   "id": "43160ef0-ce43-467f-9aa1-9dfbccecb5e7",
   "metadata": {},
   "outputs": [
    {
     "name": "stdout",
     "output_type": "stream",
     "text": [
      "{0, 1}\n"
     ]
    }
   ],
   "source": [
    "#Create a set of alternating 1s and 0s of length `n`.\n",
    "def create_alternating_set(n):\n",
    "    # Initialize an empty set to store the alternating sequence.\n",
    "    alternating_set = set()\n",
    "\n",
    "    # Loop to generate alternating 1s and 0s.\n",
    "    for i in range(n):\n",
    "        # Alternate between adding 1 and 0 to the set based on whether i is even or odd.\n",
    "        if i % 2 == 0:\n",
    "            alternating_set.add(1)  # Add 1 if i is even.\n",
    "        else:\n",
    "            alternating_set.add(0)  # Add 0 if i is odd.\n",
    "\n",
    "    return alternating_set\n",
    "\n",
    "# Define the desired length of the alternating set.\n",
    "length_n = 10\n",
    "\n",
    "# Call the function to create the alternating set of length 'length_n'.\n",
    "result = create_alternating_set(length_n)\n",
    "\n",
    "# Print the resulting set.\n",
    "print(result)"
   ]
  },
  {
   "cell_type": "code",
   "execution_count": 59,
   "id": "da36c4b5-34bd-4f0f-b118-749fa729757c",
   "metadata": {},
   "outputs": [
    {
     "name": "stdout",
     "output_type": "stream",
     "text": [
      "Merged Set: {1, 2, 3, 4, 5, 6, 7}\n"
     ]
    }
   ],
   "source": [
    "#Merge multiple sets into one.\n",
    "set1 = {1, 2, 3}\n",
    "set2 = {3, 4, 5}\n",
    "set3 = {5, 6, 7}\n",
    "merged_set = set1 | set2 | set3\n",
    "print(\"Merged Set:\", merged_set)"
   ]
  },
  {
   "cell_type": "code",
   "execution_count": null,
   "id": "bc581af6-89a5-47f6-8a85-d4e0b6669e03",
   "metadata": {},
   "outputs": [],
   "source": []
  }
 ],
 "metadata": {
  "kernelspec": {
   "display_name": "Python 3 (ipykernel)",
   "language": "python",
   "name": "python3"
  },
  "language_info": {
   "codemirror_mode": {
    "name": "ipython",
    "version": 3
   },
   "file_extension": ".py",
   "mimetype": "text/x-python",
   "name": "python",
   "nbconvert_exporter": "python",
   "pygments_lexer": "ipython3",
   "version": "3.10.8"
  }
 },
 "nbformat": 4,
 "nbformat_minor": 5
}
