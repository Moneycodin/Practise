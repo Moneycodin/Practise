{
 "cells": [
  {
   "cell_type": "code",
   "execution_count": 3,
   "id": "5156a0f8-00b0-4cb5-9c92-867fff4b9e87",
   "metadata": {},
   "outputs": [
    {
     "name": "stdin",
     "output_type": "stream",
     "text": [
      "enter the number 4\n"
     ]
    },
    {
     "name": "stdout",
     "output_type": "stream",
     "text": [
      "The number is positive\n"
     ]
    }
   ],
   "source": [
    "#Write a Python program to check if a given number is positive or negative.\n",
    "number=int(input(\"enter the number\"))\n",
    "if number>0:\n",
    "    print(\"The number is positive\")\n",
    "else:\n",
    "    print(\"The number is negative\")\n",
    "           "
   ]
  },
  {
   "cell_type": "code",
   "execution_count": 7,
   "id": "c90a3904-5f08-4a73-9f77-fd1b2992b449",
   "metadata": {},
   "outputs": [
    {
     "name": "stdin",
     "output_type": "stream",
     "text": [
      "enter the age of person 23\n"
     ]
    },
    {
     "name": "stdout",
     "output_type": "stream",
     "text": [
      "The person is eligible to vote\n"
     ]
    }
   ],
   "source": [
    "#Create a program that determines if a person is eligible to vote based on their age.\n",
    "age=int(input(\"enter the age of person\"))\n",
    "if age>18:\n",
    "    print(\"The person is eligible to vote\")\n",
    "else:\n",
    "    print(\"The perosn is not eligible to vote\")"
   ]
  },
  {
   "cell_type": "code",
   "execution_count": 8,
   "id": "fe2ed104-9173-43dc-955b-e3ee5d3f2bd1",
   "metadata": {},
   "outputs": [
    {
     "name": "stdin",
     "output_type": "stream",
     "text": [
      "Enter the first number:  45\n",
      "Enter the second number:  56\n"
     ]
    },
    {
     "name": "stdout",
     "output_type": "stream",
     "text": [
      "The maximum number is: 56.0\n"
     ]
    }
   ],
   "source": [
    "#Develop a program to find the maximum of two numbers using if-else statements.\n",
    "num1 = float(input(\"Enter the first number: \"))\n",
    "num2 = float(input(\"Enter the second number: \"))\n",
    "\n",
    "# Use if-else statements to find the maximum\n",
    "if num1 > num2:\n",
    "    max_num = num1\n",
    "else:\n",
    "    max_num = num2\n",
    "\n",
    "# Display the maximum number\n",
    "print(\"The maximum number is:\", max_num)\n",
    "\n"
   ]
  },
  {
   "cell_type": "code",
   "execution_count": 9,
   "id": "aad1ef01-17cd-4910-97d7-93187a3b6202",
   "metadata": {},
   "outputs": [
    {
     "name": "stdin",
     "output_type": "stream",
     "text": [
      "Enter a year:  2009\n"
     ]
    },
    {
     "name": "stdout",
     "output_type": "stream",
     "text": [
      "2009 is not a leap year.\n"
     ]
    }
   ],
   "source": [
    "#Write a Python script to classify a given year as a leap year or not.\n",
    "year = int(input(\"Enter a year: \"))\n",
    "\n",
    "# Check if it's a leap year\n",
    "if (year % 4 == 0 and year % 100 != 0) or (year % 400 == 0):\n",
    "    print(year, \"is a leap year.\")\n",
    "else:\n",
    "    print(year, \"is not a leap year.\")"
   ]
  },
  {
   "cell_type": "code",
   "execution_count": 10,
   "id": "3740d3e6-65d4-44bc-8f19-b105ebc3cd0e",
   "metadata": {},
   "outputs": [
    {
     "name": "stdin",
     "output_type": "stream",
     "text": [
      "Enter a character:  r\n"
     ]
    },
    {
     "name": "stdout",
     "output_type": "stream",
     "text": [
      "r is a consonant.\n"
     ]
    }
   ],
   "source": [
    "#Create a program that checks whether a character is a vowel or a consonant.\n",
    "char = input(\"Enter a character: \").lower()\n",
    "\n",
    "# Check if it's a vowel or a consonant\n",
    "if char.isalpha() and len(char) == 1:\n",
    "    if char in \"aeiou\":\n",
    "        print(char, \"is a vowel.\")\n",
    "    else:\n",
    "        print(char, \"is a consonant.\")\n",
    "else:\n",
    "    print(\"Invalid input. Please enter a single alphabet character.\")"
   ]
  },
  {
   "cell_type": "code",
   "execution_count": 11,
   "id": "de78a599-5a8b-41d0-aefb-03fa4da798cb",
   "metadata": {},
   "outputs": [
    {
     "name": "stdin",
     "output_type": "stream",
     "text": [
      "Enter a number:  34\n"
     ]
    },
    {
     "name": "stdout",
     "output_type": "stream",
     "text": [
      "34 is even.\n"
     ]
    }
   ],
   "source": [
    "#Implement a program to determine whether a given number is even or odd.\n",
    "number = int(input(\"Enter a number: \"))\n",
    "\n",
    "# Check if the number is even or odd\n",
    "if number % 2 == 0:\n",
    "    print(number, \"is even.\")\n",
    "else:\n",
    "    print(number, \"is odd.\")"
   ]
  },
  {
   "cell_type": "code",
   "execution_count": 12,
   "id": "997f956b-adbc-4c0a-b375-1ef358b668fc",
   "metadata": {},
   "outputs": [
    {
     "name": "stdin",
     "output_type": "stream",
     "text": [
      "Enter a number:  -45\n"
     ]
    },
    {
     "name": "stdout",
     "output_type": "stream",
     "text": [
      "The absolute value of -45.0 is 45.0\n"
     ]
    }
   ],
   "source": [
    "#Write a Python function to calculate the absolute value of a number without using the `abs()` function.\n",
    "def calculate_absolute_value(number):\n",
    "    if number < 0:\n",
    "        return -number\n",
    "    else:\n",
    "        return number\n",
    "\n",
    "# Test the function\n",
    "num = float(input(\"Enter a number: \"))\n",
    "absolute_value = calculate_absolute_value(num)\n",
    "print(f\"The absolute value of {num} is {absolute_value}\")"
   ]
  },
  {
   "cell_type": "code",
   "execution_count": 13,
   "id": "b4e07477-a5fb-4ccb-be34-1fc25fd3114d",
   "metadata": {},
   "outputs": [
    {
     "name": "stdin",
     "output_type": "stream",
     "text": [
      "Enter the first number:  34\n",
      "Enter the second number:  45\n",
      "Enter the third number:  21\n"
     ]
    },
    {
     "name": "stdout",
     "output_type": "stream",
     "text": [
      "The largest number is: 45.0\n"
     ]
    }
   ],
   "source": [
    "#Develop a program that determines the largest of three given numbers using if-else statements.\n",
    "num1 = float(input(\"Enter the first number: \"))\n",
    "num2 = float(input(\"Enter the second number: \"))\n",
    "num3 = float(input(\"Enter the third number: \"))\n",
    "\n",
    "# Determine the largest number using if-else statements\n",
    "if num1 >= num2 and num1 >= num3:\n",
    "    largest = num1\n",
    "elif num2 >= num1 and num2 >= num3:\n",
    "    largest = num2\n",
    "else:\n",
    "    largest = num3\n",
    "\n",
    "# Display the largest number\n",
    "print(\"The largest number is:\", largest)"
   ]
  },
  {
   "cell_type": "code",
   "execution_count": 15,
   "id": "6c285e19-72ad-4ae7-b5bd-05cfa7e78506",
   "metadata": {},
   "outputs": [
    {
     "name": "stdin",
     "output_type": "stream",
     "text": [
      "Enter a string:  awa\n"
     ]
    },
    {
     "name": "stdout",
     "output_type": "stream",
     "text": [
      "awa is a palindrome.\n"
     ]
    }
   ],
   "source": [
    "#Create a program that checks if a given string is a palindrome.\n",
    "def is_palindrome(input_string):\n",
    "    clean_string = input_string.replace(\" \", \"\").lower()\n",
    "    return clean_string == clean_string[::-1]\n",
    "\n",
    "\n",
    "user_input = input(\"Enter a string: \")\n",
    "\n",
    "# Check if it's a palindrome\n",
    "if is_palindrome(user_input):\n",
    "    print(f\"{user_input} is a palindrome.\")\n",
    "else:\n",
    "    print(f\"{user_input} is not a palindrome.\")"
   ]
  },
  {
   "cell_type": "code",
   "execution_count": 16,
   "id": "b46ab597-e7fd-45ad-97c3-454085e8aa97",
   "metadata": {},
   "outputs": [
    {
     "name": "stdin",
     "output_type": "stream",
     "text": [
      "Enter the student's score:  45\n"
     ]
    },
    {
     "name": "stdout",
     "output_type": "stream",
     "text": [
      "The student's grade is: F\n"
     ]
    }
   ],
   "source": [
    "#Write a Python program to calculate the grade based on a student's score.\n",
    "score = float(input(\"Enter the student's score: \"))\n",
    "\n",
    "# Define the grade ranges and calculate the grade\n",
    "if 90 <= score <= 100:\n",
    "    grade = \"A\"\n",
    "elif 80 <= score < 90:\n",
    "    grade = \"B\"\n",
    "elif 70 <= score < 80:\n",
    "    grade = \"C\"\n",
    "elif 60 <= score < 70:\n",
    "    grade = \"D\"\n",
    "elif 0 <= score < 60:\n",
    "    grade = \"F\"\n",
    "else:\n",
    "    grade = \"Invalid input (score out of range)\"\n",
    "\n",
    "# Display the calculated grade\n",
    "print(f\"The student's grade is: {grade}\")"
   ]
  },
  {
   "cell_type": "code",
   "execution_count": 17,
   "id": "8d09e647-7274-4f2a-b04c-8fefdaa3556b",
   "metadata": {},
   "outputs": [
    {
     "name": "stdin",
     "output_type": "stream",
     "text": [
      "Enter the first number:  45\n",
      "Enter the second number:  67\n",
      "Enter the third number:  23\n"
     ]
    },
    {
     "name": "stdout",
     "output_type": "stream",
     "text": [
      "The largest number is: 67.0\n"
     ]
    }
   ],
   "source": [
    "#Write a program to find the largest among three numbers using nested if-else statements.\n",
    "num1 = float(input(\"Enter the first number: \"))\n",
    "num2 = float(input(\"Enter the second number: \"))\n",
    "num3 = float(input(\"Enter the third number: \"))\n",
    "\n",
    "# Determine the largest number using nested if-else statements\n",
    "if num1 >= num2:\n",
    "    if num1 >= num3:\n",
    "        largest = num1\n",
    "    else:\n",
    "        largest = num3\n",
    "else:\n",
    "    if num2 >= num3:\n",
    "        largest = num2\n",
    "    else:\n",
    "        largest = num3\n",
    "\n",
    "# Display the largest number\n",
    "print(\"The largest number is:\", largest)"
   ]
  },
  {
   "cell_type": "code",
   "execution_count": 18,
   "id": "1907179b-007d-41b4-95a1-6f5f3084fd7f",
   "metadata": {},
   "outputs": [
    {
     "name": "stdin",
     "output_type": "stream",
     "text": [
      "Enter the length of the first side:  2\n",
      "Enter the length of the second side:  4\n",
      "Enter the length of the third side:  4\n"
     ]
    },
    {
     "name": "stdout",
     "output_type": "stream",
     "text": [
      "The triangle is isosceles.\n"
     ]
    }
   ],
   "source": [
    "#Implement a program to determine if a triangle is equilateral, isosceles, or scalene.\n",
    "side1 = float(input(\"Enter the length of the first side: \"))\n",
    "side2 = float(input(\"Enter the length of the second side: \"))\n",
    "side3 = float(input(\"Enter the length of the third side: \"))\n",
    "\n",
    "# Check if it's a valid triangle\n",
    "if (side1 + side2 > side3) and (side1 + side3 > side2) and (side2 + side3 > side1):\n",
    "    # Check for equilateral triangle\n",
    "    if side1 == side2 == side3:\n",
    "        triangle_type = \"equilateral\"\n",
    "    # Check for isosceles triangle\n",
    "    elif side1 == side2 or side1 == side3 or side2 == side3:\n",
    "        triangle_type = \"isosceles\"\n",
    "    # Otherwise, it's scalene\n",
    "    else:\n",
    "        triangle_type = \"scalene\"\n",
    "else:\n",
    "    triangle_type = \"invalid (not a triangle)\"\n",
    "\n",
    "# Display the type of triangle\n",
    "print(f\"The triangle is {triangle_type}.\")"
   ]
  },
  {
   "cell_type": "code",
   "execution_count": 19,
   "id": "8bbf8bd0-6e60-46d6-9ed2-de23a23a94b4",
   "metadata": {},
   "outputs": [
    {
     "name": "stdin",
     "output_type": "stream",
     "text": [
      "Enter a year:  1998\n"
     ]
    },
    {
     "name": "stdout",
     "output_type": "stream",
     "text": [
      "1998 is neither a leap year nor a century year.\n"
     ]
    }
   ],
   "source": [
    "#Develop a program that checks if a year is a leap year and also if it is a century year.\n",
    "# Input a year from the user\n",
    "year = int(input(\"Enter a year: \"))\n",
    "\n",
    "# Check if it's a leap year\n",
    "is_leap_year = False\n",
    "if (year % 4 == 0 and year % 100 != 0) or (year % 400 == 0):\n",
    "    is_leap_year = True\n",
    "\n",
    "# Check if it's a century year\n",
    "is_century_year = year % 100 == 0\n",
    "\n",
    "# Determine and display the results\n",
    "if is_leap_year:\n",
    "    if is_century_year:\n",
    "        print(f\"{year} is a leap year and a century year.\")\n",
    "    else:\n",
    "        print(f\"{year} is a leap year but not a century year.\")\n",
    "else:\n",
    "    if is_century_year:\n",
    "        print(f\"{year} is not a leap year but is a century year.\")\n",
    "    else:\n",
    "        print(f\"{year} is neither a leap year nor a century year.\")"
   ]
  },
  {
   "cell_type": "code",
   "execution_count": 20,
   "id": "0a5e3b22-3896-447b-b068-bfbb175ba5e2",
   "metadata": {},
   "outputs": [
    {
     "name": "stdin",
     "output_type": "stream",
     "text": [
      "Enter a number:  4\n"
     ]
    },
    {
     "name": "stdout",
     "output_type": "stream",
     "text": [
      "The number is positive.\n"
     ]
    }
   ],
   "source": [
    "#Write a Python script to determine if a number is positive, negative, or zero.\n",
    "number = float(input(\"Enter a number: \"))\n",
    "\n",
    "# Determine if it's positive, negative, or zero\n",
    "if number > 0:\n",
    "    print(\"The number is positive.\")\n",
    "elif number < 0:\n",
    "    print(\"The number is negative.\")\n",
    "else:\n",
    "    print(\"The number is zero.\")"
   ]
  },
  {
   "cell_type": "code",
   "execution_count": 21,
   "id": "3c6ee167-59b1-48e6-a5a3-51e40fcd5ab9",
   "metadata": {},
   "outputs": [
    {
     "name": "stdin",
     "output_type": "stream",
     "text": [
      "Enter the person's age:  23\n"
     ]
    },
    {
     "name": "stdout",
     "output_type": "stream",
     "text": [
      "The person is not a teenager.\n"
     ]
    }
   ],
   "source": [
    "#Create a program to check if a person is a teenager (between 13 and 19 years old).\n",
    "age = int(input(\"Enter the person's age: \"))\n",
    "\n",
    "# Check if the person is a teenager\n",
    "if 13 <= age <= 19:\n",
    "    print(\"The person is a teenager.\")\n",
    "else:\n",
    "    print(\"The person is not a teenager.\")"
   ]
  },
  {
   "cell_type": "code",
   "execution_count": 22,
   "id": "bff8c063-b46a-48b1-a888-256afa7cd7b8",
   "metadata": {},
   "outputs": [
    {
     "name": "stdin",
     "output_type": "stream",
     "text": [
      "Enter the angle measure (in degrees):  34\n"
     ]
    },
    {
     "name": "stdout",
     "output_type": "stream",
     "text": [
      "The angle is acute.\n"
     ]
    }
   ],
   "source": [
    "#Develop a program that determines the type of angle based on its measure (acute, obtuse, or right).\n",
    "# Input the angle measure from the user\n",
    "angle = float(input(\"Enter the angle measure (in degrees): \"))\n",
    "\n",
    "# Determine the type of angle\n",
    "if 0 < angle < 90:\n",
    "    angle_type = \"acute\"\n",
    "elif angle == 90:\n",
    "    angle_type = \"right\"\n",
    "elif 90 < angle < 180:\n",
    "    angle_type = \"obtuse\"\n",
    "else:\n",
    "    angle_type = \"invalid (not a valid angle measure)\"\n",
    "\n",
    "# Display the type of angle\n",
    "if angle_type != \"invalid (not a valid angle measure)\":\n",
    "    print(f\"The angle is {angle_type}.\")\n",
    "else:\n",
    "    print(\"Invalid input. Please enter a valid angle measure.\")"
   ]
  },
  {
   "cell_type": "code",
   "execution_count": 23,
   "id": "47711860-e57c-4f36-9f11-c7e0d48ff4b2",
   "metadata": {},
   "outputs": [
    {
     "name": "stdin",
     "output_type": "stream",
     "text": [
      "Enter coefficient a:  2\n",
      "Enter coefficient b:  4\n",
      "Enter coefficient c:  5\n"
     ]
    },
    {
     "name": "stdout",
     "output_type": "stream",
     "text": [
      "The roots are complex: -1.0 + 1.224744871391589i and -1.0 - 1.224744871391589i\n"
     ]
    }
   ],
   "source": [
    "#Write a Python program to calculate the roots of a quadratic equation\n",
    "import math\n",
    "\n",
    "# Input coefficients a, b, and c from the user\n",
    "a = float(input(\"Enter coefficient a: \"))\n",
    "b = float(input(\"Enter coefficient b: \"))\n",
    "c = float(input(\"Enter coefficient c: \"))\n",
    "\n",
    "# Calculate the discriminant\n",
    "discriminant = b**2 - 4*a*c\n",
    "\n",
    "# Check if the discriminant is positive, negative, or zero\n",
    "if discriminant > 0:\n",
    "    # Two real and distinct roots\n",
    "    root1 = (-b + math.sqrt(discriminant)) / (2*a)\n",
    "    root2 = (-b - math.sqrt(discriminant)) / (2*a)\n",
    "    print(f\"The roots are real and distinct: {root1} and {root2}\")\n",
    "elif discriminant == 0:\n",
    "    # One real root (repeated)\n",
    "    root = -b / (2*a)\n",
    "    print(f\"The root is real and repeated: {root}\")\n",
    "else:\n",
    "    # Complex roots\n",
    "    real_part = -b / (2*a)\n",
    "    imaginary_part = math.sqrt(abs(discriminant)) / (2*a)\n",
    "    print(f\"The roots are complex: {real_part} + {imaginary_part}i and {real_part} - {imaginary_part}i\")"
   ]
  },
  {
   "cell_type": "code",
   "execution_count": 24,
   "id": "f378b621-5fcc-4c38-86b9-3909adb83f78",
   "metadata": {},
   "outputs": [
    {
     "name": "stdin",
     "output_type": "stream",
     "text": [
      "Enter a number (1 for Monday, 2 for Tuesday, etc.):  1\n"
     ]
    },
    {
     "name": "stdout",
     "output_type": "stream",
     "text": [
      "The day of the week is Monday.\n"
     ]
    }
   ],
   "source": [
    "#Implement a program to determine the day of the week based on a user-provided number (1 for Monday, 2 for Tuesday, etc.).\n",
    "# Input a number representing the day of the week\n",
    "day_number = int(input(\"Enter a number (1 for Monday, 2 for Tuesday, etc.): \"))\n",
    "\n",
    "# Define a list of days of the week\n",
    "days_of_week = [\"Monday\", \"Tuesday\", \"Wednesday\", \"Thursday\", \"Friday\", \"Saturday\", \"Sunday\"]\n",
    "\n",
    "# Check if the input is within a valid range\n",
    "if 1 <= day_number <= 7:\n",
    "    # Subtract 1 from the input to index the list\n",
    "    day_name = days_of_week[day_number - 1]\n",
    "    print(f\"The day of the week is {day_name}.\")\n",
    "else:\n",
    "    print(\"Invalid input. Please enter a number between 1 and 7.\")"
   ]
  },
  {
   "cell_type": "code",
   "execution_count": 25,
   "id": "9c6a334c-4d7a-4920-8e39-6a46dd4a7703",
   "metadata": {},
   "outputs": [
    {
     "name": "stdin",
     "output_type": "stream",
     "text": [
      "Enter a year:  2009\n"
     ]
    },
    {
     "name": "stdout",
     "output_type": "stream",
     "text": [
      "2009 is not a leap year.\n"
     ]
    }
   ],
   "source": [
    "#Create a program that determines if a year is a leap year and also if it is evenly divisible by 400.\n",
    "year = int(input(\"Enter a year: \"))\n",
    "\n",
    "# Check if it's a leap year\n",
    "is_leap_year = False\n",
    "if (year % 4 == 0 and year % 100 != 0) or (year % 400 == 0):\n",
    "    is_leap_year = True\n",
    "\n",
    "# Check if it's evenly divisible by 400\n",
    "is_divisible_by_400 = year % 400 == 0\n",
    "\n",
    "# Determine and display the results\n",
    "if is_leap_year:\n",
    "    if is_divisible_by_400:\n",
    "        print(f\"{year} is a leap year and evenly divisible by 400.\")\n",
    "    else:\n",
    "        print(f\"{year} is a leap year but not evenly divisible by 400.\")\n",
    "else:\n",
    "    print(f\"{year} is not a leap year.\")"
   ]
  },
  {
   "cell_type": "code",
   "execution_count": 26,
   "id": "81f7649e-791e-4688-b8eb-a7a9031efb69",
   "metadata": {},
   "outputs": [
    {
     "name": "stdin",
     "output_type": "stream",
     "text": [
      "Enter a number:  45\n"
     ]
    },
    {
     "name": "stdout",
     "output_type": "stream",
     "text": [
      "45 is not a prime number.\n"
     ]
    }
   ],
   "source": [
    "#Develop a program that checks if a given number is prime or not using nested if-else statements.\n",
    "# Input a number from the user\n",
    "num = int(input(\"Enter a number: \"))\n",
    "\n",
    "# Check if the number is less than 2 (not a prime number)\n",
    "if num < 2:\n",
    "    is_prime = False\n",
    "else:\n",
    "    # Assume the number is prime\n",
    "    is_prime = True\n",
    "\n",
    "    # Check for factors from 2 to the square root of the number\n",
    "    for i in range(2, int(num**0.5) + 1):\n",
    "        if num % i == 0:\n",
    "            # If any factor is found, the number is not prime\n",
    "            is_prime = False\n",
    "            break\n",
    "\n",
    "# Determine and display the result\n",
    "if is_prime:\n",
    "    print(f\"{num} is a prime number.\")\n",
    "else:\n",
    "    print(f\"{num} is not a prime number.\")\n"
   ]
  },
  {
   "cell_type": "code",
   "execution_count": 27,
   "id": "ea253cb8-9371-4e64-aeca-4b6daa351231",
   "metadata": {},
   "outputs": [
    {
     "name": "stdin",
     "output_type": "stream",
     "text": [
      "Enter the student's score:  78\n"
     ]
    },
    {
     "name": "stdout",
     "output_type": "stream",
     "text": [
      "The student's grade is: C\n"
     ]
    }
   ],
   "source": [
    "#Write a Python program to assign grades based on different ranges of scores using elif statements.\n",
    "score = float(input(\"Enter the student's score: \"))\n",
    "\n",
    "# Assign grades based on score ranges using elif statements\n",
    "if 90 <= score <= 100:\n",
    "    grade = \"A\"\n",
    "elif 80 <= score < 90:\n",
    "    grade = \"B\"\n",
    "elif 70 <= score < 80:\n",
    "    grade = \"C\"\n",
    "elif 60 <= score < 70:\n",
    "    grade = \"D\"\n",
    "elif 0 <= score < 60:\n",
    "    grade = \"F\"\n",
    "else:\n",
    "    grade = \"Invalid input (score out of range)\"\n",
    "\n",
    "# Display the assigned grade\n",
    "print(f\"The student's grade is: {grade}\")"
   ]
  },
  {
   "cell_type": "code",
   "execution_count": 28,
   "id": "abea1bb8-5506-405f-9029-f8f16585e68d",
   "metadata": {},
   "outputs": [
    {
     "name": "stdin",
     "output_type": "stream",
     "text": [
      "Enter the first angle (in degrees):  78\n",
      "Enter the second angle (in degrees):  78\n",
      "Enter the third angle (in degrees):  56\n"
     ]
    },
    {
     "name": "stdout",
     "output_type": "stream",
     "text": [
      "Invalid input. The angles do not form a valid triangle.\n"
     ]
    }
   ],
   "source": [
    "#Implement a program to determine the type of a triangle based on its angles.\n",
    "angle1 = float(input(\"Enter the first angle (in degrees): \"))\n",
    "angle2 = float(input(\"Enter the second angle (in degrees): \"))\n",
    "angle3 = float(input(\"Enter the third angle (in degrees): \"))\n",
    "\n",
    "# Check if the angles form a valid triangle (sum of angles = 180 degrees)\n",
    "if angle1 + angle2 + angle3 == 180:\n",
    "    # Check the type of triangle based on its angles\n",
    "    if angle1 < 90 and angle2 < 90 and angle3 < 90:\n",
    "        triangle_type = \"acute\"\n",
    "    elif angle1 == 90 or angle2 == 90 or angle3 == 90:\n",
    "        triangle_type = \"right\"\n",
    "    else:\n",
    "        triangle_type = \"obtuse\"\n",
    "\n",
    "    # Display the type of triangle\n",
    "    print(f\"The triangle is a {triangle_type} triangle.\")\n",
    "else:\n",
    "    print(\"Invalid input. The angles do not form a valid triangle.\")"
   ]
  },
  {
   "cell_type": "code",
   "execution_count": 29,
   "id": "8a3a17a7-65bd-45a4-a5a0-527d33dde51f",
   "metadata": {},
   "outputs": [
    {
     "name": "stdin",
     "output_type": "stream",
     "text": [
      "Enter the weight (in kg):  65\n",
      "Enter the height (in meters):  1.57\n"
     ]
    },
    {
     "name": "stdout",
     "output_type": "stream",
     "text": [
      "Your BMI is 26.37, and you are categorized as overweight.\n"
     ]
    }
   ],
   "source": [
    "#Develop a program to categorize a given person's BMI into underweight, normal, overweight, or obese usingelif statements.\n",
    "weight = float(input(\"Enter the weight (in kg): \"))\n",
    "height = float(input(\"Enter the height (in meters): \"))\n",
    "\n",
    "# Calculate BMI (BMI = weight / (height * height))\n",
    "bmi = weight / (height * height)\n",
    "\n",
    "# Determine the BMI category using `elif` statements\n",
    "if bmi < 18.5:\n",
    "    category = \"underweight\"\n",
    "elif 18.5 <= bmi < 24.9:\n",
    "    category = \"normal weight\"\n",
    "elif 25 <= bmi < 29.9:\n",
    "    category = \"overweight\"\n",
    "else:\n",
    "    category = \"obese\"\n",
    "\n",
    "# Display the BMI and category\n",
    "print(f\"Your BMI is {bmi:.2f}, and you are categorized as {category}.\")"
   ]
  },
  {
   "cell_type": "code",
   "execution_count": 30,
   "id": "53229986-b52e-473b-80e8-dd24333022b5",
   "metadata": {},
   "outputs": [
    {
     "name": "stdin",
     "output_type": "stream",
     "text": [
      "Enter a number:  34\n"
     ]
    },
    {
     "name": "stdout",
     "output_type": "stream",
     "text": [
      "The number is positive.\n"
     ]
    }
   ],
   "source": [
    "#Create a program that determines whether a given number is positive, negative, or zero using elifstatements.\n",
    "number = float(input(\"Enter a number: \"))\n",
    "\n",
    "# Determine if the number is positive, negative, or zero using `elif` statements\n",
    "if number > 0:\n",
    "    result = \"positive\"\n",
    "elif number < 0:\n",
    "    result = \"negative\"\n",
    "else:\n",
    "    result = \"zero\"\n",
    "\n",
    "# Display the result\n",
    "print(f\"The number is {result}.\")"
   ]
  },
  {
   "cell_type": "code",
   "execution_count": 31,
   "id": "c3c53072-7945-4b0e-b841-ae88035417b0",
   "metadata": {},
   "outputs": [
    {
     "name": "stdin",
     "output_type": "stream",
     "text": [
      "Enter a character:  23\n"
     ]
    },
    {
     "name": "stdout",
     "output_type": "stream",
     "text": [
      "The character '23' is of type: special\n"
     ]
    }
   ],
   "source": [
    "#Write a Python script to determine the type of a character (uppercase, lowercase, or special) using elifstatements.\n",
    "char = input(\"Enter a character: \")\n",
    "\n",
    "# Check the type of character using `elif` statements\n",
    "if char.isupper():\n",
    "    char_type = \"uppercase\"\n",
    "elif char.islower():\n",
    "    char_type = \"lowercase\"\n",
    "else:\n",
    "    char_type = \"special\"\n",
    "\n",
    "# Display the character type\n",
    "print(f\"The character '{char}' is of type: {char_type}\")"
   ]
  },
  {
   "cell_type": "code",
   "execution_count": 32,
   "id": "3e19feee-52a8-4429-a8d9-eafe3af0dd51",
   "metadata": {},
   "outputs": [
    {
     "name": "stdin",
     "output_type": "stream",
     "text": [
      "Enter the purchase amount:  450\n"
     ]
    },
    {
     "name": "stdout",
     "output_type": "stream",
     "text": [
      "The discounted price is: $360.00\n"
     ]
    }
   ],
   "source": [
    "#Implement a program to calculate the discounted price based on different purchase amounts using elifstatements.\n",
    "purchase_amount = float(input(\"Enter the purchase amount: \"))\n",
    "\n",
    "# Calculate the discounted price using `elif` statements\n",
    "if purchase_amount < 50:\n",
    "    discount = 0\n",
    "elif purchase_amount < 100:\n",
    "    discount = 0.1  # 10% discount\n",
    "elif purchase_amount < 500:\n",
    "    discount = 0.2  # 20% discount\n",
    "else:\n",
    "    discount = 0.25  # 25% discount\n",
    "\n",
    "# Calculate the discounted price\n",
    "discounted_price = purchase_amount * (1 - discount)\n",
    "\n",
    "# Display the discounted price\n",
    "print(f\"The discounted price is: ${discounted_price:.2f}\")\n"
   ]
  },
  {
   "cell_type": "code",
   "execution_count": 33,
   "id": "a5e2d075-db69-43dd-a634-e94563b6f0ac",
   "metadata": {},
   "outputs": [
    {
     "name": "stdin",
     "output_type": "stream",
     "text": [
      "Enter the electricity consumption in kWh:  346\n"
     ]
    },
    {
     "name": "stdout",
     "output_type": "stream",
     "text": [
      "The electricity bill is: $103.00\n"
     ]
    }
   ],
   "source": [
    "#Develop a program to calculate the electricity bill based on different consumption slabs using elifstatements.\n",
    "consumption = float(input(\"Enter the electricity consumption in kWh: \"))\n",
    "\n",
    "# Initialize variables for the electricity rates and the bill\n",
    "rate_slab1 = 0.2  # Rate for the first 100 kWh\n",
    "rate_slab2 = 0.3  # Rate for the next 200 kWh\n",
    "rate_slab3 = 0.5  # Rate for consumption above 300 kWh\n",
    "bill = 0.0\n",
    "\n",
    "# Calculate the electricity bill based on different consumption slabs using `elif` statements\n",
    "if consumption <= 100:\n",
    "    bill = consumption * rate_slab1\n",
    "elif consumption <= 300:\n",
    "    bill = (100 * rate_slab1) + ((consumption - 100) * rate_slab2)\n",
    "else:\n",
    "    bill = (100 * rate_slab1) + (200 * rate_slab2) + ((consumption - 300) * rate_slab3)\n",
    "\n",
    "# Display the electricity bill\n",
    "print(f\"The electricity bill is: ${bill:.2f}\")"
   ]
  },
  {
   "cell_type": "code",
   "execution_count": 34,
   "id": "1b403581-147e-4a50-a5e1-4c6c98efbcd9",
   "metadata": {},
   "outputs": [
    {
     "name": "stdin",
     "output_type": "stream",
     "text": [
      "Enter the first angle (in degrees):  75\n",
      "Enter the second angle (in degrees):  75\n",
      "Enter the third angle (in degrees):  85\n",
      "Enter the fourth angle (in degrees):  85\n",
      "Enter the length of the first side:  5\n",
      "Enter the length of the second side:  7\n",
      "Enter the length of the third side:  6\n",
      "Enter the length of the fourth side:  7\n"
     ]
    },
    {
     "name": "stdout",
     "output_type": "stream",
     "text": [
      "Invalid input. The angles do not form a valid quadrilateral.\n"
     ]
    }
   ],
   "source": [
    "#Create a program to determine the type of quadrilateral based on its angles and sides using elifstatements.\n",
    "angle1 = float(input(\"Enter the first angle (in degrees): \"))\n",
    "angle2 = float(input(\"Enter the second angle (in degrees): \"))\n",
    "angle3 = float(input(\"Enter the third angle (in degrees): \"))\n",
    "angle4 = float(input(\"Enter the fourth angle (in degrees): \"))\n",
    "side1 = float(input(\"Enter the length of the first side: \"))\n",
    "side2 = float(input(\"Enter the length of the second side: \"))\n",
    "side3 = float(input(\"Enter the length of the third side: \"))\n",
    "side4 = float(input(\"Enter the length of the fourth side: \"))\n",
    "\n",
    "# Check if the quadrilateral is valid (sum of angles = 360 degrees)\n",
    "if angle1 + angle2 + angle3 + angle4 == 360:\n",
    "    # Determine the type of quadrilateral based on angles and sides using `elif` statements\n",
    "    if angle1 == angle2 == angle3 == angle4 == 90:\n",
    "        if side1 == side2 == side3 == side4:\n",
    "            quadrilateral_type = \"square\"\n",
    "        elif side1 == side2 and side3 == side4:\n",
    "            quadrilateral_type = \"rectangle\"\n",
    "        else:\n",
    "            quadrilateral_type = \"quadrilateral\"\n",
    "    elif angle1 == angle3 and angle2 == angle4:\n",
    "        if side1 == side3 and side2 == side4:\n",
    "            quadrilateral_type = \"rhombus\"\n",
    "        else:\n",
    "            quadrilateral_type = \"parallelogram\"\n",
    "    elif side1 == side2 == side3 == side4:\n",
    "        quadrilateral_type = \"quadrilateral\"\n",
    "    else:\n",
    "        quadrilateral_type = \"unknown\"\n",
    "    # Display the type of quadrilateral\n",
    "    print(f\"The quadrilateral is a {quadrilateral_type}.\")\n",
    "else:\n",
    "    print(\"Invalid input. The angles do not form a valid quadrilateral.\")"
   ]
  },
  {
   "cell_type": "code",
   "execution_count": 35,
   "id": "2dc1e991-1f5d-4fc4-8de3-fc7e840f1a86",
   "metadata": {},
   "outputs": [
    {
     "name": "stdin",
     "output_type": "stream",
     "text": [
      "Enter a month (e.g., January, February, etc.):  january\n"
     ]
    },
    {
     "name": "stdout",
     "output_type": "stream",
     "text": [
      "The season for January is winter.\n"
     ]
    }
   ],
   "source": [
    "#Write a Python script to determine the season based on a user-provided month using elif statements.\n",
    "month = input(\"Enter a month (e.g., January, February, etc.): \")\n",
    "\n",
    "# Convert the month to lowercase for case-insensitive comparison\n",
    "month = month.lower()\n",
    "\n",
    "# Determine the season using `elif` statements\n",
    "if month in [\"december\", \"january\", \"february\"]:\n",
    "    season = \"winter\"\n",
    "elif month in [\"march\", \"april\", \"may\"]:\n",
    "    season = \"spring\"\n",
    "elif month in [\"june\", \"july\", \"august\"]:\n",
    "    season = \"summer\"\n",
    "elif month in [\"september\", \"october\", \"november\"]:\n",
    "    season = \"fall\"\n",
    "else:\n",
    "    season = \"unknown\"\n",
    "\n",
    "# Display the season\n",
    "if season != \"unknown\":\n",
    "    print(f\"The season for {month.capitalize()} is {season}.\")\n",
    "else:\n",
    "    print(\"Invalid input. Please enter a valid month name.\")"
   ]
  },
  {
   "cell_type": "code",
   "execution_count": 36,
   "id": "c05be465-24aa-4052-bd64-9b4ff9cc0dd7",
   "metadata": {},
   "outputs": [
    {
     "name": "stdout",
     "output_type": "stream",
     "text": [
      "January in 2009 is a common year and has 31 days.\n"
     ]
    }
   ],
   "source": [
    "#Implement a program to determine the type of a year (leap or common) and month (30 or 31 days) usingelif statements.\n",
    "month = month.lower()\n",
    "\n",
    "# Determine if the year is leap or common\n",
    "if (year % 4 == 0 and year % 100 != 0) or (year % 400 == 0):\n",
    "    year_type = \"leap\"\n",
    "else:\n",
    "    year_type = \"common\"\n",
    "\n",
    "# Determine the number of days in the month using `elif` statements\n",
    "if month in [\"january\", \"march\", \"may\", \"july\", \"august\", \"october\", \"december\"]:\n",
    "    days_in_month = 31\n",
    "elif month in [\"april\", \"june\", \"september\", \"november\"]:\n",
    "    days_in_month = 30\n",
    "elif month == \"february\":\n",
    "    if year_type == \"leap\":\n",
    "        days_in_month = 29\n",
    "    else:\n",
    "        days_in_month = 28\n",
    "else:\n",
    "    days_in_month = \"unknown\"\n",
    "\n",
    "# Display the type of year and the number of days in the month\n",
    "if days_in_month != \"unknown\":\n",
    "    print(f\"{month.capitalize()} in {year} is a {year_type} year and has {days_in_month} days.\")\n",
    "else:\n",
    "    print(\"Invalid input. Please enter a valid month name.\")"
   ]
  },
  {
   "cell_type": "code",
   "execution_count": 37,
   "id": "3bbca8fe-a01a-471d-84ba-2f7d8f8951b6",
   "metadata": {},
   "outputs": [
    {
     "name": "stdin",
     "output_type": "stream",
     "text": [
      "Enter a number:  34\n"
     ]
    },
    {
     "name": "stdout",
     "output_type": "stream",
     "text": [
      "The number is positive.\n"
     ]
    }
   ],
   "source": [
    "#Write a Python program that checks if a given number is positive, negative, or zero.\n",
    "number = float(input(\"Enter a number: \"))\n",
    "\n",
    "# Check if the number is positive, negative, or zero\n",
    "if number > 0:\n",
    "    print(\"The number is positive.\")\n",
    "elif number < 0:\n",
    "    print(\"The number is negative.\")\n",
    "else:\n",
    "    print(\"The number is zero.\")"
   ]
  },
  {
   "cell_type": "code",
   "execution_count": 38,
   "id": "07c2307e-e0e4-4a4e-99fd-c51a14302847",
   "metadata": {},
   "outputs": [
    {
     "name": "stdin",
     "output_type": "stream",
     "text": [
      "Enter your age:  14\n"
     ]
    },
    {
     "name": "stdout",
     "output_type": "stream",
     "text": [
      "You are not eligible to vote.\n"
     ]
    }
   ],
   "source": [
    "#Create a program to determine if a person is eligible to vote based on their age.\n",
    "age = int(input(\"Enter your age: \"))\n",
    "\n",
    "# Check if the person is eligible to vote\n",
    "if age >= 18:\n",
    "    print(\"You are eligible to vote.\")\n",
    "else:\n",
    "    print(\"You are not eligible to vote.\")"
   ]
  },
  {
   "cell_type": "code",
   "execution_count": 1,
   "id": "d17752fa-ae91-41d3-9511-652be1d05545",
   "metadata": {},
   "outputs": [
    {
     "name": "stdin",
     "output_type": "stream",
     "text": [
      "Enter the first number:  34\n",
      "Enter the second number:  45\n"
     ]
    },
    {
     "name": "stdout",
     "output_type": "stream",
     "text": [
      "The maximum number is: 45.0\n"
     ]
    }
   ],
   "source": [
    "#Write a program to find the maximum of two given numbers using conditional statements.\n",
    "num1=float(input(\"Enter the first number: \"))\n",
    "num2=float(input(\"Enter the second number: \"))\n",
    "if num1>num2:\n",
    "    max_num=num1\n",
    "else:\n",
    "    max_num=num2\n",
    "    \n",
    "print(\"The maximum number is:\", max_num)"
   ]
  },
  {
   "cell_type": "code",
   "execution_count": 2,
   "id": "3a101ba2-2fda-4836-9cd2-aaa8262c9046",
   "metadata": {},
   "outputs": [
    {
     "name": "stdin",
     "output_type": "stream",
     "text": [
      "Enter the exam score:  89\n"
     ]
    },
    {
     "name": "stdout",
     "output_type": "stream",
     "text": [
      "The student's grade is: B\n"
     ]
    }
   ],
   "source": [
    "#Develop a program that calculates the grade of a student based on their exam score.\n",
    "score = float(input(\"Enter the exam score: \"))\n",
    "\n",
    "# Define the grading criteria\n",
    "if 90 <= score <= 100:\n",
    "    grade = \"A\"\n",
    "elif 80 <= score < 90:\n",
    "    grade = \"B\"\n",
    "elif 70 <= score < 80:\n",
    "    grade = \"C\"\n",
    "elif 60 <= score < 70:\n",
    "    grade = \"D\"\n",
    "elif 0 <= score < 60:\n",
    "    grade = \"F\"\n",
    "else:\n",
    "    grade = \"Invalid score (score must be between 0 and 100)\"\n",
    "\n",
    "# Display the grade\n",
    "print(\"The student's grade is:\", grade)"
   ]
  },
  {
   "cell_type": "code",
   "execution_count": 3,
   "id": "72c18adf-0990-4263-9c7f-925dccd70e0d",
   "metadata": {},
   "outputs": [
    {
     "name": "stdin",
     "output_type": "stream",
     "text": [
      "Enter a year:  2000\n"
     ]
    },
    {
     "name": "stdout",
     "output_type": "stream",
     "text": [
      "2000 is a leap year.\n"
     ]
    }
   ],
   "source": [
    "#Create a program that checks if a year is a leap year or not.\n",
    "year = int(input(\"Enter a year: \"))\n",
    "\n",
    "# Check if it's a leap year\n",
    "if (year % 4 == 0 and year % 100 != 0) or (year % 400 == 0):\n",
    "    print(year, \"is a leap year.\")\n",
    "else:\n",
    "    print(year, \"is not a leap year.\")"
   ]
  },
  {
   "cell_type": "code",
   "execution_count": 4,
   "id": "44993b69-bdac-40df-8858-6c81e490c89b",
   "metadata": {},
   "outputs": [
    {
     "name": "stdin",
     "output_type": "stream",
     "text": [
      "Enter the length of the first side:  34\n",
      "Enter the length of the second side:  34\n",
      "Enter the length of the third side:  56\n"
     ]
    },
    {
     "name": "stdout",
     "output_type": "stream",
     "text": [
      "The triangle is a(n) Isosceles triangle.\n"
     ]
    }
   ],
   "source": [
    "#Write a program to classify a triangle based on its sides' lengths.\n",
    "side1 = float(input(\"Enter the length of the first side: \"))\n",
    "side2 = float(input(\"Enter the length of the second side: \"))\n",
    "side3 = float(input(\"Enter the length of the third side: \"))\n",
    "\n",
    "# Check the triangle's type\n",
    "if side1 == side2 == side3:\n",
    "    triangle_type = \"Equilateral\"\n",
    "elif side1 == side2 or side2 == side3 or side1 == side3:\n",
    "    triangle_type = \"Isosceles\"\n",
    "else:\n",
    "    triangle_type = \"Scalene\"\n",
    "\n",
    "# Display the triangle type\n",
    "print(\"The triangle is a(n)\", triangle_type, \"triangle.\")"
   ]
  },
  {
   "cell_type": "code",
   "execution_count": 5,
   "id": "94be8ab0-6e96-4b50-b032-28e7bfbd1437",
   "metadata": {},
   "outputs": [
    {
     "name": "stdin",
     "output_type": "stream",
     "text": [
      "Enter the first number:  45\n",
      "Enter the second number:  67\n",
      "Enter the third number:  75\n"
     ]
    },
    {
     "name": "stdout",
     "output_type": "stream",
     "text": [
      "The largest number is: 75.0\n"
     ]
    }
   ],
   "source": [
    "#Build a program that determines the largest of three given numbers.\n",
    "num1 = float(input(\"Enter the first number: \"))\n",
    "num2 = float(input(\"Enter the second number: \"))\n",
    "num3 = float(input(\"Enter the third number: \"))\n",
    "\n",
    "# Use conditional statements to find the largest number\n",
    "if num1 >= num2 and num1 >= num3:\n",
    "    largest = num1\n",
    "elif num2 >= num1 and num2 >= num3:\n",
    "    largest = num2\n",
    "else:\n",
    "    largest = num3\n",
    "\n",
    "# Display the largest number\n",
    "print(\"The largest number is:\", largest)"
   ]
  },
  {
   "cell_type": "code",
   "execution_count": 7,
   "id": "1971d9d8-7619-4984-9427-bb414a028169",
   "metadata": {},
   "outputs": [
    {
     "name": "stdin",
     "output_type": "stream",
     "text": [
      "Enter a character:  h\n"
     ]
    },
    {
     "name": "stdout",
     "output_type": "stream",
     "text": [
      "The character is a consonant.\n"
     ]
    }
   ],
   "source": [
    "#Develop a program that checks whether a character is a vowel or a consonant.\n",
    "char = input(\"Enter a character: \")\n",
    "\n",
    "# Convert the input to lowercase to handle both uppercase and lowercase characters\n",
    "char = char.lower()\n",
    "\n",
    "# Check if the character is a vowel\n",
    "if char == 'a' or char == 'e' or char == 'i' or char == 'o' or char == 'u':\n",
    "    print(\"The character is a vowel.\")\n",
    "else:\n",
    "    print(\"The character is a consonant.\")"
   ]
  },
  {
   "cell_type": "code",
   "execution_count": 8,
   "id": "5de68f1c-5fdc-42e5-a0ea-3da6bf0301ec",
   "metadata": {},
   "outputs": [
    {
     "name": "stdin",
     "output_type": "stream",
     "text": [
      "Enter the item name (or 'done' to finish):  item1\n",
      "Enter the quantity:  2\n",
      "Enter the item name (or 'done' to finish):  item 2\n"
     ]
    },
    {
     "name": "stdout",
     "output_type": "stream",
     "text": [
      "Item not found in the inventory. Please enter a valid item.\n"
     ]
    },
    {
     "name": "stdin",
     "output_type": "stream",
     "text": [
      "Enter the item name (or 'done' to finish):  done\n"
     ]
    },
    {
     "name": "stdout",
     "output_type": "stream",
     "text": [
      "\n",
      "Shopping Cart:\n",
      "item1: 2 x $10.0 = $20.00\n",
      "\n",
      "Total cost of the shopping cart: $18.00\n"
     ]
    }
   ],
   "source": [
    "#Create a program to calculate the total cost of a shopping cart based on discounts.\n",
    "# Define items and their prices in a dictionary\n",
    "items = {\n",
    "    \"item1\": 10.0,\n",
    "    \"item2\": 15.0,\n",
    "    \"item3\": 20.0,\n",
    "}\n",
    "\n",
    "# Define discount rules (item name and discount percentage)\n",
    "discounts = {\n",
    "    \"item1\": 0.10,  # 10% discount on item1\n",
    "    \"item3\": 0.20,  # 20% discount on item3\n",
    "}\n",
    "\n",
    "# Initialize the total cost\n",
    "total_cost = 0.0\n",
    "\n",
    "# Create an empty shopping cart as a dictionary (item name and quantity)\n",
    "shopping_cart = {}\n",
    "\n",
    "# Input the items and quantities in the shopping cart\n",
    "while True:\n",
    "    item_name = input(\"Enter the item name (or 'done' to finish): \")\n",
    "    \n",
    "    if item_name == \"done\":\n",
    "        break\n",
    "    \n",
    "    if item_name in items:\n",
    "        quantity = int(input(\"Enter the quantity: \"))\n",
    "        item_price = items[item_name]\n",
    "        \n",
    "        # Update the shopping cart\n",
    "        if item_name in shopping_cart:\n",
    "            shopping_cart[item_name] += quantity\n",
    "        else:\n",
    "            shopping_cart[item_name] = quantity\n",
    "        \n",
    "    else:\n",
    "        print(\"Item not found in the inventory. Please enter a valid item.\")\n",
    "\n",
    "# Calculate the total cost based on the shopping cart contents and discounts\n",
    "for item_name, quantity in shopping_cart.items():\n",
    "    item_price = items[item_name]\n",
    "    item_cost = item_price * quantity\n",
    "    \n",
    "    # Apply discount if applicable\n",
    "    if item_name in discounts:\n",
    "        discount_percentage = discounts[item_name]\n",
    "        discount_amount = item_cost * discount_percentage\n",
    "        item_cost -= discount_amount\n",
    "    \n",
    "    total_cost += item_cost\n",
    "\n",
    "# Display the shopping cart and total cost\n",
    "print(\"\\nShopping Cart:\")\n",
    "for item_name, quantity in shopping_cart.items():\n",
    "    print(f\"{item_name}: {quantity} x ${items[item_name]} = ${items[item_name] * quantity:.2f}\")\n",
    "print(f\"\\nTotal cost of the shopping cart: ${total_cost:.2f}\")"
   ]
  },
  {
   "cell_type": "code",
   "execution_count": 9,
   "id": "0fd43ebc-f107-49aa-afc6-050cd808acaf",
   "metadata": {},
   "outputs": [
    {
     "name": "stdin",
     "output_type": "stream",
     "text": [
      "Enter a number:  56\n"
     ]
    },
    {
     "name": "stdout",
     "output_type": "stream",
     "text": [
      "56 is an even number.\n"
     ]
    }
   ],
   "source": [
    "#Write a program that checks if a given number is even or odd.\n",
    "number = int(input(\"Enter a number: \"))\n",
    "\n",
    "# Check if the number is even or odd\n",
    "if number % 2 == 0:\n",
    "    print(number, \"is an even number.\")\n",
    "else:\n",
    "    print(number, \"is an odd number.\")"
   ]
  },
  {
   "cell_type": "code",
   "execution_count": 14,
   "id": "d2ed7210-ba62-4c4b-97df-4c86003978d6",
   "metadata": {},
   "outputs": [
    {
     "name": "stdin",
     "output_type": "stream",
     "text": [
      "Enter the coefficient 'a':  4\n",
      "Enter the coefficient 'b':  6\n",
      "Enter the coefficient 'c':  2\n"
     ]
    },
    {
     "name": "stdout",
     "output_type": "stream",
     "text": [
      "Two real and distinct roots:\n",
      "Root 1: (-0.5+0j)\n",
      "Root 2: (-1+0j)\n"
     ]
    }
   ],
   "source": [
    "#Write a program that calculates the roots of a quadratic equation .\n",
    "import cmath\n",
    "\n",
    "# Input coefficients from the user\n",
    "a = float(input(\"Enter the coefficient 'a': \"))\n",
    "b = float(input(\"Enter the coefficient 'b': \"))\n",
    "c = float(input(\"Enter the coefficient 'c': \"))\n",
    "\n",
    "# Calculate the discriminant\n",
    "discriminant = b**2 - 4*a*c\n",
    "\n",
    "# Calculate the roots using the quadratic formula\n",
    "root1 = (-b + cmath.sqrt(discriminant)) / (2*a)\n",
    "root2 = (-b - cmath.sqrt(discriminant)) / (2*a)\n",
    "\n",
    "# Check the value of the discriminant to determine the type of roots\n",
    "if discriminant > 0:\n",
    "    print(\"Two real and distinct roots:\")\n",
    "    print(\"Root 1:\", root1)\n",
    "    print(\"Root 2:\", root2)\n",
    "elif discriminant == 0:\n",
    "    print(\"One real root (a repeated root):\")\n",
    "    print(\"Root:\", root1)\n",
    "else:\n",
    "    print(\"Complex roots:\")\n",
    "    real_part = -b / (2*a)\n",
    "    imaginary_part = math.sqrt(abs(discriminant)) / (2*a)\n",
    "    print(\"Root 1:\", real_part, \"+\", imaginary_part, \"i\")\n",
    "    print(\"Root 2:\", real_part, \"-\", imaginary_part, \"i\")"
   ]
  },
  {
   "cell_type": "code",
   "execution_count": 16,
   "id": "da4e48fe-8322-49fe-bbab-1768dc5dafb7",
   "metadata": {},
   "outputs": [
    {
     "name": "stdin",
     "output_type": "stream",
     "text": [
      "Enter a day number (1-7):  5\n"
     ]
    },
    {
     "name": "stdout",
     "output_type": "stream",
     "text": [
      "The day of the week is: Thursday\n"
     ]
    }
   ],
   "source": [
    "#Create a program that determines the day of the week based on the day number (1-7).\n",
    "days={\n",
    "    1:\"Sunday\",\n",
    "    2:\"Monday\",\n",
    "    3:\"Tuesday\",\n",
    "    4:\"Wednesday\",\n",
    "    5:\"Thursday\",\n",
    "    6:\"Friday\",\n",
    "    7:\"Saturday\"\n",
    "}\n",
    "day_number=int(input(\"Enter a day number (1-7): \"))\n",
    "if 1<=day_number <=7:\n",
    "    day_name=days[day_number]\n",
    "    print(\"The day of the week is:\", day_name)\n",
    "else:\n",
    "    print(\"Invalid day number\")\n",
    "    "
   ]
  },
  {
   "cell_type": "code",
   "execution_count": 17,
   "id": "93dedece-eca0-406d-a3e1-3fa9a5b0bbe0",
   "metadata": {},
   "outputs": [
    {
     "name": "stdin",
     "output_type": "stream",
     "text": [
      "Enter a non-negative integer:  4\n"
     ]
    },
    {
     "name": "stdout",
     "output_type": "stream",
     "text": [
      "The factorial of 4 is 24\n"
     ]
    }
   ],
   "source": [
    "#Develop a program that calculates the factorial of a given number using recursion.\n",
    "def factorial(n):\n",
    "    if n == 0:\n",
    "        return 1  # Base case: 0! is defined as 1\n",
    "    else:\n",
    "        return n * factorial(n - 1)\n",
    "\n",
    "# Input the number from the user\n",
    "num = int(input(\"Enter a non-negative integer: \"))\n",
    "\n",
    "# Check if the input is non-negative\n",
    "if num < 0:\n",
    "    print(\"Please enter a non-negative integer.\")\n",
    "else:\n",
    "    result = factorial(num)\n",
    "    print(f\"The factorial of {num} is {result}\")"
   ]
  },
  {
   "cell_type": "code",
   "execution_count": null,
   "id": "a84f0bf0-d952-42c5-a2dd-92b95b63040a",
   "metadata": {},
   "outputs": [
    {
     "name": "stdin",
     "output_type": "stream",
     "text": [
      "Enter the first number:  6\n",
      "Enter the second number:  4\n",
      "Enter the third number:  8\n"
     ]
    },
    {
     "name": "stdout",
     "output_type": "stream",
     "text": [
      "The largest number is: 8.0\n"
     ]
    }
   ],
   "source": [
    "#Write a program to find the largest among three numbers without using the `max()` function.\n",
    "num1 = float(input(\"Enter the first number: \"))\n",
    "num2 = float(input(\"Enter the second number: \"))\n",
    "num3 = float(input(\"Enter the third number: \"))\n",
    "\n",
    "# Assume num1 is the largest initially\n",
    "largest = num1\n",
    "\n",
    "# Compare num2 with the largest\n",
    "if num2 > largest:\n",
    "    largest = num2\n",
    "\n",
    "# Compare num3 with the largest\n",
    "if num3 > largest:\n",
    "    largest = num3\n",
    "\n",
    "# Display the largest number\n",
    "print(\"The largest number is:\", largest)\n"
   ]
  },
  {
   "cell_type": "code",
   "execution_count": 3,
   "id": "5044bf78-0bac-41f9-acc7-91757e2b4245",
   "metadata": {},
   "outputs": [
    {
     "name": "stdout",
     "output_type": "stream",
     "text": [
      "\n",
      "ATM Menu:\n",
      "1. Check Balance\n",
      "2. Deposit\n",
      "3. Withdraw\n",
      "4. Exit\n"
     ]
    },
    {
     "name": "stdin",
     "output_type": "stream",
     "text": [
      "Enter your choice (1/2/3/4):  3\n",
      "Enter the amount to withdraw: $ 400\n"
     ]
    },
    {
     "name": "stdout",
     "output_type": "stream",
     "text": [
      "$400.00 has been withdrawn successfully.\n",
      "\n",
      "ATM Menu:\n",
      "1. Check Balance\n",
      "2. Deposit\n",
      "3. Withdraw\n",
      "4. Exit\n"
     ]
    },
    {
     "name": "stdin",
     "output_type": "stream",
     "text": [
      "Enter your choice (1/2/3/4):  1\n"
     ]
    },
    {
     "name": "stdout",
     "output_type": "stream",
     "text": [
      "Your balance is $600.00\n",
      "\n",
      "ATM Menu:\n",
      "1. Check Balance\n",
      "2. Deposit\n",
      "3. Withdraw\n",
      "4. Exit\n"
     ]
    },
    {
     "name": "stdin",
     "output_type": "stream",
     "text": [
      "Enter your choice (1/2/3/4):  4\n"
     ]
    },
    {
     "name": "stdout",
     "output_type": "stream",
     "text": [
      "Thank you for using the ATM. Have a nice day!\n"
     ]
    }
   ],
   "source": [
    "#Create a program that simulates a basic ATM transaction menu.\n",
    "balance=1000\n",
    "def display_menu():\n",
    "    print(\"\\nATM Menu:\")\n",
    "    print(\"1. Check Balance\")\n",
    "    print(\"2. Deposit\")\n",
    "    print(\"3. Withdraw\")\n",
    "    print(\"4. Exit\")\n",
    "    \n",
    "    \n",
    "def check_balance():\n",
    "    print(f\"Your balance is ${balance:.2f}\")\n",
    "def deposit():\n",
    "    global balance\n",
    "    deposit_amount = float(input(\"Enter the amount to deposit: $\"))\n",
    "    if deposit_amount > 0:\n",
    "        balance += deposit_amount\n",
    "        print(f\"${deposit_amount:.2f} has been deposited successfully.\")\n",
    "    else:\n",
    "        print(\"Invalid deposit amount. Please enter a positive amount.\")\n",
    "\n",
    "# Function to withdraw money\n",
    "def withdraw():\n",
    "    global balance\n",
    "    withdraw_amount = float(input(\"Enter the amount to withdraw: $\"))\n",
    "    if withdraw_amount > 0 and withdraw_amount <= balance:\n",
    "        balance -= withdraw_amount\n",
    "        print(f\"${withdraw_amount:.2f} has been withdrawn successfully.\")\n",
    "    elif withdraw_amount > balance:\n",
    "        print(\"Insufficient balance.\")\n",
    "    else:\n",
    "        print(\"Invalid withdraw amount. Please enter a positive amount.\")\n",
    "\n",
    "# Main program loop\n",
    "while True:\n",
    "    display_menu()\n",
    "    choice = input(\"Enter your choice (1/2/3/4): \")\n",
    "\n",
    "    if choice == '1':\n",
    "        check_balance()\n",
    "    elif choice == '2':\n",
    "        deposit()\n",
    "    elif choice == '3':\n",
    "        withdraw()\n",
    "    elif choice == '4':\n",
    "        print(\"Thank you for using the ATM. Have a nice day!\")\n",
    "        break\n",
    "    else:\n",
    "        print(\"Invalid choice. Please select a valid option (1/2/3/4).\")\n",
    "    "
   ]
  },
  {
   "cell_type": "code",
   "execution_count": 20,
   "id": "7bcba779-ef22-446c-ad00-6aa9b3b00e02",
   "metadata": {},
   "outputs": [
    {
     "name": "stdin",
     "output_type": "stream",
     "text": [
      "Enter a string:  ada\n"
     ]
    },
    {
     "name": "stdout",
     "output_type": "stream",
     "text": [
      "The string is a palindrome.\n"
     ]
    }
   ],
   "source": [
    "#Build a program that checks if a given string is a palindrome or not.\n",
    "def is_palindrome(s):\n",
    "    # Remove spaces and convert to lowercase for case-insensitive comparison\n",
    "    s = s.replace(\" \", \"\").lower()\n",
    "    return s == s[::-1]\n",
    "\n",
    "# Input a string from the user\n",
    "input_string = input(\"Enter a string: \")\n",
    "\n",
    "# Check if the input string is a palindrome\n",
    "if is_palindrome(input_string):\n",
    "    print(\"The string is a palindrome.\")\n",
    "else:\n",
    "    print(\"The string is not a palindrome.\")"
   ]
  },
  {
   "cell_type": "code",
   "execution_count": 22,
   "id": "dde9d53b-25c4-45c8-aae6-f18869a95f39",
   "metadata": {},
   "outputs": [
    {
     "name": "stdin",
     "output_type": "stream",
     "text": [
      "Enter a list of numbers separated by spaces:  1 3 4 5 7 8 \n"
     ]
    },
    {
     "name": "stdout",
     "output_type": "stream",
     "text": [
      "The average (excluding smallest and largest values) is: 4.75\n"
     ]
    }
   ],
   "source": [
    "#Write a program that calculates the average of a list of numbers, excluding the smallest and largest values.\n",
    "# Function to calculate the average excluding the smallest and largest values\n",
    "def calculate_average(numbers):\n",
    "    if len(numbers) < 3:\n",
    "        return \"Insufficient number of elements to calculate an average.\"\n",
    "\n",
    "    # Find the smallest and largest values\n",
    "    smallest = min(numbers)\n",
    "    largest = max(numbers)\n",
    "\n",
    "    # Calculate the sum of the values excluding the smallest and largest\n",
    "    total = sum(numbers) - smallest - largest\n",
    "\n",
    "    # Calculate the average\n",
    "    average = total / (len(numbers) - 2)\n",
    "    return average\n",
    "\n",
    "# Input a list of numbers from the user\n",
    "try:\n",
    "    num_list = [float(x) for x in input(\"Enter a list of numbers separated by spaces: \").split()]\n",
    "\n",
    "    # Calculate and display the average\n",
    "    result = calculate_average(num_list)\n",
    "    if isinstance(result, str):\n",
    "        print(result)\n",
    "    else:\n",
    "        print(\"The average (excluding smallest and largest values) is:\", result)\n",
    "except ValueError:\n",
    "    print(\"Invalid input. Please enter a list of numbers separated by spaces.\")"
   ]
  },
  {
   "cell_type": "code",
   "execution_count": 23,
   "id": "97d47bba-e71c-45a7-91b7-aceb3cc74ed7",
   "metadata": {},
   "outputs": [
    {
     "name": "stdin",
     "output_type": "stream",
     "text": [
      "Enter temperature in Celsius:  45\n"
     ]
    },
    {
     "name": "stdout",
     "output_type": "stream",
     "text": [
      "45.0 degrees Celsius is equal to 113.0 degrees Fahrenheit.\n"
     ]
    }
   ],
   "source": [
    "#Develop a program that converts a given temperature from Celsius to Fahrenheit.\n",
    "def celsius_to_fahrenheit(celsius):\n",
    "    fahrenheit = (celsius * 9/5) + 32\n",
    "    return fahrenheit\n",
    "\n",
    "# Input temperature in Celsius from the user\n",
    "try:\n",
    "    celsius = float(input(\"Enter temperature in Celsius: \"))\n",
    "    # Call the conversion function\n",
    "    fahrenheit = celsius_to_fahrenheit(celsius)\n",
    "    print(f\"{celsius} degrees Celsius is equal to {fahrenheit} degrees Fahrenheit.\")\n",
    "except ValueError:\n",
    "    print(\"Invalid input. Please enter a valid temperature in Celsius.\")"
   ]
  },
  {
   "cell_type": "code",
   "execution_count": 24,
   "id": "e4215816-1e20-404e-b513-e6b8e8f76a34",
   "metadata": {},
   "outputs": [
    {
     "name": "stdout",
     "output_type": "stream",
     "text": [
      "Calculator Menu:\n",
      "1. Addition\n",
      "2. Subtraction\n",
      "3. Multiplication\n",
      "4. Division\n"
     ]
    },
    {
     "name": "stdin",
     "output_type": "stream",
     "text": [
      "Enter your choice (1/2/3/4):  4\n",
      "Enter the first number:  45\n",
      "Enter the second number:  9\n"
     ]
    },
    {
     "name": "stdout",
     "output_type": "stream",
     "text": [
      "Result: 5.0\n"
     ]
    }
   ],
   "source": [
    "#Create a program that simulates a basic calculator for addition, subtraction, multiplication, and division.\n",
    "def add(x, y):\n",
    "    return x + y\n",
    "\n",
    "# Function for subtraction\n",
    "def subtract(x, y):\n",
    "    return x - y\n",
    "\n",
    "# Function for multiplication\n",
    "def multiply(x, y):\n",
    "    return x * y\n",
    "\n",
    "# Function for division\n",
    "def divide(x, y):\n",
    "    if y == 0:\n",
    "        return \"Division by zero is not allowed.\"\n",
    "    return x / y\n",
    "\n",
    "# Display the calculator menu\n",
    "print(\"Calculator Menu:\")\n",
    "print(\"1. Addition\")\n",
    "print(\"2. Subtraction\")\n",
    "print(\"3. Multiplication\")\n",
    "print(\"4. Division\")\n",
    "\n",
    "# Input the choice from the user\n",
    "choice = input(\"Enter your choice (1/2/3/4): \")\n",
    "\n",
    "# Input the numbers from the user\n",
    "try:\n",
    "    num1 = float(input(\"Enter the first number: \"))\n",
    "    num2 = float(input(\"Enter the second number: \"))\n",
    "\n",
    "    # Perform the chosen operation and display the result\n",
    "    if choice == '1':\n",
    "        result = add(num1, num2)\n",
    "        print(\"Result:\", result)\n",
    "    elif choice == '2':\n",
    "        result = subtract(num1, num2)\n",
    "        print(\"Result:\", result)\n",
    "    elif choice == '3':\n",
    "        result = multiply(num1, num2)\n",
    "        print(\"Result:\", result)\n",
    "    elif choice == '4':\n",
    "        result = divide(num1, num2)\n",
    "        print(\"Result:\", result)\n",
    "    else:\n",
    "        print(\"Invalid choice. Please select a valid option (1/2/3/4).\")\n",
    "except ValueError:\n",
    "    print(\"Invalid input. Please enter valid numbers.\")"
   ]
  },
  {
   "cell_type": "code",
   "execution_count": 4,
   "id": "ff2c433d-0652-4ae0-9244-ca911d8c3b6b",
   "metadata": {},
   "outputs": [
    {
     "name": "stdin",
     "output_type": "stream",
     "text": [
      "Enter coefficient a:  4\n",
      "Enter coefficient b:  5\n",
      "Enter coefficient c:  3\n",
      "Enter coefficient d:  7\n"
     ]
    },
    {
     "name": "stdout",
     "output_type": "stream",
     "text": [
      "Root 1: -12.55031067788646\n",
      "Root 2: (5.58460330599658+10.508043954193258j)\n",
      "Root 3: (5.58460330599658+10.508043954193258j)\n"
     ]
    }
   ],
   "source": [
    "#Write a program that determines the roots of a cubic equation using the Cardano formula.\n",
    "import math\n",
    "\n",
    "# Function to calculate the roots of a cubic equation\n",
    "def solve_cubic(a, b, c, d):\n",
    "    # Calculate discriminant and its cube root\n",
    "    p = (3 * a * c - b ** 2) / (3 * a ** 2)\n",
    "    q = (2 * b ** 3 - 9 * a * b * c + 27 * a ** 2 * d) / (27 * a ** 3)\n",
    "    discriminant = (q ** 2) / 4 + (p ** 3) / 27\n",
    "\n",
    "    if discriminant > 0:\n",
    "        # One real root, two complex roots\n",
    "        root = -q / 2 + math.sqrt(discriminant)\n",
    "        root = math.copysign(1, root) * (abs(root) ** (1 / 3))\n",
    "        s = (-1 + math.sqrt(3) * 1j) / 2\n",
    "        root1 = -b / (3 * a) - root - (q / (2 * root))\n",
    "        root2 = -b / (3 * a) + (s * root) - (q / (2 * s * root))\n",
    "        root3 = -b / (3 * a) + (s * root) - (q / (2 * s * root))\n",
    "    elif discriminant == 0:\n",
    "        # All roots are real and at least two are equal\n",
    "        root = -q / 2\n",
    "        root = math.copysign(1, root) * (abs(root) ** (1 / 3))\n",
    "        root1 = -b / (3 * a) - 2 * root\n",
    "        root2 = -b / (3 * a) + root\n",
    "        root3 = -b / (3 * a) + root\n",
    "    else:\n",
    "        # All roots are real and distinct\n",
    "        root = ((-q / 2) ** 3 + abs(discriminant) ** 0.5)\n",
    "        root = math.copysign(1, root) * (abs(root) ** (1 / 3))\n",
    "        s = (-1 + math.sqrt(3)) / 2\n",
    "        root1 = -b / (3 * a) + root + (q / (2 * root))\n",
    "        root2 = -b / (3 * a) + (s * root) + (q / (2 * s * root))\n",
    "        root3 = -b / (3 * a) + (s * root) + (q / (2 * s * root))\n",
    "\n",
    "    return root1, root2, root3\n",
    "\n",
    "# Input coefficients of the cubic equation: ax^3 + bx^2 + cx + d = 0\n",
    "a = float(input(\"Enter coefficient a: \"))\n",
    "b = float(input(\"Enter coefficient b: \"))\n",
    "c = float(input(\"Enter coefficient c: \"))\n",
    "d = float(input(\"Enter coefficient d: \"))\n",
    "\n",
    "# Calculate and print the roots\n",
    "roots = solve_cubic(a, b, c, d)\n",
    "print(\"Root 1:\", roots[0])\n",
    "print(\"Root 2:\", roots[1])\n",
    "print(\"Root 3:\", roots[2])"
   ]
  },
  {
   "cell_type": "code",
   "execution_count": 29,
   "id": "5499015d-d487-4011-8b7a-e5c688d64a49",
   "metadata": {},
   "outputs": [
    {
     "name": "stdin",
     "output_type": "stream",
     "text": [
      "Enter your annual income: $ 50000\n"
     ]
    },
    {
     "name": "stdout",
     "output_type": "stream",
     "text": [
      "Your income tax owed is: $5802.50\n"
     ]
    }
   ],
   "source": [
    "#Create a program that calculates the income tax based on the user's income and tax brackets.\n",
    "# Define tax brackets and their corresponding tax rates\n",
    "tax_brackets = [\n",
    "    (9875, 0.10),\n",
    "    (40125, 0.12),\n",
    "    (85525, 0.22),\n",
    "    (163300, 0.24),\n",
    "    (207350, 0.32),\n",
    "    (518400, 0.35),\n",
    "    (float('inf'), 0.37)\n",
    "]\n",
    "\n",
    "# Function to calculate income tax\n",
    "def calculate_income_tax(income):\n",
    "    tax_owed = 0\n",
    "    remaining_income = income\n",
    "    \n",
    "    for bracket in tax_brackets:\n",
    "        bracket_limit, tax_rate = bracket\n",
    "        if remaining_income <= 0:\n",
    "            break\n",
    "        elif remaining_income <= bracket_limit:\n",
    "            tax_owed += remaining_income * tax_rate\n",
    "            break\n",
    "        else:\n",
    "            taxable_income_in_bracket = bracket_limit\n",
    "            tax_owed += taxable_income_in_bracket * tax_rate\n",
    "            remaining_income -= taxable_income_in_bracket\n",
    "    \n",
    "    return tax_owed\n",
    "\n",
    "# Input income from the user\n",
    "try:\n",
    "    income = float(input(\"Enter your annual income: $\"))\n",
    "\n",
    "    # Calculate income tax and display the result\n",
    "    if income < 0:\n",
    "        print(\"Invalid income. Please enter a positive value.\")\n",
    "    else:\n",
    "        tax = calculate_income_tax(income)\n",
    "        print(f\"Your income tax owed is: ${tax:.2f}\")\n",
    "except ValueError:\n",
    "    print(\"Invalid input. Please enter a valid annual income as a number.\")"
   ]
  },
  {
   "cell_type": "code",
   "execution_count": 5,
   "id": "2373aabb-9063-4caa-a6f1-8fd1ce977914",
   "metadata": {},
   "outputs": [
    {
     "name": "stdout",
     "output_type": "stream",
     "text": [
      "\n",
      "Rock, Paper, Scissors Game\n",
      "Enter your choice: rock, paper, or scissors (or 'quit' to exit)\n"
     ]
    },
    {
     "name": "stdin",
     "output_type": "stream",
     "text": [
      "Your choice:  rock\n"
     ]
    },
    {
     "name": "stdout",
     "output_type": "stream",
     "text": [
      "Computer's choice: rock\n",
      "It's a tie!\n",
      "\n",
      "Rock, Paper, Scissors Game\n",
      "Enter your choice: rock, paper, or scissors (or 'quit' to exit)\n"
     ]
    },
    {
     "name": "stdin",
     "output_type": "stream",
     "text": [
      "Your choice:  scissors\n"
     ]
    },
    {
     "name": "stdout",
     "output_type": "stream",
     "text": [
      "Computer's choice: scissors\n",
      "It's a tie!\n",
      "\n",
      "Rock, Paper, Scissors Game\n",
      "Enter your choice: rock, paper, or scissors (or 'quit' to exit)\n"
     ]
    },
    {
     "name": "stdin",
     "output_type": "stream",
     "text": [
      "Your choice:  paper\n"
     ]
    },
    {
     "name": "stdout",
     "output_type": "stream",
     "text": [
      "Computer's choice: scissors\n",
      "Computer wins!\n",
      "\n",
      "Rock, Paper, Scissors Game\n",
      "Enter your choice: rock, paper, or scissors (or 'quit' to exit)\n"
     ]
    },
    {
     "name": "stdin",
     "output_type": "stream",
     "text": [
      "Your choice:  quit\n"
     ]
    },
    {
     "name": "stdout",
     "output_type": "stream",
     "text": [
      "Thanks for playing! Goodbye.\n"
     ]
    }
   ],
   "source": [
    "#Write a program that simulates a rock-paper-scissors game against the computer.\n",
    "import random\n",
    "\n",
    "# Function to get the computer's choice\n",
    "def get_computer_choice():\n",
    "    choices = ['rock', 'paper', 'scissors']\n",
    "    computer_choice = random.choice(choices)\n",
    "    return computer_choice\n",
    "\n",
    "# Function to determine the winner of the game\n",
    "def determine_winner(player_choice, computer_choice):\n",
    "    if player_choice == computer_choice:\n",
    "        return \"It's a tie!\"\n",
    "    elif (player_choice == 'rock' and computer_choice == 'scissors') or \\\n",
    "         (player_choice == 'paper' and computer_choice == 'rock') or \\\n",
    "         (player_choice == 'scissors' and computer_choice == 'paper'):\n",
    "        return \"You win!\"\n",
    "    else:\n",
    "        return \"Computer wins!\"\n",
    "\n",
    "# Main game loop\n",
    "while True:\n",
    "    print(\"\\nRock, Paper, Scissors Game\")\n",
    "    print(\"Enter your choice: rock, paper, or scissors (or 'quit' to exit)\")\n",
    "    player_choice = input(\"Your choice: \").lower()\n",
    "\n",
    "    if player_choice == 'quit':\n",
    "        print(\"Thanks for playing! Goodbye.\")\n",
    "        break\n",
    "    elif player_choice not in ['rock', 'paper', 'scissors']:\n",
    "        print(\"Invalid choice. Please choose 'rock', 'paper', 'scissors', or 'quit'.\")\n",
    "    else:\n",
    "        computer_choice = get_computer_choice()\n",
    "        print(f\"Computer's choice: {computer_choice}\")\n",
    "        result = determine_winner(player_choice, computer_choice)\n",
    "        print(result)"
   ]
  },
  {
   "cell_type": "code",
   "execution_count": 43,
   "id": "8ade989e-00dd-48ab-addd-e8d95b71f48b",
   "metadata": {},
   "outputs": [
    {
     "name": "stdin",
     "output_type": "stream",
     "text": [
      "Enter the desired password length:  humlog\n"
     ]
    },
    {
     "name": "stdout",
     "output_type": "stream",
     "text": [
      "Invalid input. Please enter valid preferences.\n"
     ]
    }
   ],
   "source": [
    "#Develop a program that generates a random password based on user preferences (length, complexity).\n",
    "import random\n",
    "import string\n",
    "\n",
    "# Function to generate a random password\n",
    "def generate_password(length, include_lowercase, include_uppercase, include_digits, include_special_chars):\n",
    "    # Define character sets for each category\n",
    "    lowercase_chars = string.ascii_lowercase if include_lowercase else ''\n",
    "    uppercase_chars = string.ascii_uppercase if include_uppercase else ''\n",
    "    digit_chars = string.digits if include_digits else ''\n",
    "    special_chars = string.punctuation if include_special_chars else ''\n",
    "\n",
    "    # Combine character sets based on user preferences\n",
    "    all_chars = lowercase_chars + uppercase_chars + digit_chars + special_chars\n",
    "\n",
    "    # Check if at least one character set is selected\n",
    "    if not all_chars:\n",
    "        return \"Password cannot be generated. Please select at least one character set.\"\n",
    "\n",
    "    # Generate the password\n",
    "    password = ''.join(random.choice(all_chars) for _ in range(length))\n",
    "    return password\n",
    "\n",
    "# Input user preferences for the password\n",
    "try:\n",
    "    length = int(input(\"Enter the desired password length: \"))\n",
    "    include_lowercase = input(\"Include lowercase letters? (yes/no): \").lower() == 'yes'\n",
    "    include_uppercase = input(\"Include uppercase letters? (yes/no): \").lower() == 'yes'\n",
    "    include_digits = input(\"Include digits? (yes/no): \").lower() == 'yes'\n",
    "    include_special_chars = input(\"Include special characters? (yes/no): \").lower() == 'yes'\n",
    "\n",
    "    # Generate and display the password\n",
    "    password = generate_password(length, include_lowercase, include_uppercase, include_digits, include_special_chars)\n",
    "    print(\"Generated Password:\", password)\n",
    "except ValueError:\n",
    "    print(\"Invalid input. Please enter valid preferences.\")"
   ]
  },
  {
   "cell_type": "code",
   "execution_count": 6,
   "id": "a8e6f98b-3318-496e-a987-77ef3ea82348",
   "metadata": {},
   "outputs": [
    {
     "name": "stdout",
     "output_type": "stream",
     "text": [
      "Welcome to the Haunted Mansion Adventure Game!\n",
      "You approach the haunted mansion in the dead of night.\n",
      "Are you brave enough to explore it? (yes/no): \n"
     ]
    },
    {
     "name": "stdin",
     "output_type": "stream",
     "text": [
      " yes\n"
     ]
    },
    {
     "name": "stdout",
     "output_type": "stream",
     "text": [
      "\n",
      "You find yourself standing in front of a creepy, old mansion.\n",
      "The mansion's door creaks open as if inviting you inside.\n",
      "Do you dare to enter? (yes/no): \n"
     ]
    },
    {
     "name": "stdin",
     "output_type": "stream",
     "text": [
      " no\n"
     ]
    },
    {
     "name": "stdout",
     "output_type": "stream",
     "text": [
      "You decide to leave the haunted mansion.\n",
      "\n",
      "As you continue through the mansion, you encounter a restless spirit!\n",
      "You must decide whether to 'fight' or 'run'.\n"
     ]
    },
    {
     "name": "stdin",
     "output_type": "stream",
     "text": [
      "Enter 'fight' or 'run':  run\n"
     ]
    },
    {
     "name": "stdout",
     "output_type": "stream",
     "text": [
      "You choose to run away from a restless spirit.\n",
      "\n",
      "Game Over!\n"
     ]
    },
    {
     "name": "stdin",
     "output_type": "stream",
     "text": [
      "Do you want to play again? (yes/no):  no\n"
     ]
    }
   ],
   "source": [
    "#Create a program that implements a simple text-based adventure game with branching scenarios.\n",
    "import time\n",
    "import random\n",
    "\n",
    "def print_slow(text, delay=0.05):\n",
    "    for char in text:\n",
    "        print(char, end='', flush=True)\n",
    "        time.sleep(delay)\n",
    "    print()\n",
    "\n",
    "def game_over():\n",
    "    print_slow(\"\\nGame Over!\")\n",
    "    play_again = input(\"Do you want to play again? (yes/no): \").strip().lower()\n",
    "    return play_again == \"yes\"\n",
    "\n",
    "def explore_mansion():\n",
    "    print_slow(\"\\nYou find yourself standing in front of a creepy, old mansion.\")\n",
    "    print_slow(\"The mansion's door creaks open as if inviting you inside.\")\n",
    "    print_slow(\"Do you dare to enter? (yes/no): \")\n",
    "\n",
    "    choice = input().strip().lower()\n",
    "\n",
    "    if choice == \"yes\":\n",
    "        print_slow(\"You enter the mansion and hear strange noises all around.\")\n",
    "        print_slow(\"You see two doors in front of you: 'left' and 'right'.\")\n",
    "        choice = input(\"Which door do you want to choose? \").strip().lower()\n",
    "\n",
    "        if choice == \"left\":\n",
    "            print_slow(\"You enter a dark room and find a dusty book with ancient spells.\")\n",
    "            print_slow(\"Suddenly, a ghostly figure appears!\")\n",
    "            print_slow(\"The ghost is friendly and grants you a magical ability.\")\n",
    "            print_slow(\"You continue your adventure with newfound power.\")\n",
    "        elif choice == \"right\":\n",
    "            print_slow(\"You enter a room filled with cobwebs and spooky paintings.\")\n",
    "            print_slow(\"A vampire bat swoops down!\")\n",
    "            print_slow(\"You manage to escape, but you're injured.\")\n",
    "            return game_over()\n",
    "        else:\n",
    "            print_slow(\"Invalid choice. Try again.\")\n",
    "            explore_mansion()\n",
    "\n",
    "    elif choice == \"no\":\n",
    "        print_slow(\"You decide to leave the haunted mansion.\")\n",
    "    else:\n",
    "        print_slow(\"Invalid choice. Try again.\")\n",
    "        explore_mansion()\n",
    "\n",
    "def encounter_monster():\n",
    "    monsters = [\"a restless spirit\", \"a sinister shadow\", \"a zombie\"]\n",
    "    monster = random.choice(monsters)\n",
    "    print_slow(f\"\\nAs you continue through the mansion, you encounter {monster}!\")\n",
    "\n",
    "    print_slow(\"You must decide whether to 'fight' or 'run'.\")\n",
    "\n",
    "    choice = input(\"Enter 'fight' or 'run': \").strip().lower()\n",
    "\n",
    "    if choice == \"fight\":\n",
    "        print_slow(f\"You bravely fight {monster} and defeat it!\")\n",
    "    elif choice == \"run\":\n",
    "        print_slow(f\"You choose to run away from {monster}.\")\n",
    "        return game_over()\n",
    "    else:\n",
    "        print_slow(\"Invalid choice. Try again.\")\n",
    "        return encounter_monster()\n",
    "\n",
    "def start_game():\n",
    "    print_slow(\"Welcome to the Haunted Mansion Adventure Game!\")\n",
    "    print_slow(\"You approach the haunted mansion in the dead of night.\")\n",
    "    print_slow(\"Are you brave enough to explore it? (yes/no): \")\n",
    "\n",
    "    choice = input().strip().lower()\n",
    "\n",
    "    if choice == \"yes\":\n",
    "        explore_mansion()\n",
    "        encounter_monster()\n",
    "    elif choice == \"no\":\n",
    "        print_slow(\"You decide to stay away from the haunted mansion.\")\n",
    "    else:\n",
    "        print_slow(\"Invalid choice. Try again.\")\n",
    "        start_game()\n",
    "\n",
    "while True:\n",
    "    play_again = start_game()\n",
    "    if not play_again:\n",
    "        break\n",
    "\n",
    "\n",
    "\n",
    "\n"
   ]
  },
  {
   "cell_type": "code",
   "execution_count": 7,
   "id": "ebb88f0d-69b8-4083-a39d-f43015589628",
   "metadata": {},
   "outputs": [
    {
     "name": "stdout",
     "output_type": "stream",
     "text": [
      "Linear Equation Solver\n",
      "The linear equation is of the form: ax + b = 0\n"
     ]
    },
    {
     "name": "stdin",
     "output_type": "stream",
     "text": [
      "Enter the coefficient 'a':  4\n",
      "Enter the constant 'b':  6\n"
     ]
    },
    {
     "name": "stdout",
     "output_type": "stream",
     "text": [
      "Solution: x = -1.50\n"
     ]
    }
   ],
   "source": [
    "#Build a program that solves a linear equation for x, considering different cases.\n",
    "def solve_linear_equation(a, b):\n",
    "    if a == 0:\n",
    "        if b == 0:\n",
    "            return \"Infinite solutions (any x)\"\n",
    "        else:\n",
    "            return \"No solution (contradiction)\"\n",
    "    else:\n",
    "        x = -b / a\n",
    "        return f\"x = {x:.2f}\"\n",
    "\n",
    "print(\"Linear Equation Solver\")\n",
    "print(\"The linear equation is of the form: ax + b = 0\")\n",
    "\n",
    "a = float(input(\"Enter the coefficient 'a': \"))\n",
    "b = float(input(\"Enter the constant 'b': \"))\n",
    "\n",
    "solution = solve_linear_equation(a, b)\n",
    "print(\"Solution:\", solution)\n"
   ]
  },
  {
   "cell_type": "code",
   "execution_count": 38,
   "id": "4823a61b-6c60-434c-886f-9b4c99790397",
   "metadata": {},
   "outputs": [
    {
     "name": "stdout",
     "output_type": "stream",
     "text": [
      "Welcome to the Quiz Game!\n",
      "Answer the following questions:\n",
      "What is the capital of France?\n",
      "A) London\n",
      "B) Berlin\n",
      "C) Paris\n",
      "D) Madrid\n"
     ]
    },
    {
     "name": "stdin",
     "output_type": "stream",
     "text": [
      "Your answer (A/B/C/D):  c\n"
     ]
    },
    {
     "name": "stdout",
     "output_type": "stream",
     "text": [
      "Correct!\n",
      "\n",
      "Which planet is known as the \"Red Planet\"?\n",
      "A) Earth\n",
      "B) Venus\n",
      "C) Mars\n",
      "D) Jupiter\n"
     ]
    },
    {
     "name": "stdin",
     "output_type": "stream",
     "text": [
      "Your answer (A/B/C/D):  c\n"
     ]
    },
    {
     "name": "stdout",
     "output_type": "stream",
     "text": [
      "Correct!\n",
      "\n",
      "What is the largest mammal in the world?\n",
      "A) Elephant\n",
      "B) Giraffe\n",
      "C) Blue Whale\n",
      "D) Dolphin\n"
     ]
    },
    {
     "name": "stdin",
     "output_type": "stream",
     "text": [
      "Your answer (A/B/C/D):  c\n"
     ]
    },
    {
     "name": "stdout",
     "output_type": "stream",
     "text": [
      "Correct!\n",
      "\n",
      "Your score: 3/3\n",
      "Congratulations! You got all the questions right!\n"
     ]
    }
   ],
   "source": [
    "#Write a program that simulates a basic quiz game with multiple-choice questions and scoring.\n",
    "# Define quiz questions and answers\n",
    "questions = [\n",
    "    {\n",
    "        'question': 'What is the capital of France?',\n",
    "        'options': ['A) London', 'B) Berlin', 'C) Paris', 'D) Madrid'],\n",
    "        'answer': 'C',\n",
    "    },\n",
    "    {\n",
    "        'question': 'Which planet is known as the \"Red Planet\"?',\n",
    "        'options': ['A) Earth', 'B) Venus', 'C) Mars', 'D) Jupiter'],\n",
    "        'answer': 'C',\n",
    "    },\n",
    "    {\n",
    "        'question': 'What is the largest mammal in the world?',\n",
    "        'options': ['A) Elephant', 'B) Giraffe', 'C) Blue Whale', 'D) Dolphin'],\n",
    "        'answer': 'C',\n",
    "    },\n",
    "]\n",
    "\n",
    "# Function to display a question and options\n",
    "def display_question(question_data):\n",
    "    print(question_data['question'])\n",
    "    for option in question_data['options']:\n",
    "        print(option)\n",
    "\n",
    "# Function to take user input for an answer\n",
    "def get_user_answer():\n",
    "    user_answer = input(\"Your answer (A/B/C/D): \").strip().upper()\n",
    "    return user_answer\n",
    "\n",
    "# Function to score the quiz\n",
    "def score_quiz(questions):\n",
    "    score = 0\n",
    "    for question_data in questions:\n",
    "        display_question(question_data)\n",
    "        user_answer = get_user_answer()\n",
    "        if user_answer == question_data['answer']:\n",
    "            print(\"Correct!\\n\")\n",
    "            score += 1\n",
    "        else:\n",
    "            print(f\"Wrong! The correct answer is {question_data['answer']}.\\n\")\n",
    "    return score\n",
    "\n",
    "# Main quiz game\n",
    "print(\"Welcome to the Quiz Game!\")\n",
    "print(\"Answer the following questions:\")\n",
    "\n",
    "# Start the quiz and get the user's score\n",
    "user_score = score_quiz(questions)\n",
    "\n",
    "# Display the final score\n",
    "print(f\"Your score: {user_score}/{len(questions)}\")\n",
    "\n",
    "if user_score == len(questions):\n",
    "    print(\"Congratulations! You got all the questions right!\")\n",
    "else:\n",
    "    print(\"Thanks for playing the quiz!\")"
   ]
  },
  {
   "cell_type": "code",
   "execution_count": 39,
   "id": "c5a63115-e420-4614-a9fb-5608fe298715",
   "metadata": {},
   "outputs": [
    {
     "name": "stdin",
     "output_type": "stream",
     "text": [
      "Enter a year to check if it's prime:  1999\n"
     ]
    },
    {
     "name": "stdout",
     "output_type": "stream",
     "text": [
      "1999 is a prime year.\n"
     ]
    }
   ],
   "source": [
    "#Develop a program that determines whether a given year is a prime number or not.\n",
    "# Function to check if a number is prime\n",
    "def is_prime(year):\n",
    "    if year <= 1:\n",
    "        return False\n",
    "    if year <= 3:\n",
    "        return True\n",
    "    if year % 2 == 0 or year % 3 == 0:\n",
    "        return False\n",
    "    i = 5\n",
    "    while i * i <= year:\n",
    "        if year % i == 0 or year % (i + 2) == 0:\n",
    "            return False\n",
    "        i += 6\n",
    "    return True\n",
    "\n",
    "# Input the year from the user\n",
    "try:\n",
    "    year = int(input(\"Enter a year to check if it's prime: \"))\n",
    "\n",
    "    if is_prime(year):\n",
    "        print(f\"{year} is a prime year.\")\n",
    "    else:\n",
    "        print(f\"{year} is not a prime year.\")\n",
    "except ValueError:\n",
    "    print(\"Invalid input. Please enter a valid year as an integer.\")"
   ]
  },
  {
   "cell_type": "code",
   "execution_count": 25,
   "id": "e08dc995-d4be-4ec4-9e1e-fde971a45b44",
   "metadata": {},
   "outputs": [
    {
     "name": "stdin",
     "output_type": "stream",
     "text": [
      "Enter a year:  1990\n"
     ]
    },
    {
     "name": "stdout",
     "output_type": "stream",
     "text": [
      "1990 is not a prime year.\n"
     ]
    }
   ],
   "source": [
    "#Create a program that sorts three numbers in ascending order using conditional statements.\n",
    "# Function to check if a number is prime\n",
    "def is_prime(year):\n",
    "    if year <= 1:\n",
    "        return False\n",
    "    if year <= 3:\n",
    "        return True\n",
    "    if year % 2 == 0 or year % 3 == 0:\n",
    "        return False\n",
    "    i = 5\n",
    "    while i * i <= year:\n",
    "        if year % i == 0 or year % (i + 2) == 0:\n",
    "            return False\n",
    "        i += 6\n",
    "    return True\n",
    "\n",
    "# Input the year from the user\n",
    "try:\n",
    "    year = int(input(\"Enter a year: \"))\n",
    "\n",
    "    # Check if the year is prime and display the result\n",
    "    if is_prime(year):\n",
    "        print(f\"{year} is a prime year.\")\n",
    "    else:\n",
    "        print(f\"{year} is not a prime year.\")\n",
    "except ValueError:\n",
    "    print(\"Invalid input. Please enter a valid year as an integer.\")"
   ]
  },
  {
   "cell_type": "code",
   "execution_count": 8,
   "id": "22ea483b-e8a4-49c3-b1c9-abced8cefe2f",
   "metadata": {},
   "outputs": [
    {
     "name": "stdout",
     "output_type": "stream",
     "text": [
      "Approximate Roots:\n",
      "Root 1: 1.000000\n",
      "Root 2: 2.000000\n",
      "Root 3: 3.000000\n",
      "Root 4: 3.000000\n"
     ]
    }
   ],
   "source": [
    "#Build a program that determines the roots of a quartic equation using numerical methods.\n",
    "import sympy as sp\n",
    "\n",
    "# Define the variable and the quartic equation\n",
    "x = sp.symbols('x')\n",
    "equation = x**4 - 6*x**3 + 11*x**2 - 6*x\n",
    "\n",
    "# Define the initial guess for the root and the maximum number of iterations\n",
    "initial_guess = 1.0\n",
    "max_iterations = 100\n",
    "\n",
    "# Newton-Raphson method for finding roots\n",
    "def newton_raphson(equation, x, initial_guess, max_iterations, tolerance=1e-6):\n",
    "    f = sp.lambdify(x, equation)\n",
    "    df = sp.lambdify(x, sp.diff(equation, x))\n",
    "\n",
    "    x0 = initial_guess\n",
    "    for i in range(max_iterations):\n",
    "        x1 = x0 - f(x0) / df(x0)\n",
    "        if abs(x1 - x0) < tolerance:\n",
    "            return x1\n",
    "        x0 = x1\n",
    "\n",
    "    return None\n",
    "\n",
    "# Find all the roots\n",
    "roots = []\n",
    "for _ in range(4):\n",
    "    root = newton_raphson(equation, x, initial_guess, max_iterations)\n",
    "    if root is not None:\n",
    "        roots.append(root)\n",
    "        # Set the next initial guess to be the previous root + 1\n",
    "        initial_guess = root + 1\n",
    "\n",
    "# Print the approximate roots\n",
    "print(\"Approximate Roots:\")\n",
    "for i, root in enumerate(roots):\n",
    "    print(f\"Root {i + 1}: {root:.6f}\")"
   ]
  },
  {
   "cell_type": "code",
   "execution_count": 27,
   "id": "cba44514-1848-4ac9-ad6f-8c51e8fedc1a",
   "metadata": {},
   "outputs": [
    {
     "name": "stdin",
     "output_type": "stream",
     "text": [
      "Enter your weight (in kg):  65\n",
      "Enter your height (in cm):  170\n"
     ]
    },
    {
     "name": "stdout",
     "output_type": "stream",
     "text": [
      "Your BMI is 22.49. Your BMI is normal. You are in a healthy weight range.\n"
     ]
    }
   ],
   "source": [
    "#Write a program that calculates the BMI (Body Mass Index) and provides health recommendations basedon the user's input.\n",
    "def calculate_bmi(weight, height):\n",
    "    # Check for valid input\n",
    "    if weight <= 0 or height <= 0:\n",
    "        return None\n",
    "    \n",
    "    # Calculate BMI using the formula: BMI = weight (kg) / (height (m) * height (m))\n",
    "    bmi = weight / ((height / 100) ** 2)\n",
    "    return bmi\n",
    "\n",
    "# Function to provide health recommendations based on BMI\n",
    "def provide_recommendations(bmi):\n",
    "    if bmi is None:\n",
    "        return \"Invalid input. Please enter valid weight and height.\"\n",
    "    \n",
    "    if bmi < 18.5:\n",
    "        return \"Your BMI is underweight. You may need to gain weight to be healthier.\"\n",
    "    elif 18.5 <= bmi < 24.9:\n",
    "        return \"Your BMI is normal. You are in a healthy weight range.\"\n",
    "    elif 25 <= bmi < 29.9:\n",
    "        return \"Your BMI is overweight. You may need to lose weight to be healthier.\"\n",
    "    else:\n",
    "        return \"Your BMI is obese. You should consult a doctor for weight management.\"\n",
    "\n",
    "# Input weight (in kilograms) and height (in centimeters) from the user\n",
    "try:\n",
    "    weight = float(input(\"Enter your weight (in kg): \"))\n",
    "    height = float(input(\"Enter your height (in cm): \"))\n",
    "    \n",
    "    # Calculate BMI\n",
    "    bmi = calculate_bmi(weight, height)\n",
    "    \n",
    "    # Provide health recommendations based on BMI\n",
    "    recommendations = provide_recommendations(bmi)\n",
    "    \n",
    "    # Display the results\n",
    "    if recommendations:\n",
    "        print(f\"Your BMI is {bmi:.2f}. {recommendations}\")\n",
    "    else:\n",
    "        print(\"Invalid input. Please enter valid weight and height.\")\n",
    "except ValueError:\n",
    "    print(\"Invalid input. Please enter valid weight and height as numbers.\")"
   ]
  },
  {
   "cell_type": "code",
   "execution_count": 37,
   "id": "93f045b5-4048-4732-b5b2-072663664c19",
   "metadata": {},
   "outputs": [
    {
     "name": "stdin",
     "output_type": "stream",
     "text": [
      "Enter a password:  m@Nmeet21\n"
     ]
    },
    {
     "name": "stdout",
     "output_type": "stream",
     "text": [
      "Password is valid.\n"
     ]
    }
   ],
   "source": [
    "#Create a program that validates a password based on complexity rules (length, characters, etc.).\n",
    "import re\n",
    "\n",
    "# Function to validate a password\n",
    "def validate_password(password):\n",
    "    # Check length (minimum 8 characters)\n",
    "    if len(password) < 8:\n",
    "        return \"Password is too short. It must have at least 8 characters.\"\n",
    "\n",
    "    # Check for at least one uppercase letter\n",
    "    if not any(char.isupper() for char in password):\n",
    "        return \"Password must contain at least one uppercase letter.\"\n",
    "\n",
    "    # Check for at least one lowercase letter\n",
    "    if not any(char.islower() for char in password):\n",
    "        return \"Password must contain at least one lowercase letter.\"\n",
    "\n",
    "    # Check for at least one digit\n",
    "    if not any(char.isdigit() for char in password):\n",
    "        return \"Password must contain at least one digit.\"\n",
    "\n",
    "    # Check for at least one special character (e.g., !, @, #, $)\n",
    "    if not re.search(r'[!@#$%^&*()_+{}[\\]:;<>,.?~\\\\]', password):\n",
    "        return \"Password must contain at least one special character.\"\n",
    "\n",
    "    # Password is valid\n",
    "    return \"Password is valid.\"\n",
    "\n",
    "# Input a password from the user\n",
    "password = input(\"Enter a password: \")\n",
    "\n",
    "# Validate the password and display the result\n",
    "result = validate_password(password)\n",
    "print(result)"
   ]
  },
  {
   "cell_type": "code",
   "execution_count": 32,
   "id": "e4a8e2a7-e761-4884-983c-4be5980b16bf",
   "metadata": {},
   "outputs": [
    {
     "name": "stdout",
     "output_type": "stream",
     "text": [
      "Enter the first matrix:\n"
     ]
    },
    {
     "name": "stdin",
     "output_type": "stream",
     "text": [
      "Enter the number of rows:  2\n",
      "Enter the number of columns:  2\n"
     ]
    },
    {
     "name": "stdout",
     "output_type": "stream",
     "text": [
      "Enter the matrix elements row-wise:\n"
     ]
    },
    {
     "name": "stdin",
     "output_type": "stream",
     "text": [
      "Enter row 1 elements separated by spaces:  1\n"
     ]
    },
    {
     "name": "stdout",
     "output_type": "stream",
     "text": [
      "Invalid input. Number of elements in the row must match the number of columns.\n",
      "\n",
      "Enter the second matrix:\n"
     ]
    },
    {
     "name": "stdin",
     "output_type": "stream",
     "text": [
      "Enter the number of rows:  2\n",
      "Enter the number of columns:  2\n"
     ]
    },
    {
     "name": "stdout",
     "output_type": "stream",
     "text": [
      "Enter the matrix elements row-wise:\n"
     ]
    },
    {
     "name": "stdin",
     "output_type": "stream",
     "text": [
      "Enter row 1 elements separated by spaces:  1 2 3 4 \n"
     ]
    },
    {
     "name": "stdout",
     "output_type": "stream",
     "text": [
      "Invalid input. Number of elements in the row must match the number of columns.\n",
      "Matrix input failed. Please check your input.\n"
     ]
    }
   ],
   "source": [
    "#Develop a program that performs matrix addition and subtraction based on user input.\n",
    "def create_matrix(rows, cols):\n",
    "    return [[0 for _ in range(cols)] for _ in range(rows)]\n",
    "\n",
    "# Function to input a matrix from the user\n",
    "def input_matrix():\n",
    "    rows = int(input(\"Enter the number of rows: \"))\n",
    "    cols = int(input(\"Enter the number of columns: \"))\n",
    "    matrix = create_matrix(rows, cols)\n",
    "    print(\"Enter the matrix elements row-wise:\")\n",
    "    for i in range(rows):\n",
    "        row = input(f\"Enter row {i + 1} elements separated by spaces: \").split()\n",
    "        if len(row) != cols:\n",
    "            print(\"Invalid input. Number of elements in the row must match the number of columns.\")\n",
    "            return None\n",
    "        matrix[i] = [float(x) for x in row]\n",
    "    return matrix\n",
    "\n",
    "# Function to add two matrices\n",
    "def add_matrices(matrix1, matrix2):\n",
    "    if len(matrix1) != len(matrix2) or len(matrix1[0]) != len(matrix2[0]):\n",
    "        return None\n",
    "    result = create_matrix(len(matrix1), len(matrix1[0]))\n",
    "    for i in range(len(matrix1)):\n",
    "        for j in range(len(matrix1[0])):\n",
    "            result[i][j] = matrix1[i][j] + matrix2[i][j]\n",
    "    return result\n",
    "\n",
    "# Function to subtract two matrices\n",
    "def subtract_matrices(matrix1, matrix2):\n",
    "    if len(matrix1) != len(matrix2) or len(matrix1[0]) != len(matrix2[0]):\n",
    "        return None\n",
    "    result = create_matrix(len(matrix1), len(matrix1[0]))\n",
    "    for i in range(len(matrix1)):\n",
    "        for j in range(len(matrix1[0])):\n",
    "            result[i][j] = matrix1[i][j] - matrix2[i][j]\n",
    "    return result\n",
    "\n",
    "# Input the first matrix\n",
    "print(\"Enter the first matrix:\")\n",
    "matrix1 = input_matrix()\n",
    "\n",
    "# Input the second matrix\n",
    "print(\"\\nEnter the second matrix:\")\n",
    "matrix2 = input_matrix()\n",
    "\n",
    "if matrix1 is None or matrix2 is None:\n",
    "    print(\"Matrix input failed. Please check your input.\")\n",
    "else:\n",
    "    # Check if addition and subtraction are possible\n",
    "    if len(matrix1) != len(matrix2) or len(matrix1[0]) != len(matrix2[0]):\n",
    "        print(\"Matrix addition and subtraction are not possible. Matrices must have the same dimensions.\")\n",
    "    else:\n",
    "        # Perform addition and subtraction\n",
    "        sum_result = add_matrices(matrix1, matrix2)\n",
    "        diff_result = subtract_matrices(matrix1, matrix2)\n",
    "        \n",
    "        # Display the results\n",
    "        print(\"\\nMatrix Addition:\")\n",
    "        for row in sum_result:\n",
    "            print(\" \".join(map(str, row)))\n",
    "        \n",
    "        print(\"\\nMatrix Subtraction:\")\n",
    "        for row in diff_result:\n",
    "            print(\" \".join(map(str, row)))"
   ]
  },
  {
   "cell_type": "code",
   "execution_count": 40,
   "id": "881bb146-9c3e-492a-a275-cce0ff662a36",
   "metadata": {},
   "outputs": [
    {
     "name": "stdin",
     "output_type": "stream",
     "text": [
      "Enter the first number:  4\n",
      "Enter the second number:  5\n"
     ]
    },
    {
     "name": "stdout",
     "output_type": "stream",
     "text": [
      "The GCD of 4 and 5 is 1\n"
     ]
    }
   ],
   "source": [
    "#Write a program that calculates the greatest common divisor (GCD) of two numbers using the Euclideanalgorithm.\n",
    "def gcd_euclidean(a, b):\n",
    "    while b:\n",
    "        a, b = b, a % b\n",
    "    return a\n",
    "\n",
    "# Input two numbers from the user\n",
    "try:\n",
    "    num1 = int(input(\"Enter the first number: \"))\n",
    "    num2 = int(input(\"Enter the second number: \"))\n",
    "\n",
    "    # Calculate and display the GCD\n",
    "    gcd = gcd_euclidean(num1, num2)\n",
    "    print(f\"The GCD of {num1} and {num2} is {gcd}\")\n",
    "except ValueError:\n",
    "    print(\"Invalid input. Please enter valid integers.\")"
   ]
  },
  {
   "cell_type": "code",
   "execution_count": null,
   "id": "67f768fd-8686-497e-a050-436195591525",
   "metadata": {},
   "outputs": [
    {
     "name": "stdin",
     "output_type": "stream",
     "text": [
      "Enter the number of rows for Matrix 1:  2\n",
      "Enter the number of columns for Matrix 1:  2\n"
     ]
    },
    {
     "name": "stdout",
     "output_type": "stream",
     "text": [
      "Enter the Matrix 1 elements row-wise:\n"
     ]
    },
    {
     "name": "stdin",
     "output_type": "stream",
     "text": [
      "Enter row 1 elements separated by spaces:  1 2 3 4\n"
     ]
    },
    {
     "name": "stdout",
     "output_type": "stream",
     "text": [
      "Invalid input. Number of elements in the row must match the number of columns.\n"
     ]
    },
    {
     "name": "stdin",
     "output_type": "stream",
     "text": [
      "Enter the number of rows for Matrix 2:  2\n",
      "Enter the number of columns for Matrix 2:  2\n"
     ]
    },
    {
     "name": "stdout",
     "output_type": "stream",
     "text": [
      "Enter the Matrix 2 elements row-wise:\n"
     ]
    },
    {
     "name": "stdin",
     "output_type": "stream",
     "text": [
      "Enter row 1 elements separated by spaces:  1 2 3 4\n"
     ]
    },
    {
     "name": "stdout",
     "output_type": "stream",
     "text": [
      "Invalid input. Number of elements in the row must match the number of columns.\n",
      "Matrix input failed. Please check your input.\n"
     ]
    }
   ],
   "source": [
    "#Build a program that performs matrix multiplication using nested loops and conditional statements.\n",
    "def create_matrix(rows, cols):\n",
    "    return [[0 for _ in range(cols)] for _ in range(rows)]\n",
    "\n",
    "# Function to input a matrix from the user\n",
    "def input_matrix(prompt):\n",
    "    rows = int(input(f\"Enter the number of rows for {prompt}: \"))\n",
    "    cols = int(input(f\"Enter the number of columns for {prompt}: \"))\n",
    "    matrix = create_matrix(rows, cols)\n",
    "    print(f\"Enter the {prompt} elements row-wise:\")\n",
    "    for i in range(rows):\n",
    "        row = input(f\"Enter row {i + 1} elements separated by spaces: \").split()\n",
    "        if len(row) != cols:\n",
    "            print(\"Invalid input. Number of elements in the row must match the number of columns.\")\n",
    "            return None\n",
    "        matrix[i] = [float(x) for x in row]\n",
    "    return matrix\n",
    "\n",
    "# Function to perform matrix multiplication\n",
    "def multiply_matrices(matrix1, matrix2):\n",
    "    if len(matrix1[0]) != len(matrix2):\n",
    "        return None\n",
    "    result = create_matrix(len(matrix1), len(matrix2[0]))\n",
    "    for i in range(len(matrix1)):\n",
    "        for j in range(len(matrix2[0])):\n",
    "            result[i][j] = 0\n",
    "            for k in range(len(matrix2)):\n",
    "                result[i][j] += matrix1[i][k] * matrix2[k][j]\n",
    "    return result\n",
    "\n",
    "# Input the first matrix\n",
    "matrix1 = input_matrix(\"Matrix 1\")\n",
    "\n",
    "# Input the second matrix\n",
    "matrix2 = input_matrix(\"Matrix 2\")\n",
    "\n",
    "if matrix1 is None or matrix2 is None:\n",
    "    print(\"Matrix input failed. Please check your input.\")\n",
    "else:\n",
    "    # Check if matrix multiplication is possible\n",
    "    if len(matrix1[0]) != len(matrix2):\n",
    "        print(\"Matrix multiplication is not possible. The number of columns in Matrix 1 must match the number of rows in Matrix 2.\")\n",
    "    else:\n",
    "        # Perform matrix multiplication\n",
    "        product_result = multiply_matrices(matrix1, matrix2)\n",
    "        \n",
    "        # Display the result\n",
    "        print(\"\\nMatrix Multiplication Result:\")\n",
    "        for row in product_result:\n",
    "            print(\" \".join(map(str, row)))"
   ]
  },
  {
   "cell_type": "code",
   "execution_count": 9,
   "id": "86b555e8-f930-42c2-bccc-76079fdb1368",
   "metadata": {},
   "outputs": [
    {
     "name": "stdout",
     "output_type": "stream",
     "text": [
      "   |   |  \n",
      "-----------\n",
      "   |   |  \n",
      "-----------\n",
      "   |   |  \n"
     ]
    },
    {
     "name": "stdin",
     "output_type": "stream",
     "text": [
      "Enter your move (1-9):  5\n"
     ]
    },
    {
     "name": "stdout",
     "output_type": "stream",
     "text": [
      "   | O |  \n",
      "-----------\n",
      "   | X |  \n",
      "-----------\n",
      "   |   |  \n"
     ]
    },
    {
     "name": "stdin",
     "output_type": "stream",
     "text": [
      "Enter your move (1-9):  1\n"
     ]
    },
    {
     "name": "stdout",
     "output_type": "stream",
     "text": [
      " X | O | O\n",
      "-----------\n",
      "   | X |  \n",
      "-----------\n",
      "   |   |  \n"
     ]
    },
    {
     "name": "stdin",
     "output_type": "stream",
     "text": [
      "Enter your move (1-9):  9\n"
     ]
    },
    {
     "name": "stdout",
     "output_type": "stream",
     "text": [
      " X | O | O\n",
      "-----------\n",
      "   | X |  \n",
      "-----------\n",
      "   |   | X\n",
      "Congratulations! You win!\n"
     ]
    }
   ],
   "source": [
    "#Create a program that simulates a basic text-based tic-tac-toe game against the computer.\n",
    "import random\n",
    "\n",
    "# Initialize the board\n",
    "board = [\" \" for _ in range(9)]\n",
    "\n",
    "# Function to print the tic-tac-toe board\n",
    "def print_board(board):\n",
    "    print(\" \" + board[0] + \" | \" + board[1] + \" | \" + board[2])\n",
    "    print(\"-----------\")\n",
    "    print(\" \" + board[3] + \" | \" + board[4] + \" | \" + board[5])\n",
    "    print(\"-----------\")\n",
    "    print(\" \" + board[6] + \" | \" + board[7] + \" | \" + board[8])\n",
    "\n",
    "# Function to check if a player has won\n",
    "def check_win(board, player):\n",
    "    # Check rows, columns, and diagonals for a win\n",
    "    return (\n",
    "        (board[0] == player and board[1] == player and board[2] == player) or\n",
    "        (board[3] == player and board[4] == player and board[5] == player) or\n",
    "        (board[6] == player and board[7] == player and board[8] == player) or\n",
    "        (board[0] == player and board[3] == player and board[6] == player) or\n",
    "        (board[1] == player and board[4] == player and board[7] == player) or\n",
    "        (board[2] == player and board[5] == player and board[8] == player) or\n",
    "        (board[0] == player and board[4] == player and board[8] == player) or\n",
    "        (board[2] == player and board[4] == player and board[6] == player)\n",
    "    )\n",
    "\n",
    "# Function to check if the board is full\n",
    "def is_full(board):\n",
    "    return \" \" not in board\n",
    "\n",
    "# Function to make the computer's move\n",
    "def computer_move(board):\n",
    "    while True:\n",
    "        move = random.randint(0, 8)\n",
    "        if board[move] == \" \":\n",
    "            return move\n",
    "\n",
    "# Main game loop\n",
    "while True:\n",
    "    print_board(board)\n",
    "\n",
    "    # Player's move\n",
    "    player_move = int(input(\"Enter your move (1-9): \")) - 1\n",
    "    if board[player_move] == \" \":\n",
    "        board[player_move] = \"X\"\n",
    "    else:\n",
    "        print(\"Invalid move. Try again.\")\n",
    "        continue\n",
    "\n",
    "    # Check if the player wins\n",
    "    if check_win(board, \"X\"):\n",
    "        print_board(board)\n",
    "        print(\"Congratulations! You win!\")\n",
    "        break\n",
    "\n",
    "    # Check for a draw\n",
    "    if is_full(board):\n",
    "        print_board(board)\n",
    "        print(\"It's a draw!\")\n",
    "        break\n",
    "\n",
    "    # Computer's move\n",
    "    computer_move_idx = computer_move(board)\n",
    "    board[computer_move_idx] = \"O\"\n",
    "\n",
    "    # Check if the computer wins\n",
    "    if check_win(board, \"O\"):\n",
    "        print_board(board)\n",
    "        print(\"Computer wins! Better luck next time.\")\n",
    "        break"
   ]
  },
  {
   "cell_type": "code",
   "execution_count": 36,
   "id": "f54bbb61-c987-4fed-a235-63896e790726",
   "metadata": {},
   "outputs": [
    {
     "name": "stdin",
     "output_type": "stream",
     "text": [
      "Enter the number of Fibonacci terms to generate:  4\n"
     ]
    },
    {
     "name": "stdout",
     "output_type": "stream",
     "text": [
      "Fibonacci Sequence:\n",
      "0 1 1 2 "
     ]
    }
   ],
   "source": [
    "#Write a program that generates Fibonacci numbers up to a specified term using iterative methods.\n",
    "# Function to generate Fibonacci numbers up to a specified term\n",
    "def generate_fibonacci(n):\n",
    "    fibonacci_sequence = []\n",
    "\n",
    "    # Initialize the first two Fibonacci numbers\n",
    "    a, b = 0, 1\n",
    "\n",
    "    # Generate Fibonacci numbers iteratively\n",
    "    for _ in range(n):\n",
    "        fibonacci_sequence.append(a)\n",
    "        a, b = b, a + b\n",
    "\n",
    "    return fibonacci_sequence\n",
    "\n",
    "# Input the number of terms for the Fibonacci sequence\n",
    "try:\n",
    "    n = int(input(\"Enter the number of Fibonacci terms to generate: \"))\n",
    "    \n",
    "    # Check if the input is a positive integer\n",
    "    if n <= 0:\n",
    "        print(\"Please enter a positive integer.\")\n",
    "    else:\n",
    "        # Generate and display the Fibonacci sequence\n",
    "        fibonacci_sequence = generate_fibonacci(n)\n",
    "        print(\"Fibonacci Sequence:\")\n",
    "        for term in fibonacci_sequence:\n",
    "            print(term, end=\" \")\n",
    "except ValueError:\n",
    "    print(\"Invalid input. Please enter a valid positive integer.\")"
   ]
  },
  {
   "cell_type": "code",
   "execution_count": 31,
   "id": "f808e067-1132-455e-a8b0-7b9aa9c12bbf",
   "metadata": {},
   "outputs": [
    {
     "name": "stdin",
     "output_type": "stream",
     "text": [
      "Enter the value of n (an integer):  5\n"
     ]
    },
    {
     "name": "stdout",
     "output_type": "stream",
     "text": [
      "The 5-th Fibonacci term is: 5\n"
     ]
    }
   ],
   "source": [
    "#Develop a program that calculates the nth term of the Fibonacci sequence using memoization.\n",
    "# Dictionary to store calculated Fibonacci values (memoization)\n",
    "fib_cache = {}\n",
    "\n",
    "# Function to calculate the nth Fibonacci term using memoization\n",
    "def fibonacci(n):\n",
    "    # Check if the value is already cached\n",
    "    if n in fib_cache:\n",
    "        return fib_cache[n]\n",
    "\n",
    "    # Calculate Fibonacci recursively\n",
    "    if n <= 1:\n",
    "        result = n\n",
    "    else:\n",
    "        result = fibonacci(n - 1) + fibonacci(n - 2)\n",
    "\n",
    "    # Cache the result and return it\n",
    "    fib_cache[n] = result\n",
    "    return result\n",
    "\n",
    "# Input the value of n from the user\n",
    "try:\n",
    "    n = int(input(\"Enter the value of n (an integer): \"))\n",
    "\n",
    "    # Check if n is non-negative\n",
    "    if n < 0:\n",
    "        print(\"Invalid input. Please enter a non-negative integer.\")\n",
    "    else:\n",
    "        # Calculate and display the nth Fibonacci term\n",
    "        nth_term = fibonacci(n)\n",
    "        print(f\"The {n}-th Fibonacci term is: {nth_term}\")\n",
    "except ValueError:\n",
    "    print(\"Invalid input. Please enter a valid integer.\")"
   ]
  },
  {
   "cell_type": "code",
   "execution_count": 35,
   "id": "191c7218-bba3-4ff1-9d4e-70fb85558f3c",
   "metadata": {},
   "outputs": [
    {
     "name": "stdin",
     "output_type": "stream",
     "text": [
      "Enter the year:  2009\n",
      "Enter the month (1-12):  4\n"
     ]
    },
    {
     "name": "stdout",
     "output_type": "stream",
     "text": [
      "\n",
      "Calendar:\n",
      "     April 2009\n",
      "Mo Tu We Th Fr Sa Su\n",
      "       1  2  3  4  5\n",
      " 6  7  8  9 10 11 12\n",
      "13 14 15 16 17 18 19\n",
      "20 21 22 23 24 25 26\n",
      "27 28 29 30\n",
      "\n"
     ]
    }
   ],
   "source": [
    "#Create a program that generates a calendar for a given month and year using conditional statements.\n",
    "import calendar\n",
    "\n",
    "# Input the year and month\n",
    "year = int(input(\"Enter the year: \"))\n",
    "month = int(input(\"Enter the month (1-12): \"))\n",
    "\n",
    "# Validate the input\n",
    "if month < 1 or month > 12:\n",
    "    print(\"Invalid month. Please enter a month between 1 and 12.\")\n",
    "else:\n",
    "    # Create a calendar object for the specified month and year\n",
    "    cal = calendar.month(year, month)\n",
    "    \n",
    "    # Display the calendar\n",
    "    print(\"\\nCalendar:\")\n",
    "    print(cal)"
   ]
  },
  {
   "cell_type": "code",
   "execution_count": 10,
   "id": "ffe8a5ab-470a-4d97-be4d-4d3443e98615",
   "metadata": {},
   "outputs": [
    {
     "name": "stdout",
     "output_type": "stream",
     "text": [
      "\n",
      "Your Hand:\n",
      "Seven of Clubs\n",
      "Queen of Hearts\n",
      "Value: 17\n"
     ]
    },
    {
     "name": "stdin",
     "output_type": "stream",
     "text": [
      "Do you want to 'hit' or 'stand'?  hit\n"
     ]
    },
    {
     "name": "stdout",
     "output_type": "stream",
     "text": [
      "\n",
      "Your Hand:\n",
      "Seven of Clubs\n",
      "Queen of Hearts\n",
      "Eight of Clubs\n",
      "Value: 25\n",
      "Bust! You lose.\n"
     ]
    }
   ],
   "source": [
    "#Build a program that simulates a basic text-based blackjack game against the computer.\n",
    "\n",
    "import random\n",
    "\n",
    "# Initialize deck and values\n",
    "suits = ['Hearts', 'Diamonds', 'Clubs', 'Spades']\n",
    "ranks = ['Two', 'Three', 'Four', 'Five', 'Six', 'Seven', 'Eight', 'Nine', 'Ten', 'Jack', 'Queen', 'King', 'Ace']\n",
    "values = {'Two': 2, 'Three': 3, 'Four': 4, 'Five': 5, 'Six': 6, 'Seven': 7, 'Eight': 8, 'Nine': 9, 'Ten': 10,\n",
    "          'Jack': 10, 'Queen': 10, 'King': 10, 'Ace': 11}\n",
    "\n",
    "# Create a deck of cards\n",
    "deck = [{'Rank': rank, 'Suit': suit} for rank in ranks for suit in suits]\n",
    "\n",
    "# Function to calculate the hand value\n",
    "def calculate_hand_value(hand):\n",
    "    value = sum(values[card['Rank']] for card in hand)\n",
    "    # Handle aces (count as 11 or 1)\n",
    "    for card in hand:\n",
    "        if card['Rank'] == 'Ace' and value > 21:\n",
    "            value -= 10\n",
    "    return value\n",
    "\n",
    "# Function to display a hand\n",
    "def display_hand(hand):\n",
    "    for card in hand:\n",
    "        print(f\"{card['Rank']} of {card['Suit']}\")\n",
    "\n",
    "# Deal two initial cards to the player and computer\n",
    "player_hand = [random.choice(deck), random.choice(deck)]\n",
    "computer_hand = [random.choice(deck), random.choice(deck)]\n",
    "\n",
    "# Main game loop\n",
    "while True:\n",
    "    # Display player's hand and value\n",
    "    print(\"\\nYour Hand:\")\n",
    "    display_hand(player_hand)\n",
    "    player_value = calculate_hand_value(player_hand)\n",
    "    print(f\"Value: {player_value}\")\n",
    "\n",
    "    # Check for blackjack (21)\n",
    "    if player_value == 21:\n",
    "        print(\"Blackjack! You win!\")\n",
    "        break\n",
    "\n",
    "    # Ask the player to hit or stand\n",
    "    choice = input(\"Do you want to 'hit' or 'stand'? \").strip().lower()\n",
    "\n",
    "    if choice == 'hit':\n",
    "        player_hand.append(random.choice(deck))\n",
    "        player_value = calculate_hand_value(player_hand)\n",
    "\n",
    "        # Check if the player busts\n",
    "        if player_value > 21:\n",
    "            print(\"\\nYour Hand:\")\n",
    "            display_hand(player_hand)\n",
    "            print(f\"Value: {player_value}\")\n",
    "            print(\"Bust! You lose.\")\n",
    "            break\n",
    "    elif choice == 'stand':\n",
    "        # Computer's turn\n",
    "        while calculate_hand_value(computer_hand) < 17:\n",
    "            computer_hand.append(random.choice(deck))\n",
    "\n",
    "        print(\"\\nComputer's Hand:\")\n",
    "        display_hand(computer_hand)\n",
    "        computer_value = calculate_hand_value(computer_hand)\n",
    "        print(f\"Value: {computer_value}\")\n",
    "\n",
    "        # Determine the winner\n",
    "        if computer_value > 21:\n",
    "            print(\"Computer busts! You win!\")\n",
    "        elif computer_value > player_value:\n",
    "            print(\"Computer wins!\")\n",
    "        elif player_value > computer_value:\n",
    "            print(\"You win!\")\n",
    "        else:\n",
    "            print(\"It's a tie!\")\n",
    "\n",
    "        break\n",
    "    else:\n",
    "        print(\"Invalid choice. Please enter 'hit' or 'stand'.\")"
   ]
  },
  {
   "cell_type": "code",
   "execution_count": 30,
   "id": "41191f55-ba2a-4cb6-98f5-33ec62af6222",
   "metadata": {},
   "outputs": [
    {
     "name": "stdin",
     "output_type": "stream",
     "text": [
      "Enter a number:  4\n"
     ]
    },
    {
     "name": "stdout",
     "output_type": "stream",
     "text": [
      "The prime factors of 4 are: 2, 2\n"
     ]
    }
   ],
   "source": [
    "#Write a program that generates the prime factors of a given number using trial division.\n",
    "\n",
    "def prime_factors(n):\n",
    "    factors = []\n",
    "    divisor = 2  # Start with the smallest prime divisor\n",
    "    \n",
    "    while n > 1:\n",
    "        while n % divisor == 0:\n",
    "            factors.append(divisor)\n",
    "            n //= divisor  # Divide n by the divisor repeatedly until it's no longer divisible\n",
    "        \n",
    "        # Try the next divisor\n",
    "        divisor += 1\n",
    "\n",
    "    return factors\n",
    "\n",
    "# Input the number from the user\n",
    "try:\n",
    "    num = int(input(\"Enter a number: \"))\n",
    "\n",
    "    # Check if the number is positive\n",
    "    if num <= 0:\n",
    "        print(\"Invalid input. Please enter a positive integer.\")\n",
    "    else:\n",
    "        # Generate and display the prime factors\n",
    "        factors = prime_factors(num)\n",
    "        if len(factors) == 0:\n",
    "            print(f\"{num} is a prime number, and its only factor is itself.\")\n",
    "        else:\n",
    "            print(f\"The prime factors of {num} are: {', '.join(map(str, factors))}\")\n",
    "except ValueError:\n",
    "    print(\"Invalid input. Please enter a valid positive integer.\")"
   ]
  },
  {
   "cell_type": "code",
   "execution_count": null,
   "id": "43376f88-3665-410f-aa67-560273b687f8",
   "metadata": {},
   "outputs": [],
   "source": []
  }
 ],
 "metadata": {
  "kernelspec": {
   "display_name": "Python 3 (ipykernel)",
   "language": "python",
   "name": "python3"
  },
  "language_info": {
   "codemirror_mode": {
    "name": "ipython",
    "version": 3
   },
   "file_extension": ".py",
   "mimetype": "text/x-python",
   "name": "python",
   "nbconvert_exporter": "python",
   "pygments_lexer": "ipython3",
   "version": "3.10.8"
  }
 },
 "nbformat": 4,
 "nbformat_minor": 5
}
