{
 "cells": [
  {
   "cell_type": "code",
   "execution_count": null,
   "id": "4a2829da",
   "metadata": {},
   "outputs": [],
   "source": [
    "1. Python programming language was developed by Guido van Rossum\n",
    "\n",
    "2. Python supports object oriented programming and mul"
   ]
  }
 ],
 "metadata": {
  "kernelspec": {
   "display_name": "Python 3 (ipykernel)",
   "language": "python",
   "name": "python3"
  },
  "language_info": {
   "codemirror_mode": {
    "name": "ipython",
    "version": 3
   },
   "file_extension": ".py",
   "mimetype": "text/x-python",
   "name": "python",
   "nbconvert_exporter": "python",
   "pygments_lexer": "ipython3",
   "version": "3.11.5"
  }
 },
 "nbformat": 4,
 "nbformat_minor": 5
}
