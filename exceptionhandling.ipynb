{
 "cells": [
  {
   "cell_type": "code",
   "execution_count": null,
   "id": "8053cfec",
   "metadata": {},
   "outputs": [],
   "source": [
    "1. What is an Exception in python? Write the diff between exception and syntax error.\n"
   ]
  },
  {
   "cell_type": "code",
   "execution_count": null,
   "id": "635e9bdf",
   "metadata": {},
   "outputs": [],
   "source": [
    "Exception: An error that occurs during the execution of a program. It disrupts the normal flow of the program and can be caught and handled using try-except blocks.\n",
    "Syntax Error: An error in the code that occurs during parsing, before the program is executed. It is due to incorrect syntax."
   ]
  },
  {
   "cell_type": "code",
   "execution_count": null,
   "id": "3fb645d0",
   "metadata": {},
   "outputs": [],
   "source": [
    "2. what happens when an exception is not handles? explain with eg.\n"
   ]
  },
  {
   "cell_type": "code",
   "execution_count": null,
   "id": "aa08f42f",
   "metadata": {},
   "outputs": [],
   "source": [
    "When an exception is not handled, the program terminates abruptly, and an error message is displayed."
   ]
  },
  {
   "cell_type": "code",
   "execution_count": 1,
   "id": "bc4fdace",
   "metadata": {},
   "outputs": [
    {
     "ename": "ZeroDivisionError",
     "evalue": "division by zero",
     "output_type": "error",
     "traceback": [
      "\u001b[1;31m---------------------------------------------------------------------------\u001b[0m",
      "\u001b[1;31mZeroDivisionError\u001b[0m                         Traceback (most recent call last)",
      "Cell \u001b[1;32mIn[1], line 5\u001b[0m\n\u001b[0;32m      2\u001b[0m \u001b[38;5;28;01mdef\u001b[39;00m \u001b[38;5;21mdivide\u001b[39m(a, b):\n\u001b[0;32m      3\u001b[0m     \u001b[38;5;28;01mreturn\u001b[39;00m a \u001b[38;5;241m/\u001b[39m b\n\u001b[1;32m----> 5\u001b[0m \u001b[38;5;28mprint\u001b[39m(divide(\u001b[38;5;241m10\u001b[39m, \u001b[38;5;241m0\u001b[39m))\n",
      "Cell \u001b[1;32mIn[1], line 3\u001b[0m, in \u001b[0;36mdivide\u001b[1;34m(a, b)\u001b[0m\n\u001b[0;32m      2\u001b[0m \u001b[38;5;28;01mdef\u001b[39;00m \u001b[38;5;21mdivide\u001b[39m(a, b):\n\u001b[1;32m----> 3\u001b[0m     \u001b[38;5;28;01mreturn\u001b[39;00m a \u001b[38;5;241m/\u001b[39m b\n",
      "\u001b[1;31mZeroDivisionError\u001b[0m: division by zero"
     ]
    }
   ],
   "source": [
    "# Unhandled exception\n",
    "def divide(a, b):\n",
    "    return a / b\n",
    "\n",
    "print(divide(10, 0))  # Causes ZeroDivisionError and terminates the program"
   ]
  },
  {
   "cell_type": "code",
   "execution_count": null,
   "id": "fe92f482",
   "metadata": {},
   "outputs": [],
   "source": [
    "3. which python statement are used to catch and handle exception? explain with eg.\n"
   ]
  },
  {
   "cell_type": "code",
   "execution_count": null,
   "id": "886a4e4d",
   "metadata": {},
   "outputs": [],
   "source": [
    "try: Block where exceptions are caught.\n",
    "except: Block that handles the exception."
   ]
  },
  {
   "cell_type": "code",
   "execution_count": 2,
   "id": "0410c3b5",
   "metadata": {},
   "outputs": [
    {
     "name": "stdout",
     "output_type": "stream",
     "text": [
      "Cannot divide by zero!\n"
     ]
    }
   ],
   "source": [
    "try:\n",
    "    result = 10 / 0\n",
    "except ZeroDivisionError:\n",
    "    print(\"Cannot divide by zero!\")"
   ]
  },
  {
   "cell_type": "code",
   "execution_count": null,
   "id": "04cb0bb6",
   "metadata": {},
   "outputs": [],
   "source": [
    "4. Explain with an eg:\n",
    "    a try and else\n",
    "    b. finally\n",
    "    c. raise\n"
   ]
  },
  {
   "cell_type": "code",
   "execution_count": 3,
   "id": "0a6f739e",
   "metadata": {},
   "outputs": [
    {
     "name": "stdout",
     "output_type": "stream",
     "text": [
      "Division successful: 5.0\n"
     ]
    }
   ],
   "source": [
    "#a) else Executes if no exceptions occur in the try block.\n",
    "try:\n",
    "    result = 10 / 2\n",
    "except ZeroDivisionError:\n",
    "    print(\"Cannot divide by zero!\")\n",
    "else:\n",
    "    print(\"Division successful:\", result)"
   ]
  },
  {
   "cell_type": "code",
   "execution_count": 4,
   "id": "e3be1c2f",
   "metadata": {},
   "outputs": [
    {
     "name": "stdout",
     "output_type": "stream",
     "text": [
      "File not found!\n"
     ]
    },
    {
     "ename": "NameError",
     "evalue": "name 'file' is not defined",
     "output_type": "error",
     "traceback": [
      "\u001b[1;31m---------------------------------------------------------------------------\u001b[0m",
      "\u001b[1;31mNameError\u001b[0m                                 Traceback (most recent call last)",
      "Cell \u001b[1;32mIn[4], line 7\u001b[0m\n\u001b[0;32m      5\u001b[0m     \u001b[38;5;28mprint\u001b[39m(\u001b[38;5;124m\"\u001b[39m\u001b[38;5;124mFile not found!\u001b[39m\u001b[38;5;124m\"\u001b[39m)\n\u001b[0;32m      6\u001b[0m \u001b[38;5;28;01mfinally\u001b[39;00m:\n\u001b[1;32m----> 7\u001b[0m     file\u001b[38;5;241m.\u001b[39mclose()\n\u001b[0;32m      8\u001b[0m     \u001b[38;5;28mprint\u001b[39m(\u001b[38;5;124m\"\u001b[39m\u001b[38;5;124mFile closed.\u001b[39m\u001b[38;5;124m\"\u001b[39m)\n",
      "\u001b[1;31mNameError\u001b[0m: name 'file' is not defined"
     ]
    }
   ],
   "source": [
    "#b) finally Executes whether or not an exception occurs, used for cleanup.\n",
    "try:\n",
    "    file = open('file.txt', 'r')\n",
    "except IOError:\n",
    "    print(\"File not found!\")\n",
    "finally:\n",
    "    file.close()\n",
    "    print(\"File closed.\")\n"
   ]
  },
  {
   "cell_type": "code",
   "execution_count": 5,
   "id": "3390b406",
   "metadata": {},
   "outputs": [
    {
     "name": "stdout",
     "output_type": "stream",
     "text": [
      "Age must be at least 18.\n"
     ]
    }
   ],
   "source": [
    "#c) raise used to manually trigger an exception.\n",
    "def check_age(age):\n",
    "    if age < 18:\n",
    "        raise ValueError(\"Age must be at least 18.\")\n",
    "    return \"Age is valid.\"\n",
    "\n",
    "try:\n",
    "    print(check_age(16))\n",
    "except ValueError as e:\n",
    "    print(e)"
   ]
  },
  {
   "cell_type": "code",
   "execution_count": null,
   "id": "24e603e4",
   "metadata": {},
   "outputs": [],
   "source": [
    "5. what are custome exceptions in pythin? why do we need custome exceptions?explain with an example.\n"
   ]
  },
  {
   "cell_type": "code",
   "execution_count": null,
   "id": "9af1b8de",
   "metadata": {},
   "outputs": [],
   "source": [
    " User-defined exceptions that extend the built-in Exception class. They allow for more specific error handling \n",
    "tailored to your application."
   ]
  },
  {
   "cell_type": "code",
   "execution_count": 6,
   "id": "9c65c674",
   "metadata": {},
   "outputs": [
    {
     "name": "stdout",
     "output_type": "stream",
     "text": [
      "Value cannot be negative!\n"
     ]
    }
   ],
   "source": [
    "class MyCustomError(Exception):\n",
    "    pass\n",
    "\n",
    "def check_value(x):\n",
    "    if x < 0:\n",
    "        raise MyCustomError(\"Value cannot be negative!\")\n",
    "\n",
    "try:\n",
    "    check_value(-1)\n",
    "except MyCustomError as e:\n",
    "    print(e)"
   ]
  },
  {
   "cell_type": "code",
   "execution_count": null,
   "id": "ed3e910f",
   "metadata": {},
   "outputs": [],
   "source": [
    "6. create a custom exception class. use this clas to handle an exception"
   ]
  },
  {
   "cell_type": "code",
   "execution_count": 7,
   "id": "5e0732e2",
   "metadata": {},
   "outputs": [
    {
     "name": "stdout",
     "output_type": "stream",
     "text": [
      "Value must be non-negative.\n"
     ]
    }
   ],
   "source": [
    "# Define custom exception\n",
    "class NegativeValueError(Exception):\n",
    "    def __init__(self, message):\n",
    "        self.message = message\n",
    "        super().__init__(self.message)\n",
    "\n",
    "# Function that uses the custom exception\n",
    "def set_value(x):\n",
    "    if x < 0:\n",
    "        raise NegativeValueError(\"Value must be non-negative.\")\n",
    "    return x\n",
    "\n",
    "# Handling the custom exception\n",
    "try:\n",
    "    value = set_value(-10)\n",
    "except NegativeValueError as e:\n",
    "    print(e)"
   ]
  },
  {
   "cell_type": "code",
   "execution_count": null,
   "id": "cf7d3ce2",
   "metadata": {},
   "outputs": [],
   "source": []
  }
 ],
 "metadata": {
  "kernelspec": {
   "display_name": "Python 3 (ipykernel)",
   "language": "python",
   "name": "python3"
  },
  "language_info": {
   "codemirror_mode": {
    "name": "ipython",
    "version": 3
   },
   "file_extension": ".py",
   "mimetype": "text/x-python",
   "name": "python",
   "nbconvert_exporter": "python",
   "pygments_lexer": "ipython3",
   "version": "3.11.5"
  }
 },
 "nbformat": 4,
 "nbformat_minor": 5
}
