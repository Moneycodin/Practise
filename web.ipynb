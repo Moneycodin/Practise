{
 "cells": [
  {
   "cell_type": "code",
   "execution_count": null,
   "id": "34da339e",
   "metadata": {},
   "outputs": [],
   "source": [
    "#Q1. What is Web Scraping? Why is it Used? Give three areas where Web Scraping is used to get data.\n"
   ]
  },
  {
   "cell_type": "code",
   "execution_count": null,
   "id": "cbfee00e",
   "metadata": {},
   "outputs": [],
   "source": [
    "Web Scraping: The process of extracting data from websites.\n",
    "Used For: Gathering large amounts of data for analysis, research, or business purposes.\n",
    "Areas:\n",
    "E-commerce: Price comparison and monitoring.\n",
    "Real Estate: Collecting property listings and market trends.\n",
    "Social Media: Analyzing trends and sentiment."
   ]
  },
  {
   "cell_type": "code",
   "execution_count": null,
   "id": "bd0e8702",
   "metadata": {},
   "outputs": [],
   "source": [
    "#Q2. What are the different methods used for Web Scraping?\n"
   ]
  },
  {
   "cell_type": "code",
   "execution_count": null,
   "id": "1633171e",
   "metadata": {},
   "outputs": [],
   "source": [
    "Manual Copy-Pasting: Basic and not scalable.\n",
    "HTML Parsing: Using libraries like Beautiful Soup.\n",
    "Web APIs: Fetching data from provided APIs.\n",
    "Automated Browsing: Using tools like Selenium."
   ]
  },
  {
   "cell_type": "code",
   "execution_count": null,
   "id": "c233e4a7",
   "metadata": {},
   "outputs": [],
   "source": [
    "Q3. What is Beautiful Soup? Why is it used?\n"
   ]
  },
  {
   "cell_type": "code",
   "execution_count": null,
   "id": "77b229ad",
   "metadata": {},
   "outputs": [],
   "source": [
    "Beautiful Soup: A Python library for parsing HTML and XML documents.\n",
    "Used For: Extracting data from web pages by navigating the parse tree, making it easy to search for and extract data."
   ]
  },
  {
   "cell_type": "code",
   "execution_count": null,
   "id": "f6c5361d",
   "metadata": {},
   "outputs": [],
   "source": [
    "Q4. Why is flask used in this Web Scraping project?\n"
   ]
  },
  {
   "cell_type": "code",
   "execution_count": null,
   "id": "6af7423c",
   "metadata": {},
   "outputs": [],
   "source": [
    "Flask: A lightweight web framework for Python.\n",
    "Usage: It helps create a web interface to display the scraped data, manage routes, and handle HTTP requests."
   ]
  },
  {
   "cell_type": "code",
   "execution_count": null,
   "id": "c8cb6e34",
   "metadata": {},
   "outputs": [],
   "source": [
    "Q5. Write the names of AWS services used in this project. Also, explain the use of each service."
   ]
  },
  {
   "cell_type": "code",
   "execution_count": null,
   "id": "9121b588",
   "metadata": {},
   "outputs": [],
   "source": [
    "AWS EC2 (Elastic Compute Cloud): Provides scalable virtual servers for hosting the web scraping application.\n",
    "AWS S3 (Simple Storage Service): Used to store the scraped data, logs, and other files.\n",
    "AWS Lambda: Executes code in response to triggers, such as scraping tasks on a schedule.\n",
    "AWS RDS (Relational Database Service): Manages a relational database to store and query scraped data."
   ]
  }
 ],
 "metadata": {
  "kernelspec": {
   "display_name": "Python 3 (ipykernel)",
   "language": "python",
   "name": "python3"
  },
  "language_info": {
   "codemirror_mode": {
    "name": "ipython",
    "version": 3
   },
   "file_extension": ".py",
   "mimetype": "text/x-python",
   "name": "python",
   "nbconvert_exporter": "python",
   "pygments_lexer": "ipython3",
   "version": "3.11.5"
  }
 },
 "nbformat": 4,
 "nbformat_minor": 5
}
