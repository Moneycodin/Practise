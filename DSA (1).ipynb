{
  "nbformat": 4,
  "nbformat_minor": 0,
  "metadata": {
    "colab": {
      "provenance": []
    },
    "kernelspec": {
      "name": "python3",
      "display_name": "Python 3"
    },
    "language_info": {
      "name": "python"
    }
  },
  "cells": [
    {
      "cell_type": "code",
      "execution_count": null,
      "metadata": {
        "id": "7svMmExhYIgp"
      },
      "outputs": [],
      "source": []
    },
    {
      "cell_type": "markdown",
      "source": [
        "Problem 1: Reverse a singly linked list.\n",
        "Input: 1 -> 2 -> 3 -> 4 -> 5\n",
        "Output: 5 -> 4 -> 3 -> 2 -> 1"
      ],
      "metadata": {
        "id": "UkDZ-txhYNYM"
      }
    },
    {
      "cell_type": "code",
      "source": [
        "class ListNode:\n",
        "    def __init__(self, value=0, next=None):\n",
        "        self.value = value\n",
        "        self.next = next\n",
        "\n",
        "class Solution:\n",
        "    def reverseList(self, node: ListNode )-> ListNode:\n",
        "      prev=None\n",
        "      curr=node\n",
        "      while curr:\n",
        "        temp_next=curr.next\n",
        "        curr.next=prev\n",
        "        prev=curr\n",
        "        curr=temp_next\n",
        "      return prev"
      ],
      "metadata": {
        "id": "n2SX1bagZAHV"
      },
      "execution_count": 11,
      "outputs": []
    },
    {
      "cell_type": "markdown",
      "source": [
        "Problem 2: Merge two sorted linked lists into one sorted linked list.\n",
        "Input: List 1: 1 -> 3 -> 5, List 2: 2 -> 4 -> 6\n",
        "Output: 1 -> 2 -> 3 -> 4 -> 5 -> 6"
      ],
      "metadata": {
        "id": "yHRmDhQdqfs_"
      }
    },
    {
      "cell_type": "markdown",
      "source": [],
      "metadata": {
        "id": "YnPZTvQprjJV"
      }
    },
    {
      "cell_type": "code",
      "source": [
        "class MergeList:\n",
        "  def __init__(self, value=0, next=None):\n",
        "    self.value=value\n",
        "    self.next=next\n",
        "\n",
        "def mergelist(l1,l2):\n",
        "  dummy=ListNode()\n",
        "  current=dummy\n",
        "\n",
        "  while l1 and l2:\n",
        "    if l1.value<l2.value:\n",
        "      current.next=l1\n",
        "      l1=l1.next\n",
        "    else:\n",
        "      current.next=l2\n",
        "      l2=l2.next\n",
        "    current=current.next\n",
        "\n",
        "\n",
        "  if l1:\n",
        "    current.next=l1\n",
        "  elif l2:\n",
        "    current.next=l2\n",
        "\n",
        "  return dummy.next\n",
        "\n",
        "\n"
      ],
      "metadata": {
        "id": "RhoC40kpqlMS"
      },
      "execution_count": 12,
      "outputs": []
    },
    {
      "cell_type": "markdown",
      "source": [
        "Problem 3: Remove the nth node from the end of a linked list."
      ],
      "metadata": {
        "id": "ChSrVXh-s-lX"
      }
    },
    {
      "cell_type": "code",
      "source": [
        "class remove:\n",
        "  def __init__(self, value, next=None):\n",
        "    self.value=value\n",
        "    self.next=next\n",
        "\n",
        "  def remove_element(self, val):\n",
        "        # Check if the list is empty\n",
        "        if not self.head:\n",
        "            return None\n",
        "\n",
        "        # Check if the value to be removed is in the head node\n",
        "        if self.head.value == val:\n",
        "            self.head = self.head.next\n",
        "            return val\n",
        "\n",
        "        # Traverse the list to find the node with the specified value\n",
        "        current = self.head\n",
        "        while current.next:\n",
        "            if current.next.value == val:\n",
        "                current.next = current.next.next\n",
        "                return val\n",
        "            current = current.next\n",
        "            return None"
      ],
      "metadata": {
        "id": "kNZRc-uftMEx"
      },
      "execution_count": 16,
      "outputs": []
    },
    {
      "cell_type": "markdown",
      "source": [
        "Problem 4: Find the intersection point of two linked lists."
      ],
      "metadata": {
        "id": "XXzM9VwJuueC"
      }
    },
    {
      "cell_type": "code",
      "source": [
        "class Solution:\n",
        "  def __init__(self, value, next=None):\n",
        "    self.value=value\n",
        "    self.next=next\n",
        "\n",
        "  def getIntersectionNode(self, headA, headB):\n",
        "      pA = headA\n",
        "      pB = headB\n",
        "\n",
        "      while pA is not pB:\n",
        "          pA = headB if pA is None else pA.next\n",
        "          pB = headA if pB is None else pB.next\n",
        "\n",
        "      return pA"
      ],
      "metadata": {
        "id": "7C98AA9Ruvg5"
      },
      "execution_count": 7,
      "outputs": []
    },
    {
      "cell_type": "markdown",
      "source": [
        "Remove duplicates from a sorted linked list."
      ],
      "metadata": {
        "id": "bQHPGbdMyvkW"
      }
    },
    {
      "cell_type": "code",
      "source": [
        "class ListNode:\n",
        "    def __init__(self, val=0, next=None):\n",
        "        self.val = val\n",
        "        self.next = next\n",
        "\n",
        "def remove_duplicates(head: ListNode) -> ListNode:\n",
        "    current = head\n",
        "\n",
        "    while current and current.next:\n",
        "        if current.val == current.next.val:\n",
        "            # Remove the duplicate node\n",
        "            current.next = current.next.next\n",
        "        else:\n",
        "            # Move to the next node\n",
        "            current = current.next\n",
        "\n",
        "    return head"
      ],
      "metadata": {
        "id": "b8Tl67K7yw8u"
      },
      "execution_count": 8,
      "outputs": []
    },
    {
      "cell_type": "markdown",
      "source": [
        "Add two numbers represented by linked lists (where each node contains a single digit)."
      ],
      "metadata": {
        "id": "R-_IX4bWzVvO"
      }
    },
    {
      "cell_type": "code",
      "source": [
        "class ListNode:\n",
        "    def __init__(self, value=0, next=None):\n",
        "        self.value = value\n",
        "        self.next = next\n",
        "\n",
        "def add_linked_lists(l1, l2):\n",
        "    dummy_head = ListNode()\n",
        "    current = dummy_head\n",
        "    carry = 0\n",
        "\n",
        "    while l1 or l2 or carry:\n",
        "        # Get values from the current nodes or 0 if the nodes are None\n",
        "        value1 = l1.value if l1 else 0\n",
        "        value2 = l2.value if l2 else 0\n",
        "\n",
        "        # Calculate the sum and carry\n",
        "        total = value1 + value2 + carry\n",
        "        carry = total // 10\n",
        "        digit = total % 10\n",
        "\n",
        "        # Create a new node with the calculated digit and move to the next node\n",
        "        current.next = ListNode(digit)\n",
        "        current = current.next\n",
        "\n",
        "        # Move to the next nodes if they exist\n",
        "        if l1:\n",
        "            l1 = l1.next\n",
        "        if l2:\n",
        "            l2 = l2.next\n",
        "\n",
        "    return dummy_head.next"
      ],
      "metadata": {
        "id": "fmJdxes_zWwr"
      },
      "execution_count": 9,
      "outputs": []
    },
    {
      "cell_type": "markdown",
      "source": [
        "Problem 7: Swap nodes in pairs in a linked list."
      ],
      "metadata": {
        "id": "DfzM5U_a5NpD"
      }
    },
    {
      "cell_type": "code",
      "source": [
        "class ListNode:\n",
        "    def __init__(self, value=0, next=None):\n",
        "        self.value = value\n",
        "        self.next = next\n",
        "\n",
        "def swap_pairs(head):\n",
        "    dummy_head = ListNode()\n",
        "    dummy_head.next = head\n",
        "    current = dummy_head\n",
        "\n",
        "    while current.next and current.next.next:\n",
        "        # Nodes to be swapped\n",
        "        node1 = current.next\n",
        "        node2 = current.next.next\n",
        "\n",
        "        # Swapping nodes\n",
        "        current.next = node2\n",
        "        node1.next = node2.next\n",
        "        node2.next = node1\n",
        "\n",
        "        # Move to the next pair\n",
        "        current = node1\n",
        "\n",
        "    return dummy_head.next"
      ],
      "metadata": {
        "id": "1S_oqRS95Oh_"
      },
      "execution_count": 10,
      "outputs": []
    },
    {
      "cell_type": "markdown",
      "source": [
        "Reverse nodes in a linked list in groups of k."
      ],
      "metadata": {
        "id": "inmBq_BZ5h7K"
      }
    },
    {
      "cell_type": "code",
      "source": [
        "class ListNode:\n",
        "    def __init__(self, value=0, next=None):\n",
        "        self.value = value\n",
        "        self.next = next\n",
        "\n",
        "def reverse_k_groups(head, k):\n",
        "    def reverse_list(node, k):\n",
        "        prev = None\n",
        "        current = node\n",
        "        count = 0\n",
        "\n",
        "        # Count the number of nodes in the current group\n",
        "        while current and count < k:\n",
        "            current = current.next\n",
        "            count += 1\n",
        "\n",
        "        # If the current group has k nodes, reverse it\n",
        "        if count == k:\n",
        "            prev = None\n",
        "            current = node\n",
        "            for _ in range(k):\n",
        "                next_node = current.next\n",
        "                current.next = prev\n",
        "                prev = current\n",
        "                current = next_node\n",
        "            node.next = reverse_list(current, k)\n",
        "\n",
        "        # If the current group has fewer than k nodes, leave it as it is\n",
        "        else:\n",
        "            prev = node\n",
        "\n",
        "        return prev\n",
        "\n",
        "    return reverse_list(head, k)"
      ],
      "metadata": {
        "id": "zLLDAdAf5i12"
      },
      "execution_count": 11,
      "outputs": []
    },
    {
      "cell_type": "markdown",
      "source": [
        "9: Determine if a linked list is a palindrome."
      ],
      "metadata": {
        "id": "FSyLEMZo5-mg"
      }
    },
    {
      "cell_type": "code",
      "source": [
        "class ListNode:\n",
        "    def __init__(self, value=0, next=None):\n",
        "        self.value = value\n",
        "        self.next = next\n",
        "\n",
        "def is_palindrome(head):\n",
        "    # Helper function to reverse a linked list\n",
        "    def reverse_list(node):\n",
        "        prev = None\n",
        "        while node:\n",
        "            next_node = node.next\n",
        "            node.next = prev\n",
        "            prev = node\n",
        "            node = next_node\n",
        "        return prev\n",
        "\n",
        "    # Helper function to find the middle of the linked list\n",
        "    def find_middle(node):\n",
        "        slow = node\n",
        "        fast = node\n",
        "        while fast and fast.next:\n",
        "            slow = slow.next\n",
        "            fast = fast.next.next\n",
        "        return slow\n",
        "\n",
        "    # Reverse the second half of the linked list\n",
        "    second_half_start = reverse_list(find_middle(head))\n",
        "\n",
        "    # Compare the first and reversed second halves\n",
        "    while second_half_start:\n",
        "        if head.value != second_half_start.value:\n",
        "            return False\n",
        "        head = head.next\n",
        "        second_half_start = second_half_start.next\n",
        "\n",
        "    return True\n"
      ],
      "metadata": {
        "id": "3IMouqCI6Cjm"
      },
      "execution_count": 12,
      "outputs": []
    },
    {
      "cell_type": "markdown",
      "source": [
        "Rotate a linked list to the right by k places."
      ],
      "metadata": {
        "id": "cUMqmOnp6STl"
      }
    },
    {
      "cell_type": "code",
      "source": [
        "class ListNode:\n",
        "    def __init__(self, value=0, next=None):\n",
        "        self.value = value\n",
        "        self.next = next\n",
        "\n",
        "def rotate_right(head, k):\n",
        "    # Helper function to find the length of the linked list\n",
        "    def find_length(node):\n",
        "        length = 0\n",
        "        while node:\n",
        "            length += 1\n",
        "            node = node.next\n",
        "        return length\n",
        "\n",
        "    # Get the length of the linked list\n",
        "    length = find_length(head)\n",
        "\n",
        "    # Handle cases where the linked list is empty or has only one node\n",
        "    if length <= 1:\n",
        "        return head\n",
        "\n",
        "    # Calculate the effective rotation value (reduce k to its equivalent modulo length)\n",
        "    k = k % length\n",
        "\n",
        "    # If k is 0, no rotation is needed\n",
        "    if k == 0:\n",
        "        return head\n",
        "\n",
        "    # Find the new head position after rotation\n",
        "    new_head_position = length - k\n",
        "\n",
        "    # Move to the new head position\n",
        "    current = head\n",
        "    for _ in range(new_head_position - 1):\n",
        "        current = current.next\n",
        "\n",
        "    # Adjust the links for rotation\n",
        "    new_head = current.next\n",
        "    current.next = None  # Set the end of the rotated list\n",
        "    tail = new_head\n",
        "    while tail.next:\n",
        "        tail = tail.next\n",
        "    tail.next = head\n",
        "\n",
        "    return new_head"
      ],
      "metadata": {
        "id": "YDlwbeeZ6kDL"
      },
      "execution_count": 13,
      "outputs": []
    },
    {
      "cell_type": "markdown",
      "source": [
        "Flatten a multilevel doubly linked list."
      ],
      "metadata": {
        "id": "2Qf9BPoO6q-x"
      }
    },
    {
      "cell_type": "code",
      "source": [
        "class Node:\n",
        "    def __init__(self, value, prev=None, next=None, child=None):\n",
        "        self.value = value\n",
        "        self.prev = prev\n",
        "        self.next = next\n",
        "        self.child = child\n",
        "\n",
        "def flatten_doubly_linked_list(head):\n",
        "    if not head:\n",
        "        return None\n",
        "\n",
        "    current = head\n",
        "\n",
        "    while current:\n",
        "        if current.child:\n",
        "            # Save the next node in the main list\n",
        "            next_node = current.next\n",
        "\n",
        "            # Connect the child list to the main list\n",
        "            current.next = current.child\n",
        "            current.child.prev = current\n",
        "            current.child = None\n",
        "\n",
        "            # Move to the end of the child list\n",
        "            while current.next:\n",
        "                current = current.next\n",
        "\n",
        "            # Connect the child list to the saved next node\n",
        "            current.next = next_node\n",
        "            if next_node:\n",
        "                next_node.prev = current\n",
        "\n",
        "        current = current.next\n",
        "\n",
        "    return head"
      ],
      "metadata": {
        "id": "taYkVWqu60s1"
      },
      "execution_count": 14,
      "outputs": []
    },
    {
      "cell_type": "markdown",
      "source": [
        "Rearrange a linked list such that all even positioned nodes are placed at the end."
      ],
      "metadata": {
        "id": "9uoDJX1J65gW"
      }
    },
    {
      "cell_type": "code",
      "source": [
        "class ListNode:\n",
        "    def __init__(self, value=0, next=None):\n",
        "        self.value = value\n",
        "        self.next = next\n",
        "\n",
        "def rearrange_even_odd(head):\n",
        "    if not head or not head.next:\n",
        "        return head\n",
        "\n",
        "    # Separate the list into two parts: odd and even positions\n",
        "    odd_head = ListNode(0)\n",
        "    odd_current = odd_head\n",
        "\n",
        "    even_head = ListNode(0)\n",
        "    even_current = even_head\n",
        "\n",
        "    current = head\n",
        "    is_odd = True\n",
        "\n",
        "    while current:\n",
        "        if is_odd:\n",
        "            odd_current.next = current\n",
        "            odd_current = odd_current.next\n",
        "        else:\n",
        "            even_current.next = current\n",
        "            even_current = even_current.next\n",
        "\n",
        "        is_odd = not is_odd\n",
        "        current = current.next\n",
        "\n",
        "    # Connect the odd list to the even list\n",
        "    odd_current.next = even_head.next\n",
        "    even_current.next = None  # Set the end of the even list\n",
        "\n",
        "    return odd_head.next"
      ],
      "metadata": {
        "id": "cyU2TJVs66YF"
      },
      "execution_count": 15,
      "outputs": []
    },
    {
      "cell_type": "markdown",
      "source": [
        "Problem 13: Given a non-negative number represented as a linked list, add one to it."
      ],
      "metadata": {
        "id": "CPg-Cbhq7Hty"
      }
    },
    {
      "cell_type": "code",
      "source": [
        "class ListNode:\n",
        "    def __init__(self, value=0, next=None):\n",
        "        self.value = value\n",
        "        self.next = next\n",
        "\n",
        "def add_one(head):\n",
        "    # Helper function to reverse a linked list\n",
        "    def reverse_list(node):\n",
        "        prev = None\n",
        "        while node:\n",
        "            next_node = node.next\n",
        "            node.next = prev\n",
        "            prev = node\n",
        "            node = next_node\n",
        "        return prev\n",
        "\n",
        "    # Reverse the linked list\n",
        "    reversed_head = reverse_list(head)\n",
        "    current = reversed_head\n",
        "    carry = 1  # Start with a carry of 1 since we want to add one\n",
        "\n",
        "    while current and carry:\n",
        "        total = current.value + carry\n",
        "        current.value = total % 10\n",
        "        carry = total // 10\n",
        "        if current.next is None and carry:\n",
        "            current.next = ListNode(carry)\n",
        "            break\n",
        "        current = current.next\n",
        "\n",
        "    # Reverse the linked list back\n",
        "    result_head = reverse_list(reversed_head)\n",
        "\n",
        "    return result_head"
      ],
      "metadata": {
        "id": "ULx_cgXr7Qxu"
      },
      "execution_count": 16,
      "outputs": []
    },
    {
      "cell_type": "markdown",
      "source": [
        "Problem 14: Given a sorted array and a target value, return the index if the target is found. If not, return the\n",
        "index where it would be inserted."
      ],
      "metadata": {
        "id": "wzE1tgcB7SPA"
      }
    },
    {
      "cell_type": "code",
      "source": [
        "def search_insert(nums, target):\n",
        "    left, right = 0, len(nums) - 1\n",
        "\n",
        "    while left <= right:\n",
        "        mid = (left + right) // 2\n",
        "\n",
        "        if nums[mid] == target:\n",
        "            return mid\n",
        "        elif nums[mid] < target:\n",
        "            left = mid + 1\n",
        "        else:\n",
        "            right = mid - 1\n",
        "\n",
        "    # If the target is not found, 'left' will be the index where it would be inserted\n",
        "    return left"
      ],
      "metadata": {
        "id": "2qO0Cl_17ZLc"
      },
      "execution_count": 19,
      "outputs": []
    },
    {
      "cell_type": "markdown",
      "source": [
        "Problem 15: Find the minimum element in a rotated sorted array."
      ],
      "metadata": {
        "id": "ozNemPFk7h4E"
      }
    },
    {
      "cell_type": "markdown",
      "source": [],
      "metadata": {
        "id": "Rl8EVTmk7mGX"
      }
    },
    {
      "cell_type": "code",
      "source": [
        "def find_min(nums):\n",
        "    left, right = 0, len(nums) - 1\n",
        "\n",
        "    while left < right:\n",
        "        mid = (left + right) // 2\n",
        "\n",
        "        if nums[mid] > nums[right]:\n",
        "            # The minimum element must be in the right half, excluding mid\n",
        "            left = mid + 1\n",
        "        else:\n",
        "            # The minimum element must be in the left half, including mid\n",
        "            right = mid\n",
        "\n",
        "    return nums[left]"
      ],
      "metadata": {
        "id": "Goit1Vuu70NY"
      },
      "execution_count": 20,
      "outputs": []
    },
    {
      "cell_type": "markdown",
      "source": [
        "16: Search for a target value in a rotated sorted array."
      ],
      "metadata": {
        "id": "SP9XOggk76av"
      }
    },
    {
      "cell_type": "code",
      "source": [
        "def search_rotated_array(nums, target):\n",
        "    left, right = 0, len(nums) - 1\n",
        "\n",
        "    while left <= right:\n",
        "        mid = (left + right) // 2\n",
        "\n",
        "        if nums[mid] == target:\n",
        "            return mid\n",
        "\n",
        "        # Check if the left half is sorted\n",
        "        if nums[left] <= nums[mid]:\n",
        "            # Check if the target is in the left half\n",
        "            if nums[left] <= target < nums[mid]:\n",
        "                right = mid - 1\n",
        "            else:\n",
        "                left = mid + 1\n",
        "        else:\n",
        "            # Check if the target is in the right half\n",
        "            if nums[mid] < target <= nums[right]:\n",
        "                left = mid + 1\n",
        "            else:\n",
        "                right = mid - 1\n",
        "\n",
        "    return -1"
      ],
      "metadata": {
        "id": "eKehn9XJ8GBb"
      },
      "execution_count": 21,
      "outputs": []
    },
    {
      "cell_type": "markdown",
      "source": [
        "Problem 17: Find the peak element in an array. A peak element is greater than its neighbors."
      ],
      "metadata": {
        "id": "h3KMW0jT8PeV"
      }
    },
    {
      "cell_type": "code",
      "source": [
        "def find_peak_element(nums):\n",
        "    left, right = 0, len(nums) - 1\n",
        "\n",
        "    while left < right:\n",
        "        mid = (left + right) // 2\n",
        "\n",
        "        # Check if the peak element is on the right\n",
        "        if nums[mid] < nums[mid + 1]:\n",
        "            left = mid + 1\n",
        "        else:\n",
        "            # Check if the peak element is on the left or mid itself is the peak\n",
        "            right = mid\n",
        "\n",
        "    return left"
      ],
      "metadata": {
        "id": "0GQ0vWUV8jjN"
      },
      "execution_count": 22,
      "outputs": []
    },
    {
      "cell_type": "markdown",
      "source": [
        "Problem 18: Given a m x n matrix where each row and column is sorted in ascending order, count the number\n",
        "of negative numbers."
      ],
      "metadata": {
        "id": "V3A_YqQQ8k3E"
      }
    },
    {
      "cell_type": "code",
      "source": [
        "def count_negatives(matrix):\n",
        "    if not matrix or not matrix[0]:\n",
        "        return 0\n",
        "\n",
        "    rows, cols = len(matrix), len(matrix[0])\n",
        "    count = 0\n",
        "    row, col = 0, cols - 1\n",
        "\n",
        "    while row < rows and col >= 0:\n",
        "        if matrix[row][col] < 0:\n",
        "            # All the elements in the current column are negative\n",
        "            count += (rows - row)\n",
        "            col -= 1\n",
        "        else:\n",
        "            # Move to the next row\n",
        "            row += 1\n",
        "\n",
        "    return count"
      ],
      "metadata": {
        "id": "vCepAGHu8o08"
      },
      "execution_count": 23,
      "outputs": []
    },
    {
      "cell_type": "markdown",
      "source": [
        "Problem 19: Given a 2D matrix sorted in ascending order in each row, and the first integer of each row is\n",
        "greater than the last integer of the previous row, determine if a target value is present in the matrix."
      ],
      "metadata": {
        "id": "2OToP6Wc807O"
      }
    },
    {
      "cell_type": "code",
      "source": [
        "def search_matrix(matrix, target):\n",
        "    if not matrix or not matrix[0]:\n",
        "        return False\n",
        "\n",
        "    rows, cols = len(matrix), len(matrix[0])\n",
        "    row, col = 0, cols - 1\n",
        "\n",
        "    while row < rows and col >= 0:\n",
        "        current_element = matrix[row][col]\n",
        "\n",
        "        if current_element == target:\n",
        "            return True\n",
        "        elif current_element < target:\n",
        "            # Move to the next row\n",
        "            row += 1\n",
        "        else:\n",
        "            # Move to the previous column\n",
        "            col -= 1\n",
        "\n",
        "    return False"
      ],
      "metadata": {
        "id": "NrnSjEj688Je"
      },
      "execution_count": 24,
      "outputs": []
    },
    {
      "cell_type": "markdown",
      "source": [
        "Problem 20: Find Median in Two Sorted Arrays"
      ],
      "metadata": {
        "id": "kZN_0xUr9Nk4"
      }
    },
    {
      "cell_type": "code",
      "source": [
        "def findMedianSortedArrays(nums1, nums2):\n",
        "    if len(nums1) > len(nums2):\n",
        "        nums1, nums2 = nums2, nums1\n",
        "\n",
        "    x, y = len(nums1), len(nums2)\n",
        "    low, high = 0, x\n",
        "\n",
        "    while low <= high:\n",
        "        partitionX = (low + high) // 2\n",
        "        partitionY = (x + y + 1) // 2 - partitionX\n",
        "\n",
        "        maxX = float('-inf') if partitionX == 0 else nums1[partitionX - 1]\n",
        "        minX = float('inf') if partitionX == x else nums1[partitionX]\n",
        "\n",
        "        maxY = float('-inf') if partitionY == 0 else nums2[partitionY - 1]\n",
        "        minY = float('inf') if partitionY == y else nums2[partitionY]\n",
        "\n",
        "        if maxX <= minY and maxY <= minX:\n",
        "            if (x + y) % 2 == 0:\n",
        "                return (max(maxX, maxY) + min(minX, minY)) / 2\n",
        "            else:\n",
        "                return max(maxX, maxY)\n",
        "        elif maxX > minY:\n",
        "            high = partitionX - 1\n",
        "        else:\n",
        "            low = partitionX + 1"
      ],
      "metadata": {
        "id": "0vswBFN49Tve"
      },
      "execution_count": 25,
      "outputs": []
    },
    {
      "cell_type": "markdown",
      "source": [
        "Problem 21: Given a sorted character array and a target letter, find the smallest letter in the array that is\n",
        "greater than the target."
      ],
      "metadata": {
        "id": "WVYYtWw29eXM"
      }
    },
    {
      "cell_type": "code",
      "source": [
        "def next_greatest_letter(letters, target):\n",
        "    left, right = 0, len(letters)\n",
        "\n",
        "    while left < right:\n",
        "        mid = left + (right - left) // 2\n",
        "\n",
        "        if letters[mid] <= target:\n",
        "            left = mid + 1\n",
        "        else:\n",
        "            right = mid\n",
        "\n",
        "    # If we've reached the end of the array, wrap around to the beginning\n",
        "    return letters[left % len(letters)]\n"
      ],
      "metadata": {
        "id": "bDLjgCaj9j-B"
      },
      "execution_count": 26,
      "outputs": []
    },
    {
      "cell_type": "markdown",
      "source": [
        "Given an array with n objects colored red, white, or blue, sort them in-place so that objects of\n",
        "the same color are adjacent, with the colors in the order red, white, and blue."
      ],
      "metadata": {
        "id": "A0jSVtE79rPE"
      }
    },
    {
      "cell_type": "code",
      "source": [
        "def sortColors(nums):\n",
        "    red, white, blue = 0, 0, len(nums) - 1\n",
        "\n",
        "    while white <= blue:\n",
        "        if nums[white] == 0:\n",
        "            nums[red], nums[white] = nums[white], nums[red]\n",
        "            red += 1\n",
        "            white += 1\n",
        "        elif nums[white] == 1:\n",
        "            white += 1\n",
        "        else:\n",
        "            nums[white], nums[blue] = nums[blue], nums[white]\n",
        "            blue -= 1"
      ],
      "metadata": {
        "id": "00x8PXMp9w-3"
      },
      "execution_count": 27,
      "outputs": []
    },
    {
      "cell_type": "markdown",
      "source": [
        "Find the kth largest element in an unsorted array."
      ],
      "metadata": {
        "id": "ClYPHhD493nQ"
      }
    },
    {
      "cell_type": "code",
      "source": [
        "import heapq\n",
        "\n",
        "def findKthLargest(nums, k):\n",
        "    min_heap = []\n",
        "\n",
        "    for num in nums:\n",
        "        heapq.heappush(min_heap, num)\n",
        "        if len(min_heap) > k:\n",
        "            heapq.heappop(min_heap)\n",
        "\n",
        "    return min_heap[0]\n"
      ],
      "metadata": {
        "id": "0eWl4edi-G5W"
      },
      "execution_count": 28,
      "outputs": []
    },
    {
      "cell_type": "markdown",
      "source": [
        "Given an unsorted array, reorder it in-place such that nums[0] <= nums[1] >= nums[2] <=\n",
        "nums[3]..."
      ],
      "metadata": {
        "id": "_TZOWvtK-IUG"
      }
    },
    {
      "cell_type": "code",
      "source": [
        "def wiggleSort(nums):\n",
        "    nums.sort()\n",
        "    for i in range(1, len(nums) - 1, 2):\n",
        "        nums[i], nums[i + 1] = nums[i + 1], nums[i]"
      ],
      "metadata": {
        "id": "Xd5NeRvN-Odm"
      },
      "execution_count": 29,
      "outputs": []
    },
    {
      "cell_type": "markdown",
      "source": [
        "Given an array of integers, calculate the sum of all its elements."
      ],
      "metadata": {
        "id": "l4J0FH6n-UcF"
      }
    },
    {
      "cell_type": "code",
      "source": [
        "def calculate_sum(nums):\n",
        "    return sum(nums)"
      ],
      "metadata": {
        "id": "ynSWqewT-XlI"
      },
      "execution_count": 30,
      "outputs": []
    },
    {
      "cell_type": "markdown",
      "source": [
        "Problem 26: Find the maximum element in an array of integers."
      ],
      "metadata": {
        "id": "h52Uia3D-g84"
      }
    },
    {
      "cell_type": "code",
      "source": [
        "def find_max_element(nums):\n",
        "    return max(nums)"
      ],
      "metadata": {
        "id": "vmCFCfZ0-qFa"
      },
      "execution_count": 31,
      "outputs": []
    },
    {
      "cell_type": "markdown",
      "source": [
        "Problem 27: Implement linear search to find the index of a target element in an array."
      ],
      "metadata": {
        "id": "TYCN6NVu-uou"
      }
    },
    {
      "cell_type": "code",
      "source": [
        "def linear_search(nums, target):\n",
        "    for i, num in enumerate(nums):\n",
        "        if num == target:\n",
        "            return i\n",
        "    return -1"
      ],
      "metadata": {
        "id": "tW3dhC4p-2bX"
      },
      "execution_count": 32,
      "outputs": []
    },
    {
      "cell_type": "markdown",
      "source": [
        "Problem 28 Calculate the factorial of a given number."
      ],
      "metadata": {
        "id": "1ED0DK19-3vM"
      }
    },
    {
      "cell_type": "code",
      "source": [
        "def factorial(n):\n",
        "    result = 1\n",
        "    for i in range(1, n + 1):\n",
        "        result *= i\n",
        "    return result"
      ],
      "metadata": {
        "id": "4PdvCN9X-6wv"
      },
      "execution_count": 33,
      "outputs": []
    },
    {
      "cell_type": "markdown",
      "source": [],
      "metadata": {
        "id": "qSeGeYTh_CAV"
      }
    },
    {
      "cell_type": "markdown",
      "source": [
        "Check if a given number is a prime number."
      ],
      "metadata": {
        "id": "cxXlXpRH_FHq"
      }
    },
    {
      "cell_type": "code",
      "source": [
        "def is_prime(n):\n",
        "    if n <= 1:\n",
        "        return False\n",
        "    for i in range(2, int(n**0.5) + 1):\n",
        "        if n % i == 0:\n",
        "            return False\n",
        "    return True"
      ],
      "metadata": {
        "id": "yfcGaQcm_HhN"
      },
      "execution_count": 34,
      "outputs": []
    },
    {
      "cell_type": "markdown",
      "source": [
        "Generate the Fibonacci series up to a given number n."
      ],
      "metadata": {
        "id": "RiQvsjxj_MD2"
      }
    },
    {
      "cell_type": "code",
      "source": [
        "def generate_fibonacci(n):\n",
        "    fibonacci_series = [0, 1]\n",
        "    while fibonacci_series[-1] + fibonacci_series[-2] <= n:\n",
        "        fibonacci_series.append(fibonacci_series[-1] + fibonacci_series[-2])\n",
        "    return fibonacci_series"
      ],
      "metadata": {
        "id": "wTikEmYm_RAZ"
      },
      "execution_count": 35,
      "outputs": []
    },
    {
      "cell_type": "markdown",
      "source": [
        "Calculate the power of a number using recursion."
      ],
      "metadata": {
        "id": "w7V9-vkZ_XhD"
      }
    },
    {
      "cell_type": "code",
      "source": [
        "def power(base, exponent):\n",
        "    if exponent == 0:\n",
        "        return 1\n",
        "    else:\n",
        "        return base * power(base, exponent - 1)"
      ],
      "metadata": {
        "id": "DiO4q4EA_axT"
      },
      "execution_count": 36,
      "outputs": []
    },
    {
      "cell_type": "markdown",
      "source": [
        "Reverse a given string."
      ],
      "metadata": {
        "id": "FKmPQoaF_gs9"
      }
    },
    {
      "cell_type": "code",
      "source": [
        "def my_function(x):\n",
        "  return x[::-1]"
      ],
      "metadata": {
        "id": "IAFWScwX_9xi"
      },
      "execution_count": 37,
      "outputs": []
    }
  ]
}