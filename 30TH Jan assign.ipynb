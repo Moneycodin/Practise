{
  "nbformat": 4,
  "nbformat_minor": 0,
  "metadata": {
    "colab": {
      "provenance": [],
      "authorship_tag": "ABX9TyMnTvjtyQNdm2YRjQBVqT7O",
      "include_colab_link": true
    },
    "kernelspec": {
      "name": "python3",
      "display_name": "Python 3"
    },
    "language_info": {
      "name": "python"
    }
  },
  "cells": [
    {
      "cell_type": "markdown",
      "metadata": {
        "id": "view-in-github",
        "colab_type": "text"
      },
      "source": [
        "<a href=\"https://colab.research.google.com/github/Moneycodin/Practise/blob/main/30TH%20Jan%20assign.ipynb\" target=\"_parent\"><img src=\"https://colab.research.google.com/assets/colab-badge.svg\" alt=\"Open In Colab\"/></a>"
      ]
    },
    {
      "cell_type": "code",
      "execution_count": 1,
      "metadata": {
        "colab": {
          "base_uri": "https://localhost:8080/"
        },
        "id": "8kQxmDa8gi-1",
        "outputId": "31e5b326-f2d9-4399-eaa5-fedf93d85053"
      },
      "outputs": [
        {
          "output_type": "stream",
          "name": "stdout",
          "text": [
            "Enter your percentage: 50\n",
            "Your grade is: D\n"
          ]
        }
      ],
      "source": [
        "# Function to determine the grade based on percentage\n",
        "def determine_grade(percentage):\n",
        "    if percentage > 90:\n",
        "        return \"A\"\n",
        "    elif 80 < percentage <= 90:\n",
        "        return \"B\"\n",
        "    elif 60 <= percentage <=80:\n",
        "        return \"C\"\n",
        "\n",
        "    else:\n",
        "        return \"D\"\n",
        "\n",
        "# Accept percentage from the user\n",
        "try:\n",
        "    percentage = float(input(\"Enter your percentage: \"))\n",
        "    grade = determine_grade(percentage)\n",
        "    print(f\"Your grade is: {grade}\")\n",
        "except ValueError:\n",
        "    print(\"Please enter a valid number.\")"
      ]
    },
    {
      "cell_type": "code",
      "source": [
        "def calculate_road_tax(cost_price):\n",
        "    if cost_price > 100000:\n",
        "        tax_rate = 0.15\n",
        "    elif cost_price > 50000:\n",
        "        tax_rate = 0.10\n",
        "    else:\n",
        "        tax_rate = 0.05\n",
        "\n",
        "    road_tax = cost_price * tax_rate\n",
        "    return road_tax\n",
        "\n",
        "def main():\n",
        "    try:\n",
        "        cost_price = float(input(\"Enter the cost price of the bike: \"))\n",
        "        if cost_price < 0:\n",
        "            print(\"Cost price cannot be negative.\")\n",
        "        else:\n",
        "            road_tax = calculate_road_tax(cost_price)\n",
        "            print(f\"The road tax to be paid is: {road_tax:.2f}\")\n",
        "    except ValueError:\n",
        "        print(\"Invalid input. Please enter a numeric value.\")\n",
        "\n",
        "if __name__ == \"__main__\":\n",
        "    main()"
      ],
      "metadata": {
        "colab": {
          "base_uri": "https://localhost:8080/"
        },
        "id": "fJZW_tXXhxfI",
        "outputId": "22626995-0eee-4648-a1e5-506bd51f0de8"
      },
      "execution_count": 2,
      "outputs": [
        {
          "output_type": "stream",
          "name": "stdout",
          "text": [
            "Enter the cost price of the bike: 70000\n",
            "The road tax to be paid is: 7000.00\n"
          ]
        }
      ]
    },
    {
      "cell_type": "code",
      "source": [
        "def get_monument(city):\n",
        "    monuments = {\n",
        "        'delhi': 'Red Fort',\n",
        "        'agra': 'Taj Mahal',\n",
        "        'jaipur': 'Jal Mahal'\n",
        "    }\n",
        "    return monuments.get(city.lower(), \"Monument not found for the specified city.\")\n",
        "\n",
        "def main():\n",
        "    city = input(\"Enter the name of the city: \")\n",
        "    monument = get_monument(city)\n",
        "    print(f\"The monument in {city} is: {monument}\")\n",
        "\n",
        "if __name__ == \"__main__\":\n",
        "    main()"
      ],
      "metadata": {
        "colab": {
          "base_uri": "https://localhost:8080/"
        },
        "id": "7LGRVQmRh1Bm",
        "outputId": "c3324085-5acf-4d11-f02d-1753bff9393b"
      },
      "execution_count": 5,
      "outputs": [
        {
          "output_type": "stream",
          "name": "stdout",
          "text": [
            "Enter the name of the city: agra\n",
            "The monument in agra is: Taj Mahal\n"
          ]
        }
      ]
    },
    {
      "cell_type": "code",
      "source": [
        "def count_divisions(num):\n",
        "    count = 0\n",
        "    while num > 10:\n",
        "        num /= 3\n",
        "        count += 1\n",
        "    return count\n",
        "\n",
        "def main():\n",
        "    try:\n",
        "        number = float(input(\"Enter a number: \"))\n",
        "        if number <= 0:\n",
        "            print(\"The number must be positive.\")\n",
        "        else:\n",
        "            divisions = count_divisions(number)\n",
        "            print(f\"The number can be divided by 3 {divisions} times before it is less than or equal to 10.\")\n",
        "    except ValueError:\n",
        "        print(\"Invalid input. Please enter a numeric value.\")\n",
        "\n",
        "if __name__ == \"__main__\":\n",
        "    main()"
      ],
      "metadata": {
        "colab": {
          "base_uri": "https://localhost:8080/"
        },
        "id": "2eQkkqeziaNt",
        "outputId": "711be65c-acad-45c0-bc4c-a84cda67a862"
      },
      "execution_count": 7,
      "outputs": [
        {
          "output_type": "stream",
          "name": "stdout",
          "text": [
            "Enter a number: 15\n",
            "The number can be divided by 3 1 times before it is less than or equal to 10.\n"
          ]
        }
      ]
    },
    {
      "cell_type": "code",
      "source": [
        "#why and when to use while loop in python give a detailed description with example\n",
        "In Python, a while loop is used for repeated execution of a block of code as long as a given condition remains True. It is especially useful in situations where the number of iterations is not known beforehand and is determined by dynamic conditions or user input.\n",
        "\n",
        "When to Use a while Loop\n",
        "Indeterminate Number of Iterations:\n",
        "Use a while loop when you don't know in advance how many times you need to execute a block of code. The loop continues until a certain condition is met.\n",
        "\n",
        "Condition-Driven Execution:\n",
        "When the execution of code depends on some condition rather than a fixed number of iterations. For example, reading data until a certain condition is met.\n",
        "\n",
        "Event-Driven Processes:\n",
        "When you need to wait for an event or user input, and you want to keep checking or performing operations until that event or input occurs.\n",
        "\n",
        "Infinite Loops:\n",
        "A while loop can be used to create an infinite loop (when the condition always evaluates to True), which can be useful for programs that run continuously until interrupted by an external condition.\n",
        "\n",
        "\n"
      ],
      "metadata": {
        "id": "28P0fq9IijQS"
      },
      "execution_count": null,
      "outputs": []
    },
    {
      "cell_type": "code",
      "source": [
        "def countdown(n):\n",
        "    while n > 0:\n",
        "        print(n)\n",
        "        n -= 1\n",
        "    print(\"Blast off!\")\n",
        "\n",
        "countdown(5)"
      ],
      "metadata": {
        "colab": {
          "base_uri": "https://localhost:8080/"
        },
        "id": "n-xxH6dUjD7G",
        "outputId": "8b7b708b-4a7c-47f1-dc81-b34cce5136c7"
      },
      "execution_count": 9,
      "outputs": [
        {
          "output_type": "stream",
          "name": "stdout",
          "text": [
            "5\n",
            "4\n",
            "3\n",
            "2\n",
            "1\n",
            "Blast off!\n"
          ]
        }
      ]
    },
    {
      "cell_type": "code",
      "source": [
        "#Pattern 1: Right-Angle Triangle\n",
        "def print_right_angle_triangle(rows):\n",
        "    i = 1\n",
        "    while i <= rows:\n",
        "        j = 1\n",
        "        while j <= i:\n",
        "            print('*', end='')\n",
        "            j += 1\n",
        "        print()\n",
        "        i += 1\n",
        "\n",
        "print_right_angle_triangle(5)"
      ],
      "metadata": {
        "colab": {
          "base_uri": "https://localhost:8080/"
        },
        "id": "pWbBsLK0jG08",
        "outputId": "3f38d1fb-bacf-4458-b596-71974c8200df"
      },
      "execution_count": 10,
      "outputs": [
        {
          "output_type": "stream",
          "name": "stdout",
          "text": [
            "*\n",
            "**\n",
            "***\n",
            "****\n",
            "*****\n"
          ]
        }
      ]
    },
    {
      "cell_type": "code",
      "source": [
        "#Pattern 2: Square\n",
        "def print_square(size):\n",
        "    i = 1\n",
        "    while i <= size:\n",
        "        j = 1\n",
        "        while j <= size:\n",
        "            print('*', end='')\n",
        "            j += 1\n",
        "        print()\n",
        "        i += 1\n",
        "\n",
        "print_square(5)"
      ],
      "metadata": {
        "colab": {
          "base_uri": "https://localhost:8080/"
        },
        "id": "m6toXCrKjWRO",
        "outputId": "92158ac9-c7cd-4763-a185-74cb1998358a"
      },
      "execution_count": 11,
      "outputs": [
        {
          "output_type": "stream",
          "name": "stdout",
          "text": [
            "*****\n",
            "*****\n",
            "*****\n",
            "*****\n",
            "*****\n"
          ]
        }
      ]
    },
    {
      "cell_type": "code",
      "source": [
        "#Pattern 3: Pyramid\n",
        "def print_pyramid(rows):\n",
        "    i = 1\n",
        "    while i <= rows:\n",
        "        # Print leading spaces\n",
        "        j = 1\n",
        "        while j <= rows - i:\n",
        "            print(' ', end='')\n",
        "            j += 1\n",
        "        # Print asterisks\n",
        "        k = 1\n",
        "        while k <= 2 * i - 1:\n",
        "            print('*', end='')\n",
        "            k += 1\n",
        "        print()\n",
        "        i += 1\n",
        "\n",
        "print_pyramid(5)"
      ],
      "metadata": {
        "colab": {
          "base_uri": "https://localhost:8080/"
        },
        "id": "IeYzGZ5UjcJY",
        "outputId": "9a653add-0c20-47be-ae05-4d3d2ea0a109"
      },
      "execution_count": 12,
      "outputs": [
        {
          "output_type": "stream",
          "name": "stdout",
          "text": [
            "    *\n",
            "   ***\n",
            "  *****\n",
            " *******\n",
            "*********\n"
          ]
        }
      ]
    },
    {
      "cell_type": "code",
      "source": [
        "7.  #REVERSE A WHILE LOOP TO DISPLAY NUMBERS FROM 10 TO 1\n",
        "\n",
        "def print_reverse_numbers(start, end):\n",
        "    while start >= end:\n",
        "        print(start)\n",
        "        start -= 1\n",
        "\n",
        "print_reverse_numbers(10, 1)"
      ],
      "metadata": {
        "colab": {
          "base_uri": "https://localhost:8080/"
        },
        "id": "EqHUtfzxjiAY",
        "outputId": "985d7995-750d-48d9-a495-0d8547ab4647"
      },
      "execution_count": 13,
      "outputs": [
        {
          "output_type": "stream",
          "name": "stdout",
          "text": [
            "10\n",
            "9\n",
            "8\n",
            "7\n",
            "6\n",
            "5\n",
            "4\n",
            "3\n",
            "2\n",
            "1\n"
          ]
        }
      ]
    },
    {
      "cell_type": "code",
      "source": [
        "8.  #REVERSE A WHILE LOOP TO DISPLAY NUMBERS FROM 10 TO 1\n",
        "\n",
        "def print_reverse_numbers(start, end):\n",
        "    while start >= end:\n",
        "        print(start)\n",
        "        start -= 1\n",
        "\n",
        "print_reverse_numbers(10, 1)"
      ],
      "metadata": {
        "colab": {
          "base_uri": "https://localhost:8080/"
        },
        "id": "4-hvGZekj3jG",
        "outputId": "78050336-84d7-4da9-97ab-bd402f2bbd90"
      },
      "execution_count": 14,
      "outputs": [
        {
          "output_type": "stream",
          "name": "stdout",
          "text": [
            "10\n",
            "9\n",
            "8\n",
            "7\n",
            "6\n",
            "5\n",
            "4\n",
            "3\n",
            "2\n",
            "1\n"
          ]
        }
      ]
    },
    {
      "cell_type": "markdown",
      "source": [],
      "metadata": {
        "id": "LaqrhfF6jBKg"
      }
    }
  ]
}