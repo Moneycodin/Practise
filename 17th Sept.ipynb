{
 "cells": [
  {
   "cell_type": "markdown",
   "id": "6b24f1cf-8867-47e9-9504-9a65f53b99e7",
   "metadata": {},
   "source": [
    "#FOR LOOP PROBLEMS"
   ]
  },
  {
   "cell_type": "code",
   "execution_count": null,
   "id": "7cc5f3bc-d52a-4d64-8d71-26521056ee9b",
   "metadata": {},
   "outputs": [
    {
     "name": "stdout",
     "output_type": "stream",
     "text": [
      "1\n",
      "2\n",
      "3\n",
      "4\n",
      "5\n",
      "6\n",
      "7\n",
      "8\n",
      "9\n",
      "10\n"
     ]
    }
   ],
   "source": [
    "#1. Write a Python program to print numbers from 1 to 10 using a for loop.\n",
    "for i in range(1,11,1):\n",
    "    print(i)"
   ]
  },
  {
   "cell_type": "code",
   "execution_count": null,
   "id": "5ecf100f-6815-4560-a465-0806ecbf13e7",
   "metadata": {},
   "outputs": [],
   "source": [
    "###2.Explain the difference between a for loop and a while loop in Python.\n",
    "for loop is used where the sequences are iterated where we already the know the number of times iteartion are to be done, however the while loop works, when we dont know number of iterations in thebeginning but we follow the repetition on set of instructions untill the condition evaluated in true. "
   ]
  },
  {
   "cell_type": "code",
   "execution_count": 2,
   "id": "3fc6f746-e9fe-4a14-9eac-7c68bd8e1dfe",
   "metadata": {},
   "outputs": [
    {
     "name": "stdout",
     "output_type": "stream",
     "text": [
      "sum of all numbers from 1 to 100 is: 5050\n"
     ]
    }
   ],
   "source": [
    "#3.Write a Python program to calculate the sum of all numbers from 1 to 100 using a for loop.\n",
    "sum=0\n",
    "for i in range(1,101,1):\n",
    "    sum+=i\n",
    "print(\"sum of all numbers from 1 to 100 is:\",sum)\n",
    "    "
   ]
  },
  {
   "cell_type": "code",
   "execution_count": null,
   "id": "82a661c5-3f09-48dc-b819-a9805af9c69a",
   "metadata": {},
   "outputs": [],
   "source": [
    "#4.How do you iterate through a list using a for loop in Python\n",
    "#There are many ways where we can iterate through list using a for loop Python. It is one of the six fundamental types in the programming language.List can be used to store multiple elements. We can iterate through a lift using for loop, range function, list comprehension, enumerate function,  lambda function, while lop and a numpy array."
   ]
  },
  {
   "cell_type": "code",
   "execution_count": 1,
   "id": "4c9ee353-9ff0-4925-a576-bd3cd6de7c68",
   "metadata": {},
   "outputs": [
    {
     "name": "stdout",
     "output_type": "stream",
     "text": [
      "the final product is: 270\n"
     ]
    }
   ],
   "source": [
    "#5.Write a Python program to find the product of all elements in a list using a for loop.\n",
    "list1=[1,2,3,45]\n",
    "prod=1\n",
    "for i in list1:\n",
    "    prod*=i\n",
    "print(\"the final product is:\", prod)\n",
    "    "
   ]
  },
  {
   "cell_type": "code",
   "execution_count": 3,
   "id": "98cc715b-29f8-4c21-a119-a6bf2393a453",
   "metadata": {},
   "outputs": [
    {
     "name": "stdout",
     "output_type": "stream",
     "text": [
      "2\n",
      "4\n",
      "6\n",
      "8\n",
      "10\n",
      "12\n",
      "14\n",
      "16\n",
      "18\n",
      "20\n"
     ]
    }
   ],
   "source": [
    "#6.Create a Python program that prints all even numbers from 1 to 20 using a for loop.\n",
    "for i in range(2,21,2):\n",
    "    print(i)"
   ]
  },
  {
   "cell_type": "code",
   "execution_count": 5,
   "id": "b812b9e0-92e6-4c35-9b5e-4e9d42a7a766",
   "metadata": {},
   "outputs": [
    {
     "name": "stdout",
     "output_type": "stream",
     "text": [
      "120\n"
     ]
    }
   ],
   "source": [
    "#7.Write a Python program that calculates the factorial of a number using a for loop.\n",
    "number=5\n",
    "fact=1\n",
    "for i in range(1,number+1):\n",
    "    fact*=i\n",
    "print(fact)"
   ]
  },
  {
   "cell_type": "code",
   "execution_count": 18,
   "id": "878dca3a-fc38-4898-9e9c-74791f3cb5ce",
   "metadata": {},
   "outputs": [
    {
     "name": "stdout",
     "output_type": "stream",
     "text": [
      "m\n",
      "a\n",
      "n\n",
      "m\n",
      "e\n",
      "e\n",
      "t\n"
     ]
    }
   ],
   "source": [
    "#8.How can you iterate through the characters of a string using a for loop in Python?\n",
    "#we can iterate through the characters of a string using for loop by accessing each character in the loop. For example:\n",
    "string1=\"manmeet\"\n",
    "for i in range(len(string1)):\n",
    "    print(string1[i])"
   ]
  },
  {
   "cell_type": "code",
   "execution_count": null,
   "id": "6cf78934-b433-47a2-8e8c-b8a585d6257f",
   "metadata": {},
   "outputs": [],
   "source": [
    "#9.Write a Python program to find the largest number in a list using a for loop.\n"
   ]
  },
  {
   "cell_type": "code",
   "execution_count": null,
   "id": "c3b95287-2e75-47b4-a3f9-444fe7afee2f",
   "metadata": {},
   "outputs": [],
   "source": []
  },
  {
   "cell_type": "code",
   "execution_count": null,
   "id": "26d7baf5-e23b-40cf-b131-7edd852e5e23",
   "metadata": {},
   "outputs": [],
   "source": [
    "#10.Create a Python program that prints the Fibonacci sequence up to a specified limit using a for loop."
   ]
  },
  {
   "cell_type": "code",
   "execution_count": null,
   "id": "ba016ce1-e5a6-436b-92f7-b35dcfd3417e",
   "metadata": {},
   "outputs": [],
   "source": [
    "#11.Write a Python program to count the number of vowels in a given string using a for loop.\n"
   ]
  },
  {
   "cell_type": "code",
   "execution_count": null,
   "id": "0a001eb6-66b4-4e85-941a-4ff59302295a",
   "metadata": {},
   "outputs": [],
   "source": [
    "#12.Create a Python program that generates a multiplication table for a given number using a for loop."
   ]
  },
  {
   "cell_type": "code",
   "execution_count": null,
   "id": "bf6f0d60-53a0-4d52-b9ab-9461ab5dd6bd",
   "metadata": {},
   "outputs": [],
   "source": [
    "#13.Write a Python program to reverse a list using a for loop.\n"
   ]
  },
  {
   "cell_type": "code",
   "execution_count": null,
   "id": "8801b4e6-d6f3-4d8a-ac9f-005929d7c644",
   "metadata": {},
   "outputs": [],
   "source": [
    "#14.Write a Python program to find the common elements between two lists using a for loop.\n"
   ]
  },
  {
   "cell_type": "code",
   "execution_count": null,
   "id": "d3c65dda-3b1e-44a5-a85f-064d19460375",
   "metadata": {},
   "outputs": [],
   "source": [
    "#15.Explain how to use a for loop to iterate through the keys and values of a dictionary in Python.\n"
   ]
  },
  {
   "cell_type": "code",
   "execution_count": null,
   "id": "5a239c76-3d2b-4c58-806c-264a2c75b548",
   "metadata": {},
   "outputs": [],
   "source": [
    "#16.Write a Python program to find the GCD (Greatest Common Divisor) of two numbers using a for loop.\n"
   ]
  },
  {
   "cell_type": "code",
   "execution_count": null,
   "id": "049d2047-842e-4080-9b58-2fa278167141",
   "metadata": {},
   "outputs": [],
   "source": [
    "#17.Create a Python program that checks if a string is a palindrome using a for loop.\n"
   ]
  },
  {
   "cell_type": "code",
   "execution_count": null,
   "id": "a10096c3-3a34-4c4a-a029-874eac6c4cf3",
   "metadata": {},
   "outputs": [],
   "source": [
    "#18.Write a Python program to remove duplicates from a list using a for loop.\n"
   ]
  },
  {
   "cell_type": "code",
   "execution_count": null,
   "id": "769b4128-63c5-4a9a-ad02-86fbe53058ef",
   "metadata": {},
   "outputs": [],
   "source": [
    "#19.Create a Python program that counts the number of words in a sentence using a for loop.\n"
   ]
  },
  {
   "cell_type": "code",
   "execution_count": null,
   "id": "b80c1aee-becb-4ddb-8a32-09cfce98d583",
   "metadata": {},
   "outputs": [],
   "source": [
    "#20.Write a Python program to find the sum of all odd numbers from 1 to 50 using a for loop."
   ]
  },
  {
   "cell_type": "code",
   "execution_count": null,
   "id": "0c91a381-c385-463b-bdd9-ecd00f44fc38",
   "metadata": {},
   "outputs": [],
   "source": [
    "#21.Write a Python program that checks if a given year is a leap year using a for loop.\n"
   ]
  },
  {
   "cell_type": "code",
   "execution_count": null,
   "id": "defd6bf8-9b2e-413f-a55d-d364ae6f059a",
   "metadata": {},
   "outputs": [],
   "source": [
    "#22.Create a Python program that calculates the square root of a number using a for loop.\n"
   ]
  },
  {
   "cell_type": "code",
   "execution_count": null,
   "id": "968ad3bf-8a57-4d35-8ee9-8018ca5fe519",
   "metadata": {},
   "outputs": [],
   "source": [
    "#23.Write a Python program to find the LCM (Least Common Multiple) of two numbers using a for loop.\n"
   ]
  },
  {
   "cell_type": "code",
   "execution_count": null,
   "id": "507cdac6-9d87-4a15-a0e9-2256d8bc3d9b",
   "metadata": {},
   "outputs": [],
   "source": []
  }
 ],
 "metadata": {
  "kernelspec": {
   "display_name": "Python 3 (ipykernel)",
   "language": "python",
   "name": "python3"
  },
  "language_info": {
   "codemirror_mode": {
    "name": "ipython",
    "version": 3
   },
   "file_extension": ".py",
   "mimetype": "text/x-python",
   "name": "python",
   "nbconvert_exporter": "python",
   "pygments_lexer": "ipython3",
   "version": "3.10.8"
  }
 },
 "nbformat": 4,
 "nbformat_minor": 5
}
