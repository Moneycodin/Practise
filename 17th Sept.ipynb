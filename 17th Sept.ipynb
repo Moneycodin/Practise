{
 "cells": [
  {
   "cell_type": "markdown",
   "id": "6b24f1cf-8867-47e9-9504-9a65f53b99e7",
   "metadata": {},
   "source": [
    "#FOR LOOP PROBLEMS"
   ]
  },
  {
   "cell_type": "code",
   "execution_count": null,
   "id": "7cc5f3bc-d52a-4d64-8d71-26521056ee9b",
   "metadata": {},
   "outputs": [
    {
     "name": "stdout",
     "output_type": "stream",
     "text": [
      "1\n",
      "2\n",
      "3\n",
      "4\n",
      "5\n",
      "6\n",
      "7\n",
      "8\n",
      "9\n",
      "10\n"
     ]
    }
   ],
   "source": [
    "#1. Write a Python program to print numbers from 1 to 10 using a for loop.\n",
    "for i in range(1,11,1):\n",
    "    print(i)"
   ]
  },
  {
   "cell_type": "code",
   "execution_count": null,
   "id": "5ecf100f-6815-4560-a465-0806ecbf13e7",
   "metadata": {},
   "outputs": [],
   "source": [
    "###2.Explain the difference between a for loop and a while loop in Python.\n",
    "for loop is used where the sequences are iterated where we already the know the number of times iteartion are to be done, however the while loop works, when we dont know number of iterations in thebeginning but we follow the repetition on set of instructions untill the condition evaluated in true. "
   ]
  },
  {
   "cell_type": "code",
   "execution_count": 2,
   "id": "3fc6f746-e9fe-4a14-9eac-7c68bd8e1dfe",
   "metadata": {},
   "outputs": [
    {
     "name": "stdout",
     "output_type": "stream",
     "text": [
      "sum of all numbers from 1 to 100 is: 5050\n"
     ]
    }
   ],
   "source": [
    "#3.Write a Python program to calculate the sum of all numbers from 1 to 100 using a for loop.\n",
    "sum=0\n",
    "for i in range(1,101,1):\n",
    "    sum+=i\n",
    "print(\"sum of all numbers from 1 to 100 is:\",sum)\n",
    "    "
   ]
  },
  {
   "cell_type": "code",
   "execution_count": null,
   "id": "82a661c5-3f09-48dc-b819-a9805af9c69a",
   "metadata": {},
   "outputs": [],
   "source": [
    "#4.How do you iterate through a list using a for loop in Python\n",
    "#There are many ways where we can iterate through list using a for loop Python. It is one of the six fundamental types in the programming language.List can be used to store multiple elements. We can iterate through a lift using for loop, range function, list comprehension, enumerate function,  lambda function, while lop and a numpy array."
   ]
  },
  {
   "cell_type": "code",
   "execution_count": 1,
   "id": "4c9ee353-9ff0-4925-a576-bd3cd6de7c68",
   "metadata": {},
   "outputs": [
    {
     "name": "stdout",
     "output_type": "stream",
     "text": [
      "the final product is: 270\n"
     ]
    }
   ],
   "source": [
    "#5.Write a Python program to find the product of all elements in a list using a for loop.\n",
    "list1=[1,2,3,45]\n",
    "prod=1\n",
    "for i in list1:\n",
    "    prod*=i\n",
    "print(\"the final product is:\", prod)\n",
    "    "
   ]
  },
  {
   "cell_type": "code",
   "execution_count": 3,
   "id": "98cc715b-29f8-4c21-a119-a6bf2393a453",
   "metadata": {},
   "outputs": [
    {
     "name": "stdout",
     "output_type": "stream",
     "text": [
      "2\n",
      "4\n",
      "6\n",
      "8\n",
      "10\n",
      "12\n",
      "14\n",
      "16\n",
      "18\n",
      "20\n"
     ]
    }
   ],
   "source": [
    "#6.Create a Python program that prints all even numbers from 1 to 20 using a for loop.\n",
    "for i in range(2,21,2):\n",
    "    print(i)"
   ]
  },
  {
   "cell_type": "code",
   "execution_count": 5,
   "id": "b812b9e0-92e6-4c35-9b5e-4e9d42a7a766",
   "metadata": {},
   "outputs": [
    {
     "name": "stdout",
     "output_type": "stream",
     "text": [
      "120\n"
     ]
    }
   ],
   "source": [
    "#7.Write a Python program that calculates the factorial of a number using a for loop.\n",
    "number=5\n",
    "fact=1\n",
    "for i in range(1,number+1):\n",
    "    fact*=i\n",
    "print(fact)"
   ]
  },
  {
   "cell_type": "code",
   "execution_count": 18,
   "id": "878dca3a-fc38-4898-9e9c-74791f3cb5ce",
   "metadata": {},
   "outputs": [
    {
     "name": "stdout",
     "output_type": "stream",
     "text": [
      "m\n",
      "a\n",
      "n\n",
      "m\n",
      "e\n",
      "e\n",
      "t\n"
     ]
    }
   ],
   "source": [
    "#8.How can you iterate through the characters of a string using a for loop in Python?\n",
    "#we can iterate through the characters of a string using for loop by accessing each character in the loop. For example:\n",
    "string1=\"manmeet\"\n",
    "for i in range(len(string1)):\n",
    "    print(string1[i])"
   ]
  },
  {
   "cell_type": "code",
   "execution_count": 1,
   "id": "6cf78934-b433-47a2-8e8c-b8a585d6257f",
   "metadata": {},
   "outputs": [
    {
     "name": "stdout",
     "output_type": "stream",
     "text": [
      "maximum number in list is: 7\n"
     ]
    }
   ],
   "source": [
    "#9.Write a Python program to find the largest number in a list using a for loop.\n",
    "list1=[2,5,3,6,7,1]\n",
    "for i in list1:\n",
    "    max(list1)\n",
    "print(\"maximum number in list is:\", max(list1))"
   ]
  },
  {
   "cell_type": "code",
   "execution_count": 4,
   "id": "26d7baf5-e23b-40cf-b131-7edd852e5e23",
   "metadata": {},
   "outputs": [
    {
     "name": "stdin",
     "output_type": "stream",
     "text": [
      "print enter the limit 9\n"
     ]
    },
    {
     "name": "stdout",
     "output_type": "stream",
     "text": [
      "0 1 1 2 3 5 8 13 21 "
     ]
    }
   ],
   "source": [
    "#10.Create a Python program that prints the Fibonacci sequence up to a specified limit using a for loop.\n",
    "limit=int(input(\"print enter the limit\"))\n",
    "f=0\n",
    "s=1\n",
    "if limit<=0:\n",
    "          print(\"the fibonacci sequence is:\", f)\n",
    "else:\n",
    "          print(f,s,end=\" \")\n",
    "          for i in range(2,limit):\n",
    "              next=f+s\n",
    "              print(next,end=\" \")\n",
    "              f=s\n",
    "              s=next\n"
   ]
  },
  {
   "cell_type": "code",
   "execution_count": 6,
   "id": "ba016ce1-e5a6-436b-92f7-b35dcfd3417e",
   "metadata": {},
   "outputs": [
    {
     "name": "stdout",
     "output_type": "stream",
     "text": [
      "the number of vowels in string1 are: 6\n"
     ]
    }
   ],
   "source": [
    "#11.Write a Python program to count the number of vowels in a given string using a for loop.\n",
    "string1=\"my name is manmeet\"\n",
    "vowels=\"aeiouAEIOU\"\n",
    "count=sum(string1.count(i) for i in vowels)\n",
    "print(\"the number of vowels in string1 are:\",count)"
   ]
  },
  {
   "cell_type": "code",
   "execution_count": 8,
   "id": "0a001eb6-66b4-4e85-941a-4ff59302295a",
   "metadata": {},
   "outputs": [
    {
     "name": "stdin",
     "output_type": "stream",
     "text": [
      "input the number for which multiplication table needed 5\n"
     ]
    },
    {
     "name": "stdout",
     "output_type": "stream",
     "text": [
      "table of 5 is 5\n",
      "table of 5 is 10\n",
      "table of 5 is 15\n",
      "table of 5 is 20\n",
      "table of 5 is 25\n",
      "table of 5 is 30\n",
      "table of 5 is 35\n",
      "table of 5 is 40\n",
      "table of 5 is 45\n",
      "table of 5 is 50\n"
     ]
    }
   ],
   "source": [
    "#12.Create a Python program that generates a multiplication table for a given number using a for loop.\n",
    "n=int(input(\"input the number for which multiplication table needed\"))\n",
    "for i in range(1,11,1):\n",
    "      print(\"table of\",n,\"is\",n*i)"
   ]
  },
  {
   "cell_type": "code",
   "execution_count": 4,
   "id": "bf6f0d60-53a0-4d52-b9ab-9461ab5dd6bd",
   "metadata": {},
   "outputs": [
    {
     "name": "stdout",
     "output_type": "stream",
     "text": [
      "old list: [4, 6, 7, 8, 9]\n",
      "reversed list: [9, 8, 7, 6, 4]\n"
     ]
    }
   ],
   "source": [
    "#13.Write a Python program to reverse a list using a for loop.\n",
    "list1=[4,6,7,8,9]\n",
    "reversed_list=[]\n",
    "for i in range(len(list1)-1,-1,-1):\n",
    "    reversed_list.append(list1[i])\n",
    "print(\"old list:\",list1)\n",
    "print(\"reversed list:\",reversed_list)\n",
    "\n",
    "\n",
    "    "
   ]
  },
  {
   "cell_type": "code",
   "execution_count": 5,
   "id": "8801b4e6-d6f3-4d8a-ac9f-005929d7c644",
   "metadata": {},
   "outputs": [
    {
     "name": "stdout",
     "output_type": "stream",
     "text": [
      "common elements in two list are: [1]\n"
     ]
    }
   ],
   "source": [
    "#14.Write a Python program to find the common elements between two lists using a for loop.\n",
    "list1=[1,33,453,23424,35,34]\n",
    "list2=[432,454,1,32,3]\n",
    "common_element=[]\n",
    "for i in list1:\n",
    "    if i in list2:\n",
    "        common_element.append(i)\n",
    "print(\"common elements in two list are:\", common_element)\n"
   ]
  },
  {
   "cell_type": "code",
   "execution_count": null,
   "id": "d3c65dda-3b1e-44a5-a85f-064d19460375",
   "metadata": {},
   "outputs": [],
   "source": [
    "#15.Explain how to use a for loop to iterate through the keys and values of a dictionary in Python.\n",
    "we can iterate the for loop through keys and values of a dictionary in Python using items() method.  The items() method returns a view\n",
    "object that displays a list of a dictionary's key-value tuple pairs"
   ]
  },
  {
   "cell_type": "code",
   "execution_count": 2,
   "id": "5a239c76-3d2b-4c58-806c-264a2c75b548",
   "metadata": {},
   "outputs": [
    {
     "name": "stdout",
     "output_type": "stream",
     "text": [
      "the gcd result of 10 and 15 is 5\n"
     ]
    }
   ],
   "source": [
    "#16.Write a Python program to find the GCD (Greatest Common Divisor) of two numbers using a for loop.\n",
    "a=10\n",
    "b=15\n",
    "smaller=min(a,b)\n",
    "gcd_result=1\n",
    "for i in range(1,smaller+1):\n",
    "    if a%i==0 and b%i==0:\n",
    "        gcd_result=i\n",
    "print(\"the gcd result of\", a,\"and\", b, \"is\", gcd_result)"
   ]
  },
  {
   "cell_type": "code",
   "execution_count": 9,
   "id": "049d2047-842e-4080-9b58-2fa278167141",
   "metadata": {},
   "outputs": [
    {
     "name": "stdout",
     "output_type": "stream",
     "text": [
      "it is not a palindrome\n",
      "it is not a palindrome\n",
      "it is not a palindrome\n",
      "it is not a palindrome\n",
      "it is not a palindrome\n",
      "it is not a palindrome\n",
      "it is palindrome\n"
     ]
    }
   ],
   "source": [
    "#17.Create a Python program that checks if a string is a palindrome using a for loop.\n",
    "string1=\"manmeet\"\n",
    "length=len(string1)\n",
    "for i in range(length):\n",
    "    if string1[i]==string1[length-1]:\n",
    "        print(\"it is palindrome\")\n",
    "    else:\n",
    "        print(\"it is not a palindrome\")\n",
    "    "
   ]
  },
  {
   "cell_type": "code",
   "execution_count": 12,
   "id": "a10096c3-3a34-4c4a-a029-874eac6c4cf3",
   "metadata": {},
   "outputs": [
    {
     "name": "stdout",
     "output_type": "stream",
     "text": [
      "list without duplicate: [1, 2, 3, 4, 5]\n"
     ]
    }
   ],
   "source": [
    "#18.Write a Python program to remove duplicates from a list using a for loop.\n",
    "input_list=[1,2,3,4,5,3,2,4]\n",
    "unique_set=set()\n",
    "unique_list=[]\n",
    "for i in input_list:\n",
    "    if i not in unique_set:\n",
    "        unique_set.add(i)\n",
    "        unique_list.append(i)\n",
    "print(\"list without duplicate:\", unique_list)"
   ]
  },
  {
   "cell_type": "code",
   "execution_count": 15,
   "id": "769b4128-63c5-4a9a-ad02-86fbe53058ef",
   "metadata": {},
   "outputs": [
    {
     "name": "stdout",
     "output_type": "stream",
     "text": [
      "total number of words in sentence is: 4\n"
     ]
    }
   ],
   "source": [
    "#19.Create a Python program that counts the number of words in a sentence using a for loop.\n",
    "sentence=\"my name is manmeet\"\n",
    "counter=0\n",
    "for i in range(len(sentence)):\n",
    "    if sentence[i]==\" \":\n",
    "        counter+=1\n",
    "print(\"total number of words in sentence is:\", counter+1)"
   ]
  },
  {
   "cell_type": "code",
   "execution_count": 16,
   "id": "b80c1aee-becb-4ddb-8a32-09cfce98d583",
   "metadata": {},
   "outputs": [
    {
     "name": "stdout",
     "output_type": "stream",
     "text": [
      "the sum of odd numbers is: 625\n"
     ]
    }
   ],
   "source": [
    "#20.Write a Python program to find the sum of all odd numbers from 1 to 50 using a for loop.\n",
    "sum=0\n",
    "for i in range(1,50,2):\n",
    "    sum+=i\n",
    "print(\"the sum of odd numbers is:\", sum)\n",
    "      "
   ]
  },
  {
   "cell_type": "code",
   "execution_count": 22,
   "id": "0c91a381-c385-463b-bdd9-ecd00f44fc38",
   "metadata": {},
   "outputs": [
    {
     "name": "stdin",
     "output_type": "stream",
     "text": [
      "Enter a year:  1987\n"
     ]
    },
    {
     "name": "stdout",
     "output_type": "stream",
     "text": [
      "1987 is not a leap year.\n"
     ]
    }
   ],
   "source": [
    "#21.Write a Python program that checks if a given year is a leap year using a for loop.\n",
    "def is_leap_year(year):\n",
    "    # Check if the year is divisible by 4 and not divisible by 100, or if it is divisible by 400\n",
    "    return (year % 4 == 0 and year % 100 != 0) or (year % 400 == 0)\n",
    "\n",
    "# Example usage\n",
    "user_year = int(input(\"Enter a year: \"))\n",
    "\n",
    "leap_year = False\n",
    "\n",
    "# Check if the input year is a leap year using a for loop\n",
    "for year in range(user_year, user_year + 1):\n",
    "    if is_leap_year(year):\n",
    "        leap_year = True\n",
    "        break\n",
    "\n",
    "if leap_year:\n",
    "    print(f\"{user_year} is a leap year.\")\n",
    "else:\n",
    "    print(f\"{user_year} is not a leap year.\")\n",
    "        "
   ]
  },
  {
   "cell_type": "code",
   "execution_count": 23,
   "id": "defd6bf8-9b2e-413f-a55d-d364ae6f059a",
   "metadata": {},
   "outputs": [
    {
     "name": "stdout",
     "output_type": "stream",
     "text": [
      "Original values:\n",
      " [12, 33, 16, 25, 121]\n",
      "Their squareroots:\n",
      " [3.4641016151377544, 5.744562646538029, 4.0, 5.0, 11.0]\n"
     ]
    }
   ],
   "source": [
    "#22.Create a Python program that calculates the square root of a number using a for loop.\n",
    "import math\n",
    "values=[12,33,16,25,121]\n",
    "squareroots=[math.sqrt(i) for i in values]\n",
    "print(\"Original values:\\n\", values)\n",
    "print(\"Their squareroots:\\n\", squareroots)"
   ]
  },
  {
   "cell_type": "code",
   "execution_count": 24,
   "id": "968ad3bf-8a57-4d35-8ee9-8018ca5fe519",
   "metadata": {},
   "outputs": [
    {
     "name": "stdout",
     "output_type": "stream",
     "text": [
      "LCM of 20 and 25 is: 100.0\n"
     ]
    }
   ],
   "source": [
    "#23.Write a Python program to find the LCM (Least Common Multiple) of two numbers using a for loop.\n",
    "x = 20\n",
    "y = 25\n",
    "if x > y:\n",
    "  x, y = y, x\n",
    "for i in range(1,x+1):\n",
    "  if x%i == 0 and y%i == 0:\n",
    "    gcd = i\n",
    "\n",
    "lcm = (x*y)/gcd\n",
    "\n",
    "print(\"LCM of\", x, \"and\", y, \"is:\", lcm)\n",
    "        "
   ]
  },
  {
   "cell_type": "code",
   "execution_count": 29,
   "id": "507cdac6-9d87-4a15-a0e9-2256d8bc3d9b",
   "metadata": {},
   "outputs": [
    {
     "name": "stdin",
     "output_type": "stream",
     "text": [
      "enter the number 5\n"
     ]
    },
    {
     "name": "stdout",
     "output_type": "stream",
     "text": [
      "number is positive\n"
     ]
    }
   ],
   "source": [
    "#If else :\n",
    "#1.Write a Python program to check if a number is positive, negative, or zero using an if-else statement.\n",
    "number=int(input(\"enter the number\"))\n",
    "if number<0:\n",
    "           print(\"number is negative\")\n",
    "elif number==0:\n",
    "           print(\"number is zero\")\n",
    "else:\n",
    "           print(\"number is positive\")"
   ]
  },
  {
   "cell_type": "code",
   "execution_count": 31,
   "id": "6190861e-fc09-4973-a1e1-7dd09a47ea17",
   "metadata": {},
   "outputs": [
    {
     "name": "stdin",
     "output_type": "stream",
     "text": [
      "enter the number 5\n"
     ]
    },
    {
     "name": "stdout",
     "output_type": "stream",
     "text": [
      "the number is odd\n"
     ]
    }
   ],
   "source": [
    "#2.Create a Python program that checks if a given number is even or odd using an if-else statement.\n",
    "number=int(input(\"enter the number\"))\n",
    "if number%2==0:\n",
    "    print(\"the number is even\")\n",
    "else:\n",
    "    print(\"the number is odd\")"
   ]
  },
  {
   "cell_type": "code",
   "execution_count": null,
   "id": "c5da2be8-2b15-4092-a5b4-db046b8f37d4",
   "metadata": {},
   "outputs": [],
   "source": [
    "#3.How can you use nested if-else statements in Python, and provide an example?\n",
    "There are two main ways to make a nested if statement. The first option is to put the if statement inside an if code block. \n",
    "The other option is to place the if statement in the else code of an if/else statement. \n",
    "Python evaluates this nested if statement when the condition of the preceding if statement is True ."
   ]
  },
  {
   "cell_type": "code",
   "execution_count": 32,
   "id": "5170d683-c982-47cb-a922-fab1c09f6efd",
   "metadata": {},
   "outputs": [
    {
     "name": "stdout",
     "output_type": "stream",
     "text": [
      "The largest number is 14\n"
     ]
    }
   ],
   "source": [
    "#4.Write a Python program to determine the largest of three numbers using if-else.\n",
    "num1 = 10\n",
    "num2 = 14\n",
    "num3 = 12\n",
    "\n",
    "if (num1 >= num2) and (num1 >= num3):\n",
    "   largest = num1\n",
    "elif (num2 >= num1) and (num2 >= num3):\n",
    "   largest = num2\n",
    "else:\n",
    "   largest = num3\n",
    "\n",
    "print(\"The largest number is\", largest)"
   ]
  },
  {
   "cell_type": "code",
   "execution_count": 35,
   "id": "00cdd53b-8aea-4fe6-b08f-b68fa3aed72d",
   "metadata": {},
   "outputs": [
    {
     "name": "stdin",
     "output_type": "stream",
     "text": [
      "Enter number to find absolute value:  -7\n"
     ]
    },
    {
     "name": "stdout",
     "output_type": "stream",
     "text": [
      "The absolute value is: 7.0\n"
     ]
    }
   ],
   "source": [
    "#5.Write a Python program that calculates the absolute value of a number using if-else.\n",
    "num=float(input(\"Enter number to find absolute value: \"))\n",
    "\n",
    "if num<=0:\n",
    "    new_num=num*-1\n",
    "    print(\"The absolute value is: \"+str(new_num))\n",
    "\n",
    "else:\n",
    "    print(\"The absolute value is: \" +str(num))"
   ]
  },
  {
   "cell_type": "code",
   "execution_count": 36,
   "id": "1b055b4d-ce93-45b7-8d44-fa251e5c86da",
   "metadata": {},
   "outputs": [
    {
     "name": "stdin",
     "output_type": "stream",
     "text": [
      "Enter a character:  f\n"
     ]
    },
    {
     "name": "stdout",
     "output_type": "stream",
     "text": [
      "f is a Consonant\n"
     ]
    }
   ],
   "source": [
    "#6.Create a Python program that checks if a given character is a vowel or consonant using if-else.\n",
    "ch = input(\"Enter a character: \")\n",
    "\n",
    "if(ch=='A' or ch=='a' or ch=='E' or ch =='e' or ch=='I'\n",
    " or ch=='i' or ch=='O' or ch=='o' or ch=='U' or ch=='u'):\n",
    "    print(ch, \"is a Vowel\")\n",
    "else:\n",
    "    print(ch, \"is a Consonant\")\n"
   ]
  },
  {
   "cell_type": "code",
   "execution_count": 37,
   "id": "029dd156-7216-4fdc-b553-84db1c40623d",
   "metadata": {},
   "outputs": [
    {
     "name": "stdin",
     "output_type": "stream",
     "text": [
      "Enter age :  45\n"
     ]
    },
    {
     "name": "stdout",
     "output_type": "stream",
     "text": [
      "Eligible for Voting!\n"
     ]
    }
   ],
   "source": [
    "#7.Write a Python program to determine if a user is eligible to vote based on their age using if-else.\n",
    "age = int(input(\"Enter age : \"))\n",
    "\n",
    "if age >= 18:\n",
    "    print(\"Eligible for Voting!\")\n",
    "else:\n",
    "    print(\"Not Eligible for Voting!\")"
   ]
  },
  {
   "cell_type": "code",
   "execution_count": 38,
   "id": "a67243b0-841b-4a5c-9aee-e232e406c4fa",
   "metadata": {},
   "outputs": [
    {
     "name": "stdin",
     "output_type": "stream",
     "text": [
      "Enter Sale Amount:  4500\n"
     ]
    },
    {
     "name": "stdout",
     "output_type": "stream",
     "text": [
      "Discount :  225.0\n",
      "Net Pay  :  4275.0\n"
     ]
    }
   ],
   "source": [
    "#8.Create a Python program that calculates the discount amount based on the purchase amount using if-else.\n",
    "# input sale amount \n",
    "amt = int(input(\"Enter Sale Amount: \"))\n",
    "\n",
    "# conditions to check amount and get discount\n",
    "if(amt>0):\n",
    "    if amt<=5000:\n",
    "       disc = amt*0.05\n",
    "    else:\n",
    "        if amt<=15000:\n",
    "            disc=amt*0.12\n",
    "        else:\n",
    "            if amt<=25000:\n",
    "                disc=0.2 * amt\n",
    "            else:\n",
    "                disc=0.3 * amt\n",
    "    \n",
    "    # printing discount and net payable amount \n",
    "    print(\"Discount : \",disc)\n",
    "    print(\"Net Pay  : \",amt-disc)\n",
    "else:\n",
    "    print(\"Invalid Amount\")"
   ]
  },
  {
   "cell_type": "code",
   "execution_count": 40,
   "id": "6ee4ceaa-2017-42e9-99ca-d3a447a9cf37",
   "metadata": {},
   "outputs": [
    {
     "name": "stdin",
     "output_type": "stream",
     "text": [
      "enter the number to be checked 67\n"
     ]
    },
    {
     "name": "stdout",
     "output_type": "stream",
     "text": [
      "The number is not in range.\n"
     ]
    }
   ],
   "source": [
    "#9.Write a Python program to check if a number is within a specified range using if-else.\n",
    "number=int(input(\"enter the number to be checked\"))\n",
    "if 1 <= number <= 50:\n",
    "    print(\"The number is in the range.\")\n",
    "else:\n",
    "    print(\"The number is not in range.\")"
   ]
  },
  {
   "cell_type": "code",
   "execution_count": 42,
   "id": "092304a6-2ece-4646-94c1-bd9bb127eae2",
   "metadata": {},
   "outputs": [
    {
     "name": "stdin",
     "output_type": "stream",
     "text": [
      "enter the score of student 67\n"
     ]
    },
    {
     "name": "stdout",
     "output_type": "stream",
     "text": [
      "The grade is D\n"
     ]
    }
   ],
   "source": [
    "#10.Create a Python program that determines the grade of a student based on their score using if-else.\n",
    "score=int(input(\"enter the score of student\"))\n",
    "if score>=90:\n",
    "          print(\"The grade is A\")\n",
    "elif 80<score<=90:\n",
    "          print(\"The grade is B\")\n",
    "elif 70<score<=80:\n",
    "          print(\"The grade is C\")\n",
    "elif 60<score<=70:\n",
    "          print(\"The grade is D\")\n",
    "elif 50<score<=60:\n",
    "          print(\"The grade is E\")\n",
    "else:\n",
    "          print(\"Grade is F\")"
   ]
  },
  {
   "cell_type": "code",
   "execution_count": 43,
   "id": "43e78187-a055-493f-8c90-6d7947e93990",
   "metadata": {},
   "outputs": [
    {
     "name": "stdin",
     "output_type": "stream",
     "text": [
      "Enter a string:  my name\n"
     ]
    },
    {
     "name": "stdout",
     "output_type": "stream",
     "text": [
      "The string is not empty.\n"
     ]
    }
   ],
   "source": [
    "#11.Write a Python program to check if a string is empty or not using if-else.\n",
    "def is_string_empty(input_string):\n",
    "    if len(input_string) == 0:\n",
    "        return True\n",
    "    else:\n",
    "        return False\n",
    "\n",
    "# Get user input\n",
    "user_input = input(\"Enter a string: \")\n",
    "\n",
    "# Check if the string is empty\n",
    "if is_string_empty(user_input):\n",
    "    print(\"The string is empty.\")\n",
    "else:\n",
    "    print(\"The string is not empty.\")"
   ]
  },
  {
   "cell_type": "code",
   "execution_count": 44,
   "id": "c61a0eae-832e-44c0-ac55-09d8514618e5",
   "metadata": {},
   "outputs": [
    {
     "name": "stdin",
     "output_type": "stream",
     "text": [
      "Enter the length of side a:  3\n",
      "Enter the length of side b:  4\n",
      "Enter the length of side c:  3\n"
     ]
    },
    {
     "name": "stdout",
     "output_type": "stream",
     "text": [
      "The triangle is Isosceles.\n"
     ]
    }
   ],
   "source": [
    "#12.Create a Python program that identifies the type of a triangle (e.g., equilateral, isosceles, or scalene) based on input values using if-else.\n",
    "def identify_triangle_type(a, b, c):\n",
    "    if a == b == c:\n",
    "        return \"Equilateral\"\n",
    "    elif a == b or a == c or b == c:\n",
    "        return \"Isosceles\"\n",
    "    else:\n",
    "        return \"Scalene\"\n",
    "\n",
    "# Get input from the user\n",
    "a = float(input(\"Enter the length of side a: \"))\n",
    "b = float(input(\"Enter the length of side b: \"))\n",
    "c = float(input(\"Enter the length of side c: \"))\n",
    "\n",
    "# Identify the type of triangle\n",
    "triangle_type = identify_triangle_type(a, b, c)\n",
    "\n",
    "# Display the result\n",
    "print(f\"The triangle is {triangle_type}.\")"
   ]
  },
  {
   "cell_type": "code",
   "execution_count": 45,
   "id": "9cf3e947-2290-4ad7-8f25-51ed0125194d",
   "metadata": {},
   "outputs": [
    {
     "name": "stdin",
     "output_type": "stream",
     "text": [
      "Enter a number (1-7) to determine the day of the week:  5\n"
     ]
    },
    {
     "name": "stdout",
     "output_type": "stream",
     "text": [
      "The day of the week is Thursday.\n"
     ]
    }
   ],
   "source": [
    "#13.Write a Python program to determine the day of the week based on a user-provided number using if-else.\n",
    "def determine_day_of_week(day_number):\n",
    "    if day_number == 1:\n",
    "        return \"Sunday\"\n",
    "    elif day_number == 2:\n",
    "        return \"Monday\"\n",
    "    elif day_number == 3:\n",
    "        return \"Tuesday\"\n",
    "    elif day_number == 4:\n",
    "        return \"Wednesday\"\n",
    "    elif day_number == 5:\n",
    "        return \"Thursday\"\n",
    "    elif day_number == 6:\n",
    "        return \"Friday\"\n",
    "    elif day_number == 7:\n",
    "        return \"Saturday\"\n",
    "    else:\n",
    "        return \"Invalid day number\"\n",
    "\n",
    "# Get input from the user\n",
    "day_number = int(input(\"Enter a number (1-7) to determine the day of the week: \"))\n",
    "\n",
    "# Determine the day of the week\n",
    "day_of_week = determine_day_of_week(day_number)\n",
    "\n",
    "# Display the result\n",
    "print(f\"The day of the week is {day_of_week}.\")"
   ]
  },
  {
   "cell_type": "code",
   "execution_count": 46,
   "id": "7d8a3d27-83df-421b-8960-57a35ad87bed",
   "metadata": {},
   "outputs": [
    {
     "name": "stdin",
     "output_type": "stream",
     "text": [
      "Enter a year to check if it's a leap year:  1998\n"
     ]
    },
    {
     "name": "stdout",
     "output_type": "stream",
     "text": [
      "1998 is not a leap year.\n"
     ]
    }
   ],
   "source": [
    "#14.Create a Python program that checks if a given year is a leap year using both if-else and a function.\n",
    "def is_leap_year(year):\n",
    "    \"\"\"\n",
    "    Check if a year is a leap year.\n",
    "\n",
    "    Parameters:\n",
    "        year (int): The year to be checked.\n",
    "\n",
    "    Returns:\n",
    "        bool: True if the year is a leap year, False otherwise.\n",
    "    \"\"\"\n",
    "    if (year % 4 == 0 and year % 100 != 0) or (year % 400 == 0):\n",
    "        return True\n",
    "    else:\n",
    "        return False\n",
    "\n",
    "# Get user input\n",
    "year = int(input(\"Enter a year to check if it's a leap year: \"))\n",
    "\n",
    "# Check if it's a leap year\n",
    "if is_leap_year(year):\n",
    "    print(f\"{year} is a leap year.\")\n",
    "else:\n",
    "    print(f\"{year} is not a leap year.\")"
   ]
  },
  {
   "cell_type": "code",
   "execution_count": null,
   "id": "98483e84-075b-46c7-b000-c08267627022",
   "metadata": {},
   "outputs": [],
   "source": [
    "#15.How do you use the \"assert\" statement in Python to add debugging checks within if-else blocks?\n",
    "The assert statement in Python is primarily used for debugging and testing. It allows you to place assertion checks within your code to ensure that certain conditions are met. If the condition is false, an AssertionError is raised, halting the program and providing information\n",
    "about the failed assertion."
   ]
  },
  {
   "cell_type": "code",
   "execution_count": 47,
   "id": "e10bb5c3-1c8c-448f-8a87-17982fe2449d",
   "metadata": {},
   "outputs": [
    {
     "name": "stdin",
     "output_type": "stream",
     "text": [
      "Enter your age:  56\n"
     ]
    },
    {
     "name": "stdout",
     "output_type": "stream",
     "text": [
      "You are not eligible for a senior citizen discount.\n"
     ]
    }
   ],
   "source": [
    "#16.Create a Python program that determines the eligibility of a person for a senior citizen discount based on age using if-else.\n",
    "def check_eligibility(age):\n",
    "    if age >= 60:\n",
    "        return \"You are eligible for a senior citizen discount.\"\n",
    "    else:\n",
    "        return \"You are not eligible for a senior citizen discount.\"\n",
    "\n",
    "# Get user input\n",
    "age = int(input(\"Enter your age: \"))\n",
    "\n",
    "# Check eligibility for a senior citizen discount\n",
    "eligibility_message = check_eligibility(age)\n",
    "\n",
    "# Display the result\n",
    "print(eligibility_message)"
   ]
  },
  {
   "cell_type": "code",
   "execution_count": 48,
   "id": "f7d30fd5-a57a-4b47-b67f-05aebb6cb8bb",
   "metadata": {},
   "outputs": [
    {
     "name": "stdin",
     "output_type": "stream",
     "text": [
      "Enter a character:  h\n"
     ]
    },
    {
     "name": "stdout",
     "output_type": "stream",
     "text": [
      "The character 'h' is lowercase.\n"
     ]
    }
   ],
   "source": [
    "#17.Write a Python program to categorize a given character as uppercase, lowercase, or neither using if-else.\n",
    "def categorize_character(char):\n",
    "    if char.isupper():\n",
    "        return f\"The character '{char}' is uppercase.\"\n",
    "    elif char.islower():\n",
    "        return f\"The character '{char}' is lowercase.\"\n",
    "    else:\n",
    "        return f\"The character '{char}' is neither uppercase nor lowercase.\"\n",
    "\n",
    "# Get user input\n",
    "character = input(\"Enter a character: \")\n",
    "\n",
    "# Check the category of the character\n",
    "category_message = categorize_character(character)\n",
    "\n",
    "# Display the result\n",
    "print(category_message)"
   ]
  },
  {
   "cell_type": "code",
   "execution_count": 49,
   "id": "21772f54-2217-42cc-8a09-e0d303f5909e",
   "metadata": {},
   "outputs": [
    {
     "name": "stdin",
     "output_type": "stream",
     "text": [
      "Enter coefficient a:  4\n",
      "Enter coefficient b:  5\n",
      "Enter coefficient c:  6\n"
     ]
    },
    {
     "name": "stdout",
     "output_type": "stream",
     "text": [
      "Roots of the quadratic equation:\n",
      "No real roots\n"
     ]
    }
   ],
   "source": [
    "#18.Write a Python program to determine the roots of a quadratic equation using if-else.\n",
    "import math\n",
    "\n",
    "def calculate_quadratic_roots(a, b, c):\n",
    "    discriminant = b**2 - 4*a*c\n",
    "\n",
    "    if discriminant > 0:\n",
    "        root1 = (-b + math.sqrt(discriminant)) / (2*a)\n",
    "        root2 = (-b - math.sqrt(discriminant)) / (2*a)\n",
    "        return (root1, root2)\n",
    "    elif discriminant == 0:\n",
    "        root = -b / (2*a)\n",
    "        return (root,)\n",
    "    else:\n",
    "        return (\"No real roots\",)\n",
    "\n",
    "# Get user input for coefficients\n",
    "a = float(input(\"Enter coefficient a: \"))\n",
    "b = float(input(\"Enter coefficient b: \"))\n",
    "c = float(input(\"Enter coefficient c: \"))\n",
    "\n",
    "# Calculate the roots of the quadratic equation\n",
    "roots = calculate_quadratic_roots(a, b, c)\n",
    "\n",
    "# Display the result\n",
    "print(\"Roots of the quadratic equation:\")\n",
    "for root in roots:\n",
    "    print(root)"
   ]
  },
  {
   "cell_type": "code",
   "execution_count": 50,
   "id": "029357b5-1b02-4934-b355-a2b40a457083",
   "metadata": {},
   "outputs": [
    {
     "name": "stdin",
     "output_type": "stream",
     "text": [
      "Enter a year to check if it's a century year:  2000\n"
     ]
    },
    {
     "name": "stdout",
     "output_type": "stream",
     "text": [
      "2000 is a century year.\n"
     ]
    }
   ],
   "source": [
    "#19.Create a Python program that checks if a given year is a century year or not using if-else.\n",
    "def is_century_year(year):\n",
    "    return year % 100 == 0\n",
    "\n",
    "# Get user input\n",
    "year = int(input(\"Enter a year to check if it's a century year: \"))\n",
    "\n",
    "# Check if it's a century year\n",
    "if is_century_year(year):\n",
    "    print(f\"{year} is a century year.\")\n",
    "else:\n",
    "    print(f\"{year} is not a century year.\")"
   ]
  },
  {
   "cell_type": "code",
   "execution_count": 51,
   "id": "cbecf0b0-dbe1-43dc-bcb0-449efd4a7076",
   "metadata": {},
   "outputs": [
    {
     "name": "stdin",
     "output_type": "stream",
     "text": [
      "Enter a number to check if it's a perfect square:  36\n"
     ]
    },
    {
     "name": "stdout",
     "output_type": "stream",
     "text": [
      "36 is a perfect square.\n"
     ]
    }
   ],
   "source": [
    "#20.Write a Python program to determine if a given number is a perfect square using if-else.\n",
    "import math\n",
    "\n",
    "def is_perfect_square(number):\n",
    "    if number < 0:\n",
    "        return False\n",
    "\n",
    "    square_root = math.isqrt(number)  # Integer square root\n",
    "    return square_root * square_root == number\n",
    "\n",
    "# Get user input\n",
    "number = int(input(\"Enter a number to check if it's a perfect square: \"))\n",
    "\n",
    "# Check if it's a perfect square\n",
    "if is_perfect_square(number):\n",
    "    print(f\"{number} is a perfect square.\")\n",
    "else:\n",
    "    print(f\"{number} is not a perfect square.\")"
   ]
  },
  {
   "cell_type": "code",
   "execution_count": null,
   "id": "35d8bb46-0c73-4b77-aae1-e209ee2e829d",
   "metadata": {},
   "outputs": [],
   "source": [
    "#21.Explain the purpose of the \"continue\" and \"break\" statements within if-else loops.\n",
    "continue is used to skip the rest of the current iteration and move to the next iteration of the loop.\n",
    "break is used to exit the loop prematurely and move to the next statement after the loop."
   ]
  },
  {
   "cell_type": "code",
   "execution_count": 52,
   "id": "aa437304-0f2a-43fa-966e-d222bd7343bb",
   "metadata": {},
   "outputs": [
    {
     "name": "stdin",
     "output_type": "stream",
     "text": [
      "Enter weight in kilograms:  56\n",
      "Enter height in meters:  2\n"
     ]
    },
    {
     "name": "stdout",
     "output_type": "stream",
     "text": [
      "The BMI is: 14.00\n",
      "BMI Category: Underweight\n"
     ]
    }
   ],
   "source": [
    "#22.Create a Python program that calculates the BMI (Body Mass Index) of a person based on their weight and height using if-else.\n",
    "def calculate_bmi(weight_kg, height_m):\n",
    "    bmi = weight_kg / (height_m ** 2)\n",
    "    return bmi\n",
    "\n",
    "# Get user input for weight and height\n",
    "weight_kg = float(input(\"Enter weight in kilograms: \"))\n",
    "height_m = float(input(\"Enter height in meters: \"))\n",
    "\n",
    "# Calculate BMI\n",
    "bmi = calculate_bmi(weight_kg, height_m)\n",
    "\n",
    "# Determine BMI category\n",
    "if bmi < 18.5:\n",
    "    category = \"Underweight\"\n",
    "elif 18.5 <= bmi < 24.9:\n",
    "    category = \"Normal weight\"\n",
    "elif 25 <= bmi < 29.9:\n",
    "    category = \"Overweight\"\n",
    "else:\n",
    "    category = \"Obese\"\n",
    "\n",
    "# Display the result\n",
    "print(f\"The BMI is: {bmi:.2f}\")\n",
    "print(f\"BMI Category: {category}\")"
   ]
  },
  {
   "cell_type": "code",
   "execution_count": null,
   "id": "cb804a06-0640-49d5-8964-2e70f34cc633",
   "metadata": {},
   "outputs": [],
   "source": [
    "#23.How can you use the \"filter()\" function with if-else statements to filter elements from a list?\n",
    "The filter() function in Python is used to construct an iterator from elements of an iterable for which a function returns true. You can use filter() in combination with a function and if-else statements to filter elements from a list based \n",
    "on certain conditions."
   ]
  },
  {
   "cell_type": "code",
   "execution_count": 53,
   "id": "d8bd925f-33ee-4efb-a747-b007ed84c31a",
   "metadata": {},
   "outputs": [
    {
     "name": "stdin",
     "output_type": "stream",
     "text": [
      "Enter a number to check if it's prime:  5\n"
     ]
    },
    {
     "name": "stdout",
     "output_type": "stream",
     "text": [
      "5 is a prime number.\n"
     ]
    }
   ],
   "source": [
    "#24.Write a Python program to determine if a given number is prime or not using if-else.\n",
    "def is_prime(number):\n",
    "    if number < 2:\n",
    "        return False\n",
    "\n",
    "    for i in range(2, int(number ** 0.5) + 1):\n",
    "        if number % i == 0:\n",
    "            return False\n",
    "\n",
    "    return True\n",
    "\n",
    "# Get user input\n",
    "number = int(input(\"Enter a number to check if it's prime: \"))\n",
    "\n",
    "# Check if the number is prime\n",
    "if is_prime(number):\n",
    "    print(f\"{number} is a prime number.\")\n",
    "else:\n",
    "    print(f\"{number} is not a prime number.\")"
   ]
  },
  {
   "cell_type": "code",
   "execution_count": null,
   "id": "9cddcbd5-524e-4588-b6a1-9bf52fca5b14",
   "metadata": {},
   "outputs": [],
   "source": [
    "#Map\n",
    "#1.Explain the purpose of the `map()` function in Python and provide an example of how it can be used to apply a function to each element of an iterable.\n",
    "The map() function in Python is a built-in function used to apply a specified function to each element of an iterable (e.g., a list, tuple, etc.) \n",
    "and return an iterator that yields the results of applying the function. It takes two arguments: the function to apply\n",
    "and the iterable. \n",
    "The map() function essentially provides a way to transform each element of the iterable by applying the specified function, avoiding the need for explicit loops and improving code readability."
   ]
  },
  {
   "cell_type": "code",
   "execution_count": 11,
   "id": "75852271-4815-473c-85ab-920bf7e1ee27",
   "metadata": {},
   "outputs": [
    {
     "name": "stdout",
     "output_type": "stream",
     "text": [
      "original numbers: [1, 2, 3, 4, 5]\n",
      "squared numbers: [1, 4, 9, 16, 25]\n"
     ]
    }
   ],
   "source": [
    "#2.Write a Python program that uses the `map()` function to square each element of a list of numbers.\n",
    "def square(x):\n",
    "    return x*x\n",
    "numbers=[1,2,3,4,5]\n",
    "squared_numbers=map(square,numbers)\n",
    "print(\"original numbers:\", numbers)\n",
    "print(\"squared numbers:\", list(squared_numbers))"
   ]
  },
  {
   "cell_type": "code",
   "execution_count": null,
   "id": "11f0bd1e-7567-4e80-a650-754a7e700dc7",
   "metadata": {},
   "outputs": [],
   "source": [
    "#3.How does the `map()` function differ from a list comprehension in Python, and when would you choose one over the other?\n",
    "The map() function and list comprehensions in Python are both used to transform and process iterables (e.g., lists, tuples) by applying a function to each element. However, they differ in their syntax, behavior, and use cases.\n",
    "map() is a higher-order function that takes a function and an iterable as arguments and returns an iterator that yields the results of applying the function to each element in the iterable.\n",
    "map(function, iterable)\n",
    "List comprehensions provide a concise way to create a new list by applying an expression to each element in an iterable. The syntax is more compact and resembles a mathematical notation.\n",
    "[expression for item in iterable]"
   ]
  },
  {
   "cell_type": "code",
   "execution_count": 12,
   "id": "3f112fd6-9277-4bfd-bcf5-95633b22ef9a",
   "metadata": {},
   "outputs": [
    {
     "name": "stdout",
     "output_type": "stream",
     "text": [
      "Original names: ['Alice', 'Bob', 'Charlie', 'David']\n",
      "Names in uppercase: ['ALICE', 'BOB', 'CHARLIE', 'DAVID']\n"
     ]
    }
   ],
   "source": [
    "#4.Create a Python program that uses the `map()` function to convert a list of names to uppercase.\n",
    "def convert_to_uppercase(name):\n",
    "    return name.upper()\n",
    "\n",
    "# Sample list of names\n",
    "names = [\"Alice\", \"Bob\", \"Charlie\", \"David\"]\n",
    "\n",
    "# Use map() to convert each name to uppercase\n",
    "uppercased_names = map(convert_to_uppercase, names)\n",
    "\n",
    "# Convert the iterator to a list to see the results\n",
    "uppercased_names_list = list(uppercased_names)\n",
    "\n",
    "# Print the original and uppercase names\n",
    "print(\"Original names:\", names)\n",
    "print(\"Names in uppercase:\", uppercased_names_list)"
   ]
  },
  {
   "cell_type": "code",
   "execution_count": 14,
   "id": "7ebea90d-7f73-45c8-958b-b80ff330d949",
   "metadata": {},
   "outputs": [
    {
     "name": "stdout",
     "output_type": "stream",
     "text": [
      "Original words: ['apple', 'banana', 'cherry', 'date']\n",
      "Word lengths: [5, 6, 6, 4]\n"
     ]
    }
   ],
   "source": [
    "#5.Write a Python program that uses the `map()` function to calculate the length of each word in a list of strings.\n",
    "def calculate_word_length(word):\n",
    "    return len(word)\n",
    "\n",
    "# Sample list of strings\n",
    "words = [\"apple\", \"banana\", \"cherry\", \"date\"]\n",
    "\n",
    "# Use map() to calculate the length of each word\n",
    "word_lengths = map(calculate_word_length, words)\n",
    "\n",
    "# Convert the iterator to a list to see the results\n",
    "word_lengths_list = list(word_lengths)\n",
    "\n",
    "# Print the original words and their lengths\n",
    "print(\"Original words:\", words)\n",
    "print(\"Word lengths:\", word_lengths_list)"
   ]
  },
  {
   "cell_type": "code",
   "execution_count": null,
   "id": "7c1b14cf-bce6-41b5-97ce-9ce6bd286fa2",
   "metadata": {},
   "outputs": [],
   "source": [
    "#6.How can you use the `map()` function to apply a custom function to elements of multiple lists simultaneously in Python?\n",
    "To apply a custom function to elements of multiple lists simultaneously using the map() function in Python, you can define a function that takes the corresponding elements from each list as arguments and then use map() to apply this function to the zipped lists. The zip() function is used to combine the elements from the multiple lists into tuples."
   ]
  },
  {
   "cell_type": "code",
   "execution_count": 15,
   "id": "617599c1-f16d-405b-bb9a-5dbce35988ab",
   "metadata": {},
   "outputs": [
    {
     "name": "stdout",
     "output_type": "stream",
     "text": [
      "Original Celsius temperatures: [25, 30, 15, 10]\n",
      "Fahrenheit temperatures: [77.0, 86.0, 59.0, 50.0]\n"
     ]
    }
   ],
   "source": [
    "#7.Create a Python program that uses `map()` to convert a list of temperatures from Celsius to Fahrenheit.\n",
    "def celsius_to_fahrenheit(celsius):\n",
    "    return (celsius * 9/5) + 32\n",
    "\n",
    "# Sample list of temperatures in Celsius\n",
    "celsius_temperatures = [25, 30, 15, 10]\n",
    "\n",
    "# Use map() to convert each temperature to Fahrenheit\n",
    "fahrenheit_temperatures = list(map(celsius_to_fahrenheit, celsius_temperatures))\n",
    "\n",
    "# Print the original Celsius temperatures and their Fahrenheit equivalents\n",
    "print(\"Original Celsius temperatures:\", celsius_temperatures)\n",
    "print(\"Fahrenheit temperatures:\", fahrenheit_temperatures)"
   ]
  },
  {
   "cell_type": "code",
   "execution_count": 16,
   "id": "7cd4e5eb-ab47-4e8e-826f-886a4c1a0466",
   "metadata": {},
   "outputs": [
    {
     "name": "stdout",
     "output_type": "stream",
     "text": [
      "Original floating-point numbers: [3.14, 2.71, 5.5, 10.9]\n",
      "Rounded integers: [3, 3, 6, 11]\n"
     ]
    }
   ],
   "source": [
    "#8.Write a Python program that uses the `map()` function to round each element of a list of floating-point numbers to the nearest integer.\n",
    "def round_to_nearest_integer(num):\n",
    "    return round(num)\n",
    "\n",
    "# Sample list of floating-point numbers\n",
    "floating_numbers = [3.14, 2.71, 5.5, 10.9]\n",
    "\n",
    "# Use map() to round each floating-point number to the nearest integer\n",
    "rounded_integers = list(map(round_to_nearest_integer, floating_numbers))\n",
    "\n",
    "# Print the original floating-point numbers and their rounded integers\n",
    "print(\"Original floating-point numbers:\", floating_numbers)\n",
    "print(\"Rounded integers:\", rounded_integers)"
   ]
  },
  {
   "cell_type": "code",
   "execution_count": null,
   "id": "5741faec-0e24-41c6-827c-7e001fa44f58",
   "metadata": {},
   "outputs": [],
   "source": [
    "#Reduce\n",
    "#1.What is the `reduce()` function in Python, and what module should you import to use it? Provide an example of its basic usage.\n",
    "The reduce() function in Python is a built-in function that applies a rolling computation to sequential pairs of elements in an iterable. It continually applies a specified function to the current result and the next element of the sequence, effectively reducing the iterable to a single value.\n",
    "\n",
    "To use the reduce() function, you need to import it from the functools module in Python."
   ]
  },
  {
   "cell_type": "code",
   "execution_count": 17,
   "id": "ee6d9ff6-1a65-4a7e-8b92-a02d18a6fda6",
   "metadata": {},
   "outputs": [
    {
     "name": "stdout",
     "output_type": "stream",
     "text": [
      "product of the numbers is: 120\n"
     ]
    }
   ],
   "source": [
    "#2.Write a Python program that uses the `reduce()` function to find the product of all elements in a list.\n",
    "from functools import reduce\n",
    "numbers=[1,2,3,4,5]\n",
    "product_of_numbers=reduce(lambda x,y:x*y, numbers)\n",
    "print(\"product of the numbers is:\", product_of_numbers)"
   ]
  },
  {
   "cell_type": "code",
   "execution_count": 18,
   "id": "318c7fb7-a066-4fb9-aa4d-44d68c571df5",
   "metadata": {},
   "outputs": [
    {
     "name": "stdout",
     "output_type": "stream",
     "text": [
      "Maximum number: 20\n"
     ]
    }
   ],
   "source": [
    "#3.Create a Python program that uses `reduce()` to find the maximum element in a list of numbers.\n",
    "from functools import reduce\n",
    "\n",
    "def find_maximum(a, b):\n",
    "    return a if a > b else b\n",
    "\n",
    "# Sample list of numbers\n",
    "numbers = [10, 5, 8, 20, 3]\n",
    "\n",
    "# Use reduce() to find the maximum element in the list\n",
    "max_number = reduce(find_maximum, numbers)\n",
    "\n",
    "# Print the maximum number\n",
    "print(\"Maximum number:\", max_number)"
   ]
  },
  {
   "cell_type": "code",
   "execution_count": 19,
   "id": "c7975d31-1745-4be1-b12c-206fc25b5be4",
   "metadata": {},
   "outputs": [
    {
     "name": "stdout",
     "output_type": "stream",
     "text": [
      "Concatenated string: Hello, world! This is a concatenated string.\n"
     ]
    }
   ],
   "source": [
    "#4.How can you use the `reduce()` function to concatenate a list of strings into a single string?\n",
    "from functools import reduce\n",
    "\n",
    "def concatenate_strings(str1, str2):\n",
    "    return str1 + str2\n",
    "\n",
    "# Sample list of strings\n",
    "strings = ['Hello, ', 'world', '!', ' This is ', 'a concatenated ', 'string.']\n",
    "\n",
    "# Use reduce() to concatenate the strings\n",
    "concatenated_string = reduce(concatenate_strings, strings)\n",
    "\n",
    "# Print the concatenated string\n",
    "print(\"Concatenated string:\", concatenated_string)"
   ]
  },
  {
   "cell_type": "code",
   "execution_count": 20,
   "id": "58c42f84-c4b2-44fe-84fa-e41d9c25ef7f",
   "metadata": {},
   "outputs": [
    {
     "name": "stdout",
     "output_type": "stream",
     "text": [
      "The factorial of 5 is: 120\n"
     ]
    }
   ],
   "source": [
    "#5.Write a Python program that calculates the factorial of a number using the `reduce()` function.\n",
    "from functools import reduce\n",
    "\n",
    "def multiply(a, b):\n",
    "    return a * b\n",
    "\n",
    "def factorial(n):\n",
    "    # Factorial of 0 and 1 is 1\n",
    "    if n == 0 or n == 1:\n",
    "        return 1\n",
    "    \n",
    "    # Use reduce to calculate the factorial\n",
    "    return reduce(multiply, range(1, n + 1))\n",
    "\n",
    "# Input: Number for which factorial needs to be calculated\n",
    "number = 5\n",
    "\n",
    "# Calculate the factorial using reduce\n",
    "factorial_result = factorial(number)\n",
    "\n",
    "# Print the factorial\n",
    "print(f\"The factorial of {number} is:\", factorial_result)"
   ]
  },
  {
   "cell_type": "code",
   "execution_count": 21,
   "id": "cab24b35-79ca-4e80-9a51-864940eb4d27",
   "metadata": {},
   "outputs": [
    {
     "name": "stdout",
     "output_type": "stream",
     "text": [
      "GCD of the numbers: 12\n"
     ]
    }
   ],
   "source": [
    "#6.Create a Python program that uses `reduce()` to find the GCD (Greatest Common Divisor) of a list of numbers.\n",
    "from functools import reduce\n",
    "from math import gcd  # Use the built-in GCD function\n",
    "\n",
    "def calculate_gcd(a, b):\n",
    "    return gcd(a, b)\n",
    "\n",
    "# Sample list of numbers\n",
    "numbers = [24, 36, 48, 60]\n",
    "\n",
    "# Use reduce() to calculate the GCD of the numbers\n",
    "gcd_result = reduce(calculate_gcd, numbers)\n",
    "\n",
    "# Print the GCD\n",
    "print(\"GCD of the numbers:\", gcd_result)"
   ]
  },
  {
   "cell_type": "code",
   "execution_count": 23,
   "id": "f51924c4-2488-4ccb-9502-860709898162",
   "metadata": {},
   "outputs": [
    {
     "name": "stdout",
     "output_type": "stream",
     "text": [
      "The sum of digits of 12345 is: 15\n"
     ]
    }
   ],
   "source": [
    "#7.Write a Python program that uses the `reduce()` function to find the sum of the digits of a given number.\n",
    "from functools import reduce\n",
    "\n",
    "def calculate_digit_sum(sum_so_far, digit):\n",
    "    return sum_so_far + int(digit)\n",
    "\n",
    "def sum_of_digits(number):\n",
    "    # Convert the number to a string to access each digit\n",
    "    digits = str(number)\n",
    "\n",
    "    # Use reduce to calculate the sum of the digits\n",
    "    digit_sum = reduce(calculate_digit_sum, digits, 0)\n",
    "    return digit_sum\n",
    "\n",
    "# Input: Number for which sum of digits needs to be calculated\n",
    "number = 12345\n",
    "\n",
    "# Calculate the sum of digits using reduce\n",
    "digit_sum_result = sum_of_digits(number)\n",
    "\n",
    "# Print the sum of digits\n",
    "print(f\"The sum of digits of {number} is:\", digit_sum_result)"
   ]
  },
  {
   "cell_type": "code",
   "execution_count": null,
   "id": "9ae11df1-b404-464f-88c5-854d8a66986b",
   "metadata": {},
   "outputs": [],
   "source": [
    "#Filter:\n",
    "#1.Explain the purpose of the `filter()` function in Python and provide an example of how it can be used to filter elements from an iterable.\n"
   ]
  },
  {
   "cell_type": "code",
   "execution_count": null,
   "id": "65296c2d-c82a-4a1b-bb4c-c1940434a32d",
   "metadata": {},
   "outputs": [],
   "source": [
    "#2.Write a Python program that uses the `filter()` function to select even numbers from a list of integers.\n"
   ]
  },
  {
   "cell_type": "code",
   "execution_count": null,
   "id": "826c7a4d-bd7d-4fb3-8488-063379e2ca76",
   "metadata": {},
   "outputs": [],
   "source": [
    "#3.Create a Python program that uses the `filter()` function to select names that start with a specific letter from a list of strings.\n"
   ]
  },
  {
   "cell_type": "code",
   "execution_count": null,
   "id": "94326d07-7652-4d5a-9e10-5eae0b4c8e44",
   "metadata": {},
   "outputs": [],
   "source": [
    "#4.Write a Python program that uses the `filter()` function to select prime numbers from a list of integers."
   ]
  },
  {
   "cell_type": "code",
   "execution_count": null,
   "id": "959d0fd4-2a80-4de9-ada3-a64135c01117",
   "metadata": {},
   "outputs": [],
   "source": [
    "#5.How can you use the `filter()` function to remove None values from a list in Python?\n"
   ]
  },
  {
   "cell_type": "code",
   "execution_count": null,
   "id": "0b17a183-c07b-4814-b4b6-d686987526b7",
   "metadata": {},
   "outputs": [],
   "source": [
    "#6.Create a Python program that uses `filter()` to select words longer than a certain length from a list of strings.\n"
   ]
  },
  {
   "cell_type": "code",
   "execution_count": null,
   "id": "4dabf2d0-bc87-4395-9ff0-1ce5d86c852f",
   "metadata": {},
   "outputs": [],
   "source": [
    "#7.Write a Python program that uses the `filter()` function to select elements greater than a specified threshold from a list of values.\n"
   ]
  },
  {
   "cell_type": "code",
   "execution_count": null,
   "id": "740a2b4a-1114-40ee-bcd7-a0c44efc2c09",
   "metadata": {},
   "outputs": [],
   "source": [
    "#Recursion\n",
    "#1.Explain the concept of recursion in Python. How does it differ from iteration?\n"
   ]
  },
  {
   "cell_type": "code",
   "execution_count": null,
   "id": "fddbebdb-dba4-4c84-8c6f-5eddd8c2861e",
   "metadata": {},
   "outputs": [],
   "source": [
    "#2.Write a Python program to calculate the factorial of a number using recursion.\n"
   ]
  },
  {
   "cell_type": "code",
   "execution_count": null,
   "id": "7e5be264-a64f-4428-8925-1c1ea5a6f663",
   "metadata": {},
   "outputs": [],
   "source": [
    "#3.Create a recursive Python function to find the nth Fibonacci number.\n"
   ]
  },
  {
   "cell_type": "code",
   "execution_count": null,
   "id": "5ce37996-403c-427f-9c5b-02463cb8e3ab",
   "metadata": {},
   "outputs": [],
   "source": [
    "#4.Write a recursive Python function to calculate the sum of all elements in a list.\n"
   ]
  },
  {
   "cell_type": "code",
   "execution_count": null,
   "id": "9c0dcf5e-ab2f-449d-bf85-2614b1377c86",
   "metadata": {},
   "outputs": [],
   "source": [
    "#5.How can you prevent a recursive function from running indefinitely, causing a stack overflow error?\n"
   ]
  },
  {
   "cell_type": "code",
   "execution_count": null,
   "id": "e22e493d-0b8d-47b6-b830-198be45465cb",
   "metadata": {},
   "outputs": [],
   "source": [
    "#6.Create a recursive Python function to find the greatest common divisor (GCD) of two numbers using the Euclidean algorithm.\n"
   ]
  },
  {
   "cell_type": "code",
   "execution_count": null,
   "id": "8bbd0daf-dd9c-41c9-a07f-fcac9fe406d4",
   "metadata": {},
   "outputs": [],
   "source": [
    "#7.Write a recursive Python function to reverse a string.\n"
   ]
  },
  {
   "cell_type": "code",
   "execution_count": null,
   "id": "efeede17-d014-4c24-a9d2-3b81c3ef6105",
   "metadata": {},
   "outputs": [],
   "source": [
    "#8.Create a recursive Python function to calculate the power of a number (x^n).\n"
   ]
  },
  {
   "cell_type": "code",
   "execution_count": null,
   "id": "d772a92a-ad21-4999-9535-a01eb69bb571",
   "metadata": {},
   "outputs": [],
   "source": [
    "#9.Write a recursive Python function to find all permutations of a given string.\n"
   ]
  },
  {
   "cell_type": "code",
   "execution_count": null,
   "id": "10d6f13f-c385-447a-a3fb-dec3c8a67448",
   "metadata": {},
   "outputs": [],
   "source": [
    "#10.Write a recursive Python function to check if a string is a palindrome.\n"
   ]
  },
  {
   "cell_type": "code",
   "execution_count": null,
   "id": "d633d436-6521-44c3-9cd7-ad840b2ed036",
   "metadata": {},
   "outputs": [],
   "source": [
    "#11.Create a recursive Python function to generate all possible combinations of a list of elements.\n"
   ]
  },
  {
   "cell_type": "code",
   "execution_count": null,
   "id": "0677834b-2d24-45ce-a01b-795754957db9",
   "metadata": {},
   "outputs": [],
   "source": [
    "#Basics of Functions:\n",
    "#1. What is a function in Python, and why is it used?\n"
   ]
  },
  {
   "cell_type": "code",
   "execution_count": null,
   "id": "503afdc9-825c-4acb-ab92-663ae9405a98",
   "metadata": {},
   "outputs": [],
   "source": [
    "#2.How do you define a function in Python? Provide an example.\n"
   ]
  },
  {
   "cell_type": "code",
   "execution_count": null,
   "id": "2bf63283-7aa5-43a7-99d1-ffd3defee195",
   "metadata": {},
   "outputs": [],
   "source": [
    "#3.Explain the difference between a function definition and a function call.\n"
   ]
  },
  {
   "cell_type": "code",
   "execution_count": null,
   "id": "66cad145-9d96-4436-be7b-26846d627285",
   "metadata": {},
   "outputs": [],
   "source": [
    "#4.Write a Python program that defines a function to calculate the sum of two numbers and then calls the function.\n"
   ]
  },
  {
   "cell_type": "code",
   "execution_count": null,
   "id": "e54a268d-da46-43b6-928c-43906b5ceb17",
   "metadata": {},
   "outputs": [],
   "source": [
    "#5. What is a function signature, and what information does it typically include?\n"
   ]
  },
  {
   "cell_type": "code",
   "execution_count": null,
   "id": "4fa040db-389d-4fd7-904f-38148e6cf697",
   "metadata": {},
   "outputs": [],
   "source": [
    "#6. Create a Python function that takes two arguments and returns their product.\n"
   ]
  },
  {
   "cell_type": "code",
   "execution_count": null,
   "id": "8a68fda3-975f-42ce-a52d-515e6e95929a",
   "metadata": {},
   "outputs": [],
   "source": [
    "#Function Parameters and Arguments:\n",
    "#1.Explain the concepts of formal parameters and actual arguments in Python functions.\n"
   ]
  },
  {
   "cell_type": "code",
   "execution_count": null,
   "id": "67dd9e54-bd27-4b8c-9ffe-b6d131929331",
   "metadata": {},
   "outputs": [],
   "source": [
    "#2.Write a Python program that defines a function with default argument values.\n"
   ]
  },
  {
   "cell_type": "code",
   "execution_count": null,
   "id": "b6063659-a109-42c2-84d5-9c87593fae63",
   "metadata": {},
   "outputs": [],
   "source": [
    "#3. How do you use keyword arguments in Python function calls? Provide an example.\n"
   ]
  },
  {
   "cell_type": "code",
   "execution_count": 27,
   "id": "3f525d15-f1e7-46b5-b038-13616bc001bf",
   "metadata": {},
   "outputs": [
    {
     "name": "stdout",
     "output_type": "stream",
     "text": [
      "Sum: 15\n"
     ]
    }
   ],
   "source": [
    "#4. Create a Python function that accepts a variable number of arguments and calculates their sum.\n",
    "def calculate_sum(*args):\n",
    "    return sum(args)\n",
    "\n",
    "# Example usage\n",
    "result = calculate_sum(1, 2, 3, 4, 5)\n",
    "print(\"Sum:\", result)  # Output: Sum: 15"
   ]
  },
  {
   "cell_type": "code",
   "execution_count": null,
   "id": "ceb9f67b-94ee-4c4a-b2a5-ba9d1889d122",
   "metadata": {},
   "outputs": [],
   "source": [
    "#5. What is the purpose of the `*args` and `**kwargs` syntax in function parameter lists?\n",
    "The *args and **kwargs syntax in function parameter lists allows functions to accept a variable number of arguments, providing flexibility and versatility when defining and calling functions. These constructs are often used when you need to create functions that can handle various input argument scenarios."
   ]
  },
  {
   "cell_type": "code",
   "execution_count": null,
   "id": "f762aacf-b093-43da-a756-9128b1c83c4e",
   "metadata": {},
   "outputs": [],
   "source": [
    "#Return Values and Scoping:\n",
    "#1. Describe the role of the `return` statement in Python functions and provide examples.\n",
    "The return statement in Python is used to exit a function and optionally return a value or multiple values back to the caller. It plays a crucial role in allowing functions to produce output that can be used in subsequent parts of a program."
   ]
  },
  {
   "cell_type": "code",
   "execution_count": null,
   "id": "705097bc-9775-47a2-8e80-480fd2dd912b",
   "metadata": {},
   "outputs": [],
   "source": [
    "#2. Explain the concept of variable scope in Python, including local and global variables.\n",
    "Variable scope in Python defines where in your code a particular variable can be accessed and modified. Python follows a set of rules to determine the scope of a variable, whether it's local or global.\n",
    "\n",
    "Local Variables:\n",
    "Variables defined within a function have local scope. They can only be accessed and modified within that function. Once the function finishes executing, the local variables are no longer accessible.\n",
    "Global Variables:\n",
    "Variables defined outside of any function or defined with the global keyword inside a function have global scope. They can be accessed and modified anywhere in the program, including within functions.\n",
    "\n",
    "python"
   ]
  },
  {
   "cell_type": "code",
   "execution_count": 26,
   "id": "3cea4312-b1bc-492e-ba7d-b0c2e29e0642",
   "metadata": {},
   "outputs": [
    {
     "name": "stdout",
     "output_type": "stream",
     "text": [
      "Global variable before update: 10\n",
      "Global variable after update: 20\n",
      "Accessing global variable: 20\n"
     ]
    }
   ],
   "source": [
    "#3. Write a Python program that demonstrates the use of global variables within functions.\n",
    "global_variable = 10  # A global variable\n",
    "\n",
    "def update_global():\n",
    "    global global_variable  # Declare the global variable\n",
    "    global_variable = 20    # Update the global variable\n",
    "\n",
    "def access_global():\n",
    "    print(\"Accessing global variable:\", global_variable)\n",
    "\n",
    "# Access the global variable before update\n",
    "print(\"Global variable before update:\", global_variable)\n",
    "\n",
    "# Update the global variable\n",
    "update_global()\n",
    "\n",
    "# Access the global variable after update\n",
    "print(\"Global variable after update:\", global_variable)\n",
    "\n",
    "# Access the global variable from another function\n",
    "access_global()"
   ]
  },
  {
   "cell_type": "code",
   "execution_count": 25,
   "id": "0eb1ff69-139e-408c-8d83-5ac8ae5ac8ad",
   "metadata": {},
   "outputs": [
    {
     "name": "stdout",
     "output_type": "stream",
     "text": [
      "The factorial of 5 is: 120\n"
     ]
    }
   ],
   "source": [
    "#4. Create a Python function that calculates the factorial of a number and returns it.\n",
    "def factorial(n):\n",
    "    if n < 0:\n",
    "        raise ValueError(\"Factorial is not defined for negative numbers.\")\n",
    "    elif n == 0 or n == 1:\n",
    "        return 1\n",
    "    else:\n",
    "        result = 1\n",
    "        for i in range(2, n + 1):\n",
    "            result *= i\n",
    "        return result\n",
    "\n",
    "# Example usage\n",
    "number = 5\n",
    "factorial_result = factorial(number)\n",
    "print(f\"The factorial of {number} is: {factorial_result}\")"
   ]
  },
  {
   "cell_type": "code",
   "execution_count": null,
   "id": "b95d4e78-bf24-4891-8559-1509e2865082",
   "metadata": {},
   "outputs": [],
   "source": [
    "#5. How can you access variables defined outside a function from within the function?\n",
    "In Python, you can access variables defined outside a function from within the function by using the global keyword or by simply referencing the variable's name. "
   ]
  },
  {
   "cell_type": "code",
   "execution_count": null,
   "id": "d005865e-f93a-4006-a7ae-83e7309da335",
   "metadata": {},
   "outputs": [],
   "source": [
    "# Lambda Functions and Higher-Order Functions:\n",
    "\n",
    "#1. What are lambda functions in Python, and when are they typically used?\n",
    "Lambda functions, also known as anonymous functions or lambda expressions, are small, unnamed functions in Python that are defined \n",
    "using the lambda keyword. Unlike regular functions created using the def keyword, lambda functions are concise and can be written\n",
    "in a single line.\n",
    "Lambda functions are typically used in situations where you need a simple, one-time-use function without the need for a full function definition using def. \n",
    "They're handy when you need a quick, throwaway function or when you want to pass a function as an argument to another function,\n",
    "often used in functional programming paradigms."
   ]
  },
  {
   "cell_type": "code",
   "execution_count": 24,
   "id": "f5c0838b-5da0-429f-aaf3-bd5f91ca9469",
   "metadata": {},
   "outputs": [
    {
     "name": "stdout",
     "output_type": "stream",
     "text": [
      "Sorted tuples based on the second element:\n",
      "(3, 'apple')\n",
      "(1, 'banana')\n",
      "(2, 'cherry')\n",
      "(4, 'date')\n"
     ]
    }
   ],
   "source": [
    "#2. Write a Python program that uses lambda functions to sort a list of tuples based on the second element.\n",
    "tuples_list = [(3, 'apple'), (1, 'banana'), (2, 'cherry'), (4, 'date')]\n",
    "\n",
    "# Sort the list of tuples based on the second element using a lambda function\n",
    "sorted_tuples = sorted(tuples_list, key=lambda x: x[1])\n",
    "\n",
    "# Print the sorted tuples\n",
    "print(\"Sorted tuples based on the second element:\")\n",
    "for item in sorted_tuples:\n",
    "    print(item)"
   ]
  },
  {
   "cell_type": "code",
   "execution_count": null,
   "id": "6c78850a-2111-4c64-a58b-23910e0a0ab6",
   "metadata": {},
   "outputs": [],
   "source": [
    "#3. Explain the concept of higher-order functions in Python, and provide an example.\n",
    "In Python, a higher-order function is a function that can accept other functions as arguments and/or return functions as \n",
    "results. In other words, it treats functions as first-class citizens, allowing you to manipulate functions in a similar way \n",
    "to how you would manipulate other objects such as integers, strings, or lists.\n",
    "\n",
    "def square(x):\n",
    "    return x * x\n",
    "\n",
    "def cube(x):\n",
    "    return x ** 3\n",
    "\n",
    "def apply_operation(func, num_list):\n",
    "    \"\"\"\n",
    "    Apply the given function to each element in the list and return the results.\n",
    "    \"\"\"\n",
    "    return [func(x) for x in num_list]\n",
    "\n",
    "# Sample list of numbers\n",
    "numbers = [1, 2, 3, 4, 5]\n",
    "\n",
    "# Apply square function using apply_operation\n",
    "squared_numbers = apply_operation(square, numbers)\n",
    "\n",
    "# Apply cube function using apply_operation\n",
    "cubed_numbers = apply_operation(cube, numbers)\n",
    "\n",
    "print(\"Original numbers:\", numbers)\n",
    "print(\"Squared numbers:\", squared_numbers)\n",
    "print(\"Cubed numbers:\", cubed_numbers)"
   ]
  },
  {
   "cell_type": "code",
   "execution_count": 8,
   "id": "7d505b65-8cb8-42c7-845c-082c3a477aae",
   "metadata": {},
   "outputs": [
    {
     "name": "stdout",
     "output_type": "stream",
     "text": [
      "Original numbers: [1, 2, 3, 4, 5]\n",
      "Squared numbers: [1, 4, 9, 16, 25]\n"
     ]
    }
   ],
   "source": [
    "#4. Create a Python function that takes a list of numbers and a function as arguments, applying the function to each element in the list.\n",
    "def apply_function_to_list(lst, func):\n",
    "    result = [func(x) for x in lst]\n",
    "    return result\n",
    "def square(x):\n",
    "    return x * x\n",
    "numbers = [1, 2, 3, 4, 5]\n",
    "\n",
    "# Apply the square function to each element in the list\n",
    "squared_numbers = apply_function_to_list(numbers, square)\n",
    "\n",
    "# Print the squared numbers\n",
    "print(\"Original numbers:\", numbers)\n",
    "print(\"Squared numbers:\", squared_numbers)"
   ]
  },
  {
   "cell_type": "code",
   "execution_count": 5,
   "id": "c2856c49-60ef-47a7-bce4-3db883c16f0b",
   "metadata": {},
   "outputs": [
    {
     "ename": "SyntaxError",
     "evalue": "invalid syntax (3395523696.py, line 3)",
     "output_type": "error",
     "traceback": [
      "\u001b[0;36m  Cell \u001b[0;32mIn[5], line 3\u001b[0;36m\u001b[0m\n\u001b[0;31m    The len() function is used to determine the length or the number of items in an object.\u001b[0m\n\u001b[0m        ^\u001b[0m\n\u001b[0;31mSyntaxError\u001b[0m\u001b[0;31m:\u001b[0m invalid syntax\n"
     ]
    }
   ],
   "source": [
    "# Built-in Functions:\n",
    "#1. Describe the role of built-in functions like `len()`, `max()`, and `min()` in Python.\n",
    "The len() function is used to determine the length or the number of items in an object.\n",
    "It works with a wide range of data types, including strings, lists, tuples, dictionaries, sets, and other iterable objects.\n",
    "The max() function is used to find the maximum element among the arguments passed or in an iterable.\n",
    "It works with various data types, including numbers, strings, and other comparable types.\n",
    "The min() function is used to find the minimum element among the arguments passed or in an iterable.\n",
    "Like max(), it works with various data types and can handle numbers, strings, and other comparable types."
   ]
  },
  {
   "cell_type": "code",
   "execution_count": 3,
   "id": "9a2de2a7-911e-4dd6-a9ae-a637c6595e9d",
   "metadata": {},
   "outputs": [
    {
     "name": "stdout",
     "output_type": "stream",
     "text": [
      "Original numbers: [1, 2, 3, 4, 5]\n",
      "Squared numbers: [1, 4, 9, 16, 25]\n"
     ]
    }
   ],
   "source": [
    "#2. Write a Python program that uses the `map()` function to apply a function to each element of a list.\n",
    "def square(x):\n",
    "    return x * x\n",
    "\n",
    "# Sample list of numbers\n",
    "numbers = [1, 2, 3, 4, 5]\n",
    "\n",
    "# Use map() to apply the square function to each element in the list\n",
    "squared_numbers = list(map(square, numbers))\n",
    "\n",
    "# Print the squared numbers\n",
    "print(\"Original numbers:\", numbers)\n",
    "print(\"Squared numbers:\", squared_numbers)"
   ]
  },
  {
   "cell_type": "code",
   "execution_count": null,
   "id": "45617519-884b-4be9-a420-774451da8128",
   "metadata": {},
   "outputs": [],
   "source": [
    "#3. How does the `filter()` function work in Python, and when would you use it?\n",
    "The filter() function in Python is a built-in function that allows you to construct an iterator from elements of \n",
    "an iterable (like a list) for which a function returns true. \n",
    "Use filter() when you want to selectively extract elements from an iterable based on a certain condition or criterion."
   ]
  },
  {
   "cell_type": "code",
   "execution_count": 2,
   "id": "315f4444-cda1-43b6-8be4-0266f9f9372e",
   "metadata": {},
   "outputs": [
    {
     "name": "stdout",
     "output_type": "stream",
     "text": [
      "product of the elements in the list: 120\n"
     ]
    }
   ],
   "source": [
    "#4. Create a Python program that uses the `reduce()` function to find the product of all elements in a list.\n",
    "from functools import reduce\n",
    "def calculate_product(a,b):\n",
    "    return a*b\n",
    "def find_product_of_list(lst):\n",
    "    if not lst:\n",
    "        return None\n",
    "    product=reduce(calculate_product,lst)\n",
    "    return product\n",
    "\n",
    "numbers=[1,2,3,4,5]\n",
    "product_of_numbers=find_product_of_list(numbers)\n",
    "print(\"product of the elements in the list:\", product_of_numbers)"
   ]
  },
  {
   "cell_type": "code",
   "execution_count": null,
   "id": "1693b611-bae0-43ae-80ce-da0d3c98ef90",
   "metadata": {},
   "outputs": [],
   "source": [
    "# Function Documentation and Best Practices:\n",
    "#1. Explain the purpose of docstrings in Python functions and how to write them.\n",
    "Docstrings in Python are used to provide documentation and information about the purpose, usage, and behavior of a function,\n",
    "module, class, or method. The term \"docstring\" is a short form of \"documentation string.\" Docstrings are written as a string \n",
    "literal and are placed immediately after the definition of the function, module, class, or method. They serve as a way to \n",
    "document the functionality and usage of the code, making it easier for developers (including yourself and others) \n",
    "to understand how to use and work with the code. Eg:\n",
    "    def greet(name):\n",
    "    \"\"\"\n",
    "    This function takes a name as input and prints a greeting message.\n",
    "    \n",
    "    Parameters:\n",
    "        name (str): The name of the person to greet.\n",
    "    \n",
    "    Returns:\n",
    "        None\n",
    "    \"\"\"\n",
    "    print(f\"Hello, {name}!\")\n",
    "\n",
    "# Calling the function\n",
    "greet(\"Alice\")"
   ]
  },
  {
   "cell_type": "code",
   "execution_count": null,
   "id": "158fd4c1-bec8-41b6-8c52-d161727b3fb3",
   "metadata": {},
   "outputs": [],
   "source": [
    "#2. Describe some best practices for naming functions and variables in Python, including naming conventions and guidelines.\n",
    "best convention for function is to use a lowercase word or words. Separate words by underscores to improve readability.\n",
    "Eg: function , my_function\n",
    "best convention for variables is to use a lowercase single letter, word, or words. Separate words with underscores to\n",
    "improve readability. Eg: x , var , my_variable"
   ]
  }
 ],
 "metadata": {
  "kernelspec": {
   "display_name": "Python 3 (ipykernel)",
   "language": "python",
   "name": "python3"
  },
  "language_info": {
   "codemirror_mode": {
    "name": "ipython",
    "version": 3
   },
   "file_extension": ".py",
   "mimetype": "text/x-python",
   "name": "python",
   "nbconvert_exporter": "python",
   "pygments_lexer": "ipython3",
   "version": "3.10.8"
  }
 },
 "nbformat": 4,
 "nbformat_minor": 5
}
