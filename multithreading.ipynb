{
 "cells": [
  {
   "cell_type": "code",
   "execution_count": null,
   "id": "a949e91d",
   "metadata": {},
   "outputs": [],
   "source": [
    "1. What is multithreading in python? hy is it used? Name the module used to handle threads in python\n"
   ]
  },
  {
   "cell_type": "code",
   "execution_count": null,
   "id": "8e582a3d",
   "metadata": {},
   "outputs": [],
   "source": [
    "Multithreading: A technique where multiple threads run concurrently within a single process to perform tasks in parallel.\n",
    "Purpose: Used to improve performance by running multiple operations simultaneously, especially useful in I/O-bound tasks.\n",
    "Module: threading"
   ]
  },
  {
   "cell_type": "code",
   "execution_count": null,
   "id": "1a19935a",
   "metadata": {},
   "outputs": [],
   "source": [
    "2. why threading module used? write the use of the following functions\n",
    "  activeCount()\n",
    " currentThread()\n",
    " enumerate())\n"
   ]
  },
  {
   "cell_type": "code",
   "execution_count": null,
   "id": "a54224a8",
   "metadata": {},
   "outputs": [],
   "source": [
    "activeCount(): Returns the number of Thread objects currently alive.\n",
    "currentThread(): Returns the current Thread object, representing the thread calling this function.\n",
    "enumerate(): Returns a list of all Thread objects currently alive."
   ]
  },
  {
   "cell_type": "code",
   "execution_count": null,
   "id": "b3ccaa7f",
   "metadata": {},
   "outputs": [],
   "source": [
    "3. Explain the following functions\n",
    " run()\n",
    " start() \n",
    " join()\n",
    "' isAlive()\n"
   ]
  },
  {
   "cell_type": "code",
   "execution_count": null,
   "id": "80ac81f9",
   "metadata": {},
   "outputs": [],
   "source": [
    "run(): Method to define the code that will be executed by the thread. Override in a subclass of Thread.\n",
    "start(): Begins the thread’s activity by calling the run() method in a new thread.\n",
    "join(): Blocks the calling thread until the thread whose join() method is called terminates.\n",
    "isAlive(): Checks if the thread is still active."
   ]
  },
  {
   "cell_type": "code",
   "execution_count": null,
   "id": "92d36343",
   "metadata": {},
   "outputs": [],
   "source": [
    "4. write a python program to create two threads. Thread one must print the list of squares and thread\n",
    "two must print the list of cubes\n"
   ]
  },
  {
   "cell_type": "code",
   "execution_count": 1,
   "id": "34ae45f6",
   "metadata": {},
   "outputs": [],
   "source": [
    "import threading\n",
    "\n",
    "def print_squares():\n",
    "    squares = [x**2 for x in range(5)]\n",
    "    print(\"Squares:\", squares)\n",
    "\n",
    "def print_cubes():\n",
    "    cubes = [x**3 for x in range(5)]\n",
    "    print(\"Cubes:\", cubes)\n",
    "\n",
    "# Create threads\n",
    "thread1 = threading.Thread(target=print_squares)\n",
    "thread2 = threading.Thread(target=print_cubes)\n"
   ]
  },
  {
   "cell_type": "code",
   "execution_count": null,
   "id": "7c0d9cd3",
   "metadata": {},
   "outputs": [],
   "source": [
    "5. State advantages and disadvantages of multithreading\n"
   ]
  },
  {
   "cell_type": "code",
   "execution_count": null,
   "id": "f4d90370",
   "metadata": {},
   "outputs": [],
   "source": [
    "Advantages:\n",
    "\n",
    "Improved Performance: Better CPU utilization, especially in I/O-bound tasks.\n",
    "Responsiveness: Programs can remain responsive while performing background tasks.\n",
    "Disadvantages:\n",
    "\n",
    "Complexity: Adds complexity in code management and debugging.\n",
    "Concurrency Issues: Can lead to issues like deadlocks and race conditions."
   ]
  },
  {
   "cell_type": "code",
   "execution_count": null,
   "id": "1d2a7972",
   "metadata": {},
   "outputs": [],
   "source": [
    "6. Explain deadlocks and race conditions."
   ]
  },
  {
   "cell_type": "code",
   "execution_count": null,
   "id": "d9429f0b",
   "metadata": {},
   "outputs": [],
   "source": [
    "Deadlocks: Occur when two or more threads are waiting indefinitely for each other to release resources, leading to a standstill.\n",
    "\n",
    "Example: Thread A holds Resource 1 and waits for Resource 2, while Thread B holds Resource 2 and waits for Resource 1.\n",
    "\n",
    "Race Conditions: Occur when the outcome of a program depends on the sequence or timing of uncontrollable events, leading to unpredictable behavior.\n",
    "\n",
    "Example: Two threads updating a shared variable without proper synchronization, leading to inconsistent results."
   ]
  },
  {
   "cell_type": "code",
   "execution_count": null,
   "id": "e6480d53",
   "metadata": {},
   "outputs": [],
   "source": []
  }
 ],
 "metadata": {
  "kernelspec": {
   "display_name": "Python 3 (ipykernel)",
   "language": "python",
   "name": "python3"
  },
  "language_info": {
   "codemirror_mode": {
    "name": "ipython",
    "version": 3
   },
   "file_extension": ".py",
   "mimetype": "text/x-python",
   "name": "python",
   "nbconvert_exporter": "python",
   "pygments_lexer": "ipython3",
   "version": "3.11.5"
  }
 },
 "nbformat": 4,
 "nbformat_minor": 5
}
