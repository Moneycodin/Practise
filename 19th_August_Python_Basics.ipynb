{
 "cells": [
  {
   "cell_type": "code",
   "execution_count": 5,
   "id": "31d42788-7b58-4932-afee-7a7756490148",
   "metadata": {},
   "outputs": [
    {
     "name": "stdout",
     "output_type": "stream",
     "text": [
      "value of a is 10\n",
      "value of b is 5\n",
      "value of new a is 5\n",
      "value of new b is 10\n"
     ]
    }
   ],
   "source": [
    "#program to swap values of two variables without using third variable\n",
    "a=10\n",
    "b=5\n",
    "print(\"value of a is\",a)\n",
    "print(\"value of b is\",b)\n",
    "a=a+b\n",
    "b=a-b\n",
    "a=a-b\n",
    "print(\"value of new a is\",a)\n",
    "print(\"value of new b is\",b)"
   ]
  },
  {
   "cell_type": "code",
   "execution_count": 13,
   "id": "9b0275e1-2d6b-4b44-9d7b-d2fd64a17ed8",
   "metadata": {},
   "outputs": [
    {
     "name": "stdin",
     "output_type": "stream",
     "text": [
      "enter the length of rectangle 13\n"
     ]
    },
    {
     "name": "stdout",
     "output_type": "stream",
     "text": [
      "the length of rectangle is 13\n"
     ]
    },
    {
     "name": "stdin",
     "output_type": "stream",
     "text": [
      "enter the breadth of rectangle 3\n"
     ]
    },
    {
     "name": "stdout",
     "output_type": "stream",
     "text": [
      "the breadth of rectangle is 3\n",
      "the area of rectangle is 39\n"
     ]
    }
   ],
   "source": [
    "#program to calculate the area of rectangle\n",
    "l=int(input(\"enter the length of rectangle\"))\n",
    "print(\"the length of rectangle is\",l)\n",
    "b=int(input(\"enter the breadth of rectangle\"))\n",
    "print(\"the breadth of rectangle is\",b)\n",
    "a=l*b\n",
    "print(\"the area of rectangle is\",a)"
   ]
  },
  {
   "cell_type": "code",
   "execution_count": 17,
   "id": "e588116e-6ad7-4567-99aa-8c3732636639",
   "metadata": {},
   "outputs": [
    {
     "name": "stdin",
     "output_type": "stream",
     "text": [
      "enter the temperature in celsius 40\n"
     ]
    },
    {
     "name": "stdout",
     "output_type": "stream",
     "text": [
      "the temperature in celsius is 40.0\n",
      "the temperature in fahreheit is 104.0\n"
     ]
    }
   ],
   "source": [
    "#Python program that converts temperatures from Celsius to Fahrenheit\n",
    "c=float(input(\"enter the temperature in celsius\"))\n",
    "print(\"the temperature in celsius is\",c)\n",
    "f=(c*9/5)+32\n",
    "print(\"the temperature in fahreheit is\",f)"
   ]
  },
  {
   "cell_type": "code",
   "execution_count": 20,
   "id": "5dd35032-b3c5-4781-8a18-440676b92d0c",
   "metadata": {},
   "outputs": [
    {
     "name": "stdin",
     "output_type": "stream",
     "text": [
      "enter the string money\n"
     ]
    },
    {
     "name": "stdout",
     "output_type": "stream",
     "text": [
      "the string is money\n",
      "the length of the string is 5\n"
     ]
    }
   ],
   "source": [
    "#STRING BASED QUESTIONS\n",
    "#program that takes a string as input and prints the length of the string\n",
    "string=input(\"enter the string\")\n",
    "print(\"the string is\",string)\n",
    "print(\"the length of the string is\",len(string))"
   ]
  },
  {
   "cell_type": "code",
   "execution_count": 21,
   "id": "713373ab-73fa-4377-b40e-2b2a39490c34",
   "metadata": {},
   "outputs": [
    {
     "name": "stdin",
     "output_type": "stream",
     "text": [
      "enter the sentence my name is manmeet kaur\n"
     ]
    },
    {
     "name": "stdout",
     "output_type": "stream",
     "text": [
      "number of vowels in the sentence are 8\n"
     ]
    }
   ],
   "source": [
    "#program that takes a sentence from the user and counts the number of vowels (a, e, i, o, u) in the string\n",
    "sentence=input(\"enter the sentence\")\n",
    "#initialize the count to zero\n",
    "count=0\n",
    "#creating the list  of vowels\n",
    "vowels=[\"a\",\"e\",\"i\",\"o\",\"u\"]\n",
    "for i in range(len(sentence)):\n",
    "    if sentence[i] in vowels:\n",
    "        count+=1\n",
    "        \n",
    "print(\"number of vowels in the sentence are\",count)\n",
    "\n"
   ]
  },
  {
   "cell_type": "code",
   "execution_count": 23,
   "id": "43c1d477-0952-43de-9707-66745284efaa",
   "metadata": {},
   "outputs": [
    {
     "name": "stdin",
     "output_type": "stream",
     "text": [
      "enter the string manmeet\n"
     ]
    },
    {
     "name": "stdout",
     "output_type": "stream",
     "text": [
      "the reversed string is teemnam\n"
     ]
    }
   ],
   "source": [
    "#program to reverse the order of characters using string slicing and print the reversed string\n",
    "string=input(\"enter the string\")\n",
    "reversed_string=string[::-1]\n",
    "print(\"the reversed string is\",reversed_string)"
   ]
  },
  {
   "cell_type": "code",
   "execution_count": 30,
   "id": "292c7daf-88c4-457c-a51c-9d353d83f88d",
   "metadata": {},
   "outputs": [
    {
     "name": "stdin",
     "output_type": "stream",
     "text": [
      "enter the string manmeet\n"
     ]
    },
    {
     "name": "stdout",
     "output_type": "stream",
     "text": [
      "the string is: manmeet\n",
      "the reversed string is: teemnam\n",
      "it is not palindrome\n"
     ]
    }
   ],
   "source": [
    "#program that takes a string as input and checks if it is a palindrome\n",
    "string=input(\"enter the string\")\n",
    "print(\"the string is:\",string)\n",
    "rev_strg=string[::-1]\n",
    "print(\"the reversed string is:\",rev_strg)\n",
    "if string==rev_strg:\n",
    "    print(\"the string is palindrome\")\n",
    "else:\n",
    "    print(\"it is not palindrome\")\n",
    "    "
   ]
  },
  {
   "cell_type": "code",
   "execution_count": 31,
   "id": "8f44e997-7067-4679-8acb-8194278d7153",
   "metadata": {},
   "outputs": [
    {
     "name": "stdin",
     "output_type": "stream",
     "text": [
      "enter the string my name is manmeet kaur\n"
     ]
    },
    {
     "name": "stdout",
     "output_type": "stream",
     "text": [
      "the string is: my name is manmeet kaur\n",
      "the new string is: mynameismanmeetkaur\n"
     ]
    }
   ],
   "source": [
    "#program that takes a string as input and removes all the spaces from it. Print the modified string without spaces.\n",
    "string=input(\"enter the string\")\n",
    "print(\"the string is:\",string)\n",
    "new_string=string.replace(\" \",\"\")\n",
    "print(\"the new string is:\",new_string)"
   ]
  },
  {
   "cell_type": "code",
   "execution_count": null,
   "id": "a94820f0-1699-4749-9bdc-eb624fa18c4c",
   "metadata": {},
   "outputs": [],
   "source": []
  }
 ],
 "metadata": {
  "kernelspec": {
   "display_name": "Python 3 (ipykernel)",
   "language": "python",
   "name": "python3"
  },
  "language_info": {
   "codemirror_mode": {
    "name": "ipython",
    "version": 3
   },
   "file_extension": ".py",
   "mimetype": "text/x-python",
   "name": "python",
   "nbconvert_exporter": "python",
   "pygments_lexer": "ipython3",
   "version": "3.10.8"
  }
 },
 "nbformat": 4,
 "nbformat_minor": 5
}
